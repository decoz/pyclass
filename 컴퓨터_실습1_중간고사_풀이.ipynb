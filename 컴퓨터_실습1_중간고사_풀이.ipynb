{
  "nbformat": 4,
  "nbformat_minor": 0,
  "metadata": {
    "colab": {
      "name": "컴퓨터 실습1 중간고사.ipynb",
      "provenance": [],
      "collapsed_sections": [],
      "authorship_tag": "ABX9TyNK4oR4en60B2a0ndQV8kFB",
      "include_colab_link": true
    },
    "kernelspec": {
      "name": "python3",
      "display_name": "Python 3"
    }
  },
  "cells": [
    {
      "cell_type": "markdown",
      "metadata": {
        "id": "view-in-github",
        "colab_type": "text"
      },
      "source": [
        "<a href=\"https://colab.research.google.com/github/decoz/pyclass/blob/master/%EC%BB%B4%ED%93%A8%ED%84%B0_%EC%8B%A4%EC%8A%B51_%EC%A4%91%EA%B0%84%EA%B3%A0%EC%82%AC_%ED%92%80%EC%9D%B4.ipynb\" target=\"_parent\"><img src=\"https://colab.research.google.com/assets/colab-badge.svg\" alt=\"Open In Colab\"/></a>"
      ]
    },
    {
      "cell_type": "markdown",
      "metadata": {
        "id": "H4iSXaD3INl3",
        "colab_type": "text"
      },
      "source": [
        "## 푸시기 전에 .. \n",
        "\n",
        "아래의 중간고사는 과제형식임과 동시에 기말고사의 모의고사입니다.  그러므로 본인의 실력을 테스트 하실 경우 기말고사의 규칙을 미리 숙지하시고 시험처럼 임해보시는 것도 도움이 되실겁니다. 아래는 기말고사 시행의 규칙입니다. \n",
        "\n",
        "```\n",
        "#### 기말고사 규칙:\n",
        "- 기말고사는 오픈북 형태로서 수업시간 자료와 외부 자료를 모두 조회, 참고 가능합니다. \n",
        "- 인터넷 검색도 가능하지만 수험자간의 정보교환은 엄격히 금합니다. 적발시 바로 퇴실 조치합니다. \n",
        "- 수험 시간은 1시간에서 1시간 30분 정도를 드립니다. \n",
        "- 점수는 작성하신 프로그램중에 가장 난이도가 높은 프로그램으로 반영됩니다. 그러므로 가장 난이도가 높은 프로그램 하나만 정확히 작성하셔도 만점입니다. \n",
        "- 채점은 수험시간에 프로그램 실행시 즉시 감독관에게 말씀하시고 시연하시면 바로 적용됩니다. \n",
        "- 쉬운 프로그램을 채점 받은 후에 다시 난이도 높은 프로그램을 재 채점 받으셔도 됩니다.\n",
        "```\n",
        "\n",
        "중간고사는 기말고사의 모의시험이지만 여러분들이 최소 1-3번까지는 다 풀어보시고 제출하시는 것을 부탁드립니다. 본인이 아직 부족하다고 느끼시는 분들은 주변을 도움을 받아 작성하시는 것도 괜찮습니다. "
      ]
    },
    {
      "cell_type": "markdown",
      "metadata": {
        "id": "gbs21zbzDXG2",
        "colab_type": "text"
      },
      "source": [
        "<hr> \n",
        "\n",
        "# 2020 학년도 중간고사 과제 \n",
        "\n",
        "#### 문제 1. a,b,c 3개의 값이 있다면 그 중에 가장 큰 값과 가장 작은 값의 차이를 출력하세요 [30점]\n",
        "```\n",
        "예: a,b,c = 5,2,4 \n",
        "\n",
        "출력: 3 \n",
        "```"
      ]
    },
    {
      "cell_type": "code",
      "metadata": {
        "id": "hPTeESBhDKi8",
        "colab_type": "code",
        "colab": {
          "base_uri": "https://localhost:8080/",
          "height": 35
        },
        "outputId": "93f50648-3fbb-4c89-d0e0-46fa770ce2bf"
      },
      "source": [
        "a,b,c = 1,7,4 \n",
        "# 문제 1 코드를 작성하고 a,b,c 값을 바꿔 테스트해보세요\n",
        "mx, mn = a,a \n",
        "if mx < b :\n",
        "  mx = b \n",
        "if mx < c :\n",
        "  mx = c   \n",
        "\n",
        "if mn > b :\n",
        "  mn = b \n",
        "if mn > c :\n",
        "  mn = c   \n",
        "\n",
        "print( mx, '-', mn, '=', mx - mn )\n"
      ],
      "execution_count": 6,
      "outputs": [
        {
          "output_type": "stream",
          "text": [
            "7 - 1 = 6\n"
          ],
          "name": "stdout"
        }
      ]
    },
    {
      "cell_type": "markdown",
      "metadata": {
        "colab_type": "text",
        "id": "JOs6k1PgEGCl"
      },
      "source": [
        "\n",
        "\n",
        "<Br><Br><Br>\n",
        "\n",
        "#### 문제 2. 반복문을 사용하여 1부터 100 보다 작은 숫자를 순차적으로 출력하되 그 숫자의 간격이 하나씩 늘어나게 출력하세요 [40점]\n",
        "```\n",
        "출력 :  1 2 4 7 11 16 22 ... \n",
        "```\n"
      ]
    },
    {
      "cell_type": "code",
      "metadata": {
        "colab_type": "code",
        "id": "FISlsBJbEGCm",
        "colab": {
          "base_uri": "https://localhost:8080/",
          "height": 35
        },
        "outputId": "bbd37745-4254-4d08-8d04-10c55db30b89"
      },
      "source": [
        "# 문제 2의 코드를 작성하고 a,b,c 값을 바꿔 테스트해보세요\n",
        "n,i = 1,1\n",
        "while n < 100 : \n",
        "  print(n, end = \" \")\n",
        "  n = n + i \n",
        "  i = i + 1\n",
        "\n"
      ],
      "execution_count": 7,
      "outputs": [
        {
          "output_type": "stream",
          "text": [
            "1 2 4 7 11 16 22 29 37 46 56 67 79 92 "
          ],
          "name": "stdout"
        }
      ]
    },
    {
      "cell_type": "markdown",
      "metadata": {
        "colab_type": "text",
        "id": "PLyV_aLxEFlH"
      },
      "source": [
        "<Br><Br><Br>\n",
        "\n",
        "#### 문제 3. 다음과 같은 출력이 되도록 반복문을 작성하세요 [50점]\n",
        "```\n",
        "5 4 3 2 1 \n",
        "6 5 4 3 2 \n",
        "7 6 5 4 3 \n",
        "8 7 6 5 4 \n",
        "9 8 7 6 5 \n",
        "```"
      ]
    },
    {
      "cell_type": "code",
      "metadata": {
        "colab_type": "code",
        "id": "owxFHFo5EF4T",
        "colab": {
          "base_uri": "https://localhost:8080/",
          "height": 107
        },
        "outputId": "ac517bb9-a822-4f44-b5bd-db1d7caa3857"
      },
      "source": [
        "# 문제 3의 코드를 작성하세요\n",
        "\n",
        "m = 0 \n",
        "while m < 5 :\n",
        "  n = 5\n",
        "  while n > 0 : \n",
        "    print(n + m, end = \" \")\n",
        "    n = n - 1 \n",
        "  print() \n",
        "  m = m + 1\n",
        "\n",
        "\n",
        "\n",
        "\n"
      ],
      "execution_count": 9,
      "outputs": [
        {
          "output_type": "stream",
          "text": [
            "5 4 3 2 1 \n",
            "6 5 4 3 2 \n",
            "7 6 5 4 3 \n",
            "8 7 6 5 4 \n",
            "9 8 7 6 5 \n"
          ],
          "name": "stdout"
        }
      ]
    },
    {
      "cell_type": "markdown",
      "metadata": {
        "colab_type": "text",
        "id": "MUHuRKXeEF4Q"
      },
      "source": [
        "<Br><Br><Br>\n",
        "\n",
        "#### 문제 4. 반복문으로 다음과 같은 패턴을 출력하도록 코드를 작성해보세요 [60점]\n",
        "```\n",
        "0 1 3 6\n",
        "2 4 7\n",
        "5 8\n",
        "9\n",
        "```"
      ]
    },
    {
      "cell_type": "code",
      "metadata": {
        "colab_type": "code",
        "id": "DPPNykWIEFlI",
        "colab": {
          "base_uri": "https://localhost:8080/",
          "height": 89
        },
        "outputId": "2b07d1db-e6e5-4cbf-9bca-c7bc35fb8e82"
      },
      "source": [
        "# 문제 4 의 코드를 작성하세요\n",
        "m,mi = 0,1\n",
        "while m < 10:  \n",
        "  n,ni = m,mi\n",
        "  while n < 6 + mi:\n",
        "    print(n, end = ' ')\n",
        "    n = n + ni \n",
        "    ni = ni + 1    \n",
        "  print()\n",
        "  mi = mi + 1\n",
        "  m = m + mi \n"
      ],
      "execution_count": 12,
      "outputs": [
        {
          "output_type": "stream",
          "text": [
            "0 1 3 6 \n",
            "2 4 7 \n",
            "5 8 \n",
            "9 \n"
          ],
          "name": "stdout"
        }
      ]
    },
    {
      "cell_type": "markdown",
      "metadata": {
        "id": "7DZqGQXERPMA",
        "colab_type": "text"
      },
      "source": [
        "\n",
        "### 참고 : \n",
        "- 과제 제출은 1주일 뒤(5월 11일 밤) 까지입니다. \n",
        "- 과제는 기말고사와는 달리 코드만 작성하셔도 충분한 점수를 드립니다. 정답과 정답이 아닌 답안의 점수차이는 총합해도 기말고사 배점 대비 10% 미만의 미미한 차이입니다.\n",
        "- 기말고사는 변별력을 위해 문제숫자가 더 늘어날 수도 있습니다. 문제가 늘어나는 것은 여러분에게 더 많은 선택권이 주어지는 것이므로 부담을 안느끼셔도 됩니다. \n",
        "- 과제는 작동여부보다는 여러분들이 작성한 코드가 실제 문제를 풀기 위해 충분한 노력이 있었는가를 위주로 평가합니다. \n",
        "- 문제 4번의 경우 난이도가 상당히 높기 때문에 4번답이 기재 안되더라도 중간과제 평가에는 영향을 미치지 안습니다.  다만 최고 난이도의 문제는 이런 느낌이다라는 정도로 체험하시면 됩니다.\n",
        "- 중간 시험 풀이는 따로 영상으로 올리도록 하겠습니다. "
      ]
    },
    {
      "cell_type": "code",
      "metadata": {
        "id": "w9V4mMLoRx1v",
        "colab_type": "code",
        "colab": {}
      },
      "source": [
        ""
      ],
      "execution_count": 0,
      "outputs": []
    }
  ]
}