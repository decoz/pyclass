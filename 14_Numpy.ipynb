{
  "nbformat": 4,
  "nbformat_minor": 0,
  "metadata": {
    "colab": {
      "name": "14 Numpy.ipynb",
      "provenance": [],
      "collapsed_sections": [],
      "authorship_tag": "ABX9TyMU78VUcM/qfWoYx6EBI62l",
      "include_colab_link": true
    },
    "kernelspec": {
      "name": "python3",
      "display_name": "Python 3"
    },
    "language_info": {
      "name": "python"
    }
  },
  "cells": [
    {
      "cell_type": "markdown",
      "metadata": {
        "id": "view-in-github",
        "colab_type": "text"
      },
      "source": [
        "<a href=\"https://colab.research.google.com/github/decoz/pyclass/blob/master/14_Numpy.ipynb\" target=\"_parent\"><img src=\"https://colab.research.google.com/assets/colab-badge.svg\" alt=\"Open In Colab\"/></a>"
      ]
    },
    {
      "cell_type": "markdown",
      "metadata": {
        "id": "uunD__4LTZQB"
      },
      "source": [
        "#14 Numpy 라이브러리\n",
        "\n",
        "Numpy 는 숫자 전용 배열인 ndarray 와 그것을 효율적으로 다루는 여러 함수와 메소드를 제곧하는 라이브러리입니다.  \n",
        "\n",
        "언뜻 들으면 파이썬에는 리스트라는 표준 배열이 있는데 왜 따로 전용 배열이 필요한가 의아하실 수도 있습니다. 파이썬의 표준 배열인 리스트는 범용으로 개발된 배열이며 그 안에는 숫자외에도 문자열, 배열, 딕셔너리, 클래스등 다양한 값을 포함할 수 있습니다. 하지만 만일 숫자만 포함하는 배열이 있다면 다양한 수치관련 함수와 기능을 제공 가능합니다.  \n",
        "\n",
        "Numpy는 이런 수학적 편의성을 제공함으로서 사실상 다양한 데이터, 인공지능, 이미지 등등의 라이브러리들이 Numpy 배열을 지원하고 이를 중심으로 데이터를 주고 받습니다. 사실상 데이터 사이언스 라이브러리들의 허브역할을 한다고 봐도 무방합니다. \n",
        "\n",
        "그러면 라이브러리를 호출해서 사용해보도록 하겠습니다. Matplotlib 가 plt 라는 약어를 암묵적인 표준처럼 사용하듯이 Numpy 역시 라이브러리를 호출하는 약어는 대부분 np 라는 이름을 사용합니다.  \n"
      ]
    },
    {
      "cell_type": "code",
      "metadata": {
        "id": "b2LRsEI_RL5o"
      },
      "source": [
        "import numpy as np "
      ],
      "execution_count": null,
      "outputs": []
    },
    {
      "cell_type": "markdown",
      "metadata": {
        "id": "OpjqX7BxWcXp"
      },
      "source": [
        "## 14.1 Ndarray 기초\n",
        "\n",
        "ndarray 배열을 만드는 가장 쉬운 방법중 하나는 파이썬의 리스트를 np.array() 함수의 인자로 넣는것입니다. 이제 numpy 배열을 a 라는 이름으로 하나 만들어보겠습니다."
      ]
    },
    {
      "cell_type": "code",
      "metadata": {
        "id": "Oooo2LlARh3Q"
      },
      "source": [
        "a = np.array([1,2,3,4,5])\n",
        "print(a)"
      ],
      "execution_count": null,
      "outputs": []
    },
    {
      "cell_type": "markdown",
      "metadata": {
        "id": "XmE_Ox_67Q5k"
      },
      "source": [
        "물론 다차원 배열도 가능합니다."
      ]
    },
    {
      "cell_type": "code",
      "metadata": {
        "id": "s1s9aFOE7Uch"
      },
      "source": [
        "b = np.array([[1,2],[3,4]])\n",
        "print(b)"
      ],
      "execution_count": null,
      "outputs": []
    },
    {
      "cell_type": "markdown",
      "metadata": {
        "id": "uVHW9KBIJcnk"
      },
      "source": [
        "억세스할 때는 list 와 유사하지만 다차원 배열의 경우 [][] 대신 [,] 형태로 인덱스를 사용할 수 있습니다. \n"
      ]
    },
    {
      "cell_type": "code",
      "metadata": {
        "id": "IoEgzEkuJawD"
      },
      "source": [
        "a = np.array([1,2,3,4,5])\n",
        "b = np.array([[1,2],[3,4]])\n",
        "\n",
        "print( a[1] )\n",
        "\n",
        "# 아래의 두 문장은 같은 값을 억세스함\n",
        "print( b[1][0])\n",
        "print( b[1,0])"
      ],
      "execution_count": null,
      "outputs": []
    },
    {
      "cell_type": "markdown",
      "metadata": {
        "id": "lw97k3k8WwcZ"
      },
      "source": [
        "출력을 보면 일반 리스트처럼 보이지만 일반 리스트와는 분명히 다릅니다. "
      ]
    },
    {
      "cell_type": "code",
      "metadata": {
        "id": "8qk0DCaTRn6A"
      },
      "source": [
        "l = [1,2,3,4,5]\n",
        "a = np.array(l)\n",
        "print( type(a), type(l) )"
      ],
      "execution_count": null,
      "outputs": []
    },
    {
      "cell_type": "markdown",
      "metadata": {
        "id": "-VOIuCxUYGyT"
      },
      "source": [
        "ndarray 와 리스트는 서로 더해보면 차이가 명확해집니다.  "
      ]
    },
    {
      "cell_type": "code",
      "metadata": {
        "id": "0NvsyuC2RxxI"
      },
      "source": [
        "# 파이썬 배열\n",
        "arr1,arr2 = [1,2,3], [4,5,6]\n",
        "print( \"파이썬 배열 덧셈 :\", arr1 + arr2 )\n",
        "\n",
        "# numpy 배열\n",
        "narr1 = np.array(arr1)\n",
        "narr2 = np.array(arr2)\n",
        "\n",
        "print( \"numpy 배열 덧셈 :\", narr1 + narr2 )"
      ],
      "execution_count": null,
      "outputs": []
    },
    {
      "cell_type": "markdown",
      "metadata": {
        "id": "JEngrGChYfD8"
      },
      "source": [
        "리스트는 여러 자료를 보관하기 위한 목적으로 만들어졌기 때문에 두 리스트를 더하면  두 배열을 합혀줍니다. 하지만 numpy의 배열은 수치데이터용이기 때문에 두 배열의 값들을 각각 더한 배열을 생성합니다. \n",
        "\n",
        "또한 리스트는 곱셈연산을 지원하지 않지만 ndarray 는 가능합니다."
      ]
    },
    {
      "cell_type": "code",
      "metadata": {
        "id": "KNK3idpIR8tI"
      },
      "source": [
        "print( narr1 * narr2 )\n"
      ],
      "execution_count": null,
      "outputs": []
    },
    {
      "cell_type": "markdown",
      "metadata": {
        "id": "_cQXpz8LKv5V"
      },
      "source": [
        "또한 간단히 배열의 모든 숫자에 특정 값을 더할 수도 있습니다. "
      ]
    },
    {
      "cell_type": "code",
      "metadata": {
        "id": "hE-NUSmwK86E"
      },
      "source": [
        "narr = np.array( [1,2,3,4,5] )\n",
        "narr += 2\n",
        "print( narr , \"\\n\")\n"
      ],
      "execution_count": null,
      "outputs": []
    },
    {
      "cell_type": "markdown",
      "metadata": {
        "id": "8EKDBTZ8CnvM"
      },
      "source": [
        "### 14.1.1 shape , reshape\n",
        "\n",
        "ndarray는 N-dimensional array 의 약자로서 그 시작부터 다차원배열을 염두에 두고 제작되었습니다.  그렇기 때문에 이 배열이 몇차원이며 크기는 어떻게 되는지도 매우 중요하죠. 이런 배열의 형태를 shape 라고 합니다.  shape 는 배열 뒤에 .shape 를 붙여서 얻을 수 있습니다. \n",
        "\n",
        "다음은 다양한 배열의 shape 값을 출력하는 예입니다.\n",
        "\n",
        "\n"
      ]
    },
    {
      "cell_type": "code",
      "metadata": {
        "id": "rsd6DkMDDCNd"
      },
      "source": [
        "n1 = np.array([1,2,3,4])\n",
        "print( n1, \" >> \",n1.shape ,\"\\n\") \n",
        "\n",
        "n2 = np.array([[1,2,3,4]])\n",
        "print( n2, \" >> \",n2.shape ,\"\\n\") \n",
        "\n",
        "n3 = np.array([[1,2],[3,4]])\n",
        "print( n3, \" >> \",n3.shape ,\"\\n\") \n",
        "\n",
        "n4 = np.array([[1],[2],[3],[4]])\n",
        "print( n4, \" >> \",n4.shape ,\"\\n\") \n",
        "\n"
      ],
      "execution_count": null,
      "outputs": []
    },
    {
      "cell_type": "markdown",
      "metadata": {
        "id": "0jL-txrRECZ1"
      },
      "source": [
        "이러한 배열의 형태는 복잡한 반복문 없이 한번에 연산을 한번에 수행할 수 있는 ndarray 에 있어서 매우 중요합니다. reshape 는 배열의 형태를 바꿔서 리턴해줍니다.   이를 통해 우리는 데이터의 형태를 편하게 바꿔서 여러 연산에 적용이 가능합니다. "
      ]
    },
    {
      "cell_type": "code",
      "metadata": {
        "id": "xVPrNqvcFRPN"
      },
      "source": [
        "a = np.array([1,2,3,4])\n",
        "\n",
        "print( a.reshape(2,2),\"\\n\" )\n",
        "\n",
        "print( a.reshape(4,1) )\n"
      ],
      "execution_count": null,
      "outputs": []
    },
    {
      "cell_type": "markdown",
      "metadata": {
        "id": "cQi1EoYpFhkW"
      },
      "source": [
        " resahpe를 할 때 특정 차원을 -1 로 표기하면 배열의 크기에 맞춰서 그 차원을 자동계한해줍니다. \n"
      ]
    },
    {
      "cell_type": "code",
      "metadata": {
        "id": "VSGBc-hPF4Qe"
      },
      "source": [
        "a = np.array([1,2,3,4,5,6])\n",
        "print( a.reshape(2,-1))\n",
        "print( a.reshape(-1,1))"
      ],
      "execution_count": null,
      "outputs": []
    },
    {
      "cell_type": "markdown",
      "metadata": {
        "id": "DAXLyQo66vuG"
      },
      "source": [
        "\n",
        "### 14.1.2 Ndarray 의 연산\n",
        "\n",
        "이러한 ndarray 는 일반 배열에서는 반복문을 사용해야 하는 다양한 연산을 한번에 할 수 있도록 해줍니다. *이탤릭체 텍스트*"
      ]
    },
    {
      "cell_type": "code",
      "metadata": {
        "id": "aT_-_Bq4YdyY"
      },
      "source": [
        "narr = np.array([1,2,3,4,5])\n",
        "\n",
        "print(narr + 1)\n",
        "print(narr - 1)\n",
        "print(narr * 2)\n"
      ],
      "execution_count": null,
      "outputs": []
    },
    {
      "cell_type": "markdown",
      "metadata": {
        "id": "qtbKwD39BQNH"
      },
      "source": [
        "위에서 짧게 다뤘듯이 배열끼리 덧셈도 가능합니다. 하지만 반드시 같은 크기의 배열끼리 연산이 가능한건 아닙니다. \n",
        "\n",
        "\n",
        "\n"
      ]
    },
    {
      "cell_type": "code",
      "metadata": {
        "id": "BXj7bowEBZd1"
      },
      "source": [
        "narr1 = np.array([[1,2],[3,4]])\n",
        "print(narr1 + 3, \"\\n\")\n",
        "\n",
        "narr2 = np.array([1,2])\n",
        "print(narr1 + narr2)"
      ],
      "execution_count": null,
      "outputs": []
    },
    {
      "cell_type": "markdown",
      "metadata": {
        "id": "09wfeOf7CXYr"
      },
      "source": [
        "특히 종으로 된 배열과 횡으로 된 배열을 연산하면 테이블과 같은 연산도 가능합니다. 다음은 1,2,3,4, 를 가로, 세로로 배열해 덧셈 연산을 수행하는 결과를 보여줍니다."
      ]
    },
    {
      "cell_type": "code",
      "metadata": {
        "id": "Dphtjk3V8zg7"
      },
      "source": [
        "narr1 = np.array([1,2,3,4])\n",
        "narr2 = narr1.reshape(-1,1)\n",
        "\n",
        "print(narr1 + narr2)\n"
      ],
      "execution_count": null,
      "outputs": []
    },
    {
      "cell_type": "markdown",
      "metadata": {
        "id": "yMs25K9CGtiH"
      },
      "source": [
        "보시면 가로 x 세로 크기의 결과가 나온것을 볼 수 있습니다.  이렇게 요소들을 다양하게 결합해 연산이 가능하기 때문에 numpy 는 매우 복잡한 코드를 몇몇 연산으로 처리가 가능하다는 장점이 있습니다. 하지만 그만큼 숙련되는데 시간이 걸리고 또 이해하기가 어려운 점이 단점이 되기도 합니다. \n",
        "\n"
      ]
    },
    {
      "cell_type": "markdown",
      "metadata": {
        "id": "R3_zHvdWG5hI"
      },
      "source": [
        "### 14.1.3 slicing \n",
        "\n",
        "배열의 특정 범위를 부분배열로 추출할 수 있습니다. 이를 slicing 이라고 합니다. \n",
        "```\n",
        "arr[ 시작: 끝 ]\n",
        "```\n",
        "이때 끝부분의 인덱스는 range함수처럼 포함되지 안습니다. 만일 [3:5] 라고 인덱스를 기록하면 3,4 번만 해당됩니다.  또한 시작이나 끝을 지정하지 안을 경우 제일 처음과 제일 마지막 범위까지를 의미합니다. \n",
        "\n",
        "\n"
      ]
    },
    {
      "cell_type": "code",
      "metadata": {
        "id": "2t-QEE6rHaTq"
      },
      "source": [
        "\n",
        "narr = np.array( [0,1,2,3,4,5] )\n",
        "\n",
        "print( narr[3:5] )  # 3, 4 포함 \n",
        "print( narr[:3] ) # 0, 1, 2 포함 \n",
        "print( narr[3:])  # 3, 4, 5 포함\n",
        "print( narr[:] )  # 배열 전체\n",
        "\n"
      ],
      "execution_count": null,
      "outputs": []
    },
    {
      "cell_type": "markdown",
      "metadata": {
        "id": "LDGHoaCuIiAV"
      },
      "source": [
        "이러한 슬라이싱은 다차원 배열일때 매우 편리합니다. 특정 열, 특정 행을 추출이 가능합니다. 단 다차원배열에서 슬라이싱을 할때는 list 와 달리 [,] 형태로 인덱스를 사용해야 합니다. "
      ]
    },
    {
      "cell_type": "code",
      "metadata": {
        "id": "9-kxlrq5IoSB"
      },
      "source": [
        "narr = np.array([[1,2],[3,4]])\n",
        "print( narr[:,0] , \"\\n\")\n",
        "print( narr[1,:] )\n"
      ],
      "execution_count": null,
      "outputs": []
    },
    {
      "cell_type": "markdown",
      "metadata": {
        "id": "5pUaoyoDHwv8"
      },
      "source": [
        "\n",
        "<br>\n",
        "<hr>\n",
        "\n",
        "## 14.2 Numpy x Matplotlib \n",
        "\n",
        "Numpy는  자유도가 높고 활용범위도 무궁무진 합니다. 하지만 그만큼 어렵기도 하기 때문에 이를 자유롭게 사용하기 위해서는 한 학기를 다 투자해도 부족할 정도로 그 깊이가 있고 난이도도 높습니다.  특히 반복문을 거의 사용하지 안고 많은 문제를 해결하기 때문에 기존의 프로그램 패러다임에 익숙한 분들께는 더욱 적응이 어렵기도 합니다. \n",
        "\n",
        "이를 깊이 공부하는 것은 아직 프로그래밍의 입문자들께는 오히려 혼란을 드릴 수 있기에 본 문서에서는 Numpy라는 라이브러리를 소개하는 것을 목적으로 너무 깊게 들어가지 안고 Matplotlib 를 활용한 단순한 예제들를 소개해보도록 하겠습니다. "
      ]
    },
    {
      "cell_type": "code",
      "metadata": {
        "id": "HsstRmPG7vyK"
      },
      "source": [
        "import matplotlib.pyplot as plt "
      ],
      "execution_count": null,
      "outputs": []
    },
    {
      "cell_type": "markdown",
      "metadata": {
        "id": "5aH3F7kNKEhJ"
      },
      "source": [
        "### 14.2.1 Ndarray 배열 생성 함수들\n",
        "\n",
        "list 를 다룰때 이미지와 같은 큰 크기의 배열을 반들기 위해서 앞의 내용에선 주로 반복문을 이용해 배열을 확장하는 방식을 사용했습니다. 하지만 Numpy 는 이런 과정 없이 간편히 배열을 만들 수 있는 다양한 방식을 제공합니다. \n",
        "\n"
      ]
    },
    {
      "cell_type": "markdown",
      "metadata": {
        "id": "CGhL4hazMMN-"
      },
      "source": [
        "#### 동일 값으로 배열 생성\n",
        "\n",
        "동일한 값으로 채워진 배열을 생성하는데 씁니다. \n",
        "```\n",
        "np.zeros(크기) : 0으로 채워진 배열을 생성\n",
        "np.ones(크기) : 1로 채워진 배열을 생성\n",
        "np.full(크기, 값) : 특정 값으로 채워진 배열을 생성\n",
        "```\n",
        "\n",
        "기본적으로 특정 값을 채우는 np.full 을 제공하지만 실제로 0이나 1값을 채워 초기 배열을 생성하는 경우가 많아서 zeros 나 ones 를 더 자주 사용합니다. "
      ]
    },
    {
      "cell_type": "code",
      "metadata": {
        "id": "xO-P5b3uKC6E"
      },
      "source": [
        "# 길이 10의 0으로 채워진 배열 생성 \n",
        "narr = np.zeros(10)\n",
        "print(narr, \"\\n\")\n",
        "\n",
        "# 2 x 4 크기의 1로 채워진 배열 생성\n",
        "narr = np.ones((2,4))\n",
        "print(narr, \"\\n\")\n",
        "\n",
        "narr = np.full((3,3), 255 ) # 3 x 3 크기의 255로 채워진 배열\n",
        "print(narr, \"\\n\")"
      ],
      "execution_count": null,
      "outputs": []
    },
    {
      "cell_type": "markdown",
      "metadata": {
        "id": "IqLTgbjpL6VR"
      },
      "source": [
        "#### 순차 값으로 채우기 \n",
        "\n",
        "list 에서 0부터 9까지 값이 채워진 배열을 만들던 것을 기억하실 겁니다.  이런 순차적 값이 채워진 배열을 생성해주는 함수도 제공합니다.\n",
        "\n",
        "```\n",
        "np.arange( 시작, 끝, 증가량 )  : range 와 유사한 방식으로 순차배열을 생성\n",
        "np.linspace( 시작값, 끝깂, 갯수 )  : 시작과 끝점을 n 개로 나눈 숫자를 생성 \n",
        "```\n",
        "\n",
        "위의 두 방식은 유사해보이지만 각각 조금씩 활용범위가 다르죠. 데이터의 간격이 중요할때는 arange 로 배열의 갯수가 중요할 경우 linspace 를 사용합니다. "
      ]
    },
    {
      "cell_type": "code",
      "metadata": {
        "id": "-d_nHSpgL8Ve"
      },
      "source": [
        "print( np.arange(10), \"\\n\" ) # 0~9 까지의 값\n",
        "print( np.arange(10,20,2), \"\\n\")   # 10 ~18 까지의 홀수값\n",
        "print( np.linspace(0.1, 1, 10) ) # 0.1 부터 1까지의 구간을 10개로 나눈 값\n"
      ],
      "execution_count": null,
      "outputs": []
    },
    {
      "cell_type": "markdown",
      "metadata": {
        "id": "z6BrFWMR7NPg"
      },
      "source": [
        "### 14.2.2 Numpy 를 사용한 그래프 그리기\n",
        "\n",
        "이번에는 Matplotlib 에서 사용한 그래프를 Numpy 를 사용함으로서 얼마나 편하게 그릴 수 있는지 보도록 하겠습니다. \n"
      ]
    },
    {
      "cell_type": "markdown",
      "metadata": {
        "id": "NZSKIt3W7irj"
      },
      "source": [
        "\n",
        "먼저 0 ~ 9 까지 x 에 대해  $ y = 3 \\times x + 4 $ 의 수식을 갖는 그래프를 표현해보도록 하겠습니다. \n"
      ]
    },
    {
      "cell_type": "code",
      "metadata": {
        "id": "xcWjzCg-tPIz"
      },
      "source": [
        "x = np.arange(10)\n",
        "y = 3 * x + 4\n",
        "plt.plot(x, y, 'o-')"
      ],
      "execution_count": null,
      "outputs": []
    },
    {
      "cell_type": "markdown",
      "metadata": {
        "id": "H_SnJlXT8LHy"
      },
      "source": [
        "x 전체 배열에 대한 연산이 가능함으로서 아주 손쉽게 y 의 배열이 생성된 것을 볼 수 있습니다.   이번에는 수학 라이브러리의 하나인 sin 함수를 그려보도록 하겠습니다.  \n",
        "\n",
        "numpy 는 math 라이브러리처럼 np.pi 로 파이값을 쓸 수 있습니다. 또한 np.sin()함수도 지원을 하죠. 단 math.sin() 이 개별 값에 대한 사인함수를 계산하는 반면 numpy 는 전체 배열에 대한 sin 값을 계산할 수 있습니다. "
      ]
    },
    {
      "cell_type": "code",
      "metadata": {
        "id": "0JhF2_NG8Xvn"
      },
      "source": [
        "x = np.linspace(0, np.pi * 2, 20 )\n",
        "y = np.sin(x)\n",
        "plt.plot(x,y, 'o-')"
      ],
      "execution_count": null,
      "outputs": []
    },
    {
      "cell_type": "markdown",
      "metadata": {
        "id": "LAY8aGxY9Ge4"
      },
      "source": [
        "이렇게 numpy 와 결합할 경우 간단한 수식 표현만으로도 다양한 형태의 그래프를 그릴 수 있습니다. \n"
      ]
    },
    {
      "cell_type": "markdown",
      "metadata": {
        "id": "gG8BIeaNDsXR"
      },
      "source": [
        "\n",
        "#### <font color = 'red'> 연습 14.2.1 : 다항식을 그래프로 그려보기\n",
        "-5 부터 5 구간 사이의 x 에 대해 다음의 그래프르 그려보세요\n",
        "</font>\n",
        "\n",
        "$ y = x ^ 3 + 4 \\times x ^ 2 - 7 \\times x + 6 $ "
      ]
    },
    {
      "cell_type": "code",
      "metadata": {
        "id": "Mx9LXkpJ8FSy"
      },
      "source": [
        "# 연습문제의 코드를 작성하세요"
      ],
      "execution_count": null,
      "outputs": []
    },
    {
      "cell_type": "markdown",
      "metadata": {
        "id": "-eC0JorR-c8j"
      },
      "source": [
        "<br>\n",
        "\n",
        "#### <font color = 'red'> 연습 14.2.2 : sigmoid 함수 그래프 그려보기\n",
        "다음은 로지스틱 회귀에 사용되는 유명한 sigmoid 함수의 수식입니다. \n",
        "</font>\n",
        "$$ y =  \\frac{1}{1 + e^{-x}} $$\n",
        "\n",
        "<font color = 'red'> np.exp() 함수를 사용해서 -5 ~ 5 구간에 20개의 x 값에 대해 위 함수의 그래프를 그려보세요 </font>\n",
        "- np.exp(x) : $ e ^ x $\n"
      ]
    },
    {
      "cell_type": "code",
      "metadata": {
        "id": "_52kkgpT-RtJ"
      },
      "source": [
        "# 연습문제의 코드를 작성하세요"
      ],
      "execution_count": null,
      "outputs": []
    },
    {
      "cell_type": "markdown",
      "metadata": {
        "id": "REfadMHnBNUa"
      },
      "source": [
        "<br><br>\n",
        "\n",
        "### 14.2.3 Numpy 를 활용한 이미지\n",
        "\n",
        "Numpy 는 그래프만이 아니라 이미지에도 자주 사용됩니다.  저희가 배열을 이미지로 출력하던 \n",
        "\n",
        "```\n",
        "display( Image.fromarray( np.array(arr).astype('uint8')  ) )  \n",
        "```\n",
        "\n",
        "구문도 지금 보시면 numpy 배열과 관련된걸 아실 수 있습니다. numpy 는 배열을 손쉽게 생성하기 때문에 이미지를 생성하기도 쉬울 뿐만 아니라 여러가지 처리를 하기도 간편합니다. \n",
        "\n"
      ]
    },
    {
      "cell_type": "markdown",
      "metadata": {
        "id": "4j41TCX9D4xX"
      },
      "source": [
        "#### 흑백 이미지\n",
        "\n",
        "간단한 이미지를 생성하고 plt.imshow를 사용해 찍어보도록 하겠습니다. "
      ]
    },
    {
      "cell_type": "code",
      "metadata": {
        "id": "KRXu3amGCQGw"
      },
      "source": [
        "img = np.zeros((100,100))\n",
        "plt.imshow(img, cmap = 'gray')"
      ],
      "execution_count": null,
      "outputs": []
    },
    {
      "cell_type": "markdown",
      "metadata": {
        "id": "vsZY081zESCz"
      },
      "source": [
        "이제 가운데 가로선을 그려보도록 하겠습니다. "
      ]
    },
    {
      "cell_type": "code",
      "metadata": {
        "id": "tfLIKWMrEJlZ"
      },
      "source": [
        "img[:,:] = 0\n",
        "plt.imshow(img, cmap = 'gray')"
      ],
      "execution_count": null,
      "outputs": []
    },
    {
      "cell_type": "markdown",
      "metadata": {
        "id": "cALXHBxIEfaP"
      },
      "source": [
        "img 배열은 100 x 100 의 배열이기 때문에 img[50][0] ~ img[50][100] 이 전부 255 로 채워지게 됩니다. \n",
        "\n",
        "또한 앞에서 다룬 행렬연산의 곱을 이용하면 그라데이션도 간단히 생성이 가능합니다. "
      ]
    },
    {
      "cell_type": "code",
      "metadata": {
        "id": "M1xQFjXyEclY"
      },
      "source": [
        "x = np.arange(100)\n",
        "y = np.zeros((100,1)) \n",
        "\n",
        "img = x + y \n",
        "plt.imshow(img, cmap = 'gray')\n"
      ],
      "execution_count": null,
      "outputs": []
    },
    {
      "cell_type": "markdown",
      "metadata": {
        "id": "xZyAZ3Q1OWpN"
      },
      "source": [
        "또한 위의 이미지의 일부를 간단히 뽑아올 수도 있습니다. 아래는 위 이미지의 좌측 상단 10x10 의 영역만 화면에 표시합니다. "
      ]
    },
    {
      "cell_type": "code",
      "metadata": {
        "id": "sO_mAxXOOAEW"
      },
      "source": [
        "plt.imshow(img[:10,:10], cmap = 'gray')"
      ],
      "execution_count": null,
      "outputs": []
    },
    {
      "cell_type": "markdown",
      "metadata": {
        "id": "BlBu3Iq6PLI_"
      },
      "source": [
        "#### 컬러 이미지 \n",
        "\n",
        "컬러이미지는 3차원으로 배열을 생성하면 됩니다.  몇몇 방법이 있지만 가장 손쉬운 방법은 n x m x 3 형태로 배열을 만드는 것입니다. \n",
        "\n"
      ]
    },
    {
      "cell_type": "code",
      "metadata": {
        "id": "_EmIVbKLOlHG"
      },
      "source": [
        "img = np.zeros((100,100,3))\n",
        "plt.imshow(img)"
      ],
      "execution_count": null,
      "outputs": []
    },
    {
      "cell_type": "markdown",
      "metadata": {
        "id": "CWrtgmcsPki7"
      },
      "source": [
        "이제 이 이미지의 r,g,b 중에 r 값을 모두 100으로 바꿔보겠습니다. "
      ]
    },
    {
      "cell_type": "code",
      "metadata": {
        "id": "AXnmdkT3Pee_"
      },
      "source": [
        "img[:,:,0] = 100 \n",
        "plt.imshow(img)"
      ],
      "execution_count": null,
      "outputs": []
    },
    {
      "cell_type": "markdown",
      "metadata": {
        "id": "pbbCpPQQP7an"
      },
      "source": [
        "이번에는 흰색 세로줄을 그어보도록 하겠습니다. \n"
      ]
    },
    {
      "cell_type": "code",
      "metadata": {
        "id": "YKBWjqmiPwvC"
      },
      "source": [
        "img[:,50,:] = 255 \n",
        "plt.imshow(img)"
      ],
      "execution_count": null,
      "outputs": []
    },
    {
      "cell_type": "markdown",
      "metadata": {
        "id": "zLUBFEphQJpb"
      },
      "source": [
        "좌측 상단의 20 x 20 영역의 색을 노란색인 [150,200,0] 으로 바꿀 수도 있죠"
      ]
    },
    {
      "cell_type": "code",
      "metadata": {
        "id": "ly3R6Oe4QHd0"
      },
      "source": [
        "img[:20, :20] = [150,200,0]\n",
        "plt.imshow(img)"
      ],
      "execution_count": null,
      "outputs": []
    },
    {
      "cell_type": "markdown",
      "metadata": {
        "id": "Tr77pwSlQqHh"
      },
      "source": [
        "사실 여기서 다루는 것은 빙산의 일각에 지나지 안습니다. numpy 에 익숙해지면 정말 다양한 처리가 가능합니다. "
      ]
    }
  ]
}