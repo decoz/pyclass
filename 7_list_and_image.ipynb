{
  "nbformat": 4,
  "nbformat_minor": 0,
  "metadata": {
    "kernelspec": {
      "display_name": "Python 3",
      "language": "python",
      "name": "python3"
    },
    "language_info": {
      "codemirror_mode": {
        "name": "ipython",
        "version": 3
      },
      "file_extension": ".py",
      "mimetype": "text/x-python",
      "name": "python",
      "nbconvert_exporter": "python",
      "pygments_lexer": "ipython3",
      "version": "3.5.2"
    },
    "colab": {
      "name": "7_list_and_image.ipynb",
      "provenance": [],
      "collapsed_sections": [],
      "toc_visible": true,
      "include_colab_link": true
    }
  },
  "cells": [
    {
      "cell_type": "markdown",
      "metadata": {
        "id": "view-in-github",
        "colab_type": "text"
      },
      "source": [
        "<a href=\"https://colab.research.google.com/github/decoz/pyclass/blob/master/7_list_and_image.ipynb\" target=\"_parent\"><img src=\"https://colab.research.google.com/assets/colab-badge.svg\" alt=\"Open In Colab\"/></a>"
      ]
    },
    {
      "cell_type": "markdown",
      "metadata": {
        "id": "_h75mbGB1iXY",
        "colab_type": "text"
      },
      "source": [
        "#7 배열과 이미지"
      ]
    },
    {
      "cell_type": "markdown",
      "metadata": {
        "id": "phUcfnch1YvZ",
        "colab_type": "text"
      },
      "source": [
        "\n",
        "\n",
        "\n",
        "##7.1 배열을 이미지로 바꾸기\n",
        "\n",
        "우리가 사용하는 이미지는 기본적으로 배열형태의 데이터를 지닙니다. 하지만 그것을 화면에 출력하는 과정은 매우 복잡하며 우리는 이런것들을 가능하게 하는 외부 기능을 사용하여야 합니다. 사실 지금까지도 우리는 print라고 화면에 글자를 출력하는 복잡한 기능을 써왔으며 요번에 사용하실 기능은 배열을 그림으로 투사하는 것도 마찬가지라고 보면 되죠. \n",
        "\n",
        "하지만 print 라는 기본 기능과는 달리 이미지의 출력은 이를 위한 기능들을 모아놓은 외부 코드를 가져오는데 이를 '라이브러리' 라고 합니다.\n"
      ]
    },
    {
      "cell_type": "markdown",
      "metadata": {
        "id": "zBubtpm11Yvd",
        "colab_type": "text"
      },
      "source": [
        "이번 수업시간에 사용할 그림변환 및 출력은 상당히 복잡한 기능이라 3가지 라이브러리를 동시에 사용합니다. \n",
        "\n",
        "아래의 코드는 매번 실행할 필요는 없고 페이지를 로딩한 후에 한번만 실행하시면 됩니다. \n",
        "\n",
        "#### 라이브러리 호출코드"
      ]
    },
    {
      "cell_type": "code",
      "metadata": {
        "id": "-Lzy6N4N1Yvf",
        "colab_type": "code",
        "colab": {}
      },
      "source": [
        "from PIL import Image\n",
        "from IPython.display import display\n",
        "import numpy as np\n"
      ],
      "execution_count": 0,
      "outputs": []
    },
    {
      "cell_type": "markdown",
      "metadata": {
        "id": "KT5VrTAz1Yvl",
        "colab_type": "text"
      },
      "source": [
        "이제 이미지를 출력하기 위한 배열을 만들어보겠습니다. 컬러도 가능하지만 3가지 색을 배열로 다루는 것은 난이도가 높으니 일단 이미지는 흑백으로  0~255 의 숫자로 만들도록 하겠습니다. 여기서 0은 검은색 255은 흰색을 의미하고 그 사이는 색의 밝기를 의미합니다  \n",
        "\n",
        "다음은 100 x 100 이미지를 위해서 1만의 크기를 가진 배열을 만든 후에 죄다 0(검은색)으로 채우는 코드입니다. 혹시라도 나중에 배열(arr)에 그려진 그림을 모두 지우고 배열값을 0으로 리셋하고 싶으시다면 이 코드를 다시 실행하시면 됩니다. \n",
        "\n",
        "### 이미지 리셋코드"
      ]
    },
    {
      "cell_type": "code",
      "metadata": {
        "id": "RWACcyu41Yvm",
        "colab_type": "code",
        "colab": {}
      },
      "source": [
        "arr = []\n",
        "for i in range(10000):\n",
        "    arr += [0]\n"
      ],
      "execution_count": 0,
      "outputs": []
    },
    {
      "cell_type": "markdown",
      "metadata": {
        "id": "CDzrk8Tf1Yvo",
        "colab_type": "text"
      },
      "source": [
        "이제 이것을 이미지로 변환해서 화면에 뿌려주는 코드를 보도록 하죠. 다음은 arr이라는 10000 크기의 배열을 100x100의 이미지로 변환에 화면에 출력하라는 뜻입니다. 이 코드는 사실 여러단계를 한줄로 압축해서 지금 여러분들에게 이해시켜 드리긴 쉽지 안습니다. 그러니 지금은 몰라도 그냥 복사해서 쓰시길 권장합니다. \n",
        "\n",
        "### 이미지 출력코드\n"
      ]
    },
    {
      "cell_type": "code",
      "metadata": {
        "id": "Sd6sqB8c1Yvp",
        "colab_type": "code",
        "colab": {}
      },
      "source": [
        "display( Image.fromarray( np.array(arr).astype('uint8').reshape(100,100) , 'L' ) )"
      ],
      "execution_count": 0,
      "outputs": []
    },
    {
      "cell_type": "markdown",
      "metadata": {
        "id": "2n3FVYCj1Yvt",
        "colab_type": "text"
      },
      "source": [
        "##7.2 이미지에 줄을 그어보기\n",
        "\n",
        "이번에는 가운데 하연 줄을 하나 가로로 긋도록 해보죠.  총 100x100 = 10000 개의 숫자중 가운데 50번째 줄을 그으려면 50번째 줄에 해당하는 위치를 알아야 합니다. 배열에는 첫번째 줄의 좌측부터 차곡차곡 값이 들어있습니다. 그러므로 첫번째 줄은 0\\~99 번째에 두번째 줄은 100\\~199 번째에... 그리고 50번째 줄은  4900 ~ 4999 에 들어있습니다. \n",
        "\n",
        "이제 그러면 실제로 4900 ~ 4999 에 값을 변경해 그 결과를 보도록 하죠"
      ]
    },
    {
      "cell_type": "markdown",
      "metadata": {
        "id": "g4hbBRqfBivr",
        "colab_type": "text"
      },
      "source": [
        "#### 코드: 가로로 중앙선"
      ]
    },
    {
      "cell_type": "code",
      "metadata": {
        "id": "e-iqp7eD1Yvt",
        "colab_type": "code",
        "colab": {}
      },
      "source": [
        "for i in range(4900,4999):\n",
        "    arr[i] = 255\n",
        "\n",
        "display( Image.fromarray( np.array(arr).astype('uint8').reshape(100,100) , 'L' ) )"
      ],
      "execution_count": 0,
      "outputs": []
    },
    {
      "cell_type": "markdown",
      "metadata": {
        "id": "NmM1oJtO1Yvx",
        "colab_type": "text"
      },
      "source": [
        "이번에는 새로로도 선을 긋도록 해보죠. 원리는 같지만 한줄씩 쌓여있는 데이터에서 한 열을 얻어내려면 조금 생각을 해야합니다. 50번째 열은 첫줄의 50번째, 둘째줄의 50번째 .. 이런 점들이 모여서 만들어지죠. 숫자로는 49, 149, 249, 349 ... 9949 이렇게 변합니다. 이런 변화도 range를 사용해서 다음과 같이 구현이 가능합니다. \n",
        "\n",
        "#### 코드: 세로로 중앙선"
      ]
    },
    {
      "cell_type": "code",
      "metadata": {
        "id": "lMW1nDL81Yvy",
        "colab_type": "code",
        "colab": {}
      },
      "source": [
        "for i in range(49,10000,100) :\n",
        "  arr[i] = 255\n",
        "      \n",
        "display( Image.fromarray( np.array(arr).astype('uint8').reshape(100,100) , 'L' ) ) "
      ],
      "execution_count": 0,
      "outputs": []
    },
    {
      "cell_type": "markdown",
      "metadata": {
        "id": "eFJ64-qV1Yv0",
        "colab_type": "text"
      },
      "source": [
        "그런데 아마 이전에 그었던 가로줄이 남아계신 분들이 꽤 계실겁니다. 위에 있는 '이미지 리셋코드' 를 찾으셔서 실행하셔도 되지만 매번 스크롤이 귀찮으신 경우  다음 코드를 추가해주시면 열의 모든 값을 다시 0으로 초기화해서 이전 그림이 지워집니다. \n",
        "\n",
        "```\n",
        "for i in range(10000): # 그림 지우기 \n",
        "  arr[i] = 0\n",
        "```\n",
        "\n"
      ]
    },
    {
      "cell_type": "markdown",
      "metadata": {
        "id": "ZIUZUGsoxjab",
        "colab_type": "text"
      },
      "source": [
        "이제 이 그림이 이전 반복문 수업에서 해온 것들의 연장임을 느끼실 겁니다. 다만 숫자의 범위가 100배로 커졌을뿐이죠. 그러면 이번에는 철창살처럼 10의 간격으로 여러개의 세로줄을 만드는 코드를 보도록 하겠습니다. \n",
        "\n",
        "\n",
        "#### 코드: 일정간격의 세로선들\n",
        "\n",
        "위에서 하나의 세로줄을 그리는 것부터 다시 보도록 하죠.\n",
        "```\n",
        "for i in range(49,10000,100) :\n",
        "  arr[i] = 255\n",
        "```\n",
        "이 코드에서 세로줄의 위치를 결정하는 것은 결국 시작점 49 입니다. 이게 만일 9 였으면 좌측 10 번째 픽셀로부터 세로줄을 그리게 되죠. 이게 만일 99 였으면 우측 제일 끝에 세로줄을 그리게 됩니다.  그러므로 결국 위에 49 를 9, 19, 29, 39 이런식으로 바꿔서 반복해주면 10픽셀 간격의 세로줄이 형성되는 겁니다. 즉 하나의 반복을 다시 반복하는 거죠. \n",
        "\n",
        "그러면 아래와 같은 코드가 됩니다. "
      ]
    },
    {
      "cell_type": "code",
      "metadata": {
        "id": "5vWskj251Yv1",
        "colab_type": "code",
        "colab": {}
      },
      "source": [
        "for i in range(10000): # 그림 지우기 \n",
        "  arr[i] = 0\n",
        "\n",
        "for i in range(9,100,10):\n",
        "  for x in range(i, 10000, 100 ):\n",
        "    arrx[] = 255\n",
        "   \n",
        "display( Image.fromarray( np.array(arr).astype('uint8').reshape(100,100) , 'L' ) )         "
      ],
      "execution_count": 0,
      "outputs": []
    },
    {
      "cell_type": "markdown",
      "metadata": {
        "id": "RGtDdxrkAJI3",
        "colab_type": "text"
      },
      "source": [
        "그런데 위의 코드가 결과적으로 억세스하는 인덱스 번호를 가만히 보면 9,19,29,39,49,...9999 를 억세스하게 되죠. 그렇다면 이를 훨씬 간단하게 사용할 수도 있습니다. \n",
        "\n"
      ]
    },
    {
      "cell_type": "code",
      "metadata": {
        "id": "JvMlTbruAa6r",
        "colab_type": "code",
        "colab": {}
      },
      "source": [
        "for i in range(10000): # 그림 지우기 \n",
        "  arr[i] = 0\n",
        "\n",
        "for i in range(9,10000,10):\n",
        "  arr[i] = 255\n",
        "\n",
        "display( Image.fromarray( np.array(arr).astype('uint8').reshape(100,100) , 'L' ) )         "
      ],
      "execution_count": 0,
      "outputs": []
    },
    {
      "cell_type": "markdown",
      "metadata": {
        "id": "Fax6QgGOAsH9",
        "colab_type": "text"
      },
      "source": [
        "위의 두 방식은 장단점이 있습니다. 한쪽은 결국 세로줄을 하나를 긋는 패턴을 다시 반복시키는 코드의 의미가 더 잘 표현되지만 코드가 살짝 더 복잡하고 아래는 간결하지만 처음 보면 이 코드의 의미파악이 어렵죠. 이런 선택은 모든 프로그래머에게 항상 딜레마입니다. 프로그래머의 개성이 나오는 부분이기도 하지만요. \n",
        "\n",
        "이제 이번엔 일정 간격으로 가로줄을 긋는 문제를 여러분들이 직접 풀어보세요. "
      ]
    },
    {
      "cell_type": "markdown",
      "metadata": {
        "id": "uXA0UH7U1Yv4",
        "colab_type": "text"
      },
      "source": [
        "\n",
        "    \n",
        "####<font color = 'red'> 연습 7.2.1 : 이미지에 10단위로 가로줄을 긋기 <br>    \n",
        "이번엔 위의 예제를 참고해서 이번엔 가로줄을 10픽셀 단위로 그어보세요.\n",
        "</font>  "
      ]
    },
    {
      "cell_type": "code",
      "metadata": {
        "id": "MkVYkFqY1Yv5",
        "colab_type": "code",
        "colab": {}
      },
      "source": [
        "for i in range(10000): # 그림 지우기 \n",
        "  arr[i] = 0\n",
        "#연습 7.2.1의 코드를 작성하세요\n",
        "display( Image.fromarray( np.array(arr).astype('uint8').reshape(100,100) , 'L' ) ) "
      ],
      "execution_count": 0,
      "outputs": []
    },
    {
      "cell_type": "markdown",
      "metadata": {
        "id": "wb6ZG8ay1Yv7",
        "colab_type": "text"
      },
      "source": [
        "이제 이미지에 대각선줄을 그어보도록 하겠습니다. 예전 배열에서 이것을 배운 기억이 있을겁니다.  다만 그때는 10단위였고 이번엔 100단위이기 때문에 당시에는 0,11,22,33 .. 이었지만 이번엔  0, 101, 202, 303 이렇게 변합니다\n",
        "\n",
        "```\n",
        "for i in range(100):\n",
        "    arr[i * 101] = 255 \n",
        "```\n",
        "\n",
        "또는 \n",
        "\n",
        "```\n",
        "for i in range(10000):\n",
        "    y = i / 100 - i % 100 \n",
        "    x = i % 100\n",
        "    if x == y : \n",
        "        arr[i] = 255\n",
        "```\n",
        "\n",
        "으로 표현이 가능합니다. 하지만 복잡한 도형을 그릴때마다 그것이 9901, 9802 .. 등등으로 번지수의 패턴을 머리로 계산하는것은 고통스러운 일일겁니다.  이런 주소를 직접 생각하는 것보단 x, y 로 열과, 행으로 처리하는게 이런 이미지 처리에는 더 직관적이죠. 이때는 다음의 수식을 사용하시면 편합니다. \n",
        "\n",
        "> y * 100 + x \n",
        "\n",
        "예를 들어 15번째 행(y), 48번째 열(x)의 주소는 15 * 100 + 48 로 1548 이 되는 겁니다. 그러면 대각선은 간단히 (0,0), (1,1), (2,2) ... (99,99) 의 점을 바꿔주면 되는거죠. 이제 그럼 이를 사용한 코드를 보죠. \n",
        "\n",
        "#### 코드: 아래경사 대각선\n"
      ]
    },
    {
      "cell_type": "code",
      "metadata": {
        "id": "bzToZVGr1Yv-",
        "colab_type": "code",
        "colab": {}
      },
      "source": [
        "for i in range(100):\n",
        "    y,x = i,i   \n",
        "    arr[y * 100 + x] = 255\n",
        "        \n",
        "display( Image.fromarray( np.array(arr).astype('uint8').reshape(100,100) , 'L' ) ) "
      ],
      "execution_count": 0,
      "outputs": []
    },
    {
      "cell_type": "markdown",
      "metadata": {
        "id": "9gEnU1yR1YwE",
        "colab_type": "text"
      },
      "source": [
        "위의 코드는 사실 이해를 위해서 y,x 를 나눴지만 더 간단하게 \n",
        "```\n",
        "for i in range(100):\n",
        "  arr[i * 100 + i] = 255 \n",
        "```\n",
        "로 간략화시킬 수도 있습니다. "
      ]
    },
    {
      "cell_type": "markdown",
      "metadata": {
        "id": "CBTCfJVX1YwG",
        "colab_type": "text"
      },
      "source": [
        " \n",
        "    \n",
        "####<font color = 'red'> 연습 7.2.2 : 윗 경사 대각선\n",
        "위 예제의 대각선과 반대편 대각선도 한번 그어보세요. \n",
        "</font>\n"
      ]
    },
    {
      "cell_type": "code",
      "metadata": {
        "id": "O2iFDm841YwH",
        "colab_type": "code",
        "colab": {}
      },
      "source": [
        "# 연습문제 7.2.2의 코드를 작성하세요"
      ],
      "execution_count": 0,
      "outputs": []
    },
    {
      "cell_type": "markdown",
      "metadata": {
        "id": "Kq1r2wT8TBs-",
        "colab_type": "text"
      },
      "source": [
        "#### **참고 코드: 임의의 두 점을 잇는 선**\n",
        "\n",
        "이번에는 임의의 두 점을 잇는 직선을 그려보죠.  직선을 긋는것은 간단해보이지만 격자형태의 메모리 공간에 직선처럼 보이게 하는 것은 그렇게 간단한 일은 아닙니다. 아래의 코드를 프로그램을 처음 접하는 여러분들이 한번에 생각해 내기는 어려울 테지만  우리가 사용하는 컴퓨터에서 시각적 표현의 가장 기초가 되는 직선생성방법을 보는 것은 의미가 있기에 어렵더라도 한번 코드를 잘 보고 왜 저렇게 되는지 한번 생각해보세요.\n",
        "\n",
        "아래의 코드는 시작점과 끝점을 x, y 의 차이값(dx,dy) 로 구분한 후에 긴쪽을 1로 두고 짧은쪽의 변경값(rx, ry)을 비율로 산정합니다. 예를 들어 0,0 -> 20,40 이면  x,y 의 각각 차이값은 20,40 이 되고 rx, ry = 0.5, 1 로 산정한 후에 40회동안 이 값을 더해가며 그 점을 찍는거죠.  그러면 x,y값은 다음과 같이 변화하며 직선이 그려지게 됩니다. \n",
        "\n",
        ">0.0, 0 <br>\n",
        ">0.5, 1 <br>\n",
        ">1.0, 2 <br>\n",
        ">1.5, 3 <br>\n",
        ">2.0, 4 <br>\n",
        "> : <br>\n",
        ">20.0, 40.0\n",
        "\n",
        "아래의 코드가 이해하기 쉬운 코드는 아니지만 그럼에도 이런 간단한 규칙으로  이미지에 직선이 그려지는 것은 매우 재밌는 일이죠. 여러분들도 코드의 시작점, 끝점을 바꿔가며 직접 실행해서 그 결과를 확인해보세요\n",
        "\n"
      ]
    },
    {
      "cell_type": "code",
      "metadata": {
        "id": "u7bwEYZPUPJm",
        "colab_type": "code",
        "colab": {}
      },
      "source": [
        "x,y = 80,10 # 임의의 시작점\n",
        "ex,ey = 20,40 # 임의의 끝점\n",
        "\n",
        "dx,dy = ex - x , ey - y\n",
        "\n",
        "if abs(dy) > abs(dx) :  # abs() 는 절대값을 반환하는 함수\n",
        "  r = abs(dy)\n",
        "else: \n",
        "  r = abs(dx)\n",
        "\n",
        "rx,ry =  dx/r , dy/r\n",
        "\n",
        "for ri in range(r):  \n",
        "  arr[int(y) * 100 + int(x)] = 255  # int는 실수를 정수로 바꿔줍니다. \n",
        "  x += rx\n",
        "  y += ry \n",
        "\n",
        "display( Image.fromarray( np.array(arr).astype('uint8').reshape(100,100) , 'L' ) ) "
      ],
      "execution_count": 0,
      "outputs": []
    },
    {
      "cell_type": "markdown",
      "metadata": {
        "id": "76etg_HtAxC1",
        "colab_type": "text"
      },
      "source": [
        "##7.3 도형을 그려보기 \n",
        "\n",
        "\n",
        "\n"
      ]
    },
    {
      "cell_type": "markdown",
      "metadata": {
        "id": "ueXYKLGnUy69",
        "colab_type": "text"
      },
      "source": [
        "### 7.3.1 이등변 삼각형"
      ]
    },
    {
      "cell_type": "markdown",
      "metadata": {
        "id": "Dj_WEfAzo-ZC",
        "colab_type": "text"
      },
      "source": [
        "이번에는 간단한 이등변 삼각형을 그리는 예를 보죠. 위의 두점을 잇는 선을 사용할 수도 있겠지만 저 코드를 매 선마다 사용하는 것은 코드를 복잡하게 합니다. (나중에 함수를 익히면 저런 기능성 코드를 상당히 간단히 사용할 수 있습니다. )  \n",
        "\n",
        "이등변 삼각형은 제일 윗줄을 기준으로 50,0 을 기점으로 두줄마다 한칸씩 벌어지게 바꾸며 흰색을 넣으면 됩니다. 즉  \n",
        "\n",
        "> ( 50,0 ) ( 50, 0 ) <br>\n",
        "( 50,1 ) ( 50, 1 ) <br>\n",
        "( 49,2 ) ( 51, 2 ) <br>\n",
        "( 49,3 ) ( 51, 3 ) <br>\n",
        "( 48,4 ) ( 52, 4 ) <br>\n",
        "  :\n",
        "\n",
        "이런 규칙의 x,y 에 255값을 대입하는 것이죠.\n",
        "\n",
        "#### 코드: 이등변 삼각형"
      ]
    },
    {
      "cell_type": "code",
      "metadata": {
        "id": "H0lOgbG9oUKp",
        "colab_type": "code",
        "colab": {}
      },
      "source": [
        "for i in range(10000): # 그림 지우기 \n",
        "  arr[i] = 0\n",
        "\n",
        "for y in range(0,100):\n",
        "  arr[y * 100 + 50 - int(y/2) ] = 255 \n",
        "  arr[y * 100 + 50 + int(y/2) ] = 255 \n",
        "  \n",
        "display( Image.fromarray( np.array(arr).astype('uint8').reshape(100,100) , 'L' ) ) "
      ],
      "execution_count": 0,
      "outputs": []
    },
    {
      "cell_type": "markdown",
      "metadata": {
        "id": "Hbp9qMt_q_14",
        "colab_type": "text"
      },
      "source": [
        "    \n",
        "####<font color = 'red'> 연습 7.3.1 : 이등변 삼각형 채우기\n",
        "위에 그려진 이등변 삼각형의 내부도 흰색으로 채워보자. \n",
        "</font>\n"
      ]
    },
    {
      "cell_type": "code",
      "metadata": {
        "id": "lgAsbJIEoYrR",
        "colab_type": "code",
        "colab": {}
      },
      "source": [
        "# 연습문제 7.3.1 의 코드를 작성해보세요"
      ],
      "execution_count": 0,
      "outputs": []
    },
    {
      "cell_type": "markdown",
      "metadata": {
        "id": "GvPB2FD0U6S3",
        "colab_type": "text"
      },
      "source": [
        "### 7.3.2 사각형 그리기 "
      ]
    },
    {
      "cell_type": "markdown",
      "metadata": {
        "id": "M1cVCs0NO_tg",
        "colab_type": "text"
      },
      "source": [
        "이번에는 사각형을 그려보도록 하죠. 점 10,10 부터 90,90 까지 가로세로 80짜리 사각형을 그리도록 할텐데 이해를 편하게 해드리기 위해 먼저 4각형의 윗면 아랫면을 그리는 코드부터 보도록 하겠습니다. \n",
        "\n",
        "#### 코드: 4각형 가로선 그리기 \n",
        "\n",
        "\n",
        "\n"
      ]
    },
    {
      "cell_type": "code",
      "metadata": {
        "id": "x5QsOiHnQ-O6",
        "colab_type": "code",
        "colab": {}
      },
      "source": [
        "for i in range(10000): # 그림 지우기 \n",
        "  arr[i] = 0\n",
        "\n",
        "for x in range(10,90):\n",
        "  arr[10 * 100 + x ] = 255 \n",
        "  arr[90 * 100 + x ] = 255 \n",
        "\n",
        "display( Image.fromarray( np.array(arr).astype('uint8').reshape(100,100) , 'L' ) )  "
      ],
      "execution_count": 0,
      "outputs": []
    },
    {
      "cell_type": "markdown",
      "metadata": {
        "id": "cRkDrotqSI7k",
        "colab_type": "text"
      },
      "source": [
        "위의 코드를 보시면 100x100 의 이미지를 위한 10000 개의 숫자중 x,y 에 해당하는 위치의 주소를 얻으려면 y * 10 + x 를 계산하시면 됩니다. 그러므로 \n",
        "\n",
        "10,10 -> 90,10 을 그리려면 \n",
        "```\n",
        "for x in range(10,90):\n",
        "  arr[10 * 100 + x ] = 255 \n",
        "```\n",
        "으로 작성하면 되는 것이죠 \n",
        "마찬가지로 10,90 -> 90,90 을 그릴때는 \n",
        "```\n",
        "for x in range(10,90):\n",
        "  arr[90 * 100 + x ] = 255 \n",
        "```\n",
        "로 작성을 하면 됩니다. 그런데 보면 양측다 x의 변화는 똑같지요? 그러면 두 선을 따로 그릴 필요가 없으니 \n",
        "\n",
        "```\n",
        "for x in range(10,90):\n",
        "  arr[10 * 100 + x ] = 255 \n",
        "  arr[90 * 100 + x ] = 255 \n",
        "```\n",
        "이렇게 한번에 그린것입니다. "
      ]
    },
    {
      "cell_type": "markdown",
      "metadata": {
        "id": "AHLFCjLyUHz6",
        "colab_type": "text"
      },
      "source": [
        "####<font color = 'red'> 연습 7.3.2 : 사각형 그리기 \n",
        "이제 원리를 아셨다면 세로선 두줄을 그리는 코드를 만들고, 둘을 합쳐서 4각형 전체를 그리는 코드를 완성해보세요\n",
        "</font>\n",
        "\n"
      ]
    },
    {
      "cell_type": "code",
      "metadata": {
        "id": "Q9De5oASPk_h",
        "colab_type": "code",
        "colab": {}
      },
      "source": [
        "# 연습문제 7.3.2 의 코드를 작성해보세요"
      ],
      "execution_count": 0,
      "outputs": []
    },
    {
      "cell_type": "markdown",
      "metadata": {
        "id": "gQ_0-zzDWV8n",
        "colab_type": "text"
      },
      "source": [
        "## 7.4 명암변화를 주기 \n",
        "\n",
        "지금까지는 이미지의 값에 0(검은색)과 255(흰색)값만 사용했지만 여러분들이 사용중인 이미지는 비록 흑백이지만 0~255 사이의 밝기값을 표현할 수 있습니다. 이제는 이런 값의 변화를 이용해 간단한 그라데이션을 표현해보도록 하겠습니다. \n",
        "\n"
      ]
    },
    {
      "cell_type": "markdown",
      "metadata": {
        "id": "4dT2A-8_nl6Q",
        "colab_type": "text"
      },
      "source": [
        "#### 코드: 간단한 상하 그라데이션"
      ]
    },
    {
      "cell_type": "code",
      "metadata": {
        "id": "9qHRkBi1QGHK",
        "colab_type": "code",
        "colab": {}
      },
      "source": [
        "for y in range(0,100):\n",
        "  for x in range(0,100):\n",
        "    arr[y*100 + x] = y \n",
        "\n",
        "\n",
        "display( Image.fromarray( np.array(arr).astype('uint8').reshape(100,100) , 'L' ) )  "
      ],
      "execution_count": 0,
      "outputs": []
    },
    {
      "cell_type": "markdown",
      "metadata": {
        "id": "mvF15oUknlAp",
        "colab_type": "text"
      },
      "source": [
        "위의 코드는 이미지 전체 (y : 0\\~99, x : 0\\~99 ) 에 값을 지정할때 그 안의 값이 열(y) 값과 같도록 한 것입니다. 그러니까 제일 위는 0, 제일 아래는 99 의 밝기를 가진것이죠. \n",
        "\n",
        "다음 코드는 이를 0~255 사이의 값으로 범위를 늘려줍니다. \n",
        "\n",
        "#### 코드: 흑,백 그라데이션\n"
      ]
    },
    {
      "cell_type": "code",
      "metadata": {
        "id": "Z9jHe6Z7oT8k",
        "colab_type": "code",
        "colab": {}
      },
      "source": [
        "for y in range(0,100):\n",
        "  for x in range(0,100):\n",
        "    arr[y*100 + x] = int( y / 100 * 255 ) \n",
        "\n",
        "display( Image.fromarray( np.array(arr).astype('uint8').reshape(100,100) , 'L' ) )  "
      ],
      "execution_count": 0,
      "outputs": []
    },
    {
      "cell_type": "markdown",
      "metadata": {
        "colab_type": "text",
        "id": "__eUfr_Ao4tz"
      },
      "source": [
        "####<font color = 'red'> 연습 7.4.1 : 좌우 그라데이션\n",
        "만일 위의 그라데이션이 좌측부터 우측으로 점점 밝아지도록 하려면 어떻게 해야할까요?  위의 코드를 이해하셨다면 아마 간단하게 해내실 수 있을겁니다. \n",
        "</font>\n",
        "\n"
      ]
    },
    {
      "cell_type": "code",
      "metadata": {
        "id": "6ZNsdHLLpLyk",
        "colab_type": "code",
        "colab": {}
      },
      "source": [
        "# 연습문제 7.4.1 의 코드를 작성하세요"
      ],
      "execution_count": 0,
      "outputs": []
    },
    {
      "cell_type": "markdown",
      "metadata": {
        "id": "Mc8VepTynCUx",
        "colab_type": "text"
      },
      "source": [
        "\n",
        "이번에는 위의 예를 응용해서 물결 무늬를 만들어보도록 하겠습니다. 물결형태의 값의 변화를 주는 가장 쉬운 방법은 sin 함수를 사용하는 것이지만 수업에서는 최소한의 기능만 사용하고자 하기 때문에 이전에 배운 절대값을 활용해보죠 \n",
        "\n",
        "0~100 의 값이 변할때 20줄 단위로 밝기를 변화하게 하고 싶으면 다음의 공식이 쓸만 합니다. \n",
        "\n",
        "> abs( y % 20 - 10 ) \n",
        "\n",
        "이 공식은 y를 20으로 나눈 나머지에서 10을 뺀 후에 이 절대값을 구하는 것입니다. 이는 0~9까지는 -10 을 뺀 값의 절대값이니 10->1 로 변하게 됩니다. 그리고 그 10~19 의 구간에서는 0->9 로 변하게 됩니다. 그러므로 10->0->10->0 으로 위아래로 변하는 거죠. \n",
        "\n",
        "단 변화의 폭이 작으니까 여기에 25를 곱해주면 0~250 까지의 밝기 변화가 20을 주기로 발생할 겁니다. \n",
        "\n",
        "#### 코드: 물결무늬 그라데이션\n"
      ]
    },
    {
      "cell_type": "code",
      "metadata": {
        "id": "WGRSnlG8m_7V",
        "colab_type": "code",
        "colab": {}
      },
      "source": [
        "for y in range(0,100):\n",
        "  for x in range(0,100):\n",
        "    arr[y*100 + x] = int( abs(y % 20 - 10) * 25 ) \n",
        "\n",
        "display( Image.fromarray( np.array(arr).astype('uint8').reshape(100,100) , 'L' ) )  "
      ],
      "execution_count": 0,
      "outputs": []
    },
    {
      "cell_type": "markdown",
      "metadata": {
        "id": "qSiDvlFSsGwX",
        "colab_type": "text"
      },
      "source": [
        "응용하기에 따라선 정말 무궁무진한 이미지의 변화를 이런 간단한 수학법칙으로 만들 수 있습니다. 사실 이런 수리적인 사고가 익숙치 안은 분들도 있을 수 있습니다. 만일 여러분이 좋은 프로그래머가 되고 싶다면 그런 부분을 극복하실 필요가 있습니다만\n",
        "전문 프로그래머가 되실게 아니라면 단지 '이런식으로 컴퓨터라는 기계가 작동하고 여러 응용이 가능하구나' 라는 것을 체감하시는 것만으로도 컴퓨터라는 장치를 이해하시는데 충분하시리라 생각합니다. "
      ]
    },
    {
      "cell_type": "code",
      "metadata": {
        "id": "IaZ27BqlrDbW",
        "colab_type": "code",
        "colab": {}
      },
      "source": [
        ""
      ],
      "execution_count": 0,
      "outputs": []
    },
    {
      "cell_type": "markdown",
      "metadata": {
        "colab_type": "text",
        "id": "lg9pk8e_ova2"
      },
      "source": [
        "## 7.5 다중 배열로 이미지 만들기 \n",
        "\n",
        "이번에는 다중 배열을 이용해 이미지를 만드는 기법에 대해 알아보겠습니다. 먼저 이를 위해 앞에서 언급했던 다중배열을 만드는 간단한 예를 보도록 하죠. \n"
      ]
    },
    {
      "cell_type": "code",
      "metadata": {
        "id": "gu5_4YiUpao2",
        "colab_type": "code",
        "colab": {}
      },
      "source": [
        "arr = [] \n",
        "for i in range(3):\n",
        "  tarr = []\n",
        "  for j in range(3):\n",
        "    tarr = tarr + [0] \n",
        "  arr = arr + [tarr]\n",
        "print(arr)"
      ],
      "execution_count": 0,
      "outputs": []
    },
    {
      "cell_type": "markdown",
      "metadata": {
        "id": "QtW4qt70puGt",
        "colab_type": "text"
      },
      "source": [
        "위의 코드는 j 를 사용한 loop 를 이용해 tarr 에\n",
        "[0,0,0] 를 만듭니다. 그리고 이 [0,0,0] 을 arr에 추가하는 것을 3번 반복하죠. 그 결과 \n",
        "```\n",
        "[[0, 0, 0],\n",
        " [0, 0, 0],\n",
        " [0, 0, 0]]\n",
        "```\n",
        "형태로 3x3 의 다중 배열이 만들어지게 됩니다. 이 원리를 이용하면 100 x 100 의 다중배열도 위의 수치만 바꿔서 만들 수 있습니다. \n",
        "\n",
        "#### 코드: 100x100 의 다중배열 만들기 \n"
      ]
    },
    {
      "cell_type": "code",
      "metadata": {
        "id": "m9QfQ2_dqxUx",
        "colab_type": "code",
        "colab": {}
      },
      "source": [
        "arr = [] \n",
        "for i in range(100):\n",
        "  tarr = []\n",
        "  for j in range(100):\n",
        "    tarr = tarr + [0] \n",
        "  arr = arr + [tarr]\n"
      ],
      "execution_count": 0,
      "outputs": []
    },
    {
      "cell_type": "markdown",
      "metadata": {
        "colab_type": "text",
        "id": "5XaYcfyRova8"
      },
      "source": [
        "이렇게 만들어진 2차원 다중배열 역시 이미지 형태로 출력이 가능한데 1차원 배열과는 살짝 다릅니다. \n",
        "\n",
        "#### 코드: 다중 배열 이미지를 출력하기 "
      ]
    },
    {
      "cell_type": "code",
      "metadata": {
        "colab_type": "code",
        "id": "qW7ORsdoova9",
        "colab": {}
      },
      "source": [
        "display( Image.fromarray( np.array(arr).astype('uint8') , 'L' ) )  "
      ],
      "execution_count": 0,
      "outputs": []
    },
    {
      "cell_type": "markdown",
      "metadata": {
        "id": "7RiNCphCrvT7",
        "colab_type": "text"
      },
      "source": [
        "이제 다중배열에서 위의 코드들이 어떻게 변하는지 한번 보도록 하겠습니다. \n",
        "\n",
        "코드: 다중 배열의 여러가지 처리기법\n"
      ]
    },
    {
      "cell_type": "code",
      "metadata": {
        "id": "W19nmSukre0N",
        "colab_type": "code",
        "colab": {}
      },
      "source": [
        "# 이미지 색을 흰색으로 칠하기 \n",
        "for y in range(100):\n",
        "  for x in range(100):\n",
        "    arr[y][x] = 255\n",
        "\n",
        "display( Image.fromarray( np.array(arr).astype('uint8') , 'L' ) )  \n",
        "  \n",
        "# 이미지 색을 다시 검은색으로 \n",
        "for y in range(100):\n",
        "  for x in range(100):\n",
        "    arr[y][x] = 0\n",
        "\n",
        "# 이미지에 가운데 가로 선을 긋기 \n",
        "for x in range(100):\n",
        "  arr[50][x] = 255\n",
        "\n",
        "# 이미지에 가운데 세로 선을 긋기 \n",
        "for y in range(100):\n",
        "  arr[y][50] = 255\n",
        "\n",
        "print(\"\\n중앙선\")  \n",
        "display( Image.fromarray( np.array(arr).astype('uint8') , 'L' ) )  \n",
        "\n",
        "# 리셋 \n",
        "for y in range(100):\n",
        "  for x in range(100):\n",
        "    arr[y][x] = 0\n",
        "\n",
        "# 이미지에 대각선을 긋기 \n",
        "for n in range(100):\n",
        "  arr[n][n] = 255\n",
        "print(\"\\n대각선\")  \n",
        "display( Image.fromarray( np.array(arr).astype('uint8') , 'L' ) )  \n"
      ],
      "execution_count": 0,
      "outputs": []
    },
    {
      "cell_type": "markdown",
      "metadata": {
        "colab_type": "text",
        "id": "cxzFR9jquQo7"
      },
      "source": [
        "보시면 1차원에 비해 코드가 깔끔해지신걸 보실 수 있습니다. 이제 이를 이용해 위에서 일정간격으로 가로줄, 세로줄을 그리던 문제를 풀어보도록 하죠. \n",
        "\n",
        "####<font color = 'red'> 연습 7.5.1 : 일정간격으로 가로세로 줄 그리기 \n",
        "위의 예제를 이용해 가로줄과 세로줄이 일정간격(10)으로 그려지도록 해보세요 \n",
        "</font>\n",
        "\n"
      ]
    },
    {
      "cell_type": "code",
      "metadata": {
        "colab_type": "code",
        "id": "9phd2Ub4uQpB",
        "colab": {}
      },
      "source": [
        "# 리셋 \n",
        "for y in range(100):\n",
        "  for x in range(100):\n",
        "    arr[y][x] = 0\n",
        "\n",
        "# 연습문제 7.5.1 의 코드를 작성하세요\n",
        "\n",
        "\n",
        "# 이미지 출력\n",
        "display( Image.fromarray( np.array(arr).astype('uint8') , 'L' ) )  \n",
        "\n",
        "\n",
        "\n",
        "\n"
      ],
      "execution_count": 0,
      "outputs": []
    },
    {
      "cell_type": "markdown",
      "metadata": {
        "colab_type": "text",
        "id": "rEiBJftZw4EF"
      },
      "source": [
        "이제 어느정도 다중 배열에 익숙해지셨을 거라고 생각합니다. 그러면 위의 그라데이션중에 가장 기초적인 위 -> 아래 방향으로 점점 밝아지는 그라데이션도 작성해보세요\n",
        "\n",
        "####<font color = 'red'> 연습 7.5.2 : 다중배열에서 그라데이션\n",
        "첫번째 줄은 밝기값이 0 , 마지막 줄은 밝기값이 255이 되도록 그라데이션을 만들어보세요\n",
        "</font>\n",
        "\n"
      ]
    },
    {
      "cell_type": "code",
      "metadata": {
        "colab_type": "code",
        "id": "4zm9DRXEw4EM",
        "colab": {}
      },
      "source": [
        "# 리셋 \n",
        "for y in range(100):\n",
        "  for x in range(100):\n",
        "    arr[y][x] = 0\n",
        "\n",
        "# 연습문제 7.5.2 의 코드를 작성하세요\n",
        "\n",
        "\n",
        "# 이미지 출력\n",
        "display( Image.fromarray( np.array(arr).astype('uint8') , 'L' ) )  \n",
        "\n",
        "\n",
        "\n",
        "\n"
      ],
      "execution_count": 0,
      "outputs": []
    },
    {
      "cell_type": "markdown",
      "metadata": {
        "id": "oKdCAeZFxiNf",
        "colab_type": "text"
      },
      "source": [
        "## 7.6 3차원 배열로 칼라 이미지 만들기 \n",
        "\n",
        "위에서 우리는 하나의 색상값을 0~255의 밝기값으로 처리했습니다. 이는 검은색, 회색, 흰색등의 흑백 이미지만 가능한 방식이라 우리가 흔히 보는 컬러 이미지와는 거리가 있었죠.  \n",
        "\n",
        "하지만 컬러 이미지도 원리는 같습니다. 우리가 보는 컬러값은 컴퓨터에서 빛의 3원색인 빨강,녹색,파랑으로 구성됩니다. 이 세가지 값의 밝기의 비율로 컬러가 만들어지게 되는 것이죠. 이를 RGB 색상이라고 합니다. 이는 우리가 0 으로 만들었던 부분에 대신 [0,0,0] 형태의 세가지 색상값을 넣음으로서 만들어집니다. \n",
        "\n",
        "이제 컬러이미지를 위한 3차원 배열을 만드는 코드를 보도록 하겠습니다. "
      ]
    },
    {
      "cell_type": "markdown",
      "metadata": {
        "id": "NbM-B0KKzeS7",
        "colab_type": "text"
      },
      "source": [
        "#### 코드 : 컬러이미지를 위한 배열생성 \n",
        "컬러 이미지를 위한 3차원 배열 생성 "
      ]
    },
    {
      "cell_type": "code",
      "metadata": {
        "id": "xJE-wYS8yquT",
        "colab_type": "code",
        "colab": {}
      },
      "source": [
        "arr = [] \n",
        "for i in range(100):\n",
        "  tarr = []\n",
        "  for j in range(100):\n",
        "    tarr = tarr + [[0,0,0]] \n",
        "  arr = arr + [tarr]"
      ],
      "execution_count": 0,
      "outputs": []
    },
    {
      "cell_type": "markdown",
      "metadata": {
        "id": "KOIfP-8WzWe3",
        "colab_type": "text"
      },
      "source": [
        "\n",
        "이를 이미지로 출력할 경우도 역시 배열의 모양이 바뀌므로 약간 변화가 있습니다. 파라미터에 'L' 을 넣던 부분을 빼서 쓰게 됩니다. \n",
        "\n",
        "#### 코드: 컬러 이미지 출력"
      ]
    },
    {
      "cell_type": "code",
      "metadata": {
        "id": "IJMICQ30tnbX",
        "colab_type": "code",
        "colab": {}
      },
      "source": [
        "display( Image.fromarray( np.array(arr).astype('uint8')  ) )  \n"
      ],
      "execution_count": 0,
      "outputs": []
    },
    {
      "cell_type": "markdown",
      "metadata": {
        "id": "BMlFSDBozzo6",
        "colab_type": "text"
      },
      "source": [
        "위의 이미지는 검은색이라 겉으로는 다를게 없어보이시겠지만 이제 이 이미지에 값을 [0,0,0] 이 아닌 다른 값을 넣음으로서 색상의 변화를 만들 수 있습니다. \n",
        "\n",
        "#### 코드 : 컬러이미지 붉은 색으로 채우기 \n",
        "\n"
      ]
    },
    {
      "cell_type": "code",
      "metadata": {
        "id": "GLdLbJt-zIb0",
        "colab_type": "code",
        "colab": {}
      },
      "source": [
        "for y in range(100):\n",
        "  for x in range(100):\n",
        "    arr[y][x] = [255, 0, 0]\n",
        "\n",
        "display( Image.fromarray( np.array(arr).astype('uint8')  ) )  \n",
        "\n",
        "\n"
      ],
      "execution_count": 0,
      "outputs": []
    },
    {
      "cell_type": "markdown",
      "metadata": {
        "id": "T14TEnPu0ozV",
        "colab_type": "text"
      },
      "source": [
        "이제 이걸 이용해 색상 변화를 다뤄보도록 하겠습니다. 위에서 흑백 그라데이션을 이용하던 원리를 사용하면 됩니다. x,y, x+y 를 각각 R,G,B 에 0부터 255로 변화를 시켜보는 것이죠. \n",
        "\n",
        "#### 코드: 컬러 이미지를 이용한 그라데이션"
      ]
    },
    {
      "cell_type": "code",
      "metadata": {
        "id": "DXm4mFx10mGM",
        "colab_type": "code",
        "colab": {}
      },
      "source": [
        "for y in range(100):\n",
        "  for x in range(100):\n",
        "    r = int( y * 255 / 100 )\n",
        "    g = int( x * 255 / 100 )\n",
        "    b = int( x + y * 255 / 200 )\n",
        "    arr[y][x] = [r, g, b]\n",
        "\n",
        "display( Image.fromarray( np.array(arr).astype('uint8')  ) )  "
      ],
      "execution_count": 0,
      "outputs": []
    },
    {
      "cell_type": "code",
      "metadata": {
        "id": "uGB-ZTd51PlY",
        "colab_type": "code",
        "colab": {}
      },
      "source": [
        ""
      ],
      "execution_count": 0,
      "outputs": []
    }
  ]
}