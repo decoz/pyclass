{
  "nbformat": 4,
  "nbformat_minor": 0,
  "metadata": {
    "kernelspec": {
      "display_name": "Python 3",
      "language": "python",
      "name": "python3"
    },
    "language_info": {
      "codemirror_mode": {
        "name": "ipython",
        "version": 3
      },
      "file_extension": ".py",
      "mimetype": "text/x-python",
      "name": "python",
      "nbconvert_exporter": "python",
      "pygments_lexer": "ipython3",
      "version": "3.5.2"
    },
    "colab": {
      "name": "4_while.ipynb",
      "provenance": [],
      "toc_visible": true,
      "include_colab_link": true
    }
  },
  "cells": [
    {
      "cell_type": "markdown",
      "metadata": {
        "id": "view-in-github",
        "colab_type": "text"
      },
      "source": [
        "<a href=\"https://colab.research.google.com/github/decoz/pyclass/blob/master/4_while.ipynb\" target=\"_parent\"><img src=\"https://colab.research.google.com/assets/colab-badge.svg\" alt=\"Open In Colab\"/></a>"
      ]
    },
    {
      "cell_type": "markdown",
      "metadata": {
        "id": "X2MLOnjTdMXD",
        "colab_type": "text"
      },
      "source": [
        "# 4. 프로그램의 반복 - while\n",
        "\n",
        "사실 컴퓨터의 cpu 는 그다지 복잡한 일을 하는 물건이 아닙니다. 대부분 간단한 연산이 대부분이죠. 그럼에도 컴퓨터가 우리에게 놀라운 성능을 보여주는 이유는 이런 단순한 작업을 대단히 빠르게 반복적으로 수행 가능하기 때문입니다. 이번에는 컴퓨터가 작업을 반복하는 방법과 그것을 어떻게 활용하는지를 보도록 하겠습니다. \n",
        "\n",
        "사실 컴퓨터 프로그래밍을 배우면서 가중 중요하면서도 첫번째 난관이라고 할 수 있는게 반복구문 while 입니다. 이 문법은 어렵지 안지만 이것을 활용하는 '사고' 를 슥듭하는데 개개인이 차이가 있기 때문이죠. 꺼꾸로 이 부분을 익히면 컴퓨터 프로그램의 정수를 익혔다고 생각해도 될 정도입니다. \n"
      ]
    },
    {
      "cell_type": "markdown",
      "metadata": {
        "id": "NaVeoSbMdMXF",
        "colab_type": "text"
      },
      "source": [
        "## 4.1 while 문의 기초\n",
        "\n",
        "while 문은 else 가 없는 if 와 같은 형태로 사용됩니다. 다만 if 는 조건에 따라 실행을 한번 수행할지 말것인지를 결정하지만 while 은 조건이 맞으면 무한히 수행하게 됩니다. 정확히는 실행 후 다시 조건을 검사해서 조건이 맞는 동안은 계속 반복하는 것이죠. 다음 두가지 프로그램을 보도록 하죠. \n",
        "\n"
      ]
    },
    {
      "cell_type": "code",
      "metadata": {
        "id": "ItQ8ItQIdMXG",
        "colab_type": "code",
        "colab": {}
      },
      "source": [
        "a = 1 \n",
        "if a < 10 : \n",
        "    print(a)"
      ],
      "execution_count": 0,
      "outputs": []
    },
    {
      "cell_type": "markdown",
      "metadata": {
        "id": "IHctGz8ddMXJ",
        "colab_type": "text"
      },
      "source": [
        "지난시간에 배운 if 문의 가장 기초적인 내용이죠.. a 는 1 이기때문에 10보다 작다는 조건이 만족되어 화면에는 1이 찍히게 됩니다. 이번에는 이것을 while로 바꾸어보도록 하죠.\n",
        "\n",
        "#### 예1: 무한루프"
      ]
    },
    {
      "cell_type": "code",
      "metadata": {
        "id": "61uFFM1YdMXJ",
        "colab_type": "code",
        "colab": {}
      },
      "source": [
        "# 무한히 작동하는 프로그램 .. 실행해보시고 끝내려면 이에 Run 옆의 검은색 사각형 버튼(정지버튼)을 누르세요 \n",
        "a = 1\n",
        "while a < 10 :\n",
        "    print(a)    "
      ],
      "execution_count": 0,
      "outputs": []
    },
    {
      "cell_type": "markdown",
      "metadata": {
        "id": "9TI2X_lFdMXN",
        "colab_type": "text"
      },
      "source": [
        "작동시키시면 1이 반복적으로 계속 찍히는 것을 볼 수 있습니다. 스크롤바를 내려도 계속 확장되서 1이 보이지요. 왜냐하면 a는 1인 상태에서 변하지 안기 때문에 a < 10 계속 만족되어 영구히 반복해서 1을 찍게 됩니다. 대부분의 경우 프로그램이 끝나지안고 무한이 작동하는 것은 바람직한 일은 아니죠. 이런 것을 무한루프라고 하며 보통 잘못 작성된 프로그램으로 간주합니다. \n",
        "\n",
        "이것을 피하기 위해서는 a < 10 이라는 조건을 이용해서 필요한 만큼만 반복하고 탈출하도록 작성해야 합니다. \n",
        "\n",
        "#### 예2: 무한루프 탈출"
      ]
    },
    {
      "cell_type": "code",
      "metadata": {
        "id": "SlGyEJfddMXP",
        "colab_type": "code",
        "colab": {}
      },
      "source": [
        "# 실행해보세요\n",
        "a = 1\n",
        "while a < 10 :\n",
        "    print(a)    \n",
        "    a = a + 1"
      ],
      "execution_count": 0,
      "outputs": []
    },
    {
      "cell_type": "markdown",
      "metadata": {
        "id": "bLzRFNJedMXT",
        "colab_type": "text"
      },
      "source": [
        "a = a + 1 은 2장에서 배우셨듯이 a라는 변수의 값을 하나 더 늘리는 역할을 합니다. 즉 한번 실행할때마다 a 가 1,2,3.. 이렇게 증가하는 것이죠. a 가 10이 되면 a < 10 이 성립되지 안기때문에 더이상 반복을 하지 안게 됩니다. 즉 조건을 잘 작성해서 원하는 만큼 수행을 반복한 후에 조건이 거짓이 되어 탈출하도록 만드는게 while 문을 잘 다루는 방법이 됩니다. "
      ]
    },
    {
      "cell_type": "markdown",
      "metadata": {
        "id": "sEje4ZpydMXU",
        "colab_type": "text"
      },
      "source": [
        "#### <font color = red> 연습4.1: 1부터 10까지 홀수를 출력\n",
        "<font color = red> 위의 예는 1부터 9까지의 모든 정수를 출력하게 됩니다. 이것을 홀수만 출력하게 하려면 어떻게 하면 좋을까요?"
      ]
    },
    {
      "cell_type": "code",
      "metadata": {
        "id": "mqVpDZM5dMXV",
        "colab_type": "code",
        "outputId": "7ba16d4a-053d-41f1-a04d-acea06007764",
        "colab": {}
      },
      "source": [
        "# 위의 예를 홀수만 출력하게 바꾸세요\n",
        "a = 1\n",
        "while a < 10 :\n",
        "    print(a)    \n",
        "    a = a + 2"
      ],
      "execution_count": 0,
      "outputs": [
        {
          "output_type": "stream",
          "text": [
            "1\n",
            "3\n",
            "5\n",
            "7\n",
            "9\n"
          ],
          "name": "stdout"
        }
      ]
    },
    {
      "cell_type": "markdown",
      "metadata": {
        "id": "ZAVe6pkTdMXZ",
        "colab_type": "text"
      },
      "source": [
        "#### <font color = red> 연습4.2: 1부터 9까지 정수를 꺼꾸로 출력\n",
        "<font color = red> 이번에는 숫자를 꺼꾸로 찍는 방법을 생각해봅시다. 9,8,7...,1 의 순서대로 찍으려면 어떻게 해야할까요? "
      ]
    },
    {
      "cell_type": "code",
      "metadata": {
        "id": "Q4PQ9e3KdMXZ",
        "colab_type": "code",
        "colab": {}
      },
      "source": [
        "# 아래프로그램을 9부터 1까지 반대로 찍히도록 바꿔보세요\n",
        "a = 1\n",
        "while a < 10 :\n",
        "    print(a)    \n",
        "    a = a + 1"
      ],
      "execution_count": 0,
      "outputs": []
    },
    {
      "cell_type": "markdown",
      "metadata": {
        "id": "PsFrqx3UdMXc",
        "colab_type": "text"
      },
      "source": [
        "#### <font color = red> 연습4.3: 1부터 100까지의 합산 값\n",
        "<font color = red> 이번에는 조그만 응용을 생각해보죠.. 지금까지 배운 내용을 토대로 1부터 100까지 값을 합산할 수 있을까요? 실제로 아주 간단하게 작성이 가능합니다. 잘 생각해보세요"
      ]
    },
    {
      "cell_type": "code",
      "metadata": {
        "id": "XzqF5U0odMXd",
        "colab_type": "code",
        "outputId": "4b5b994e-cee6-459d-d5fb-355d1ae85f72",
        "colab": {}
      },
      "source": [
        "# 1부터 100까지의 값들의 합산을 출력하는 프로그램을 작성해보세요\n",
        "a,s  = 1,0\n",
        "while a <= 100 :\n",
        "    s = s + a\n",
        "    a = a + 1\n",
        "print(s)"
      ],
      "execution_count": 0,
      "outputs": [
        {
          "output_type": "stream",
          "text": [
            "5050\n"
          ],
          "name": "stdout"
        }
      ]
    },
    {
      "cell_type": "markdown",
      "metadata": {
        "id": "AdDFTWzcdMXg",
        "colab_type": "text"
      },
      "source": [
        "## 4.2 while 문 중첩 활용\n",
        "\n",
        "조금 머리쓰는 예제가 있긴 했지만.. 사실 while 문 자체의 반복을 그렇게 어렵게 느끼시지는 안으셨을거라고 생각합니다. 이게 왜 난관인가 의문이 드시는 분도 많을겁니다.  아직까지는요..  \n",
        "\n",
        "if 문이 그렇듯이 while 문도 중첩된 사용이 가능합니다. 물론 if 문과 while문이 서로 섞어서 서로 중첩될 수도 있지요. 그런데 이 while 문같은 반복문이 중첩부터 어려워하는 분들이 의외로 많습니다.  지금부터는 어째서 while 같은 반복문을 중첩해서 사용할 필요성과 사용법을 알아보도록 하죠.\n",
        "\n",
        "먼저 다음같은 숫자의 나열을 찍는 코드를 봅시다. \n",
        "\n",
        "<pre>\n",
        "0 1 2 3 4 5 6 7 8 9 \n",
        "</pre>\n",
        "\n",
        "#### 예3: 0-9 출력"
      ]
    },
    {
      "cell_type": "code",
      "metadata": {
        "id": "GnBeKAOrdMXh",
        "colab_type": "code",
        "outputId": "bdc26ab4-eea1-4c70-8707-b480d62ba1e9",
        "colab": {}
      },
      "source": [
        "# 실행해보세요\n",
        "a = 0\n",
        "while a < 10 :\n",
        "    print(a, end = ' ' )\n",
        "    a = a + 1    "
      ],
      "execution_count": 0,
      "outputs": [
        {
          "output_type": "stream",
          "text": [
            "0 1 2 3 4 5 6 7 8 9 "
          ],
          "name": "stdout"
        }
      ]
    },
    {
      "cell_type": "markdown",
      "metadata": {
        "id": "J_v8GoivdMXk",
        "colab_type": "text"
      },
      "source": [
        "일반적으로 print 는 줄을 바꾸지만 end = ' ' 문장은 print 이후에 줄을 바꾸지 않게 해줍니다. \n",
        "자 이제 이런 출력을 세번 반복하게 만든다고 쳐 봅시다. \n",
        "\n",
        "어떤 내용을 3번 반복시키는 방법은 다음과 같은 코드로 만들 수 있습니다. \n",
        "\n"
      ]
    },
    {
      "cell_type": "code",
      "metadata": {
        "id": "HXJb225VdMXl",
        "colab_type": "code",
        "outputId": "ac35e745-5271-4af6-f563-2890e94541b1",
        "colab": {}
      },
      "source": [
        "b = 0\n",
        "while b < 3 :\n",
        "    #반복 실행할 코드\n",
        "    b = b + 1"
      ],
      "execution_count": 0,
      "outputs": [
        {
          "output_type": "stream",
          "text": [
            "0 1 2 3 4 5 6 7 8 9 \n",
            "0 1 2 3 4 5 6 7 8 9 \n",
            "0 1 2 3 4 5 6 7 8 9 \n"
          ],
          "name": "stdout"
        }
      ]
    },
    {
      "cell_type": "markdown",
      "metadata": {
        "id": "NjFZAcJidMXn",
        "colab_type": "text"
      },
      "source": [
        "위의 코드에 0부터 9까지 찍는 내용을 넣으면 다음과 같이 됩니다. \n",
        "\n",
        "#### 예4: while 문을 다시  3번 반복"
      ]
    },
    {
      "cell_type": "code",
      "metadata": {
        "id": "dm1-woN0dMXo",
        "colab_type": "code",
        "colab": {}
      },
      "source": [
        "# 실행해보세요\n",
        "b = 0\n",
        "while b < 3 :\n",
        "    a = 0\n",
        "    while a < 10 :\n",
        "        print(a, end = ' ' )\n",
        "        a = a + 1          \n",
        "    b = b + 1\n",
        "    \n",
        "    "
      ],
      "execution_count": 0,
      "outputs": []
    },
    {
      "cell_type": "markdown",
      "metadata": {
        "id": "0wrBB8r3dMXq",
        "colab_type": "text"
      },
      "source": [
        "복잡해 보이지만 가만히 보면 예4의 코드에 예3의 코드를 삽입한 것을 아실 수 있습니다. b 의 값이 한번 증가할때마다 a 값은 0부터 9까지를 증가한 하며 출력을 하게 되는 것이죠. 이는 시계의 초침과 분침을 연상하시면 쉽게 이해가 가실겁니다. \n",
        "\n",
        "이번에는 0-9 까지 한번 찍고 줄을 바꾸도록 해봅시다. "
      ]
    },
    {
      "cell_type": "code",
      "metadata": {
        "id": "34EAVbMAdMXr",
        "colab_type": "code",
        "outputId": "255c3896-5a6d-499b-ce26-ecc8827ad660",
        "colab": {}
      },
      "source": [
        "# 실행해보세요\n",
        "b = 0\n",
        "while b < 3 :\n",
        "    a = 0\n",
        "    while a < 10 :\n",
        "        print(a, end = ' ' )\n",
        "        a = a + 1          \n",
        "    print(\"\")\n",
        "    b = b + 1\n",
        "    "
      ],
      "execution_count": 0,
      "outputs": [
        {
          "output_type": "stream",
          "text": [
            "0 1 2 3 4 5 6 7 8 9 \n",
            "0 1 2 3 4 5 6 7 8 9 \n",
            "0 1 2 3 4 5 6 7 8 9 \n"
          ],
          "name": "stdout"
        }
      ]
    },
    {
      "cell_type": "markdown",
      "metadata": {
        "id": "Fsp8TkhHdMXu",
        "colab_type": "text"
      },
      "source": [
        "print(\"\") 는 아무것도 안찍는 듯 하지만 줄을 바꿔주는 역할을 합니다. 이 것이 안쪽 반복문( while a < 10 :.. ) 이 실행 된 다음에 실행됨으로서 0-9까지 출력 이 후에 줄을 바꿔서 찍게 되는 것이죠.  \n",
        "\n",
        "이렇게 while 문이나 나중에 등장할 for 처럼 반복기능을 가진 문장 안쪽에 다시 반복기능을 삽입하는 코드를 다중 루프 (loop) 라고 부릅니다.  이 중첩 구조는 프로그램에서 널리 사용되지만 처음에 접하시는 분들은 헷갈려하시는 경우가 많습니다. 그래서 이번시간에는 이러한 다중루프의 다양한 응용을 실습해보도록 하겠습니다. \n",
        "\n",
        "#### <font color = red> 연습 4.4:  5 x 5  찍기\n",
        "<font color = red> 위와 비슷하게 1-5 를 5번 찍는 프로그램을 작성해보세요"
      ]
    },
    {
      "cell_type": "code",
      "metadata": {
        "id": "VF4MicV3dMXv",
        "colab_type": "code",
        "outputId": "b7b6dc3d-1b30-4a5c-cf2e-aaacdb6c200b",
        "colab": {}
      },
      "source": [
        "b = 1\n",
        "while b <= 5 :\n",
        "    a = 1\n",
        "    while a<=5 :\n",
        "        print(a + b, end = ' ')\n",
        "        a = a + 1\n",
        "    print(\"\")    \n",
        "    b = b + 1\n",
        "    \n",
        "    \n"
      ],
      "execution_count": 0,
      "outputs": [
        {
          "output_type": "stream",
          "text": [
            "1 2 3 4 5 \n",
            "1 2 3 4 5 \n",
            "1 2 3 4 5 \n",
            "1 2 3 4 5 \n",
            "1 2 3 4 5 \n"
          ],
          "name": "stdout"
        }
      ]
    },
    {
      "cell_type": "markdown",
      "metadata": {
        "id": "6TocrJyvdMXz",
        "colab_type": "text"
      },
      "source": [
        "#### <font color = red>  연습 4.5 : 5 x 5 응용\n",
        "<font color = red> \n",
        "이번에는 위와 비슷하지만 다음과 같은 패턴으로 작성을 해보죠\n",
        "<pre>\n",
        "1 2 3 4 5 \n",
        "2 3 4 5 6 \n",
        "3 4 5 6 7\n",
        "4 5 6 7 8\n",
        "5 6 7 8 9 \n",
        "</pre>\n",
        "\n",
        "동일한 반복이 아니다 라고 생각하실 수 있지만.. 각 반복마다 약간의 변화를 적용하는 방법을 잘 생각해보세요. \n",
        "\n"
      ]
    },
    {
      "cell_type": "code",
      "metadata": {
        "id": "5y4WdwNYdMX0",
        "colab_type": "code",
        "colab": {}
      },
      "source": [
        "# 연습문제 4.2 의 코드를 작성해서 실행해보세요... "
      ],
      "execution_count": 0,
      "outputs": []
    },
    {
      "cell_type": "markdown",
      "metadata": {
        "id": "tFETQXYzdMX3",
        "colab_type": "text"
      },
      "source": [
        "이번에는 구구단을 찍는 예를 생각해보죠. 먼저 2단을 찍는 프로그램을 보도록 하죠\n",
        "\n",
        "#### 예 : 구구단 2단"
      ]
    },
    {
      "cell_type": "code",
      "metadata": {
        "id": "SjnwA6MQdMX3",
        "colab_type": "code",
        "colab": {}
      },
      "source": [
        "# 구구단 2단을 찍는 코드를 실행해보시고 3단, 4단으로 바꾸면서 찍어보세요\n",
        "a = 1 \n",
        "while a <= 9 :\n",
        "    print(\"2 x\", a,\"=\", 2 * a, end = \"  \")\n",
        "    a = a + 1\n",
        "    "
      ],
      "execution_count": 0,
      "outputs": []
    },
    {
      "cell_type": "markdown",
      "metadata": {
        "id": "ylmhr_F-dMX8",
        "colab_type": "text"
      },
      "source": [
        "print 로 여러 문자열이나 변수를 같이 찍으실때는 , 로 이어붙이면 됩니다. 위의 프린트 문은 \n",
        "\n",
        "* \"2 x\" \n",
        "* a \n",
        "* \"=\"\n",
        "* 2 * a\n",
        "\n",
        "4가지를 출력하는데.. \"2 x\" 와 \"=\" 은 글자 그대로를 출력하고 a 는 변수의 값을 , 2 * a 는 변수의 값에 2를 곱한 것을 출력하는겁니다. 그러므로 a 가 1에서 9까지 변하면서 2 x 1 = 2  2 x 2 = 4 ... 이런식으로 찍히도록 하는거죠 end = \" \" 는 위에서 설명드렸듯이 줄을 바꾸지 않고 찍도록 합니다.\n",
        "\n",
        "\n",
        "####  <font color = red> 연습 4.6 : 구구단 전체 출력\n",
        " <font color = red> 위의 예제를 잘 보신 후에 구구단 전체를 ( 2 x 1 = 1 , 2 x 2 = 2 ... 9 x 9 = 81 ) 출력하는 방법을 잘 생각해보세요. 기왕이면 각 단마다 줄이 바뀌도록 하면 더욱 보기가 좋겠죠\n",
        "\n",
        "\n"
      ]
    },
    {
      "cell_type": "code",
      "metadata": {
        "id": "YdkMWjZ5dMX9",
        "colab_type": "code",
        "colab": {}
      },
      "source": [
        "# 연습 4.3 구구단 출력을 작성해보세요"
      ],
      "execution_count": 0,
      "outputs": []
    },
    {
      "cell_type": "markdown",
      "metadata": {
        "id": "Jcipy1iDdMX_",
        "colab_type": "text"
      },
      "source": [
        "\n",
        "####  <font color = red> 연습 4.7 : 계단 모양 출력\n",
        "\n",
        " <font color = red> 이번에는 간단한듯 하지만 발상의 전환이 필요한 문제입니다.  다음과 같은 출력을 할 수 있을까요? \n",
        "\n",
        "<pre> \n",
        "*\n",
        "* *\n",
        "* * *\n",
        "* * * *\n",
        "* * * * *\n",
        "* * * * * * \n",
        "</pre>\n",
        "\n",
        "위의 문제는 대단히 유명한 다중 루프 문제입니다. 하지만 처음에는 이것이 다중루프란 것도 눈치체기 힘들지요.. 하지만 아래의 모양을 보면 이것이 위의 예제들과 유사성을 느낄 수 있습니다. \n",
        "\n",
        " <font color = red> \n",
        "<pre>\n",
        "1 \n",
        "1 2 \n",
        "1 2 3 \n",
        "1 2 3 4 \n",
        "1 2 3 4 5 \n",
        "1 2 3 4 5 6 \n",
        "</pre>\n",
        "\n",
        "구구단은 매 큰 반복마다 찍는 단의 숫자가 바뀌도록 변화를 주게되죠. 그에 비해 위의 문제는 반복하는 횟수 자체에 변화가 생기게 됩니다. 과연 어떻게 그것이 가능할지 잘 생각해보세요\n",
        "\n",
        "\n"
      ]
    },
    {
      "cell_type": "code",
      "metadata": {
        "id": "Qbl9Tu3rdMX_",
        "colab_type": "code",
        "colab": {}
      },
      "source": [
        "# 연습 4.7 의 코드를 여기에 작성하고 실행해보세요"
      ],
      "execution_count": 0,
      "outputs": []
    },
    {
      "cell_type": "markdown",
      "metadata": {
        "id": "XzgflBePdMYC",
        "colab_type": "text"
      },
      "source": [
        "이런 다중 루프의 연습들이 언뜻 보면 무의미하거나 쓸때 없이 느껴지실 수도 있습니다. 하지만 컴퓨터가 해내는 일들은 우리 눈에 화려해 보이지만 그 기본 원리는 간단한 작업의 반복을 통해서 이뤄집니다. 실제로 프로그램을 배운다는 것은 이런 반복적인 작업을 잘 다룸으로서 다양한 문제를 해결하는 방법을 배우는 것이죠. 이런 사고방식의 첫 관문이자 가장 많은 분들이 좌절하는 부분이 이러한 다중 반복문의 원리를 이해하는 과정입니다. \n",
        "\n",
        "이제 다음의 문제들도 도전해보세요 \n",
        "\n",
        "####  <font color = red> 연습 4.8 : 다양한 패턴 풀기 \n",
        "\n",
        "<font color = red> \n",
        "<b>[1] 줄마다 1씩 증가 </b>\n",
        "<pre>\n",
        "2 3 4 5 \n",
        "3 4 5 6 \n",
        "4 5 6 7 \n",
        "5 6 7 8 \n",
        "</pre>\n",
        "\n",
        "<font color = red> \n",
        "<b>[2] 체크무늬 </b>\n",
        "<font color = red> \n",
        "참고: % 는 나머지를 구하는 연산으로 a % 2 를 하면 짝수이면 0 , 홀수이면 1 이 됩니다. \n",
        "    \n",
        "<pre>\n",
        "0 1 0 1 \n",
        "1 0 1 0 \n",
        "0 1 0 1 \n",
        "1 0 1 0 \n",
        "</pre> \n",
        "\n",
        "<font color = red> \n",
        "<b>[3] 역삼각형 </b>\n",
        "<pre>\n",
        "* * * * * * \n",
        "* * * * * \n",
        "* * * * \n",
        "* * * \n",
        "* * \n",
        "* \n",
        "</pre>"
      ]
    },
    {
      "cell_type": "code",
      "metadata": {
        "id": "-fT5bk63dMYD",
        "colab_type": "code",
        "colab": {}
      },
      "source": [
        "# 연습 4.8 의 코드를 여기에 작성하세요\n"
      ],
      "execution_count": 0,
      "outputs": []
    },
    {
      "cell_type": "code",
      "metadata": {
        "id": "OB_fo5w3dMYF",
        "colab_type": "code",
        "colab": {}
      },
      "source": [
        ""
      ],
      "execution_count": 0,
      "outputs": []
    }
  ]
}