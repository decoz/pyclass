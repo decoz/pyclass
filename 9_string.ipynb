{
  "nbformat": 4,
  "nbformat_minor": 0,
  "metadata": {
    "colab": {
      "provenance": []
    },
    "kernelspec": {
      "name": "python3",
      "display_name": "Python 3"
    },
    "language_info": {
      "name": "python"
    }
  },
  "cells": [
    {
      "cell_type": "markdown",
      "source": [
        "# 9 문자열과 파일\n",
        "\n",
        "<br>\n",
        "\n",
        "### 9.1 문자열 기초\n",
        "문자열이란 일반적인 숫자대신 글자들을 담을 수 있는 변수를 의미합니다. 이러한 문자열은 '이나 \"의 인용부호로 글자들을 묶어서서 표현합니다. 또한 숫자나 배열처럼 변수에 저장할 수도 있습니다.\n"
      ],
      "metadata": {
        "id": "6ZhJJHMGUMDX"
      }
    },
    {
      "cell_type": "code",
      "source": [
        "a = 'abc'\n",
        "b = \"def\"\n",
        "print(a,b )"
      ],
      "metadata": {
        "id": "HutAz1XZUM1O"
      },
      "execution_count": null,
      "outputs": []
    },
    {
      "cell_type": "markdown",
      "source": [
        "이 문자열은 서로 더하면 두 문자열을 합친 문자열을 의미합니다. 대신 서로 뺄 수는 없습니다."
      ],
      "metadata": {
        "id": "I0VHPsQyUcwW"
      }
    },
    {
      "cell_type": "code",
      "source": [
        "c = a + b\n",
        "print( c )"
      ],
      "metadata": {
        "id": "zk-mbUSkUYG-"
      },
      "execution_count": null,
      "outputs": []
    },
    {
      "cell_type": "markdown",
      "source": [
        "문자열은 여러줄을 포함할 수도 있습니다. 문자열로 여러줄의 텍스트를 담을때는 ''' 기호를 사용합니다."
      ],
      "metadata": {
        "id": "117a1MjpVSyP"
      }
    },
    {
      "cell_type": "code",
      "source": [
        "s = '''\n",
        "  abcdefg\n",
        "  hijklmn\n",
        "'''\n",
        "print(s)"
      ],
      "metadata": {
        "id": "jnT2SFnhVPYU"
      },
      "execution_count": null,
      "outputs": []
    },
    {
      "cell_type": "markdown",
      "source": [
        "문자열은 문자의 배열이라는 표현대로 배열처럼 사용할 수도 있습니다.\n"
      ],
      "metadata": {
        "id": "XRkPUBpjWGIy"
      }
    },
    {
      "cell_type": "code",
      "source": [
        "s = 'abcde'\n",
        "print( 'string length:', len(s) )\n",
        "print( 'first character:', s[0] )\n",
        "for c in s:\n",
        "  print(c)"
      ],
      "metadata": {
        "id": "z9YmiqBRVNMG"
      },
      "execution_count": null,
      "outputs": []
    },
    {
      "cell_type": "markdown",
      "source": [
        "####<font color = 'red'> 연습 9.1: 문자열의 글자를 꺼꾸로 출력해보세요\n",
        "\n",
        "```\n",
        "예:\n",
        "s = 'abcde'\n",
        "-> edcba\n",
        "```"
      ],
      "metadata": {
        "id": "PYxI3b-SWzkB"
      }
    },
    {
      "cell_type": "code",
      "source": [
        "s = 'abcde'\n",
        "# 연습문제의 코드를 작성해보세요"
      ],
      "metadata": {
        "id": "2HQpXWxnWUz8"
      },
      "execution_count": null,
      "outputs": []
    },
    {
      "cell_type": "markdown",
      "source": [
        "\n",
        "<br><br>\n",
        "\n",
        "### 9.2 문자열의 원리\n",
        "\n",
        "문자열은 사실 그 속은 각각 문자에 대응되는 숫자의 배열입니다. 예를 들어 알파벳 소문자 'a' 는 컴퓨터에선 97이라는 코드번호를 갖습니다. 마찬가지로 'b'는 98, 'c' 는 99 이런식으로 저장되는거죠 그러므로 'abc' 는 [97, 98, 99] 값을 가진 배열입니다.\n",
        "\n",
        "이를 확인하기 위해 다음 코드를 돌려보죠. ord 함수는 각 문자의 코드값을 출력해줍니다."
      ],
      "metadata": {
        "id": "vK6X6RWoibAz"
      }
    },
    {
      "cell_type": "code",
      "source": [
        "s = 'abc'\n",
        "for c in s:\n",
        "  print( ord(c) )"
      ],
      "metadata": {
        "colab": {
          "base_uri": "https://localhost:8080/"
        },
        "id": "OzgJP5eYj3Lx",
        "outputId": "343a8774-d9eb-4f19-f4aa-92a53fbdf01c"
      },
      "execution_count": 17,
      "outputs": [
        {
          "output_type": "stream",
          "name": "stdout",
          "text": [
            "97\n",
            "98\n",
            "99\n"
          ]
        }
      ]
    },
    {
      "cell_type": "markdown",
      "source": [
        "꺼꾸로 chr 은 코드값을 글자로 변환해 줍니다.  97부터 99까지의 숫자를 char로 변환해 출력하면 다음과 같습니다."
      ],
      "metadata": {
        "id": "jZj1pJMTkTcB"
      }
    },
    {
      "cell_type": "code",
      "source": [
        "for i in range(97,100):\n",
        "  print( chr(i) )"
      ],
      "metadata": {
        "colab": {
          "base_uri": "https://localhost:8080/"
        },
        "outputId": "e95eade2-276c-421b-fd4a-cfee69700e20",
        "id": "LG7O0J8PibA0"
      },
      "execution_count": 18,
      "outputs": [
        {
          "output_type": "stream",
          "name": "stdout",
          "text": [
            "a\n",
            "b\n",
            "c\n"
          ]
        }
      ]
    },
    {
      "cell_type": "markdown",
      "source": [
        "####<font color = 'red'> 연습 9.2: chr 을 사용해 대문자를 모두 출력해보세요\n"
      ],
      "metadata": {
        "id": "Zj79B9lYotCx"
      }
    },
    {
      "cell_type": "code",
      "source": [
        "# 연습문제의 9.2의 코드를 작성해보세요"
      ],
      "metadata": {
        "id": "l59RgbGlotCx"
      },
      "execution_count": 32,
      "outputs": []
    },
    {
      "cell_type": "markdown",
      "source": [
        "참고로 컴퓨터에서 출력시 엔터키에 해당하는 줄바꿈 기호도 10번이라는 코드값을 가지고 있습니다.  이 기호를 ''' 문자열로 줄을 바꿔서 넣어줄 수도 있지만 '\\n' 이라는 글자로 넣어줄 수도 있습니다.\n"
      ],
      "metadata": {
        "id": "mWsLO0_ZkvI6"
      }
    },
    {
      "cell_type": "code",
      "source": [
        "s = 'a\\nb'\n",
        "print(s)\n",
        "print( ord( s[1] ))"
      ],
      "metadata": {
        "colab": {
          "base_uri": "https://localhost:8080/"
        },
        "id": "GNzAJGCrlkTq",
        "outputId": "ab00af5b-035b-4fe4-9196-7c75a55e7e93"
      },
      "execution_count": 20,
      "outputs": [
        {
          "output_type": "stream",
          "name": "stdout",
          "text": [
            "a\n",
            "b\n",
            "10\n"
          ]
        }
      ]
    },
    {
      "cell_type": "markdown",
      "source": [
        "\n",
        "이렇게 문자열은 내부적으론 코드값이라는 숫자의 배열이지만 이를 연산하는 방식은 문자에 맞게 일반적인 배열과는 조금 다르게 작동합니다.  \n",
        "\n",
        "```\n",
        "- 문자열의 개별 글자값을 변경할 수 없음\n",
        "- 문자열의 한글자도 다시 문자열로 취급함\n",
        "- 코드값을 기준으로 두 문자열을 비교( ==, >, < 등) 가능\n",
        "```\n"
      ],
      "metadata": {
        "id": "UQdh_qR5l5Ky"
      }
    },
    {
      "cell_type": "code",
      "source": [
        "s = '123'\n",
        "\n",
        "print( s[0][0][0] ) # 배열의 인자도 다시 한글자의 배열로 취급\n",
        "\n",
        "print('abc' == 'abc', 'xyz' == 'xyz1') # 두 문자열이 같은지 비교가능\n",
        "\n",
        "print('5' < '123' ) # 문자열을 크기를 비교할때는 첫번째 코드값의 크기를 우선으로 비교\n",
        "\n",
        "s[0] = 'x' # 에러발생\n"
      ],
      "metadata": {
        "colab": {
          "base_uri": "https://localhost:8080/",
          "height": 273
        },
        "id": "NyOv4uMGmp_x",
        "outputId": "52293276-56ca-499e-f8d3-e32a6d85b1a5"
      },
      "execution_count": 30,
      "outputs": [
        {
          "output_type": "stream",
          "name": "stdout",
          "text": [
            "1\n",
            "True False\n",
            "False\n"
          ]
        },
        {
          "output_type": "error",
          "ename": "TypeError",
          "evalue": "ignored",
          "traceback": [
            "\u001b[0;31m---------------------------------------------------------------------------\u001b[0m",
            "\u001b[0;31mTypeError\u001b[0m                                 Traceback (most recent call last)",
            "\u001b[0;32m<ipython-input-30-d7ce9f032c9f>\u001b[0m in \u001b[0;36m<cell line: 9>\u001b[0;34m()\u001b[0m\n\u001b[1;32m      7\u001b[0m \u001b[0mprint\u001b[0m\u001b[0;34m(\u001b[0m\u001b[0;34m'5'\u001b[0m \u001b[0;34m<\u001b[0m \u001b[0;34m'123'\u001b[0m \u001b[0;34m)\u001b[0m \u001b[0;31m# 문자열을 크기를 비교할때는 첫번째 코드값의 크기를 우선으로 비교\u001b[0m\u001b[0;34m\u001b[0m\u001b[0;34m\u001b[0m\u001b[0m\n\u001b[1;32m      8\u001b[0m \u001b[0;34m\u001b[0m\u001b[0m\n\u001b[0;32m----> 9\u001b[0;31m \u001b[0ms\u001b[0m\u001b[0;34m[\u001b[0m\u001b[0;36m0\u001b[0m\u001b[0;34m]\u001b[0m \u001b[0;34m=\u001b[0m \u001b[0;34m'x'\u001b[0m \u001b[0;31m# 에러발생\u001b[0m\u001b[0;34m\u001b[0m\u001b[0;34m\u001b[0m\u001b[0m\n\u001b[0m",
            "\u001b[0;31mTypeError\u001b[0m: 'str' object does not support item assignment"
          ]
        }
      ]
    },
    {
      "cell_type": "markdown",
      "source": [
        "####<font color = 'red'> 연습 9.3: 임의의 문자열에 빈칸이 몇개가 있는지 세어보세요\n",
        "\n",
        "```\n",
        "예:\n",
        "s = 'how many blank here?'\n",
        "```\n",
        "-> 3"
      ],
      "metadata": {
        "id": "Dqwlkor4n1wS"
      }
    },
    {
      "cell_type": "code",
      "source": [
        "s = 'how many blank here?'\n",
        "# 연습문제의 9.3의 코드를 작성해보세요"
      ],
      "metadata": {
        "id": "ic0Rea0pn1wT"
      },
      "execution_count": 31,
      "outputs": []
    },
    {
      "cell_type": "markdown",
      "source": [
        "\n",
        "<br><br>\n",
        "\n",
        "### 9.3 문자열 나누고 합치기\n",
        "\n",
        "문자열 자체도 배열처럼 사용 가능하지만 숫자나 다른 배열처럼 다시 이를 배열로 묶을 수 있습니다."
      ],
      "metadata": {
        "id": "CYCqKF-sYywn"
      }
    },
    {
      "cell_type": "code",
      "source": [
        "arr = ['a', 'bc', 'def']\n",
        "for s in arr:\n",
        "  print(s)"
      ],
      "metadata": {
        "colab": {
          "base_uri": "https://localhost:8080/"
        },
        "id": "7YwbaPe0aiyy",
        "outputId": "35f27306-41f9-48c4-a51b-f5c0805559bc"
      },
      "execution_count": 9,
      "outputs": [
        {
          "output_type": "stream",
          "name": "stdout",
          "text": [
            "a\n",
            "bc\n",
            "def\n"
          ]
        }
      ]
    },
    {
      "cell_type": "markdown",
      "source": [
        "for문을 사용해 배열의 여러 문자열을열을 하나의 문자열로 묶을 수도 있습니다."
      ],
      "metadata": {
        "id": "IhX_yscMfQcG"
      }
    },
    {
      "cell_type": "code",
      "source": [
        "s = ''\n",
        "for w in arr:\n",
        "  s += w\n",
        "\n",
        "print(s)"
      ],
      "metadata": {
        "colab": {
          "base_uri": "https://localhost:8080/"
        },
        "id": "yhAJwrc_fFXz",
        "outputId": "cb3419b0-8e51-47ad-cf54-e196da8025d8"
      },
      "execution_count": 10,
      "outputs": [
        {
          "output_type": "stream",
          "name": "stdout",
          "text": [
            "abcdef\n"
          ]
        }
      ]
    },
    {
      "cell_type": "markdown",
      "source": [
        "**참고 : join**\n",
        "\n",
        "배열로 된 문자열들을 묶어줄때 join 은 문자열을 합치는 과정을 더 편하게 줍니다.\n",
        "\n",
        "```\n",
        "join 사용법:\n",
        "'연결문자'.join( 문자열배열 )\n",
        "\n",
        "예:\n",
        "'_'.join(['a','b','c'])\n",
        "-> a_b_c\n"
      ],
      "metadata": {
        "id": "5Tw-TLiegzUw"
      }
    },
    {
      "cell_type": "code",
      "source": [
        "arr = ['my', 'good', 'day']\n",
        "s = ' '.join(arr)\n",
        "print(s)\n"
      ],
      "metadata": {
        "colab": {
          "base_uri": "https://localhost:8080/"
        },
        "id": "KS8weX9khEPW",
        "outputId": "c6a351f6-7cfb-4e25-e0e3-283d7b30bfb3"
      },
      "execution_count": 14,
      "outputs": [
        {
          "output_type": "stream",
          "name": "stdout",
          "text": [
            "my good day\n"
          ]
        }
      ]
    },
    {
      "cell_type": "markdown",
      "source": [
        "이번에는 문자열을 한번 나눠보겠습니다. 먼저 다음과 같은 문자열을 생각해보죠\n",
        "```\n",
        "s = 'my good day'\n",
        "```\n",
        "이 문자열을 빈칸을 기준으로 단어 단위로 나눠서 출력하고 싶다면? 다음 코드가 그것을 수행해 줍니다."
      ],
      "metadata": {
        "id": "MK7Qd0nwfuAT"
      }
    },
    {
      "cell_type": "code",
      "source": [
        "s = 'my good day'\n",
        "w = ''\n",
        "for c in s :\n",
        "  if c != ' ' :\n",
        "    w += c\n",
        "  else:\n",
        "    print(w)\n",
        "    w = ''\n",
        "\n",
        "if w != '' :\n",
        "  print(w)\n"
      ],
      "metadata": {
        "colab": {
          "base_uri": "https://localhost:8080/"
        },
        "id": "3dIb4PCHfuAT",
        "outputId": "14a86031-dd7f-46e1-97d3-598d205b946e"
      },
      "execution_count": 33,
      "outputs": [
        {
          "output_type": "stream",
          "name": "stdout",
          "text": [
            "my\n",
            "good\n",
            "day\n"
          ]
        }
      ]
    },
    {
      "cell_type": "markdown",
      "source": [
        "** 참고: split **\n",
        "\n",
        "이러한 문자열을 특정 기호를 기준으로 구분해서 배열화 시키는 일은 컴퓨터에서 상당히 중요합니다. 특히 정보를 저장하고 읽어들이는 많은 경우에 이런 문자열 형태로 저장된 정보를 원하는 기준으로 나눠서 처리해야 하므로 매우 빈번히 사용되며 이때마다 위의 코드를 작성하는 것은 번거롭기 때문에 이를 간편하게 해주는 함수가 split 입니다.\n",
        "\n",
        "```\n",
        "split 사용법:\n",
        "'문자열'.split('구분기호')\n",
        "\n",
        "예:\n",
        "'34,24,17'.split(',')\n",
        "-> ['34', '24', '17']\n",
        "```"
      ],
      "metadata": {
        "id": "omdkxyQkpZug"
      }
    },
    {
      "cell_type": "code",
      "source": [
        "date = '2023-07-24'\n",
        "print( date.split('-'))"
      ],
      "metadata": {
        "colab": {
          "base_uri": "https://localhost:8080/"
        },
        "id": "2HOVPvYKpY8R",
        "outputId": "f78f04c1-6a55-46c6-d6b9-978480ba0c88"
      },
      "execution_count": 36,
      "outputs": [
        {
          "output_type": "stream",
          "name": "stdout",
          "text": [
            "['2023', '07', '24']\n"
          ]
        }
      ]
    },
    {
      "cell_type": "markdown",
      "source": [
        "####<font color = 'red'> 연습 9.4: 다음과 같은 이름의 리스트가 있을때 각 이름 중 첫글자를 제외한 리스트를 만드세요\n",
        "\n",
        "```\n",
        "'Adams Baker Clark Davis Evans Frank Ghosh Hills Irwin Jones Klein'\n",
        "-> 'dams aker lark .. '\n",
        "```\n"
      ],
      "metadata": {
        "id": "X27nU5zIryXS"
      }
    },
    {
      "cell_type": "code",
      "source": [
        "s = 'Adams Baker Clark Davis Evans Frank Ghosh Hills Irwin Jones Klein'\n",
        "# 연습문제의 9.4의 코드를 작성해보세요"
      ],
      "metadata": {
        "id": "2rA6jNjjryXT"
      },
      "execution_count": null,
      "outputs": []
    },
    {
      "cell_type": "markdown",
      "source": [
        "\n",
        "<br><br>\n",
        "\n",
        "### 9.4 파일과 문자열\n",
        "\n",
        "파일은 저장장소(디스크, ssd 등)에 정보를 저장하는 단위입니다. 이때 파일은 크게 '텍스트' 와 '바이너리' 두가지로 나뉩니다.  모든 정보는 수치형태로 저장되지만 이를 문자열로 읽어들이는가 수치정보로 읽어들이는가의 차이가 있읍니다. 이미지, 동영상, 프로그램들은 문자열로 표현할 수 없기때문에 '바이너리' 파일이라고 하며 메모장이나 편집기로 읽어서 볼 수 있는 파일들은 '텍스트' 파일로 부릅니다.\n",
        "\n",
        "여기서는 텍스트 파일만을 다루겠습니다.\n",
        "파일에 내용을 읽거나 쓰기 위해서는 다음과 같은 과정을 거칩니다.\n",
        "\n",
        "```\n",
        "- 파일 열기\n",
        "- 파일 읽거나 쓰기\n",
        "- 파일 닫기\n",
        "```\n",
        "\n",
        "파일을 연다는 것은 각 파일에 대항하는 저장장치의 위치의 정보를 가져오는 과정을 의미합니다.  이때 읽기모드와 쓰기 모드가 있는데 이는 다음과 같은 차이가 있습니다.\n",
        "\n",
        "\n",
        "```\n",
        "- 읽기 모드: 다른 프로그램도 파일에 접근 가능, 파일이 없으면 에러\n",
        "- 쓰기 모드: 다른 프로그램은 파일에 접근 불가, 파일어 없으면 새로 생성\n",
        "```\n",
        "\n",
        "\n",
        "#### 파일에 쓰기\n",
        "\n",
        "파일에 저장을 위해 파일을 여는 방법은 다음과 같습니다.\n",
        "\n",
        "```python\n",
        "f = open('파일이름', 'w')\n",
        "```\n",
        "\n",
        "f 는 읽어들인 파일정보를 담고 있는 변수이며 여기에 write 를 사용해 다음과 같이 기록을 할 수 있습니다.\n",
        "\n",
        "```python\n",
        "f.write('기록할 내용')\n",
        "```\n",
        "\n",
        "파일을 다 사용했으면 다음 코드로 파일 정보를 해제해줍니다.\n",
        "```python\n",
        "f.close()\n",
        "```\n",
        "\n",
        "\n",
        "여기서 'w' 는 wrtie의 약자로 쓰기모드임을 의미합니다. 파일에 내용을 기록하는 간단한 예제가 다음에 있습니다.\n"
      ],
      "metadata": {
        "id": "b5nFTwFUt0Yh"
      }
    },
    {
      "cell_type": "code",
      "source": [
        "f = open('my.txt','w')\n",
        "f.write('text content')\n",
        "f.close()"
      ],
      "metadata": {
        "id": "PTLzsBmBt0Yj"
      },
      "execution_count": 37,
      "outputs": []
    },
    {
      "cell_type": "markdown",
      "source": [
        "위의 코드를 실행하신 후에 폴더를 확인하시면 my.txt 파일이 생성되고 'my content' 라는 내용이 들어있는 것을 보실 수 있습니다.\n"
      ],
      "metadata": {
        "id": "S2juQAl8tp6O"
      }
    },
    {
      "cell_type": "markdown",
      "source": [
        "####파일 내용 읽기\n",
        "\n",
        "파일 내용을 읽을때는 다음과 같이 여시면 됩니다.\n",
        "\n",
        "```python\n",
        "f = open('파일이름', 'r')\n",
        "```\n",
        "마찬가지로 'r' 은 read의 약자입니다.\n",
        "\n",
        "파일정보를 읽어들일때는 read라는 메소드를 사용합니다.\n",
        "\n",
        "```python\n",
        "문자열변수 = f.read()\n",
        "```\n",
        "\n",
        "이제 위에서 저장한 my.txt 의 내용을 다시 읽어들여서 출력하는 코드를 실행해보겠습니다."
      ],
      "metadata": {
        "id": "9dFQdUaJxx2w"
      }
    },
    {
      "cell_type": "code",
      "source": [
        "f = open('my.txt','r')\n",
        "s = f.read()\n",
        "f.close()\n",
        "print(s)"
      ],
      "metadata": {
        "colab": {
          "base_uri": "https://localhost:8080/"
        },
        "id": "sWxtBpWZxZ5I",
        "outputId": "1a857798-e8db-42b4-e66d-db8dfd270f44"
      },
      "execution_count": 40,
      "outputs": [
        {
          "output_type": "stream",
          "name": "stdout",
          "text": [
            "text content\n"
          ]
        }
      ]
    },
    {
      "cell_type": "markdown",
      "source": [
        "\n",
        "<br><br>\n",
        "\n",
        "### 9.5 딕셔너리\n",
        "\n",
        "배열은 그 안에 있는 값에 접근을 위해 값의 위치를 숫자로 [] 안에 넣어서 그 값을 추출합니다. a[0] 이라는 표현처럼 배열의 위치에 접근하는 이런 숫자를 인덱스라고 합니다.  그런데 이런 인덱스를 숫자가 아니라 문자열로 쓰는 배열이 있습니다.\n",
        "a[0] 대신에 a['name'] 이렇게 자료 접근하는 방식이죠.\n",
        "\n",
        "이러한 배열을 **딕셔너리** 라고 합니다. 딕셔너리에서는 자료를 접근하기 위한 문자열을  '키값' 이라고 표현합니다. 딕셔너리는 다음과 같은 방식으로 표기합니다.\n",
        "\n",
        "```python\n",
        "{\n",
        "  '키값1' : 값1 ,\n",
        "  '키값2' : 값2 ,\n",
        "  :\n",
        "}\n",
        "```\n",
        "\n",
        "그러면 간단한 예제를 통해서 이 딕셔너리를 한번 테스트 해보겠습니다."
      ],
      "metadata": {
        "id": "N7bjnJMvNHj1"
      }
    },
    {
      "cell_type": "code",
      "source": [
        "dic = {\n",
        "  'name': '곽주현',\n",
        "  'no' : '970038',\n",
        "  'birth' : 1972\n",
        "}\n",
        "\n",
        "print(dic['name'])\n",
        "\n"
      ],
      "metadata": {
        "colab": {
          "base_uri": "https://localhost:8080/"
        },
        "id": "JIHbGo3WNHj3",
        "outputId": "14928cf4-517f-4640-ac64-f9f5b79e671f"
      },
      "execution_count": 1,
      "outputs": [
        {
          "output_type": "stream",
          "name": "stdout",
          "text": [
            "곽주현\n"
          ]
        }
      ]
    },
    {
      "cell_type": "markdown",
      "source": [
        "이러한 딕셔너리는 for 문을 이용해서 그 안에 있는 값들을 반복해서 꺼낼 수도 있습니다.\n"
      ],
      "metadata": {
        "id": "kO4O1rjDRP-F"
      }
    },
    {
      "cell_type": "code",
      "source": [
        "for key in dic:\n",
        "  print(key,':',dic[key])"
      ],
      "metadata": {
        "colab": {
          "base_uri": "https://localhost:8080/"
        },
        "id": "YV1bYGZlRdFj",
        "outputId": "c556c77b-354f-49d4-bb31-b2972eb62230"
      },
      "execution_count": 2,
      "outputs": [
        {
          "output_type": "stream",
          "name": "stdout",
          "text": [
            "name : 곽주현\n",
            "no : 970038\n",
            "birth : 1972\n"
          ]
        }
      ]
    },
    {
      "cell_type": "markdown",
      "source": [
        "딕셔너리는 키값을 이용해 해당 값을 억세스 하기 때문에 여러 정보를 저장하고 다시 꺼내서 처리하기 편리합니다.\n",
        "\n",
        " 만약에 우리가 어떤 개인의 신상정보에 해당하는 수십가지의 값을 저장한다고 가정하면 이것을 일반적인 배열에 저장할 경우 나중에 어떤 위치에 어떤 값이 있는지 기억하기가 쉽지 안을 겁니다. 그래서 이해하기 편한 문자열로 각각 값의 의미를 부여함으로서 훨씬 편하게 이런 작업이 가능합니다.\n",
        "\n",
        "또한 우리가 여러명의 신상정보를 관리할 경우 딕셔너리를 중첩시켜서 다음과 같이 관리하면 더욱 편리합니다.  "
      ],
      "metadata": {
        "id": "I8FTfX6JPc4p"
      }
    },
    {
      "cell_type": "code",
      "source": [
        "actors = {\n",
        "  '조인성' : {\n",
        "    'no' : '000001',\n",
        "    'birth' : 1981\n",
        "  },\n",
        "  '한효주' : {\n",
        "    'no' : '000002',\n",
        "    'birth' : 1987\n",
        "  },\n",
        "  '류승룡' :{\n",
        "    'no' : '000003',\n",
        "    'birth' : 1970\n",
        "  }\n",
        "}\n",
        "\n",
        "print( actors['조인성'])\n",
        "\n"
      ],
      "metadata": {
        "colab": {
          "base_uri": "https://localhost:8080/"
        },
        "id": "Z8SuM3Otzbg-",
        "outputId": "a13a5faf-de6c-42ba-ca65-7e6381b9308f"
      },
      "execution_count": 6,
      "outputs": [
        {
          "output_type": "stream",
          "name": "stdout",
          "text": [
            "{'no': '000001', 'birth': 1981}\n"
          ]
        }
      ]
    },
    {
      "cell_type": "markdown",
      "source": [
        "위와 같이 만일 사람의 이름으로 정보를 조회해야 하는 경우 반복문으로 일일이 값을 비교하지 않아도 되기 때문에 간단하고 빠르게 처리가 가능합니다.  또한 모든 사람들의 이름인 키값과 값들은 .keys(), .vlaues() 메소드로 추출가능합니다.\n"
      ],
      "metadata": {
        "id": "jc_k1tsCTA9C"
      }
    },
    {
      "cell_type": "code",
      "source": [
        "print(actors.keys())\n",
        "print(actors.values())"
      ],
      "metadata": {
        "colab": {
          "base_uri": "https://localhost:8080/"
        },
        "id": "bcHizOamThLv",
        "outputId": "3c4a0873-7b1c-4700-d681-3b92c99b478c"
      },
      "execution_count": 13,
      "outputs": [
        {
          "output_type": "stream",
          "name": "stdout",
          "text": [
            "dict_keys(['조인성', '한효주', '류승룡'])\n",
            "dict_values([{'no': '000001', 'birth': 1981}, {'no': '000002', 'birth': 1987}, {'no': '000003', 'birth': 1970}])\n"
          ]
        }
      ]
    },
    {
      "cell_type": "markdown",
      "source": [
        "다음은 for문을 이용해 위의 값에 존재하는 모든 신상정보를 나열하는 반복문입니다. 익숙치 안은 사용법이라 조금 어렵게 느껴질 수 있으니 한번 차근히 보시기 바랍니다."
      ],
      "metadata": {
        "id": "zGGdLW_XTgcA"
      }
    },
    {
      "cell_type": "code",
      "source": [
        "\n",
        "for name in actors:\n",
        "  print(name, end = ' ')\n",
        "  for key in actors[name]:\n",
        "    print(actors[name][key] , end = ' ')\n",
        "  print()"
      ],
      "metadata": {
        "colab": {
          "base_uri": "https://localhost:8080/"
        },
        "id": "CSarKiH9R6GS",
        "outputId": "789faf0d-9115-4990-f8f6-a9e20c395cb5"
      },
      "execution_count": 14,
      "outputs": [
        {
          "output_type": "stream",
          "name": "stdout",
          "text": [
            "조인성 000001 1981 \n",
            "한효주 000002 1987 \n",
            "류승룡 000003 1970 \n"
          ]
        }
      ]
    },
    {
      "cell_type": "markdown",
      "source": [
        "그리고 딕셔너리에 존재하지 안는 키로 값을 넣을 경우 키와 값이 가티 저장됩니다. 이걸 이용해 빈 딕셔너리에 값을 추가해줄 수 있습니다.\n"
      ],
      "metadata": {
        "id": "n07SQjeu6dxR"
      }
    },
    {
      "cell_type": "code",
      "source": [
        "dic = {}\n",
        "dic['a'] = 1\n",
        "dic['b'] = 2"
      ],
      "metadata": {
        "id": "KLOUNQdp65qg"
      },
      "execution_count": null,
      "outputs": []
    },
    {
      "cell_type": "markdown",
      "source": [
        "####<font color = 'red'> 연습 9.5: 다음 문자열의 메뉴를 딕셔너리로 만들어보세요\n",
        "```python\n",
        "s = '''\n",
        "아메리카노 2000\n",
        "아이스티 3500\n",
        "카페라떼 3000\n",
        "카푸치노 3500\n",
        "'''\n",
        "-> {'아메리카노': '2000', '아이스티': '3500', '카페라떼': '3000', '카푸치노': '3500'}\n",
        "```\n"
      ],
      "metadata": {
        "id": "YSkcqnsw6LIb"
      }
    },
    {
      "cell_type": "code",
      "source": [
        "s = '''\n",
        "아메리카노 2000\n",
        "아이스티 3500\n",
        "카페라떼 3000\n",
        "카푸치노 3500\n",
        "'''\n",
        "menu = {} # 메뉴용 dictionary\n",
        "#연습문제 9.5 의 코드를 여기에 작성하세요\n",
        "\n",
        "\n",
        "print(menu)"
      ],
      "metadata": {
        "colab": {
          "base_uri": "https://localhost:8080/"
        },
        "id": "aDJ-llBs6LIc",
        "outputId": "27ec62dd-43a9-408d-dbdb-45d995055782"
      },
      "execution_count": 4,
      "outputs": [
        {
          "output_type": "stream",
          "name": "stdout",
          "text": [
            "{'아메리카노': '2000', '아이스티': '3500', '카페라떼': '3000', '카푸치노': '3500'}\n"
          ]
        }
      ]
    },
    {
      "cell_type": "code",
      "source": [],
      "metadata": {
        "id": "LQwXdz7rUOEZ"
      },
      "execution_count": null,
      "outputs": []
    }
  ]
}