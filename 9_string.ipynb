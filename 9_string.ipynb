{
  "nbformat": 4,
  "nbformat_minor": 0,
  "metadata": {
    "colab": {
      "name": "9_string.ipynb",
      "provenance": [],
      "toc_visible": true,
      "authorship_tag": "ABX9TyMuxtdi5YfUBbUDEtwlIA6q",
      "include_colab_link": true
    },
    "kernelspec": {
      "name": "python3",
      "display_name": "Python 3"
    }
  },
  "cells": [
    {
      "cell_type": "markdown",
      "metadata": {
        "id": "view-in-github",
        "colab_type": "text"
      },
      "source": [
        "<a href=\"https://colab.research.google.com/github/decoz/pyclass/blob/master/9_string.ipynb\" target=\"_parent\"><img src=\"https://colab.research.google.com/assets/colab-badge.svg\" alt=\"Open In Colab\"/></a>"
      ]
    },
    {
      "cell_type": "markdown",
      "metadata": {
        "id": "_WCh05wozi-u",
        "colab_type": "text"
      },
      "source": [
        "# 9 문자열 \n",
        "\n",
        "\n",
        "문자열이란 일반적인 숫자대신 글자들을 담을 수 있는 변수를 의미합니다. 사실 내부적으로는 각 글자들마다 대응된 숫자들이 존재합니다. 이를 코드라고 하며 글자들은 이런 코드값으로 저장되지만 이를 매번 숫자->글자로 변환해서 출력하고 처리하려면 너무 헷갈리기 때문에 컴퓨터에서는 이런 문자들을 저장하는 변수는 따로 분자형 변수, 또는 문자열 이렇게 표현하며 숫자와는 다른 방식으로 다룹니다. "
      ]
    },
    {
      "cell_type": "markdown",
      "metadata": {
        "id": "ALO4IpYEzoqB",
        "colab_type": "text"
      },
      "source": [
        "## 9.1 문자열 변수\n",
        "\n"
      ]
    },
    {
      "cell_type": "markdown",
      "metadata": {
        "id": "p1KXdIYw2ybq",
        "colab_type": "text"
      },
      "source": [
        "먼저 문자열 변수의 간단한 코드부터 보도록 하겠습니다. \n",
        "\n",
        "#### 코드: 간단한 문자열 변수와 출력"
      ]
    },
    {
      "cell_type": "code",
      "metadata": {
        "id": "7uZT-pe4thx8",
        "colab_type": "code",
        "colab": {}
      },
      "source": [
        "s0 = \"a\"\n",
        "s1 = 'txt'\n",
        "s2 = \"this 'is' string\"\n",
        "s3 = 'this is \"string\"'\n",
        "s4 = \"line change \\n is possible \"\n",
        "s5 = \"string start with \\\" or \\' \"\n",
        "\n",
        "print(s0, s1)\n",
        "print(s2 + s3)\n",
        "print(s4)\n",
        "print(s5)"
      ],
      "execution_count": 0,
      "outputs": []
    },
    {
      "cell_type": "markdown",
      "metadata": {
        "colab_type": "text",
        "id": "W2Z9CRn83EKz"
      },
      "source": [
        "위의 코드에서 문자열 변수의 + 는 두 문자열을 합한다는 뜻입니다. 아래의 코드를 보시면 더 이해가 쉬우실 겁니다. \n",
        "\n",
        "#### 코드: 문자열 합치기 "
      ]
    },
    {
      "cell_type": "code",
      "metadata": {
        "id": "JdUkCp_e3reX",
        "colab_type": "code",
        "colab": {}
      },
      "source": [
        "s1, s2 = \"abc\", \"def\"\n",
        "s0 = s1 + s2 \n",
        "print(s0)\n",
        "s0 = s1 + \" \" + s2 \n",
        "print(s0)"
      ],
      "execution_count": 0,
      "outputs": []
    },
    {
      "cell_type": "markdown",
      "metadata": {
        "colab_type": "text",
        "id": "eb7GeL2qzvKB"
      },
      "source": [
        "## 9.2 문자열 개별문자 접근\n",
        "문자열은 실제 배열처럼 다룰 수 있다고 위에서 설명 드렸습니다.  그러기에 다음과 같은 코드도 성립합니다.  \n"
      ]
    },
    {
      "cell_type": "markdown",
      "metadata": {
        "colab_type": "text",
        "id": "lnu4KHED4FZR"
      },
      "source": [
        "#### 코드: 문자열 길이 구하기 "
      ]
    },
    {
      "cell_type": "code",
      "metadata": {
        "id": "MdGYo45T4L-z",
        "colab_type": "code",
        "colab": {}
      },
      "source": [
        "s1 = \"123\"\n",
        "print( len(s1) )"
      ],
      "execution_count": 0,
      "outputs": []
    },
    {
      "cell_type": "markdown",
      "metadata": {
        "colab_type": "text",
        "id": "0oolWLYq4GNp"
      },
      "source": [
        "위에서는 여러 문자로 이뤄진 문자열을 하나의 변수로 다루고 있지만 이것은 개별 글자의 배열이며 그러므로 각각의 글자단위의 처리가 가능합니다.  이제 이를 이용해 각각의 글자를 꺼내서 찍어보도록 하겠습니다. \n",
        "\n",
        "\n",
        "#### 코드: 문자열 한글자씩 찍기"
      ]
    },
    {
      "cell_type": "code",
      "metadata": {
        "id": "2IWKKMWD4g1t",
        "colab_type": "code",
        "colab": {}
      },
      "source": [
        "s = \"abcde\"\n",
        "for c in s : \n",
        "  print(c)"
      ],
      "execution_count": 0,
      "outputs": []
    },
    {
      "cell_type": "markdown",
      "metadata": {
        "colab_type": "text",
        "id": "pTaXOECO4GU-"
      },
      "source": [
        "#### 코드: 문자열 앞 3글자만 찍기"
      ]
    },
    {
      "cell_type": "code",
      "metadata": {
        "id": "QxFoUHxX5PJt",
        "colab_type": "code",
        "colab": {}
      },
      "source": [
        "for i in range(3):\n",
        "  print(s[i])"
      ],
      "execution_count": 0,
      "outputs": []
    },
    {
      "cell_type": "markdown",
      "metadata": {
        "colab_type": "text",
        "id": "6qg_t2844CQ0"
      },
      "source": [
        "    \n",
        "####<font color = 'red'> 연습 9.2.1 : 문자열 제일 뒤의 3글자만 찍기 \n",
        "다음과 같은 문자열이 있을때 제일 뒤의 세글자만 찍는 코드를 작성해보세요\n",
        "```\n",
        "s = 'abcdefg'\n",
        "```\n",
        "</font>  "
      ]
    },
    {
      "cell_type": "code",
      "metadata": {
        "colab_type": "code",
        "id": "RLq6eXFv4CQ7",
        "colab": {}
      },
      "source": [
        "s = 'abcdefg'\n",
        "#연습문제 9.2.1의 코드를 여기에 작성하세요\n",
        "\n"
      ],
      "execution_count": 0,
      "outputs": []
    },
    {
      "cell_type": "markdown",
      "metadata": {
        "colab_type": "text",
        "id": "sPAkqIxB4l4J"
      },
      "source": [
        "    \n",
        "####<font color = 'red'> 연습 9.2.2 : 중복문자열 만들기\n",
        "문자열 s1 글자가 다음과 같을때 s1의 글자를 두개씩 포함한 문자열 s2를 만들어 출력하세요\n",
        "```\n",
        "s1 = 'abc' -> s2 = 'aabbcc'\n",
        "```\n",
        "</font>  "
      ]
    },
    {
      "cell_type": "code",
      "metadata": {
        "colab_type": "code",
        "id": "L-usMkdN4l4T",
        "colab": {}
      },
      "source": [
        "s1 = 'abc'\n",
        "#연습문제 9.2.2의 코드를 여기에 작성하세요\n",
        "\n"
      ],
      "execution_count": 0,
      "outputs": []
    },
    {
      "cell_type": "markdown",
      "metadata": {
        "id": "-qi1YWUm8ziT",
        "colab_type": "text"
      },
      "source": [
        "## 9.3 다양한 문자열 처리\n",
        "\n",
        "이제 좀더 다양한 문자열 처리 예제들을 보도록 하죠. "
      ]
    },
    {
      "cell_type": "markdown",
      "metadata": {
        "colab_type": "text",
        "id": "4VSE9lAKzvX1"
      },
      "source": [
        "### 9.3.1 문자 치환\n",
        "\n",
        "우선 널리 사용되는 기법중에는 문자열 치환이라는 개념이 있습니다.  이는 특정 글자, 단어를 다른 문자열로 교체하는 것으로 예를 들어 \n",
        "\n",
        "```\n",
        "'this is string' -> 'this_is_string'\n",
        "```\n",
        "\n",
        "이렇게 빈칸을 '_' 글자로 교체하는 예를 한번 보도록 하죠. 이를 위해서는 글자의 값을 비교하는 구문을 이해하셔야 하는데요 예를 들어 어떤 문자열의 처음 값이 a 인 경우를 체크하려면 \n",
        "\n",
        "```\n",
        "s = 'abc'\n",
        "if s[0] == 'a' :\n",
        "  print(\"s begin with character 'a'\")\n",
        "```\n",
        "\n",
        "이런 식으로 작성해주시면 됩니다. 이해가 가셨다면 실제로 공백문자 ' ' 를 어래 밑줄 문자 '_' 로 바꾸는 코드를 보도록 하죠 "
      ]
    },
    {
      "cell_type": "markdown",
      "metadata": {
        "colab_type": "text",
        "id": "FSMg5Mon6VvC"
      },
      "source": [
        "#### 코드: 문자열 특정 문자를 바꾸기 "
      ]
    },
    {
      "cell_type": "code",
      "metadata": {
        "id": "o7zWPRE26mZl",
        "colab_type": "code",
        "colab": {}
      },
      "source": [
        "s = \"str is immutable array\"\n",
        "\n",
        "\n",
        "ns = \"\" # 새로운 문자열\n",
        "for c in s: # 문자열의 글자들을 카피하는 반복\n",
        "  if c == ' ' :      # 공백일 경우는 '_' 을 카피\n",
        "    ns = ns + '_'  \n",
        "  else :                # 아닌 경우는 원 글자를 카피\n",
        "    ns = ns + c\n",
        "s = ns \n",
        "\n",
        "print(s)"
      ],
      "execution_count": 0,
      "outputs": []
    },
    {
      "cell_type": "markdown",
      "metadata": {
        "id": "4B_y3IuW6s92",
        "colab_type": "text"
      },
      "source": [
        "결국 문자열도 배열의 일환으로 다룰 수 있다는 것을 아실 수 있을 겁니다. 그러면 다음의 연습문제들을 한번 보도록 하겠습니다. \n",
        "\n",
        "    \n",
        "####<font color = 'red'> 연습 9.3.1 : 단어단위로 줄을 바꿔서 출력 <br>\n",
        "특정 문자열이 있을때 그 안의 단어들이 각각 다른 라인에 찍히도록 해봅시다. \n",
        "</font> \n",
        "```\n",
        "'change lines by words'\n",
        "\n",
        "출력: \n",
        "\n",
        "change \n",
        "lines\n",
        "by \n",
        "words\n",
        "```\n",
        "\n",
        " "
      ]
    },
    {
      "cell_type": "code",
      "metadata": {
        "colab_type": "code",
        "id": "i3Mj-kpg8f6B",
        "colab": {}
      },
      "source": [
        "s = 'change lines by words'\n",
        "#연습문제 9.3.1의 코드를 여기에 작성하세요\n",
        "\n"
      ],
      "execution_count": 0,
      "outputs": []
    },
    {
      "cell_type": "markdown",
      "metadata": {
        "colab_type": "text",
        "id": "_7fO_rFu9NxO"
      },
      "source": [
        "<br>\n",
        "\n",
        "이번에는 문자열에 빈칸(공백문자 ' ') 가 여러개가 붙어서 들어갈 경우 이 문자를 하나로 합쳐서 출력해주는 코드를 한 번 생각해보세요\n",
        "    \n",
        "####<font color = 'red'> 연습 9.3.2 : 중복 빈칸 없애기 <br>\n",
        "특정 문자열이 있을때 그 안의 단어들이 각각 다른 라인에 찍히도록 해봅시다. \n",
        "</font> \n",
        "```\n",
        "'multiple   blank    is   useless'\n",
        "-> \n",
        "출력: \n",
        "'multiple blank is useless'\n",
        "```\n",
        "\n",
        " "
      ]
    },
    {
      "cell_type": "code",
      "metadata": {
        "colab_type": "code",
        "id": "VWntP8Ai9NxV",
        "colab": {}
      },
      "source": [
        "s = 'multiple   blank    is   useless'\n",
        "#연습문제 9.3.2의 코드를 여기에 작성하세요\n",
        "\n",
        "\n"
      ],
      "execution_count": 0,
      "outputs": []
    },
    {
      "cell_type": "markdown",
      "metadata": {
        "colab_type": "text",
        "id": "byJnR98FzveI"
      },
      "source": [
        "### 9.3.2 숫자 <-> 문자\n",
        "\n",
        "이번에는 문자열과 숫자의 차이를 한 번 보도록 하죠. 다음 두 코드는 같은 출력을 지닙니다. \n",
        "\n",
        "```\n",
        "a = 123 \n",
        "print(a)\n",
        "```\n",
        "```\n",
        "a = '123'\n",
        "print(a)\n",
        "```\n",
        "하지만 하나는 숫자이고 하나는 문자열이므로 다음 코드는 서로 다른 결과를 내죠\n",
        "\n",
        "```\n",
        "a,b = 1,2\n",
        "print(a+b) \n",
        "-> 3\n",
        "```\n",
        "```\n",
        "a,b = '1', '2'\n",
        "print( a+b )\n",
        "-> 12\n",
        "```\n",
        "\n",
        "아래쪽 a,b 는 둘다 문자열이므로 a+b 는 두 문자열을 합친다는 의미로서 '12' 가 된 것이죠. 그러므로 문자열 안에 있는 숫자 문자를 숫자로 변환하려면 다음과 같이 int() 를 사용해야 합니다. \n"
      ]
    },
    {
      "cell_type": "code",
      "metadata": {
        "id": "NLg5W3yqD2mj",
        "colab_type": "code",
        "colab": {}
      },
      "source": [
        "a,b = '11', '2'\n",
        "print( int(a) + int(b) )\n"
      ],
      "execution_count": 0,
      "outputs": []
    },
    {
      "cell_type": "markdown",
      "metadata": {
        "colab_type": "text",
        "id": "jRGpzIF7DEJ_"
      },
      "source": [
        "문자는 숫자와는 다르지만 그럼에도 문자끼리의 크기는 비교가 가능합니다.  "
      ]
    },
    {
      "cell_type": "code",
      "metadata": {
        "id": "uW089YxaGiKb",
        "colab_type": "code",
        "colab": {}
      },
      "source": [
        "a,b = '31','255'\n",
        "if a < b : \n",
        "  print(\"b is bigger\")"
      ],
      "execution_count": 0,
      "outputs": []
    },
    {
      "cell_type": "markdown",
      "metadata": {
        "id": "uzXeYB_8G0xz",
        "colab_type": "text"
      },
      "source": [
        "이는 두 글자의 코드값을 비교하기 때문입니다. 그러므로 '1' < 'a' 같은 비교도 가능하고 위의 예제에서 본 것처럼 두 문자열이 같은 가를 비교도 가능한 겁니다. \n",
        "\n",
        "그러므로 특정 글자가 숫자인지는 다음과 같은 코드로 체크가 가능합니다. \n",
        "\n",
        "```\n",
        "if c >= '0' and c <= '9' :\n",
        "```\n",
        "왜냐하면 0 ~ 9 까지 글자의 코드가 순차적으로 이뤄져있기 때문입니다. 그러므로 문자열 안의 숫자만을 줄력하고 싶은 경우 다음과 같은 코드를 사용합니다. \n",
        "\n",
        "\n",
        "#### 코드: 숫자만 출력\n"
      ]
    },
    {
      "cell_type": "code",
      "metadata": {
        "id": "j03X0dC4DE5b",
        "colab_type": "code",
        "colab": {}
      },
      "source": [
        "s = \"a1 b2 c3\"\n",
        "for c in s:\n",
        "  if c >= '0' and c <= '9': \n",
        "    print(c)"
      ],
      "execution_count": 0,
      "outputs": []
    },
    {
      "cell_type": "markdown",
      "metadata": {
        "colab_type": "text",
        "id": "9A3G832aDwYb"
      },
      "source": [
        "\n",
        "이번에는 문자열 안에 있는 모든 개별 숫자 글자를 더해주는 코드를 작성해보도록 하겠습니다.  예를 들어 \n",
        "\n",
        "```\n",
        "s = 'a12 b34'\n",
        "-> 1 + 2 + 3 + 4 = 10\n",
        "```\n",
        "\n",
        "이렇게 합산이 가능하기 위해선  '1', '2', '3, '4' 를 각각 숫자로 변환해 줘야 합니다.  이를 위해선 위에서 언급한 int()를 사용해야 하죠. 이제 개별 글자를 숫자 코드로 변환하는 프로그램을 보도록 하겠습니다. \n",
        "\n",
        "#### 코드: 개별 숫자를 합산 "
      ]
    },
    {
      "cell_type": "code",
      "metadata": {
        "id": "EyyDmNv0D3m7",
        "colab_type": "code",
        "colab": {}
      },
      "source": [
        "s = \"a4 b2 c3\"\n",
        "sum = 0\n",
        "for c in s:\n",
        "  if c >= '0' and c <= '9': \n",
        "    sum += int(c)\n",
        "print(sum)"
      ],
      "execution_count": 0,
      "outputs": []
    },
    {
      "cell_type": "markdown",
      "metadata": {
        "colab_type": "text",
        "id": "RCfUgfMSEf1V"
      },
      "source": [
        "\n",
        "만일 우리가 문자열에 있는 숫자를 하나 증가시켜 다시 저장하고 싶다면 어떻게 해야 할까요?  이럴땐 str() 이라는 기능을 사용해서 숫자를 문자로 바꿀 수 있습니다. \n",
        "\n",
        "\n",
        "#### 코드: 숫자에 하나를 더해서 저장 "
      ]
    },
    {
      "cell_type": "code",
      "metadata": {
        "id": "mgOzMG_mEngH",
        "colab_type": "code",
        "colab": {}
      },
      "source": [
        "s = \"a4 b2 c3\"\n",
        "ns = \"\"\n",
        "for c in s:\n",
        "  if c >= '0' and c <= '9': \n",
        "    ns += str(int(c) + 1)\n",
        "  else : \n",
        "    ns = ns + c\n",
        "print(ns)    "
      ],
      "execution_count": 0,
      "outputs": []
    },
    {
      "cell_type": "markdown",
      "metadata": {
        "colab_type": "text",
        "id": "dhl5o42KYFMG"
      },
      "source": [
        "<br>\n",
        "\n",
        "####<font color = 'red'> 연습 9.3.3 : 두자리 이상의 숫자 합산 <br>\n",
        "위에서 숫자를 한글자 단위로 합산하던 것을 여러 자리 숫자까지 합산해 주도록 작성해보세요\n",
        "</font>\n",
        "\n",
        "예:\n",
        "```\n",
        "43 27\n",
        "-> 70 \n",
        "\n",
        "32  5 100\n",
        "-> 137\n",
        "```\n",
        "\n",
        " "
      ]
    },
    {
      "cell_type": "code",
      "metadata": {
        "colab_type": "code",
        "id": "Ih-MABrIYFMK",
        "colab": {}
      },
      "source": [
        "s = '43 27'\n",
        "#연습문제 9.3.3 의 코드를 여기에 작성하세요\n"
      ],
      "execution_count": 0,
      "outputs": []
    },
    {
      "cell_type": "markdown",
      "metadata": {
        "colab_type": "text",
        "id": "uBCwFGBfnbZu"
      },
      "source": [
        "<br>\n",
        "\n",
        "### 참고: 간단한 덧셈뺄셈\n",
        "위에 연습문제를 푸셨다면 등장하는 정수들을 추출 하실 수 있게 되셨는데요. 이 경우 간단한 덧셈, 뺄셈의 계산을 다룬 문자열을 처리할 수 도 있습니다. \n",
        "\n",
        "예\n",
        "```\n",
        "3 + 4 + 12\n",
        "-> 19\n",
        "10 + 7 - 6 \n",
        "-> 11 \n",
        "```\n",
        "\n",
        "아래 코드는 복잡해 보일 지도모르지만 사실 위의 코드의 확장으로 덧셈 뺄셈 여부를 저장하는 op 라는 문자열 변수를 사용해 덧셈과 뺄셈을 구분해줍니다. \n",
        "\n",
        "코드 : 문자열의 덧셈 뺄셈 계산을 해주는 프로그램\n",
        "\n",
        "\n",
        " "
      ]
    },
    {
      "cell_type": "code",
      "metadata": {
        "colab_type": "code",
        "id": "DUImCWQRnbZx",
        "colab": {}
      },
      "source": [
        "s = '3 + 4 - 12 + 55'\n",
        "num,op = '',''\n",
        "ret = 0\n",
        "for c in s :\n",
        "  if c >= '0' and c <= '9':\n",
        "    num = num + c\n",
        "  else :\n",
        "    if num != '':\n",
        "      if op == '+' :\n",
        "        ret = ret + int(num)        \n",
        "      if op == '-' :\n",
        "        ret = ret - int(num)   \n",
        "      if op == '' :\n",
        "        ret = int(num)\n",
        "      num = ''           \n",
        "    if c == '+' or c == '-' :\n",
        "      op = c \n",
        "  #print(\"n:\",num, \"op:\",op, \"ret:\", ret)\n",
        "\n",
        "if num != '':\n",
        "  if op == '+' :\n",
        "    ret = ret + int(num)        \n",
        "  if op == '-' :\n",
        "    ret = ret - int(num)   \n",
        "  if op == '' :\n",
        "    ret = int(num)\n",
        "\n",
        "print(ret)\n",
        "\n",
        "\n",
        "\n",
        "\n"
      ],
      "execution_count": 0,
      "outputs": []
    },
    {
      "cell_type": "markdown",
      "metadata": {
        "colab_type": "text",
        "id": "prglNp_w9q0I"
      },
      "source": [
        "### 9.3.2 문자열과 슬라이스\n",
        "\n",
        "\n",
        "\n",
        "\n"
      ]
    },
    {
      "cell_type": "code",
      "metadata": {
        "id": "GebL--3lb2DO",
        "colab_type": "code",
        "colab": {}
      },
      "source": [
        ""
      ],
      "execution_count": 0,
      "outputs": []
    },
    {
      "cell_type": "markdown",
      "metadata": {
        "colab_type": "text",
        "id": "hYyP0CV0FPk1"
      },
      "source": [
        "#### 코드: 문자열 일부 추출"
      ]
    },
    {
      "cell_type": "code",
      "metadata": {
        "id": "r6UD_cmmFZsB",
        "colab_type": "code",
        "colab": {}
      },
      "source": [
        "s = \"abcdefg\"\n",
        "print(\"[0:3] :\", s[0:3])\n",
        "print(\"[:3]  :\", s[:3])\n",
        "print(\"[3:5] :\", s[3:5])\n",
        "print(\"[3:]  :\", s[3:])\n",
        "print(\"[0:-2]:\", s[0:-2])\n",
        "print(\"[-2:] :\", s[-2:])"
      ],
      "execution_count": 0,
      "outputs": []
    },
    {
      "cell_type": "markdown",
      "metadata": {
        "colab_type": "text",
        "id": "zffLxYl29qmt"
      },
      "source": [
        "### 9.3.3 문자열의 배열들\n",
        "\n",
        "\n",
        "\n",
        "\n"
      ]
    },
    {
      "cell_type": "markdown",
      "metadata": {
        "colab_type": "text",
        "id": "SSqcvbVhGy0w"
      },
      "source": [
        "#### 코드: 단어로 문자열 나누기 "
      ]
    },
    {
      "cell_type": "code",
      "metadata": {
        "id": "3C2gVMMVG3T5",
        "colab_type": "code",
        "colab": {}
      },
      "source": [
        "s = \"word split example\"\n",
        "arr = s.split()\n",
        "print(arr)"
      ],
      "execution_count": 0,
      "outputs": []
    },
    {
      "cell_type": "markdown",
      "metadata": {
        "colab_type": "text",
        "id": "yHlRyBPA-0ad"
      },
      "source": [
        "## 9.4 텍스트 파일과 문자열 \n"
      ]
    },
    {
      "cell_type": "markdown",
      "metadata": {
        "colab_type": "text",
        "id": "oQXiCruPMYyn"
      },
      "source": [
        "#### 코드: 문자열을 파일로 저장"
      ]
    },
    {
      "cell_type": "code",
      "metadata": {
        "id": "MNzgR_UKznSI",
        "colab_type": "code",
        "colab": {}
      },
      "source": [
        "f = open(\"save.txt\", \"w\")\n",
        "s = \"save file test\"\n",
        "f.write(s)\n",
        "f.close()"
      ],
      "execution_count": 0,
      "outputs": []
    },
    {
      "cell_type": "markdown",
      "metadata": {
        "colab_type": "text",
        "id": "hirHMz5DNLQ_"
      },
      "source": [
        "#### 코드: 파일을 읽어서 출력"
      ]
    },
    {
      "cell_type": "code",
      "metadata": {
        "id": "pUry44tgM5v-",
        "colab_type": "code",
        "colab": {}
      },
      "source": [
        "f = open(\"save.txt\", \"r\")\n",
        "s = f.read()\n",
        "print(s)\n",
        "f.close()"
      ],
      "execution_count": 0,
      "outputs": []
    },
    {
      "cell_type": "markdown",
      "metadata": {
        "colab_type": "text",
        "id": "FpYOKp_5NkwN"
      },
      "source": [
        "#### 코드: 파일을 라인단위로 읽어서 출력"
      ]
    },
    {
      "cell_type": "code",
      "metadata": {
        "id": "CX38c1hKNbde",
        "colab_type": "code",
        "colab": {}
      },
      "source": [
        "f = open(\"save.txt\", \"r\")\n",
        "\n",
        "while True:\n",
        "  s = f.readline()\n",
        "  if not s : \n",
        "    break\n",
        "  print(s)\n",
        "\n",
        "f.close()"
      ],
      "execution_count": 0,
      "outputs": []
    },
    {
      "cell_type": "code",
      "metadata": {
        "id": "-d6ZmJlBODsR",
        "colab_type": "code",
        "colab": {}
      },
      "source": [
        ""
      ],
      "execution_count": 0,
      "outputs": []
    }
  ]
}