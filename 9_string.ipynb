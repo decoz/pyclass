{
  "nbformat": 4,
  "nbformat_minor": 0,
  "metadata": {
    "colab": {
      "name": "9_string.ipynb",
      "provenance": [],
      "toc_visible": true,
      "authorship_tag": "ABX9TyOm/aqNzdIY6VS5qWM3txep",
      "include_colab_link": true
    },
    "kernelspec": {
      "name": "python3",
      "display_name": "Python 3"
    }
  },
  "cells": [
    {
      "cell_type": "markdown",
      "metadata": {
        "id": "view-in-github",
        "colab_type": "text"
      },
      "source": [
        "<a href=\"https://colab.research.google.com/github/decoz/pyclass/blob/master/9_string.ipynb\" target=\"_parent\"><img src=\"https://colab.research.google.com/assets/colab-badge.svg\" alt=\"Open In Colab\"/></a>"
      ]
    },
    {
      "cell_type": "markdown",
      "metadata": {
        "id": "_WCh05wozi-u",
        "colab_type": "text"
      },
      "source": [
        "# 9 문자열 "
      ]
    },
    {
      "cell_type": "markdown",
      "metadata": {
        "id": "ALO4IpYEzoqB",
        "colab_type": "text"
      },
      "source": [
        "## 9.1 문자열 변수\n"
      ]
    },
    {
      "cell_type": "markdown",
      "metadata": {
        "id": "p1KXdIYw2ybq",
        "colab_type": "text"
      },
      "source": [
        "#### 코드: 간단한 문자열 변수와 출력"
      ]
    },
    {
      "cell_type": "code",
      "metadata": {
        "id": "7uZT-pe4thx8",
        "colab_type": "code",
        "colab": {
          "base_uri": "https://localhost:8080/",
          "height": 89
        },
        "outputId": "273a56c9-3d1e-4264-8703-978de6c7c0e2"
      },
      "source": [
        "s0 = \"a\"\n",
        "s1 = 'txt'\n",
        "s2 = \"this is string\"\n",
        "s3 = \"line change \\n is possible \"\n",
        "\n",
        "print(s0, s1)\n",
        "print(s2)\n",
        "print(s3)"
      ],
      "execution_count": 3,
      "outputs": [
        {
          "output_type": "stream",
          "text": [
            "a txt\n",
            "this is string\n",
            "line change \n",
            " is possible \n"
          ],
          "name": "stdout"
        }
      ]
    },
    {
      "cell_type": "markdown",
      "metadata": {
        "colab_type": "text",
        "id": "W2Z9CRn83EKz"
      },
      "source": [
        "#### 코드: 문자열 합치기 "
      ]
    },
    {
      "cell_type": "code",
      "metadata": {
        "id": "JdUkCp_e3reX",
        "colab_type": "code",
        "colab": {
          "base_uri": "https://localhost:8080/",
          "height": 53
        },
        "outputId": "09261c58-5078-477b-c587-60f287f66c4d"
      },
      "source": [
        "s0 = s1 + s2 \n",
        "print(s0)\n",
        "s0 = s1 + \" \" + s2 \n",
        "print(s0)"
      ],
      "execution_count": 7,
      "outputs": [
        {
          "output_type": "stream",
          "text": [
            "txtthis is string\n",
            "txt this is string\n"
          ],
          "name": "stdout"
        }
      ]
    },
    {
      "cell_type": "markdown",
      "metadata": {
        "colab_type": "text",
        "id": "lnu4KHED4FZR"
      },
      "source": [
        "#### 코드: 문자열 길이 구하기 "
      ]
    },
    {
      "cell_type": "code",
      "metadata": {
        "id": "MdGYo45T4L-z",
        "colab_type": "code",
        "colab": {
          "base_uri": "https://localhost:8080/",
          "height": 35
        },
        "outputId": "c35a9484-5b36-4677-9a98-8328f6e1a853"
      },
      "source": [
        "print( len(s1) )"
      ],
      "execution_count": 10,
      "outputs": [
        {
          "output_type": "stream",
          "text": [
            "3\n"
          ],
          "name": "stdout"
        }
      ]
    },
    {
      "cell_type": "markdown",
      "metadata": {
        "colab_type": "text",
        "id": "eb7GeL2qzvKB"
      },
      "source": [
        "## 9.2 문자열 개별문자 접근\n",
        "\n"
      ]
    },
    {
      "cell_type": "markdown",
      "metadata": {
        "colab_type": "text",
        "id": "0oolWLYq4GNp"
      },
      "source": [
        "#### 코드: 문자열 한글자씩 찍기"
      ]
    },
    {
      "cell_type": "code",
      "metadata": {
        "id": "2IWKKMWD4g1t",
        "colab_type": "code",
        "colab": {
          "base_uri": "https://localhost:8080/",
          "height": 107
        },
        "outputId": "36bac0fa-8dec-46c1-b5de-7fd2d82e8501"
      },
      "source": [
        "s = \"abcde\"\n",
        "for c in s : \n",
        "  print(c)"
      ],
      "execution_count": 14,
      "outputs": [
        {
          "output_type": "stream",
          "text": [
            "a\n",
            "b\n",
            "c\n",
            "d\n",
            "e\n"
          ],
          "name": "stdout"
        }
      ]
    },
    {
      "cell_type": "markdown",
      "metadata": {
        "colab_type": "text",
        "id": "pTaXOECO4GU-"
      },
      "source": [
        "#### 코드: 문자열 앞 3글자만 찍기"
      ]
    },
    {
      "cell_type": "code",
      "metadata": {
        "id": "QxFoUHxX5PJt",
        "colab_type": "code",
        "colab": {
          "base_uri": "https://localhost:8080/",
          "height": 71
        },
        "outputId": "80a152e7-4ceb-47cb-c268-06431d7b9f1c"
      },
      "source": [
        "for i in range(3):\n",
        "  print(s[i])"
      ],
      "execution_count": 15,
      "outputs": [
        {
          "output_type": "stream",
          "text": [
            "a\n",
            "b\n",
            "c\n"
          ],
          "name": "stdout"
        }
      ]
    },
    {
      "cell_type": "markdown",
      "metadata": {
        "colab_type": "text",
        "id": "FSMg5Mon6VvC"
      },
      "source": [
        "#### 코드: 문자열 특정 문자를 바꾸기 "
      ]
    },
    {
      "cell_type": "code",
      "metadata": {
        "id": "o7zWPRE26mZl",
        "colab_type": "code",
        "colab": {
          "base_uri": "https://localhost:8080/",
          "height": 35
        },
        "outputId": "747fab8d-5acf-4ec6-d155-70a0e9e1f189"
      },
      "source": [
        "s = \"str is immutable array\"\n",
        "ns = \"\"\n",
        "for i in range(len(s)):\n",
        "  if s[i] == ' ' :\n",
        "    ns = ns + '_'\n",
        "  else :\n",
        "    ns = ns + s[i]\n",
        "s = ns \n",
        "print(s)"
      ],
      "execution_count": 19,
      "outputs": [
        {
          "output_type": "stream",
          "text": [
            "str_is_immutable_array\n"
          ],
          "name": "stdout"
        }
      ]
    },
    {
      "cell_type": "markdown",
      "metadata": {
        "colab_type": "text",
        "id": "4VSE9lAKzvX1"
      },
      "source": [
        "## 9.3 다양한 문자열 처리\n"
      ]
    },
    {
      "cell_type": "markdown",
      "metadata": {
        "colab_type": "text",
        "id": "byJnR98FzveI"
      },
      "source": [
        "### 9.3.1 숫자 <-> 문자\n",
        "\n",
        "\n",
        "\n",
        "\n"
      ]
    },
    {
      "cell_type": "markdown",
      "metadata": {
        "colab_type": "text",
        "id": "jRGpzIF7DEJ_"
      },
      "source": [
        "#### 코드: 숫자만 출력"
      ]
    },
    {
      "cell_type": "code",
      "metadata": {
        "id": "j03X0dC4DE5b",
        "colab_type": "code",
        "colab": {
          "base_uri": "https://localhost:8080/",
          "height": 71
        },
        "outputId": "927695b4-2ba9-49b8-84d3-ee7f53a90665"
      },
      "source": [
        "s = \"a1 b2 c3\"\n",
        "for c in s:\n",
        "  if c >= '0' and c <= '9': \n",
        "    print(c)"
      ],
      "execution_count": 20,
      "outputs": [
        {
          "output_type": "stream",
          "text": [
            "1\n",
            "2\n",
            "3\n"
          ],
          "name": "stdout"
        }
      ]
    },
    {
      "cell_type": "markdown",
      "metadata": {
        "colab_type": "text",
        "id": "9A3G832aDwYb"
      },
      "source": [
        "#### 코드: 숫자를 합산 "
      ]
    },
    {
      "cell_type": "code",
      "metadata": {
        "id": "EyyDmNv0D3m7",
        "colab_type": "code",
        "colab": {
          "base_uri": "https://localhost:8080/",
          "height": 35
        },
        "outputId": "00e51412-eed4-4ef8-99d6-99327f241dfa"
      },
      "source": [
        "s = \"a4 b2 c3\"\n",
        "sum = 0\n",
        "for c in s:\n",
        "  if c >= '0' and c <= '9': \n",
        "    sum += int(c)\n",
        "print(sum)"
      ],
      "execution_count": 23,
      "outputs": [
        {
          "output_type": "stream",
          "text": [
            "9\n"
          ],
          "name": "stdout"
        }
      ]
    },
    {
      "cell_type": "markdown",
      "metadata": {
        "colab_type": "text",
        "id": "RCfUgfMSEf1V"
      },
      "source": [
        "#### 코드: 숫자에 하나를 더해서 저장 "
      ]
    },
    {
      "cell_type": "code",
      "metadata": {
        "id": "mgOzMG_mEngH",
        "colab_type": "code",
        "colab": {
          "base_uri": "https://localhost:8080/",
          "height": 35
        },
        "outputId": "c358c697-0ded-4bae-9d1a-d5ebdce2548e"
      },
      "source": [
        "s = \"a4 b2 c3\"\n",
        "ns = \"\"\n",
        "for c in s:\n",
        "  if c >= '0' and c <= '9': \n",
        "    ns += str(int(c) + 1)\n",
        "print(ns)    "
      ],
      "execution_count": 25,
      "outputs": [
        {
          "output_type": "stream",
          "text": [
            "534\n"
          ],
          "name": "stdout"
        }
      ]
    },
    {
      "cell_type": "markdown",
      "metadata": {
        "colab_type": "text",
        "id": "prglNp_w9q0I"
      },
      "source": [
        "### 9.3.2 문자열과 슬라이스\n",
        "\n",
        "\n",
        "\n",
        "\n"
      ]
    },
    {
      "cell_type": "markdown",
      "metadata": {
        "colab_type": "text",
        "id": "hYyP0CV0FPk1"
      },
      "source": [
        "#### 코드: 문자열 일부 추출"
      ]
    },
    {
      "cell_type": "code",
      "metadata": {
        "id": "r6UD_cmmFZsB",
        "colab_type": "code",
        "colab": {
          "base_uri": "https://localhost:8080/",
          "height": 125
        },
        "outputId": "a169ded5-f507-4593-ed38-fdbe484dbb55"
      },
      "source": [
        "s = \"abcdefg\"\n",
        "print(\"[0:3] :\", s[0:3])\n",
        "print(\"[:3]  :\", s[:3])\n",
        "print(\"[3:5] :\", s[3:5])\n",
        "print(\"[3:]  :\", s[3:])\n",
        "print(\"[0:-2]:\", s[0:-2])\n",
        "print(\"[-2:] :\", s[-2:])"
      ],
      "execution_count": 31,
      "outputs": [
        {
          "output_type": "stream",
          "text": [
            "[0:3] : abc\n",
            "[:3]  : abc\n",
            "[3:5] : de\n",
            "[3:]  : defg\n",
            "[0:-2]: abcde\n",
            "[-2:] : fg\n"
          ],
          "name": "stdout"
        }
      ]
    },
    {
      "cell_type": "markdown",
      "metadata": {
        "colab_type": "text",
        "id": "zffLxYl29qmt"
      },
      "source": [
        "### 9.3.3 문자열의 배열들\n",
        "\n",
        "\n",
        "\n",
        "\n"
      ]
    },
    {
      "cell_type": "markdown",
      "metadata": {
        "colab_type": "text",
        "id": "SSqcvbVhGy0w"
      },
      "source": [
        "#### 코드: 단어로 문자열 나누기 "
      ]
    },
    {
      "cell_type": "code",
      "metadata": {
        "id": "3C2gVMMVG3T5",
        "colab_type": "code",
        "colab": {
          "base_uri": "https://localhost:8080/",
          "height": 35
        },
        "outputId": "bbdbcc97-e1e6-4d18-e577-bfb64ab2fbd5"
      },
      "source": [
        "s = \"word split example\"\n",
        "arr = s.split()\n",
        "print(arr)"
      ],
      "execution_count": 32,
      "outputs": [
        {
          "output_type": "stream",
          "text": [
            "['word', 'split', 'example']\n"
          ],
          "name": "stdout"
        }
      ]
    },
    {
      "cell_type": "markdown",
      "metadata": {
        "colab_type": "text",
        "id": "yHlRyBPA-0ad"
      },
      "source": [
        "## 9.4 텍스트 파일과 문자열 \n"
      ]
    },
    {
      "cell_type": "markdown",
      "metadata": {
        "colab_type": "text",
        "id": "oQXiCruPMYyn"
      },
      "source": [
        "#### 코드: 문자열을 파일로 저장"
      ]
    },
    {
      "cell_type": "code",
      "metadata": {
        "id": "MNzgR_UKznSI",
        "colab_type": "code",
        "colab": {}
      },
      "source": [
        "f = open(\"save.txt\", \"w\")\n",
        "s = \"save file test\"\n",
        "f.write(s)\n",
        "f.close()"
      ],
      "execution_count": 0,
      "outputs": []
    },
    {
      "cell_type": "markdown",
      "metadata": {
        "colab_type": "text",
        "id": "hirHMz5DNLQ_"
      },
      "source": [
        "#### 코드: 파일을 읽어서 출력"
      ]
    },
    {
      "cell_type": "code",
      "metadata": {
        "id": "pUry44tgM5v-",
        "colab_type": "code",
        "colab": {
          "base_uri": "https://localhost:8080/",
          "height": 35
        },
        "outputId": "0e365055-0474-41ee-afa4-d8ad60310a22"
      },
      "source": [
        "f = open(\"save.txt\", \"r\")\n",
        "s = f.read()\n",
        "print(s)\n",
        "f.close()"
      ],
      "execution_count": 37,
      "outputs": [
        {
          "output_type": "stream",
          "text": [
            "save file test\n"
          ],
          "name": "stdout"
        }
      ]
    },
    {
      "cell_type": "markdown",
      "metadata": {
        "colab_type": "text",
        "id": "FpYOKp_5NkwN"
      },
      "source": [
        "#### 코드: 파일을 라인단위로 읽어서 출력"
      ]
    },
    {
      "cell_type": "code",
      "metadata": {
        "id": "CX38c1hKNbde",
        "colab_type": "code",
        "colab": {
          "base_uri": "https://localhost:8080/",
          "height": 161
        },
        "outputId": "72fba436-a87f-4d65-b27a-5781439639f9"
      },
      "source": [
        "f = open(\"save.txt\", \"r\")\n",
        "\n",
        "while True:\n",
        "  s = f.readline()\n",
        "  if not s : \n",
        "    break\n",
        "  print(s)\n",
        "\n",
        "f.close()"
      ],
      "execution_count": 39,
      "outputs": [
        {
          "output_type": "stream",
          "text": [
            "save file test\n",
            "\n",
            "save file test\n",
            "\n",
            "save file test\n",
            "\n",
            "save file test\n",
            "\n"
          ],
          "name": "stdout"
        }
      ]
    },
    {
      "cell_type": "code",
      "metadata": {
        "id": "-d6ZmJlBODsR",
        "colab_type": "code",
        "colab": {}
      },
      "source": [
        ""
      ],
      "execution_count": 0,
      "outputs": []
    }
  ]
}