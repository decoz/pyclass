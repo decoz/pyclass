{
  "cells": [
    {
      "cell_type": "markdown",
      "id": "f1e7e077-5241-4800-894a-bce8f878d52b",
      "metadata": {
        "id": "f1e7e077-5241-4800-894a-bce8f878d52b"
      },
      "source": [
        "# 17 Flask\n",
        "\n",
        "**WWW 과 flask**\n",
        "\n",
        "현대 컴퓨터의 가장 큰 변화 중 하나를 꼽으라면 단연 www 환경의 발전입니다. 단순히 정보를 공유하고 나누는 목적에서 출발했으나 그 후 업무, 행정, 금융등의 다양한 서비스 처리까지 담당하다가 이제는 사실상 플랫폼으로 진화되며 많은 어플리케이션이 웹을 통해 개발되고 있습니다. 심지어는 여러분들이 현재 작업중이신 colab 이나 jupyter 환경처럼 프로그래밍마저 웹으로 가능해졌습니다. \n",
        "\n",
        "이제는 너무 많은 기술과 여러 체계가 혼합되어 웹기술 전체를 이해하는 개발자가 드물다고 할 정도로 방대해졌습니다. 하지만 아무리 많은 응용기법이 생겨도 컴퓨터의 기본이 연속적인 계산과 자료의 전송 및 저장에 기반하듯이 웹도 그 근본은 아주 단순합니다. 이번 챕터에서는 파이썬에서 간단하게 웹 서비스를 생성할 수 있는 flask 라이브러리를 이용해 아주 원초적인 웹의 원리르 맛보도록 해보겠습니다. \n"
      ]
    },
    {
      "cell_type": "markdown",
      "source": [
        "## 17.0 Colab 에서 웹 서버 만들기 \n",
        "\n",
        "colab은 가상머신이기 때문에 저희가 웹 서버를 작동시켜도 가상 컴퓨터가 존재하는 가상 네트워크상에서 서비스를 하게 됩니다.  이런 가상 네트워크로 접속을 하기 위해서 네트워크를 리다이렉트 하는 프록시를 구동할 수 있습니다. \n",
        "먼저 다음코드를 실행합니다. "
      ],
      "metadata": {
        "id": "aJ_nA-BAyqve"
      },
      "id": "aJ_nA-BAyqve"
    },
    {
      "cell_type": "code",
      "source": [
        "from google.colab.output import eval_js\n",
        "print(eval_js(\"google.colab.kernel.proxyPort(5000)\"))"
      ],
      "metadata": {
        "colab": {
          "base_uri": "https://localhost:8080/",
          "height": 35
        },
        "id": "vjIjKhhPyp6P",
        "outputId": "7dd05647-5a64-4532-bbe2-c48ec661216f"
      },
      "id": "vjIjKhhPyp6P",
      "execution_count": 5,
      "outputs": [
        {
          "output_type": "stream",
          "name": "stdout",
          "text": [
            "https://i3xokk8rj98-496ff2e9c6d22116-5000-colab.googleusercontent.com/\n"
          ]
        }
      ]
    },
    {
      "cell_type": "markdown",
      "source": [
        "그러면 위의 출력으로 url 이 하나 생성된걸 보실 수 있습니다.  가상 컴퓨터의 주소를 접속할 수 있게 해주는 터널역할을 하는 주소이며 저희가 코랩에서 웹서비스를 구동하면 저 주소로 접속이 가능합니다. "
      ],
      "metadata": {
        "id": "54l9YwHPzK3_"
      },
      "id": "54l9YwHPzK3_"
    },
    {
      "cell_type": "markdown",
      "id": "eb534efd-8465-4645-b833-d79620a5b583",
      "metadata": {
        "id": "eb534efd-8465-4645-b833-d79620a5b583"
      },
      "source": [
        "## 17.1  간단한 웹 서비스 \n",
        "\n",
        "이제 웹 서비스를 만들 기 위해서 먼저 flask 를 라이브러리를 가져와 보겠습니다. \n"
      ]
    },
    {
      "cell_type": "code",
      "execution_count": 3,
      "id": "94b2efce-8197-4dec-a382-4f7360e86e70",
      "metadata": {
        "collapsed": true,
        "jupyter": {
          "outputs_hidden": true
        },
        "id": "94b2efce-8197-4dec-a382-4f7360e86e70"
      },
      "outputs": [],
      "source": [
        "import flask "
      ]
    },
    {
      "cell_type": "markdown",
      "id": "5d7d7e33-3a34-4c75-9dd7-64e2a959620b",
      "metadata": {
        "id": "5d7d7e33-3a34-4c75-9dd7-64e2a959620b"
      },
      "source": [
        "\n",
        "### 17.1.1 기본 작동 방식\n",
        "\n",
        "다음은 가장 기초적인 웹 서비스를 생성하는 코드입니다. "
      ]
    },
    {
      "cell_type": "code",
      "execution_count": 6,
      "id": "e7617084-9a29-41d2-84db-23b6fff9f77d",
      "metadata": {
        "jupyter": {
          "outputs_hidden": true
        },
        "id": "e7617084-9a29-41d2-84db-23b6fff9f77d",
        "outputId": "9bc50abd-94d9-408d-8cbd-46df5c28f743",
        "colab": {
          "base_uri": "https://localhost:8080/"
        }
      },
      "outputs": [
        {
          "output_type": "stream",
          "name": "stdout",
          "text": [
            " * Serving Flask app \"__main__\" (lazy loading)\n",
            " * Environment: production\n",
            "\u001b[31m   WARNING: This is a development server. Do not use it in a production deployment.\u001b[0m\n",
            "\u001b[2m   Use a production WSGI server instead.\u001b[0m\n",
            " * Debug mode: off\n"
          ]
        },
        {
          "output_type": "stream",
          "name": "stderr",
          "text": [
            "INFO:werkzeug: * Running on http://127.0.0.1:5000/ (Press CTRL+C to quit)\n",
            "INFO:werkzeug:127.0.0.1 - - [29/Nov/2022 01:36:51] \"\u001b[37mGET / HTTP/1.1\u001b[0m\" 200 -\n",
            "INFO:werkzeug:127.0.0.1 - - [29/Nov/2022 01:36:51] \"\u001b[33mGET /favicon.ico HTTP/1.1\u001b[0m\" 404 -\n"
          ]
        }
      ],
      "source": [
        "app = flask.Flask(__name__) \n",
        "@app.route(\"/\")\n",
        "def srv():\n",
        "    return \"hi\"\n",
        "app.run() \n",
        "\n"
      ]
    },
    {
      "cell_type": "markdown",
      "id": "08974023-5828-4c76-a50f-26efe127f43e",
      "metadata": {
        "id": "08974023-5828-4c76-a50f-26efe127f43e"
      },
      "source": [
        "위의 코드를 실행하시면 출력에 링크가 보이실 겁니다. 그걸 클릭 하시면 hi 라는 글자가 출력된 웹 페이지가 보이실 겁니다. 위의 코드는 웹누군가가 접속하면 \"hi\" 라는 간단한 텍스트가 들어있는 웹 페이지를 전송해주는 웹서버를 생성합니다. \n",
        "\n",
        "```python\n",
        "app = flask.Flask(__name__) \n",
        "```\n",
        "\n",
        "이 부분은 웹 서비스를 해줄 수 있는 객체를 생성해 app이라는 이름으로 저장합니다.  __name__ 은 현재 모듈의 이름을 의미하는 시스템 제공변수인데 사실 다른 문자열로 대체해도 상관없습니다. \n",
        "\n",
        "\n",
        "```python\n",
        "@app.route(\"/\")\n",
        "def srv():\n",
        "    ...\n",
        "```\n",
        "\n",
        "위의 코드는 웹서버의 메인 핸들러를 srv() 함수로 정의합니다. ipywigets 에서 interact 에서도 비슷한 기법이 나온적이 있는데 @로 정의된 코드가 바로 아래 정의된 함수를 참조하여 작동하도록 해줍니다.  이때 route(\"/\") 는 경로 개념과 유사한데 웹 서비스의 최상위 폴더개념정도로 이해하시면 됩니다. \n",
        "\n",
        "```python\n",
        "app.run()\n",
        "```\n",
        "이 부분이 바로 웹서버의 작동을 시작하라는 명령입니다. 이는 여러분이 처음으로 접하는 '서비스' 개념의 함수이며 이 함수는 따로 정지버튼을 누르지 안는 이상 계속 작동하며 웹의 서비스를 처리합니다. \n",
        "\n",
        "정리해 보면 결국 웹서비스의 가장 기본 원리는 여러분이 웹 브라우저의 주소창에 입력한 주소의 컴퓨터에 정보를 요청하고 그 응답을 문자열로 받아 웹브라우저가 이를 표시해주며 이뤄집니다. \n",
        "\n",
        "\n",
        "\n",
        "여러분이 누르신 링크는 http://127.0.0.1:5000/ 이라는 주소로 되어있습니다. 여기서 127.0.0.1은 '내 컴퓨터' 를 의미하는 ip 주소입니다. 이는 localhost 이라고 바꿔 사용해도 됩니다. 그리고 :5000 은 5000번 포트라는 뜻입니다. 포트는 인터넷 통신의 채널을 의미합니다.  여러분들의 컴퓨터는 웹을 제외하고도 여러 프로그램이 빈번하게 인터넷 통신이 알게 모르게 이뤄지고 있습니다.  이런 여러 프로그램들이 각자 자기 정보를 헷갈리지 안기 위해서 정보를 보낼때 포트번호를 설정해서 서로 정보를 주고 받습니다. \n",
        "\n",
        "원래 일반적인 웹서비스는 80번 포트를 통해 서비스됩니다. naver.com 같은 주소에 따로 포트를 붙이지 안은건 기본이 80번으로 인식하기 때문입니다. 하지만 flask 는 메인 웹서비스가 아니라 다른 웹서비스의 보조로 사용되는 경우가 많아서 메인 포트로 사용되는 80번이 아니라 자주 사용되지 안는 5000번 포트로 서버를 점유합니다.  하지만 다음과 같은 옵션으로 메인 웹서비스인 80번을 사용할 수 있습니다. (단 다른 웹서버 프로그램이 작동하고 있지 안아야 합니다. ) \n",
        "\n",
        "이번에는 아래 코드를 실행 후 링크를 누르지 말고 바로 브라우저 새탭을 만드신 후 주소창에 http://localhost/ 라고 처보세요 \n",
        "\n"
      ]
    },
    {
      "cell_type": "code",
      "execution_count": null,
      "id": "d3723175-cac4-4114-ace1-1630ae57f276",
      "metadata": {
        "collapsed": true,
        "jupyter": {
          "outputs_hidden": true
        },
        "id": "d3723175-cac4-4114-ace1-1630ae57f276",
        "outputId": "42b65560-18f7-437f-e9e5-d546d3dc5f0f"
      },
      "outputs": [
        {
          "name": "stdout",
          "output_type": "stream",
          "text": [
            " * Serving Flask app '__main__' (lazy loading)\n",
            " * Environment: production\n",
            "\u001b[31m   WARNING: This is a development server. Do not use it in a production deployment.\u001b[0m\n",
            "\u001b[2m   Use a production WSGI server instead.\u001b[0m\n",
            " * Debug mode: off\n"
          ]
        },
        {
          "name": "stderr",
          "output_type": "stream",
          "text": [
            " * Running on http://127.0.0.1:80/ (Press CTRL+C to quit)\n",
            "127.0.0.1 - - [08/Jun/2022 23:16:27] \"GET / HTTP/1.1\" 200 -\n",
            "127.0.0.1 - - [08/Jun/2022 23:16:27] \"GET /favicon.ico HTTP/1.1\" 404 -\n",
            "127.0.0.1 - - [08/Jun/2022 23:17:56] \"GET / HTTP/1.1\" 200 -\n",
            "127.0.0.1 - - [08/Jun/2022 23:17:56] \"GET /favicon.ico HTTP/1.1\" 404 -\n"
          ]
        }
      ],
      "source": [
        "app.run(port = 80)"
      ]
    },
    {
      "cell_type": "markdown",
      "id": "f827df63-3a2a-40db-8263-7d401a8aca0b",
      "metadata": {
        "id": "f827df63-3a2a-40db-8263-7d401a8aca0b"
      },
      "source": [
        "\n",
        "하지만 역시 자기 컴퓨터에서만 작동하는 웹은 '서비스' 라고 하기엔 좀 부족한게 사실입니다. 이걸 외부에서도 접속 가능하게 만드려면 다음과 같이 host = '0.0.0.0' 이라는 옵션을 주면 됩니다. 먼저 다음 코드를 실행해보세요 \n"
      ]
    },
    {
      "cell_type": "code",
      "execution_count": null,
      "id": "a7441047-87bb-45ae-af2c-29c1b612c3e4",
      "metadata": {
        "collapsed": true,
        "jupyter": {
          "outputs_hidden": true
        },
        "id": "a7441047-87bb-45ae-af2c-29c1b612c3e4",
        "outputId": "aaabd536-4bb1-456c-9ca7-de86d5cf7e69"
      },
      "outputs": [
        {
          "name": "stdout",
          "output_type": "stream",
          "text": [
            " * Serving Flask app '__main__' (lazy loading)\n",
            " * Environment: production\n",
            "\u001b[31m   WARNING: This is a development server. Do not use it in a production deployment.\u001b[0m\n",
            "\u001b[2m   Use a production WSGI server instead.\u001b[0m\n",
            " * Debug mode: off\n"
          ]
        },
        {
          "name": "stderr",
          "output_type": "stream",
          "text": [
            " * Running on all addresses.\n",
            "   WARNING: This is a development server. Do not use it in a production deployment.\n",
            " * Running on http://125.129.55.172:80/ (Press CTRL+C to quit)\n",
            "125.129.55.172 - - [08/Jun/2022 23:32:30] \"GET / HTTP/1.1\" 200 -\n",
            "125.129.55.172 - - [08/Jun/2022 23:32:30] \"GET /favicon.ico HTTP/1.1\" 404 -\n"
          ]
        }
      ],
      "source": [
        "app.run(host = '0.0.0.0', port = 80)"
      ]
    },
    {
      "cell_type": "markdown",
      "id": "2d8a9d14-9599-48e9-bd19-d070f3348276",
      "metadata": {
        "id": "2d8a9d14-9599-48e9-bd19-d070f3348276"
      },
      "source": [
        "\n",
        "이번엔 주소에 127.0.0.1 대신 다른 주소가 보일 겁니다. 그 주소는 여러분들이 작업하시는 pc 의 ip 주소입니다. 그 주소를 보여주고 옆사람에게 그 주소를 입력하게 해보세요. 기왕이면 \"hi\" 대신 다른 메시지를 써서 인사를 해주는 것도 좋습니다.  \n"
      ]
    },
    {
      "cell_type": "markdown",
      "id": "c6683a5c-328f-4fc7-9eca-b1dcf504de82",
      "metadata": {
        "id": "c6683a5c-328f-4fc7-9eca-b1dcf504de82"
      },
      "source": [
        "<br>\n",
        "\n",
        "### 17.1.2 URL과 여러 정보 처리 \n",
        "\n",
        "위의 서비스는 하나의 정보만을 넘겨줍니다. 하지만 웹 사이트는 대단히 다양한 정보를 제공하죠. 비밀은 우리가 입력하는 주소창에 있습니다.  이 주소창에는 컴퓨터의 주소와 포트만이 아니라 그 후에 추가 경로를 입력할 수 있습니다. \n",
        "\n",
        "http://127.0.0.1/ \n",
        "\n",
        "는 그 컴퓨터의 가장 최상위 정보의 이름일 뿐이고 그 후에 추가로 /... 이렇게 경로명을 줄 수 있죠. 경우에 따라서는 경로뒤에 파일명을 기입하기도 합니다. 이렇게 주소와 경로를 합친 정보를 URL(Unique Resource Location) 이라고 합니다. 저희는 위에서 \"/\" 라는 하나의 url 만 처리를 하고 있지만 다음과 같이 둘 이상의 정보를 처리할 수도 있습니다. \n",
        "\n",
        "아래의 코드를 실행하고 이번에는 주소의 / 뒤에 welcome 을 입력해보세요"
      ]
    },
    {
      "cell_type": "code",
      "source": [
        "from google.colab.output import eval_js\n",
        "print(eval_js(\"google.colab.kernel.proxyPort(5000)\"))"
      ],
      "metadata": {
        "colab": {
          "base_uri": "https://localhost:8080/",
          "height": 35
        },
        "id": "UDzQ_lXa0KoU",
        "outputId": "cd287409-bd92-41ae-9fab-35b19b0f6a76"
      },
      "id": "UDzQ_lXa0KoU",
      "execution_count": 8,
      "outputs": [
        {
          "output_type": "stream",
          "name": "stdout",
          "text": [
            "https://i3xokk8rj98-496ff2e9c6d22116-5000-colab.googleusercontent.com/\n"
          ]
        }
      ]
    },
    {
      "cell_type": "code",
      "execution_count": 9,
      "id": "41f44477-c783-4ff7-bf58-9c156f0a302c",
      "metadata": {
        "collapsed": true,
        "jupyter": {
          "outputs_hidden": true
        },
        "id": "41f44477-c783-4ff7-bf58-9c156f0a302c",
        "outputId": "15d79256-4675-4ae4-917b-a6a9e161868c",
        "colab": {
          "base_uri": "https://localhost:8080/"
        }
      },
      "outputs": [
        {
          "output_type": "stream",
          "name": "stdout",
          "text": [
            " * Serving Flask app \"__main__\" (lazy loading)\n",
            " * Environment: production\n",
            "\u001b[31m   WARNING: This is a development server. Do not use it in a production deployment.\u001b[0m\n",
            "\u001b[2m   Use a production WSGI server instead.\u001b[0m\n",
            " * Debug mode: off\n"
          ]
        },
        {
          "output_type": "stream",
          "name": "stderr",
          "text": [
            "INFO:werkzeug: * Running on http://0.0.0.0:5000/ (Press CTRL+C to quit)\n",
            "INFO:werkzeug:127.0.0.1 - - [28/Nov/2022 15:18:53] \"\u001b[37mGET / HTTP/1.1\u001b[0m\" 200 -\n",
            "INFO:werkzeug:127.0.0.1 - - [28/Nov/2022 15:18:53] \"\u001b[33mGET /favicon.ico HTTP/1.1\u001b[0m\" 404 -\n",
            "INFO:werkzeug:127.0.0.1 - - [28/Nov/2022 15:19:00] \"\u001b[37mGET /welcome HTTP/1.1\u001b[0m\" 200 -\n",
            "INFO:werkzeug:127.0.0.1 - - [28/Nov/2022 15:19:01] \"\u001b[33mGET /favicon.ico HTTP/1.1\u001b[0m\" 404 -\n"
          ]
        }
      ],
      "source": [
        "app = flask.Flask(__name__) \n",
        "@app.route(\"/\")\n",
        "def srv():\n",
        "    return \"hi\"\n",
        "\n",
        "@app.route(\"/welcome\")\n",
        "def srv_welcome():\n",
        "    return \"welcome\"\n",
        "\n",
        "app.run(host = '0.0.0.0', port = 5000)\n"
      ]
    },
    {
      "cell_type": "markdown",
      "id": "e2fdc876-1e62-486b-bf82-7912a6a3e1e0",
      "metadata": {
        "id": "e2fdc876-1e62-486b-bf82-7912a6a3e1e0"
      },
      "source": [
        "\n",
        "경로에 따라서 다른 핸들러가 작동하시는 걸 보실 수 있습니다.  이렇게 하나의 웹사이트에서 여러 기능을 url 의 경로에 따라 개별적으로 제공이 가능합니다. \n",
        "\n"
      ]
    },
    {
      "cell_type": "markdown",
      "id": "9c0b5366-3c35-478f-a273-6a9cb016989e",
      "metadata": {
        "id": "9c0b5366-3c35-478f-a273-6a9cb016989e"
      },
      "source": [
        "### 17.1.3 HTTP\n",
        "\n",
        "URL은 대부분 http:// 나 https:// 로 시작합니다. 이것은 통신이 http라는 형식으로 서로 이뤄지길 희망한다는 것으로 이를 '프로토콜' 이라고 합니다.  특히 http 는 hypyter text transfer protocol 의 약자로 하이퍼 텍스트 통신 프로토콜이라는 뜻입니다. \n",
        "\n",
        "여기서 하이퍼 텍스트란 특정 정보의 요소를 클릭시에 다른 관련 정보로 연결할 수 있는 요컨데 '링크' 를 지원한다는 의미입니다.  웹에서 링크를 지원하는건 너무나 당연한 일이지만 그 당연한게 당시에는 혁명적인 일이었습니다. 왜냐하면 웹이 있기 전에는 하나의 문서에서 관련된 다른 정보를 얻으려면 다시 참조문서의 위치를 찾아 그 문서를 받아오는 방식을 사용했기 때문이죠. 하지만 인터넷과 웹의 출현으로 이제는 마우스 클릭만으로 우리는 수많은 정보의 바다를 찾아다니고 있습니다. 그리고 검색페이지는 그 정보의 바다의 입구역할을 하고 있죠.  \n",
        "\n",
        "아무리 웹의 활용범위가 방대해져도 웹의 그 근본은 '링크' 에 있음을 상기시켜주는 명칭이기도 합니다. \n",
        "\n",
        "그러면 이 링크가 어떻게 만들어지는지 간단히 보도록 하겠습니다. 위의 서버를 종료하고 다시 아래의 서버를 실행하신 후에 기본 페이지의 hi 글자를 클릭해보세요\n"
      ]
    },
    {
      "cell_type": "code",
      "execution_count": 4,
      "id": "9e1613c2-43df-4124-a62b-0b944924f0b8",
      "metadata": {
        "collapsed": true,
        "jupyter": {
          "outputs_hidden": true
        },
        "id": "9e1613c2-43df-4124-a62b-0b944924f0b8",
        "outputId": "8c6867c0-c93a-43d2-c139-6a7ba67a89f5",
        "colab": {
          "base_uri": "https://localhost:8080/"
        }
      },
      "outputs": [
        {
          "output_type": "stream",
          "name": "stdout",
          "text": [
            " * Serving Flask app \"__main__\" (lazy loading)\n",
            " * Environment: production\n",
            "\u001b[31m   WARNING: This is a development server. Do not use it in a production deployment.\u001b[0m\n",
            "\u001b[2m   Use a production WSGI server instead.\u001b[0m\n",
            " * Debug mode: off\n"
          ]
        },
        {
          "output_type": "stream",
          "name": "stderr",
          "text": [
            "INFO:werkzeug: * Running on http://0.0.0.0:80/ (Press CTRL+C to quit)\n"
          ]
        }
      ],
      "source": [
        "app = flask.Flask(__name__) \n",
        "@app.route(\"/\")\n",
        "def srv():    \n",
        "    return \"<a href = 'welcome' > hi </a>\"\n",
        "\n",
        "@app.route(\"/welcome\")\n",
        "def srv_welcome():\n",
        "    return \"welcome\"\n",
        "\n",
        "app.run(host = '0.0.0.0', port = 80)"
      ]
    },
    {
      "cell_type": "markdown",
      "id": "140038c7-10f1-4127-8bf3-8f3a480b5e71",
      "metadata": {
        "id": "140038c7-10f1-4127-8bf3-8f3a480b5e71"
      },
      "source": [
        "hi 를 클릭하면 페이지가 바뀌면서 /welcome  으로 연결된 것을 보실 수 있을겁니다. 이것은\n",
        "```html\n",
        "<a href = 'welcome'> \n",
        "```\n",
        "이 부분이 그냥 화면에 문자열로 찍히는 것이 아니라 hi 를 클릭시 /welcome 으로 이동하도록 링크를 설정했기 때문입니다.  이렇게 '< >' 형태로 쓰여진 부분은 그 문자열을 화면에 출력하는 것이 아니라 특수한 작용을 하는 것으로 인식합니다. 이를 '마크업' 또는 '태그' 라고 합니다.  \n",
        " \n"
      ]
    },
    {
      "cell_type": "markdown",
      "id": "ab0fada3-11c4-4636-ad9b-c8533bf61a86",
      "metadata": {
        "id": "ab0fada3-11c4-4636-ad9b-c8533bf61a86"
      },
      "source": [
        "### 17.1.4 HTML \n",
        "\n",
        "위에서는 직접 문자열을 리턴해줬습니다만 복잡한 내용과 태그의 조합을 문자열로 생성하는 것은 정말 괴로운 일입니다. 우리가 사용하는 url 중에서는 뒤가 .html 형식으로 끝나는 경우가 많습니다. 이는 .html 이라는 파일을 의미하며 이것은 Hyper Text Markup Language 의 약자입니다. 위에서 본 <a .. > 태그 외에도 html 은 수많은 태그와 다양한 문법을 지원합니다. 그리고 이러한 태그를 해석해서 상황에 맞게 처리를 해주는 것이 웹브라우저의 핵심 기능입니다.\n",
        "    \n",
        "이 html 기본 문법과 관련 문법만 제대로 익히는데도 몇년이 소요될 정도로 방대하며 이런 것들을 학습해서 웹 서비스를 제작하는 사람들을 '웹 개발자' 라고 부릅니다. 이 웹 개발자도 그 역할에 따라 다시 다양한 분야로 나뉩니다. 그래서 이를 여러분에게 학습시키기 보단 몇몇 예를 통해 태그의 역할을 체험해 보도록 하겠습니다. \n",
        "    "
      ]
    },
    {
      "cell_type": "code",
      "execution_count": 11,
      "id": "f0445ed7-3f16-4ce3-871c-6e41a4a8920f",
      "metadata": {
        "collapsed": true,
        "jupyter": {
          "outputs_hidden": true
        },
        "id": "f0445ed7-3f16-4ce3-871c-6e41a4a8920f",
        "outputId": "24cafd8c-e29d-447d-c353-70ac4cfabf95",
        "colab": {
          "base_uri": "https://localhost:8080/"
        }
      },
      "outputs": [
        {
          "output_type": "stream",
          "name": "stdout",
          "text": [
            " * Serving Flask app \"__main__\" (lazy loading)\n",
            " * Environment: production\n",
            "\u001b[31m   WARNING: This is a development server. Do not use it in a production deployment.\u001b[0m\n",
            "\u001b[2m   Use a production WSGI server instead.\u001b[0m\n",
            " * Debug mode: off\n"
          ]
        },
        {
          "output_type": "stream",
          "name": "stderr",
          "text": [
            "INFO:werkzeug: * Running on http://0.0.0.0:5000/ (Press CTRL+C to quit)\n",
            "INFO:werkzeug:127.0.0.1 - - [28/Nov/2022 15:19:56] \"\u001b[37mGET /welcome HTTP/1.1\u001b[0m\" 200 -\n",
            "INFO:werkzeug:127.0.0.1 - - [28/Nov/2022 15:19:57] \"\u001b[33mGET /favicon.ico HTTP/1.1\u001b[0m\" 404 -\n",
            "INFO:werkzeug:127.0.0.1 - - [28/Nov/2022 15:19:59] \"\u001b[37mGET / HTTP/1.1\u001b[0m\" 200 -\n",
            "INFO:werkzeug:127.0.0.1 - - [28/Nov/2022 15:20:00] \"\u001b[33mGET /favicon.ico HTTP/1.1\u001b[0m\" 404 -\n",
            "INFO:werkzeug:127.0.0.1 - - [28/Nov/2022 15:20:03] \"\u001b[37mGET /welcome HTTP/1.1\u001b[0m\" 200 -\n",
            "INFO:werkzeug:127.0.0.1 - - [28/Nov/2022 15:20:03] \"\u001b[33mGET /favicon.ico HTTP/1.1\u001b[0m\" 404 -\n"
          ]
        }
      ],
      "source": [
        "app = flask.Flask(__name__) \n",
        "@app.route(\"/\")\n",
        "def srv():    \n",
        "    html = \"\"\"\n",
        "    <h1> 웹 체험 페이지 </h1> \n",
        "    <img src = 'https://dimg.donga.com/ugc/CDB/WEEKLY/Article/5b/b3/22/85/5bb32285000ed2738de6.jpg'> \n",
        "    <br>\n",
        "    <p style = 'color:#A21; font-size:12pt'> \n",
        "        다음 링크를 클릭하세요 <br>\n",
        "        <a href = 'welcome' > Welcome </a>\n",
        "    </p>\n",
        "    \"\"\"\n",
        "    return html\n",
        "\n",
        "@app.route(\"/welcome\")\n",
        "def srv_welcome():\n",
        "    return \"welcome\"\n",
        "\n",
        "app.run(host = '0.0.0.0', port = 5000)"
      ]
    },
    {
      "cell_type": "markdown",
      "id": "ef6bb65f-2b3b-4ea6-b675-716758d858ff",
      "metadata": {
        "id": "ef6bb65f-2b3b-4ea6-b675-716758d858ff"
      },
      "source": [
        "\n",
        "이번에는 조금 페이지에 형식이 가마되신걸 보실 수 있습니다. \n",
        "\n",
        "```html\n",
        "<h1> 웹 체험 페이지 </h1> \n",
        "```\n",
        "h1 태그는 가장 큰 제목이란 뜻으로 h1 ~ h6 가 존재합니다. \n",
        "\n",
        "```html\n",
        "<img src = 'https://dimg.donga.com/ugc/CDB/WEEKLY/Article/5b/b3/22/85/5bb32285000ed2738de6.jpg'> \n",
        "```\n",
        "\n",
        "img 태그는 이미지를 삽입해서 보여주라는 뜻입니다. 이미지는 외부 링크로 되어있지만 자체 이미지를 서비스도 가능합니다. \n",
        "\n",
        "```html\n",
        "<br>\n",
        "```\n",
        "br 은 줄을 바꾸라는 뜻입니다. html 은 문자열의 줄바꿈이 적용되지 않기 때문에 단락 태그 p 를 사용하거나 줄바꿈태그인 br 을 사용하여 줄을 바꿔줍니다. \n",
        "\n",
        "```html\n",
        "<p style = 'color:#321'>     \n",
        "```\n",
        "p는 단락 태그입니다. style = 옵션은 위젯의 layout 처럼 보여주는 형식을 지정하는 것으로 글꼴의 칼라와 크기를 조금 변형했습니다. "
      ]
    },
    {
      "cell_type": "markdown",
      "id": "bbacf659-916a-4fc3-9cac-11ddff12102a",
      "metadata": {
        "id": "bbacf659-916a-4fc3-9cac-11ddff12102a"
      },
      "source": [
        "### 17.1.5 파일 출력\n",
        "\n",
        "html 문법은 문자열 형식으로 이뤄져있습니다.  위에서는 직접 문자열을 생성해 전송했습니다만 현대 웹페이지처럼 복잡한 내용을 문자열로 생성하는 것은 매우 힘든 일입니다. 그래서 일반적인 웹 서비스는 이를 .html 파일로 저장하고 이를 전송하는 기능을 제공합니다. \n",
        "\n",
        "flask 에서도 이와 유사하게 html파일을 서비스하도록 할 수 있습니다. 물론 open 과 read 로 파일을 열고 읽어들여서 리턴할 수도 있습니다만 flask에서도는 더 간단한 함수를 지원합니다. 먼저 위의 문자열의 텍스트를 1.html 로 저장 후에 다음 코드를 실행해보도록 하겠습니다. \n"
      ]
    },
    {
      "cell_type": "code",
      "execution_count": null,
      "id": "bc1612e6-c69a-42a0-a101-4a30cfb2caff",
      "metadata": {
        "collapsed": true,
        "jupyter": {
          "outputs_hidden": true
        },
        "id": "bc1612e6-c69a-42a0-a101-4a30cfb2caff",
        "outputId": "4bc8abe3-0fd3-4e94-9951-e5eab1c9f387"
      },
      "outputs": [
        {
          "name": "stdout",
          "output_type": "stream",
          "text": [
            " * Serving Flask app '__main__' (lazy loading)\n",
            " * Environment: production\n",
            "\u001b[31m   WARNING: This is a development server. Do not use it in a production deployment.\u001b[0m\n",
            "\u001b[2m   Use a production WSGI server instead.\u001b[0m\n",
            " * Debug mode: off\n"
          ]
        },
        {
          "name": "stderr",
          "output_type": "stream",
          "text": [
            " * Running on all addresses.\n",
            "   WARNING: This is a development server. Do not use it in a production deployment.\n",
            " * Running on http://125.129.55.172:80/ (Press CTRL+C to quit)\n",
            "125.129.55.172 - - [09/Jun/2022 01:11:55] \"GET / HTTP/1.1\" 200 -\n"
          ]
        }
      ],
      "source": [
        "app = flask.Flask(__name__) \n",
        "@app.route(\"/\")\n",
        "def srv():       \n",
        "    return flask.send_file(\"1.html\")\n",
        "\n",
        "@app.route(\"/welcome\")\n",
        "def srv_welcome():\n",
        "    return \"welcome\"\n",
        "\n",
        "app.run(host = '0.0.0.0', port = 80)"
      ]
    },
    {
      "cell_type": "markdown",
      "id": "47b9829a-465c-4ec6-a8a8-14de9d7417b5",
      "metadata": {
        "id": "47b9829a-465c-4ec6-a8a8-14de9d7417b5"
      },
      "source": [
        "\n",
        "위에서는 특정 파일을 읽어서 보여주는 함수를 핸들러로 사용했습니다만 일반적인 웹 서버에서는 http://127.0.0.1/1.html   이렇게 쓰면 알아서 최상위 폴더의 1.html 파일을 읽어서 전송을 해줍니다. 이는 따로 route 설정 없이도 웹 페이지 폴더에 다양한 파일로 정보를 저장해서 서비스 하므로 방대한 웹서비스에 적합합니다. 그에 비해 flask는 route 경로에 지정된 함수가 실행하는 방식이므로 아무래도 이런 분야엔 좀 부족합니다. 대신  파이썬 프로그램과 연결해 출력을 웹페이지에 특수한 기능을 제공할 수 있다는 장점이 있습니다. \n",
        "\n",
        "하지만 경우에 따라서는 필요한 경우는 충분히 이런 기능을 제공할 수도 있습니다. \n",
        "\n",
        "```python\n",
        "@app.route(\"/file/<fname>\") \n",
        "def srv_file(fname):\n",
        "    ....\n",
        "```\n",
        "\n",
        "이렇게 설정을 해주면 /file/1.html 같은 URL에 대해서 1.html 이 fname 이라는 변수로 분리되어 함수에 전달됩니다. \n",
        "\n"
      ]
    },
    {
      "cell_type": "code",
      "execution_count": null,
      "id": "65e08c71-5efc-4f3a-bdf6-9154bcee620f",
      "metadata": {
        "collapsed": true,
        "jupyter": {
          "outputs_hidden": true
        },
        "id": "65e08c71-5efc-4f3a-bdf6-9154bcee620f",
        "outputId": "fa23d94a-93b5-4821-ce41-dd4d9338b52a"
      },
      "outputs": [
        {
          "name": "stdout",
          "output_type": "stream",
          "text": [
            " * Serving Flask app '__main__' (lazy loading)\n",
            " * Environment: production\n",
            "\u001b[31m   WARNING: This is a development server. Do not use it in a production deployment.\u001b[0m\n",
            "\u001b[2m   Use a production WSGI server instead.\u001b[0m\n",
            " * Debug mode: off\n"
          ]
        },
        {
          "name": "stderr",
          "output_type": "stream",
          "text": [
            " * Running on all addresses.\n",
            "   WARNING: This is a development server. Do not use it in a production deployment.\n",
            " * Running on http://125.129.55.172:80/ (Press CTRL+C to quit)\n",
            "125.129.55.172 - - [09/Jun/2022 01:21:01] \"GET /naver.com HTTP/1.1\" 404 -\n",
            "125.129.55.172 - - [09/Jun/2022 01:21:08] \"GET / HTTP/1.1\" 304 -\n",
            "125.129.55.172 - - [09/Jun/2022 01:21:26] \"GET /file/1.html HTTP/1.1\" 200 -\n",
            "125.129.55.172 - - [09/Jun/2022 01:21:55] \"GET /file/test.py HTTP/1.1\" 200 -\n",
            "125.129.55.172 - - [09/Jun/2022 01:22:14] \"GET /file/flask_test.ipynb HTTP/1.1\" 200 -\n",
            "125.129.55.172 - - [09/Jun/2022 01:23:58] \"GET /file/noimg.png HTTP/1.1\" 200 -\n"
          ]
        }
      ],
      "source": [
        "@app.route(\"/file/<fname>\") \n",
        "def srv_file(fname):    \n",
        "    return flask.send_file(fname)\n",
        "\n",
        "app.run(host = '0.0.0.0', port = 80)"
      ]
    },
    {
      "cell_type": "markdown",
      "id": "89256810-6df6-44ae-b7f8-b30f2e1c1a64",
      "metadata": {
        "id": "89256810-6df6-44ae-b7f8-b30f2e1c1a64"
      },
      "source": [
        "<br><br>\n",
        "\n",
        "## 17.2 액티브 페이지\n",
        "\n",
        "위에서 웹서버가 정보를 전송하는 기본적인 방식과 이것을 브라우저가 어떻게 처리하는가의 간단한 예를 보았습니다. 하지만 위의 방식만으로 현대 웹 페이지의 복잡한 기능을 이해하기엔 부족합니다.  특히 html 파일로 저장된 정보가 전송되는 방식은 그 파일 내용을 매번 고치지 안는 이상 모든 이가 똑같은 내용을 보게 됩니다. 더군다나 이 경우 사용자별로 다른 내용을 출력하는 현대의 웹페이지는 구현이 불가능합니다.  \n",
        "\n",
        "이를 극복하기 위해서 등장한 것이 스크립트 입니다. 이는 현재 여러분들이 사용하고 계신 flask와 매우 유사합니다. flask 는 프로그램이 직접 문자열을 만들어 출력하기 때문에 동적으로 변하는 페이지를 서비스할 수 있습니다. \n"
      ]
    },
    {
      "cell_type": "markdown",
      "id": "a0da991e-aa64-40c1-ab76-9bc2cb638069",
      "metadata": {
        "id": "a0da991e-aa64-40c1-ab76-9bc2cb638069"
      },
      "source": [
        "### 17.2.1 간단한 액티브 페이지\n",
        "\n",
        "이를 위해 가장 간단한 액티브 페이지로 방문자 카운트를 출력하는 페이지를 구성해보겠습니다. 아래 페이지는 여러분들이 새로고침을 할때마다 표시되는 숫자가 늘어납니다. \n",
        "\n"
      ]
    },
    {
      "cell_type": "code",
      "execution_count": null,
      "id": "32b9c1af-d240-4d8f-a1ae-728ec7216433",
      "metadata": {
        "collapsed": true,
        "jupyter": {
          "outputs_hidden": true
        },
        "id": "32b9c1af-d240-4d8f-a1ae-728ec7216433",
        "outputId": "652417bf-fe12-4dfb-f231-117c27afbb45"
      },
      "outputs": [
        {
          "name": "stdout",
          "output_type": "stream",
          "text": [
            " * Serving Flask app '__main__' (lazy loading)\n",
            " * Environment: production\n",
            "\u001b[31m   WARNING: This is a development server. Do not use it in a production deployment.\u001b[0m\n",
            "\u001b[2m   Use a production WSGI server instead.\u001b[0m\n",
            " * Debug mode: off\n"
          ]
        },
        {
          "name": "stderr",
          "output_type": "stream",
          "text": [
            " * Running on all addresses.\n",
            "   WARNING: This is a development server. Do not use it in a production deployment.\n",
            " * Running on http://125.129.55.172:80/ (Press CTRL+C to quit)\n",
            "125.129.55.172 - - [09/Jun/2022 01:44:08] \"GET / HTTP/1.1\" 200 -\n"
          ]
        }
      ],
      "source": [
        "app = flask.Flask(__name__) \n",
        "\n",
        "visit_cnt = 0 \n",
        "@app.route(\"/\")\n",
        "def srv():    \n",
        "    global visit_cnt \n",
        "    visit_cnt += 1    \n",
        "    return \"당신은 \" + str(visit_cnt) + \"번째 방문자입니다.\"\n",
        "\n",
        "app.run(host = '0.0.0.0', port = 80)"
      ]
    },
    {
      "cell_type": "markdown",
      "id": "22f13ebd-8999-4315-83a5-ae245bc317c3",
      "metadata": {
        "id": "22f13ebd-8999-4315-83a5-ae245bc317c3"
      },
      "source": [
        "\n",
        "위의 페이지를 통해 여러분들은 접속할때마다 srv() 함수가 실행되며 visit_cnt 를 하나씩 증가시키며 이를 페이지 출력에 반영하는 것을 보실 수 있을겁니다. 현대 웹 서비스는 내부적으로 어떤 방식이든 페이지를 생성시 변수나 출력 내용등을 프로그램으로 변화시킬 수 있는 스크립트 언어를 지원합니다. \n",
        "\n",
        "대부분은 html 문법과 이런 스크립트가 섞여서 작동하게 되는데 html은 보여주는 형식을 규정하고 거기에 들어갈 변수나 문자열등은 스크립트 언어가 이를 생성해줍니다. 이런 스크립트를 '서버 스크립트' 라고 합니다. 다만 위에서는 그냥 프로그램으로 모든 내용이 작성되었기 때문에 일반적인 서버스크립트와는 조금 다릅니다\n",
        "\n"
      ]
    },
    {
      "cell_type": "markdown",
      "id": "96cffe8a-c77a-4d98-90fe-d0fd97dcd916",
      "metadata": {
        "id": "96cffe8a-c77a-4d98-90fe-d0fd97dcd916"
      },
      "source": [
        "### 17.2.2 템플릿\n",
        "\n",
        "html과 프로그램의 내용이 혼합되는 한 방법으로 flask에서는 템플릿이라는 방식을 지원합니다. \n",
        "\n",
        "```python\n",
        "flask.render_template([파일명], [변수명] = [값]) \n",
        "```\n",
        "\n",
        "이는 send_file 과 유사하지만 내용중에 {{변수명}} 로 쓰여진 부분은 파이썬의 변수값으로 바꿔서 전송합니다. 단 위의 기능은 send_file 과 다르게 tempaltes 라는 하위 폴더를 자동으로 검색해서 파일을 읽습니다. \n",
        "\n",
        "그럼 위의 방문자 카운트를 위의 기능을 이용해서 만들어보겠습니다. 먼저 다음과 같은 내용을 담은 파일 visit.tpl 을 생성해 templates 라는 하위폴더에 넣습니다. \n",
        "\n",
        "\n",
        ">templates/visit.tpl\n",
        ">```html\n",
        "><img src = 'https://thumbs.dreamstime.com/z/fond-bienvenu-avec-les-confettis-color%C3%A9s-91321360.jpg'>\n",
        "><h2> 안녕하세요 당신은 {{visit_cnt}}번째 방문자입니다.  </h2>\n",
        ">```\n",
        "\n",
        "그리고 다음 코드를 실행해봅니다. "
      ]
    },
    {
      "cell_type": "code",
      "execution_count": null,
      "id": "a93be852-da02-4ed1-9b85-dd76a9657318",
      "metadata": {
        "collapsed": true,
        "jupyter": {
          "outputs_hidden": true
        },
        "id": "a93be852-da02-4ed1-9b85-dd76a9657318",
        "outputId": "55338514-733d-4f6d-fd94-b9179a71eef0"
      },
      "outputs": [
        {
          "name": "stdout",
          "output_type": "stream",
          "text": [
            " * Serving Flask app '__main__' (lazy loading)\n",
            " * Environment: production\n",
            "\u001b[31m   WARNING: This is a development server. Do not use it in a production deployment.\u001b[0m\n",
            "\u001b[2m   Use a production WSGI server instead.\u001b[0m\n",
            " * Debug mode: off\n"
          ]
        },
        {
          "name": "stderr",
          "output_type": "stream",
          "text": [
            " * Running on all addresses.\n",
            "   WARNING: This is a development server. Do not use it in a production deployment.\n",
            " * Running on http://125.129.55.172:80/ (Press CTRL+C to quit)\n",
            "125.129.55.172 - - [09/Jun/2022 02:11:48] \"GET / HTTP/1.1\" 200 -\n",
            "125.129.55.172 - - [09/Jun/2022 02:11:52] \"GET / HTTP/1.1\" 200 -\n",
            "125.129.55.172 - - [09/Jun/2022 02:11:53] \"GET / HTTP/1.1\" 200 -\n",
            "125.129.55.172 - - [09/Jun/2022 02:11:54] \"GET / HTTP/1.1\" 200 -\n",
            "125.129.55.172 - - [09/Jun/2022 02:11:54] \"GET / HTTP/1.1\" 200 -\n",
            "125.129.55.172 - - [09/Jun/2022 02:11:54] \"GET / HTTP/1.1\" 200 -\n",
            "125.129.55.172 - - [09/Jun/2022 02:11:55] \"GET / HTTP/1.1\" 200 -\n"
          ]
        }
      ],
      "source": [
        "app = flask.Flask(__name__) \n",
        "\n",
        "visit_cnt = 0 \n",
        "@app.route(\"/\")\n",
        "def srv():    \n",
        "    global visit_cnt \n",
        "    visit_cnt += 1    \n",
        "    return flask.render_template('visit.tpl', visit_cnt = visit_cnt)\n",
        "\n",
        "app.run(host = '0.0.0.0', port = 80)"
      ]
    },
    {
      "cell_type": "markdown",
      "id": "50802021-8138-4360-bcbb-6f6ec845d0b7",
      "metadata": {
        "id": "50802021-8138-4360-bcbb-6f6ec845d0b7"
      },
      "source": [
        "이제 html 문법 사이에 {{}} 부분이 값으로 바뀐 걸 볼 수 있습니다. 이렇게 대부분의 서버스크립트는 html과 코드가섞여서 작동하도록 지원합니다. flask의 경우는 값만 지원하지만 그 값이 파이썬에 의해 생성이 되기때문에 어느정도 서버 스크립트의 효과도 지닙니다. \n"
      ]
    },
    {
      "cell_type": "markdown",
      "id": "7b247e95-8ab9-4e40-aaad-9b6b27dac928",
      "metadata": {
        "id": "7b247e95-8ab9-4e40-aaad-9b6b27dac928"
      },
      "source": [
        "\n",
        "### 17.2.3 자바 스크립트와 다이나믹 웹\n",
        "\n",
        "페이지를 동적으로 구성해서 보여줌으로서 다양한 기능이 가능해졌지만 일단 로딩된 페이지는 다른 링크로 이동하여 새로운 페이지를 전송받지 안으면 페이지의 화면은 고정된 형식으로 표시됩니다.  이런 정적인 페이지를 개선하기 위해서 웹 브라우저에서 실행되는 스크립트가 개발됩니다.  헤이지를 전송하기 전에 페이지를 생성하는 과정에서 작동하는 스크립트를 서버스크립트라고 하며 이와 달리 이미 전송된 페이지에 삽입되어 브라우저에서 작동하는 스크립트를 클라이언트 스크립트라고 합니다. \n",
        "\n",
        "어쨋든 최종적으로 html 문법의 텍스트만 생성하면 되는 자유도가 있기에 여러 개발자에 의해 다양 서버스크립트가 개발된 것에 비해 이 브라우저상에서 작동하는 스크립트는 모든 웹브라우저가 이를 지원해야 하므로 그 수가 극히 적었습니다만 현대에는 자바 스크립트로 통일 되었습니다. \n",
        "\n",
        "이는 이미 로딩된 페이지 상에서 사용자의 액션에 반응해 페이지의 내용을 고칠 수 있는 기술로 여러분들이 지난 챕터에서 사용하신 ipywidgets 과 작동방식이 유사합니다.   이번에는 다음 페이지를 한번 보도록 하죠 "
      ]
    },
    {
      "cell_type": "code",
      "execution_count": null,
      "id": "3e5c6654-29a5-4155-a3a7-b011d86caee6",
      "metadata": {
        "id": "3e5c6654-29a5-4155-a3a7-b011d86caee6",
        "outputId": "813233fe-ba4c-4799-d24e-b838996f95ca"
      },
      "outputs": [
        {
          "name": "stdout",
          "output_type": "stream",
          "text": [
            " * Serving Flask app '__main__' (lazy loading)\n",
            " * Environment: production\n",
            "\u001b[31m   WARNING: This is a development server. Do not use it in a production deployment.\u001b[0m\n",
            "\u001b[2m   Use a production WSGI server instead.\u001b[0m\n",
            " * Debug mode: off\n"
          ]
        },
        {
          "name": "stderr",
          "output_type": "stream",
          "text": [
            " * Running on all addresses.\n",
            "   WARNING: This is a development server. Do not use it in a production deployment.\n",
            " * Running on http://125.129.55.172:80/ (Press CTRL+C to quit)\n",
            "125.129.55.172 - - [09/Jun/2022 03:09:47] \"GET / HTTP/1.1\" 200 -\n"
          ]
        }
      ],
      "source": [
        "app = flask.Flask(__name__) \n",
        "\n",
        "@app.route(\"/\")\n",
        "def srv():    \n",
        "    return \"<button onclick = 'alert()'> press </button>\"\n",
        "\n",
        "app.run(host = '0.0.0.0', port = 80)"
      ]
    },
    {
      "cell_type": "markdown",
      "id": "a1e3b88d-5671-453a-b3f1-03bc1270aabf",
      "metadata": {
        "id": "a1e3b88d-5671-453a-b3f1-03bc1270aabf"
      },
      "source": [
        "\n",
        "페이지에 들어가 버튼을 누르면 빈 경고창이 출력되는 것을 볼 수 있습니다. \n",
        "```html \n",
        "<button onclick = 'alert()'> press </button>\n",
        "```\n",
        "button 버튼을 생성하는 태그입니다. onlick 은 해당 버튼을 눌렀을때 작동될 스크립트를 설정합니다.  위에서는 기본적으로 제공되는 가장 간단한 함수인 경고창 함수 alert 이 호출되었습니다.   \n",
        "\n",
        "이는 새로운 페이지의 로딩없이 사용자의 클릭에 의해 웹 브라우저에서 실행된 스크립트로 자바스크립트라는 문법을 따릅니다. 이는 초기에는 웹상에서 드롭다운 메뉴를 지원하던가 마우스 이동에 의해 웹페이지의 요소들의 색이 바뀐다던가 간단한 기능을 위해 사용되었습니다만 점점 그 기능을 늘려가 이제는 웹 브라우저상에서도 웬만한 어플리케이션을 작동시킬 수 있는 성능까지 올라오게 되었습니다. \n",
        "\n",
        "이번에는 조금 더 복잡한 내용을 보겠습니다. \n",
        "\n",
        "\n",
        "\n",
        "\n"
      ]
    },
    {
      "cell_type": "code",
      "execution_count": null,
      "id": "019ed173-7d7e-4c05-a84d-a4c5e84ba807",
      "metadata": {
        "id": "019ed173-7d7e-4c05-a84d-a4c5e84ba807",
        "outputId": "c6e13de5-11dc-4067-fad7-fee545d8844c"
      },
      "outputs": [
        {
          "name": "stdout",
          "output_type": "stream",
          "text": [
            " * Serving Flask app '__main__' (lazy loading)\n",
            " * Environment: production\n",
            "\u001b[31m   WARNING: This is a development server. Do not use it in a production deployment.\u001b[0m\n",
            "\u001b[2m   Use a production WSGI server instead.\u001b[0m\n",
            " * Debug mode: off\n"
          ]
        },
        {
          "name": "stderr",
          "output_type": "stream",
          "text": [
            " * Running on all addresses.\n",
            "   WARNING: This is a development server. Do not use it in a production deployment.\n",
            " * Running on http://125.129.55.172:80/ (Press CTRL+C to quit)\n",
            "125.129.55.172 - - [09/Jun/2022 03:23:50] \"GET / HTTP/1.1\" 200 -\n"
          ]
        }
      ],
      "source": [
        "app = flask.Flask(__name__) \n",
        "\n",
        "@app.route(\"/\")\n",
        "def srv():    \n",
        "    html = \"\"\"\n",
        "        <p id = 'cnt_txt'> 0 </p>\n",
        "        <button onclick = 'inc_cnt()'> + </button>\n",
        "        \n",
        "        <script>\n",
        "        cnt = 0 \n",
        "        function inc_cnt(e){\n",
        "            cnt++ \n",
        "            cnt_txt.innerText = \"\" + cnt \n",
        "        }       \n",
        "        </script>\n",
        "    \"\"\"    \n",
        "    return html\n",
        "\n",
        "app.run(host = '0.0.0.0', port = 80)"
      ]
    },
    {
      "cell_type": "markdown",
      "id": "afd34363-82d2-4342-b71e-7daa1b730aa8",
      "metadata": {
        "id": "afd34363-82d2-4342-b71e-7daa1b730aa8"
      },
      "source": [
        "\n",
        "자바 스크립트 언어에 대해 자세한 설명은 힘들지만 간단하게 개념을 설명드리면 \n",
        "```html \n",
        "<p id = 'cnt_txt'> 0 </p>\n",
        "```\n",
        "\n",
        "는 문단을 규정하는 p 태그영역을 하나의 개체로서 그 이름을 cnt_txt 로 규정합니다. \n",
        "\n",
        "```html\n",
        "<script>\n",
        "function inc_cnt(e){\n",
        "    ...\n",
        "}\n",
        "</script>\n",
        "\n",
        "```\n",
        "script 태그는 그 안에 내용이 자바스크립트 언어란 뜻으로 파이썬처럼 이 안에서 변수, 함수, 반복문, 배열등 프로그래밍이 가능합니다. 위의 예제에선 버튼을 눌렀을 경우 처리해야할 함수인 inc_cnt 를 정의합니다.  이 함수는 cnt 변수를 증가시키고 그것을 cnt_txt 에 문자열로 입력합니다. \n",
        "\n",
        "현대에 우리가 보는 웹페이지는 모든 요소하나하나가 다 위젯처럼 그 내용과 표현형식을 바꿀 수 있고 심지어는 동적으로 이런 요소를 추가하고 없앨 수도 있습니다. 물론 직접 실행되는 일반 어플리케이션에 비해 브라우저에 의해 실행되는 거라 속도에 제약이 있지만 최근에는 자바스크립트에서 돌아가는 게임이 큰 호응을 얻을 정도로 그 활용범위가 넓어지고 있습니다. \n",
        "\n"
      ]
    },
    {
      "cell_type": "markdown",
      "id": "0cf0e983-6af0-45d4-8c9d-04009a95ab1e",
      "metadata": {
        "id": "0cf0e983-6af0-45d4-8c9d-04009a95ab1e"
      },
      "source": [
        "## 17.3 form 과 메시지전송\n",
        "\n",
        "위에서 웹이 많은 기능을 하는 몇몇 기술들을 보았습니다. 하지만 아무리 페이지를 동적으로 만들어주고 자바 스크립트에서 사용자와 상호작용을 해도 사용자측에서 서버측에 정보를 전달하지 못하면 로그인 하나 구현 못하는 일방통행이나 다름이 없죠. 웹에서는 우리가 다른 페이지로 이동할때 서버측에 추가정보를 전달하는 방법이 두가지 존재합니다. \n",
        "\n",
        "### 17.3.1 GET 방식 \n",
        "\n",
        "우리가 특정 페이지에 접속할때 그 안에 추가 정보를 담는 방법중에 하나는 url 에 그것을 추가하는 겁니다. 사실 이는 플라스크의 url 에 특정여역을 변수로 해석하는 것과 매우 유사합니다만 경로 자체를 변수로 해석하는 플라스크와 달리 url 에 다음과 같은 형식으로 이를 추가합니다. \n",
        "\n",
        "```\n",
        "http://127.0.0.1/?a=10&b=20\n",
        "```\n",
        "\n",
        "아마 위의 주소를 보신 분들은 평소 웨 주소창에 위와같은 형식의 정보가 붙는걸 보신 기억이 나실겁니다. 요약하면 \n",
        "\n",
        "> ?[변수]=[값]&[변수]=[값]&.. \n",
        "\n",
        "이런 내용을 url 뒤에 붙이는 겁니다. 위의 내용은 a=10 b=20 이라는 정보를 서버에 전달합니다. 이제 flask로 이것을 처리하는 예를 보도록 하겠습니다.  아래 서버를 실행한 후에 url 뒤에 \n",
        "\n",
        "> ?a=10&b=20 \n",
        "\n",
        "같은 값을 붙여서 페이지를 확인해보세요\n"
      ]
    },
    {
      "cell_type": "code",
      "execution_count": null,
      "id": "c479b720-2665-4b4f-b120-d1ee42d9bd5c",
      "metadata": {
        "id": "c479b720-2665-4b4f-b120-d1ee42d9bd5c",
        "outputId": "ac051702-a297-487a-8c47-cf29e94fe5c6"
      },
      "outputs": [
        {
          "name": "stderr",
          "output_type": "stream",
          "text": [
            "125.129.55.172 - - [09/Jun/2022 03:56:06] \"GET /?a=10 HTTP/1.1\" 200 -\n",
            "125.129.55.172 - - [09/Jun/2022 03:56:12] \"GET /?a=101 HTTP/1.1\" 200 -\n"
          ]
        }
      ],
      "source": [
        "app = flask.Flask(__name__) \n",
        "\n",
        "@app.route(\"/\", methods = ['GET'])\n",
        "def srv():    \n",
        "    a = flask.request.args.get('a')\n",
        "    b = flask.request.args.get('b')\n",
        "    \n",
        "    if not a :\n",
        "        a = \"0\"\n",
        "    if not b :\n",
        "        b = \"0\"\n",
        "    c = int(a) + int(b)\n",
        "    return a + \" + \" + b + \" = \"  + str(c)\n",
        "\n",
        "app.run(host = '0.0.0.0', port = 80)"
      ]
    },
    {
      "cell_type": "markdown",
      "id": "f90ae12a-adbf-4f49-b176-af8177e8a40a",
      "metadata": {
        "id": "f90ae12a-adbf-4f49-b176-af8177e8a40a"
      },
      "source": [
        "위의 코드에서 flask.request.args.get 는 사용자의 요청에서 url 에 들어있는 변수값을 추출해줍니다.  하지만 사실 flask는 route 에서 경로를 변수로 처리하는 강력한 기능이 있어서 GET방식은 별로 사용되지 안습니다. "
      ]
    },
    {
      "cell_type": "markdown",
      "id": "0e116461-a838-4248-88cb-8d5dce6784da",
      "metadata": {
        "id": "0e116461-a838-4248-88cb-8d5dce6784da"
      },
      "source": [
        "### 17.3.2 POSt 방식 \n",
        "\n",
        "웹에서 사용가 회원 가입과 같은 복잡한 정보를 입력해보신 경험이 누구나 있으실 겁니다. 이런 여러 변수가 폰합되고 심지어는 파일업로드까지 필요한 경우에는 이를 url 붙여서 담는 것은 불가능에 가깝습니다.  또 password 같은 민감한 정보가 주소창에 기록이 남는것은 보안의 위협도 있지요. 그래서 겉으로는 보이지 안는 히든메시지를 보내는 방법으로 \n",
        "\n",
        "POST 방식이 있습니다. get 방식이 비교적 간단한 값을 전달하기 위한 체계라면 POST는 복잡한 메시지를 보내는데 사용됩니다. 하지만 전문 웹개발자가 아닌 여러분들을 위해서 패스워드 없이 사용자 이름만 입력하는 간단한 로그인 페이지와 환영 메시지로 구성된 간단한 전송과정을 통해 개략적인 기술만 체험해보도록 하겠습니다. \n",
        "\n"
      ]
    },
    {
      "cell_type": "code",
      "execution_count": null,
      "id": "7fb7da3d-6695-4efd-bb46-94a148b25f94",
      "metadata": {
        "id": "7fb7da3d-6695-4efd-bb46-94a148b25f94",
        "outputId": "d5cdcb52-71a9-48f8-d80c-5b65330d96db"
      },
      "outputs": [
        {
          "name": "stdout",
          "output_type": "stream",
          "text": [
            " * Serving Flask app '__main__' (lazy loading)\n",
            " * Environment: production\n",
            "\u001b[31m   WARNING: This is a development server. Do not use it in a production deployment.\u001b[0m\n",
            "\u001b[2m   Use a production WSGI server instead.\u001b[0m\n",
            " * Debug mode: off\n"
          ]
        },
        {
          "name": "stderr",
          "output_type": "stream",
          "text": [
            " * Running on all addresses.\n",
            "   WARNING: This is a development server. Do not use it in a production deployment.\n",
            " * Running on http://125.129.55.172:80/ (Press CTRL+C to quit)\n",
            "125.129.55.172 - - [09/Jun/2022 04:22:26] \"GET / HTTP/1.1\" 200 -\n",
            "125.129.55.172 - - [09/Jun/2022 04:22:31] \"POST /greeting HTTP/1.1\" 200 -\n"
          ]
        }
      ],
      "source": [
        "app = flask.Flask(__name__) \n",
        "\n",
        "@app.route(\"/\")\n",
        "def srv():    \n",
        "    html = \"\"\"\n",
        "        <form action = '/greeting' method = 'POST' >\n",
        "        이름을 입력해주세요\n",
        "        <input type = 'text' name = 'id'>\n",
        "        <input type = 'submit'>\n",
        "        </form>        \n",
        "    \"\"\"    \n",
        "    return html\n",
        "\n",
        "@app.route(\"/greeting\", methods = ['POST'])\n",
        "def srv_greeting():    \n",
        "    id = flask.request.form.get('id')\n",
        "    return \"<h3> 반갑습니다. \"+id+\"님\"\n",
        "\n",
        "app.run(host = '0.0.0.0', port = 80)"
      ]
    },
    {
      "cell_type": "markdown",
      "id": "2bfc29a7-8101-45eb-a627-775f3667ea55",
      "metadata": {
        "id": "2bfc29a7-8101-45eb-a627-775f3667ea55"
      },
      "source": [
        "위의 html 에서 form 태그는 서버 전송용 메시지를 위한 입력들을 묶어줍니다. \n",
        "``` \n",
        "form \n",
        "    action : 입력값을 전송할 url \n",
        "    method : 메시지를 보낼 방식 (GET 과 POST)\n",
        "input \n",
        "    type : 입력 값의 유형 (text, file, checkbox 등 ) \n",
        "    name : 입력 값의 이름\n",
        "```   \n",
        "  \n",
        "위에서는 사용자 이름을 id 라는 이름으로 입력받아 POST 형식으로 전송했으며 이를 /greeting 핸들러가 받아서 환영 메시지를 출력하도록 합니다. \n",
        "\n",
        "현대에는 이런 정보 전송을 form태그 없이 자바스크립트가 마음대로 생성해서 보내는 기술도 가능하며 심지어는 페이지 이동없이도 정보를 마음대로 전송하고 결과도 화면에 출력없이 자료로만 받아 처리도 가능해져 그 응용범위가 무궁무진해졌습니다. \n",
        "\n",
        "보너스로 이번에는 이미지 파일을 업로드하고 그것을 페이지에서 표시해주는 페이지도 구경해보도록 하겠습니다. 이미지의 변환과정이 좀 복잡한데 이미지 파일을 세이브 없이 보여주기 위해서 이미지 자료를 스트링 형태로 변환해서 보여주는 기법을 사용한 예제입니다. "
      ]
    },
    {
      "cell_type": "code",
      "execution_count": null,
      "id": "91fdde6b-b023-48f0-b56e-8bd4d921b7c0",
      "metadata": {
        "id": "91fdde6b-b023-48f0-b56e-8bd4d921b7c0",
        "outputId": "3febe5a9-b4ca-4e84-e966-dfe8dc2f0fae"
      },
      "outputs": [
        {
          "name": "stdout",
          "output_type": "stream",
          "text": [
            " * Serving Flask app '__main__' (lazy loading)\n",
            " * Environment: production\n",
            "\u001b[31m   WARNING: This is a development server. Do not use it in a production deployment.\u001b[0m\n",
            "\u001b[2m   Use a production WSGI server instead.\u001b[0m\n",
            " * Debug mode: off\n"
          ]
        },
        {
          "name": "stderr",
          "output_type": "stream",
          "text": [
            " * Running on all addresses.\n",
            "   WARNING: This is a development server. Do not use it in a production deployment.\n",
            " * Running on http://125.129.55.172:80/ (Press CTRL+C to quit)\n",
            "125.129.55.172 - - [09/Jun/2022 10:59:03] \"GET / HTTP/1.1\" 200 -\n",
            "125.129.55.172 - - [09/Jun/2022 10:59:07] \"POST /uploadimg HTTP/1.1\" 200 -\n"
          ]
        }
      ],
      "source": [
        "from base64 import b64encode\n",
        "import io \n",
        "from PIL import Image\n",
        "\n",
        "app = flask.Flask(__name__) \n",
        "\n",
        "\n",
        "@app.route(\"/\")\n",
        "def srv():    \n",
        "    html = \"\"\"\n",
        "        <form action = '/uploadimg' method = 'POST' enctype=\"multipart/form-data\">\n",
        "        \n",
        "        <input type = 'file' name = 'img' label = '이미지 업로드'>\n",
        "        \n",
        "        <input type = 'submit'>\n",
        "        </form>        \n",
        "    \"\"\"    \n",
        "    return html\n",
        "\n",
        "@app.route(\"/uploadimg\", methods = ['POST'])\n",
        "def srv_uploadimg():    \n",
        "    f = flask.request.files['img']\n",
        "    img = Image.open(f)\n",
        "    \n",
        "    buff = io.BytesIO()\n",
        "    img.save(buff, 'png')    \n",
        "    encoded = b64encode(buff.getvalue()).decode('utf-8')     \n",
        "    uri = f\"data:image/png;base64,{encoded}\" \n",
        "    html = f\"<img src = '{uri}'>\"    \n",
        "    return html\n",
        "\n",
        "app.run(host = '0.0.0.0', port = 80)"
      ]
    },
    {
      "cell_type": "code",
      "execution_count": null,
      "id": "b4a3778c-ea9c-40c6-8f8b-916ca5e00a3b",
      "metadata": {
        "id": "b4a3778c-ea9c-40c6-8f8b-916ca5e00a3b"
      },
      "outputs": [],
      "source": []
    }
  ],
  "metadata": {
    "kernelspec": {
      "display_name": "Python 3 (ipykernel)",
      "language": "python",
      "name": "python3"
    },
    "language_info": {
      "codemirror_mode": {
        "name": "ipython",
        "version": 3
      },
      "file_extension": ".py",
      "mimetype": "text/x-python",
      "name": "python",
      "nbconvert_exporter": "python",
      "pygments_lexer": "ipython3",
      "version": "3.9.7"
    },
    "colab": {
      "provenance": [],
      "toc_visible": true
    }
  },
  "nbformat": 4,
  "nbformat_minor": 5
}