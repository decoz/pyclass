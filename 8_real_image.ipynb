{
  "nbformat": 4,
  "nbformat_minor": 0,
  "metadata": {
    "colab": {
      "name": "8_real_image.ipynb",
      "provenance": [],
      "collapsed_sections": [],
      "toc_visible": true,
      "authorship_tag": "ABX9TyPHQP5gwgyj4lLrcwwO9A1T",
      "include_colab_link": true
    },
    "kernelspec": {
      "name": "python3",
      "display_name": "Python 3"
    }
  },
  "cells": [
    {
      "cell_type": "markdown",
      "metadata": {
        "id": "view-in-github",
        "colab_type": "text"
      },
      "source": [
        "<a href=\"https://colab.research.google.com/github/decoz/pyclass/blob/master/8_real_image.ipynb\" target=\"_parent\"><img src=\"https://colab.research.google.com/assets/colab-badge.svg\" alt=\"Open In Colab\"/></a>"
      ]
    },
    {
      "cell_type": "markdown",
      "metadata": {
        "id": "LwNJhmpAvJHN",
        "colab_type": "text"
      },
      "source": [
        "# 8 이미지 파일 다루기\n",
        "\n",
        "전 챕터까지는 빈 이미지에 우리가 원하는 선이나 색을 입히는 방법에 대해 다뤘습니다. 이번에는 실제 사진 이미지를 읽어와서 이를 처리하는 프로그램들을 해보도록 하겠습니다.  이는 이미지 파일로부터 배열로 변경하는 방식을 제외하면 이전 챕터에서 하던 프로그램의 응용으로 보시면 됩니다.  "
      ]
    },
    {
      "cell_type": "markdown",
      "metadata": {
        "id": "5PuiSs_CvTJi",
        "colab_type": "text"
      },
      "source": [
        "## 8.1 이미지 파일 불러오기 \n",
        "\n",
        "이미지를 불러올때 사용하는 라이브러리는 사실 따로 없습니다. 지난시간에 사용하던 라이브러리와 같은 라이브러리를 씁니다.  이런 라이브러리는 따로 외우거나 하시지 안아도 괜찮습니다.  "
      ]
    },
    {
      "cell_type": "markdown",
      "metadata": {
        "id": "2-YJL-7vnPMV",
        "colab_type": "text"
      },
      "source": [
        "#### 라이브러리 호출"
      ]
    },
    {
      "cell_type": "code",
      "metadata": {
        "id": "xooDSsRFQHjq",
        "colab_type": "code",
        "colab": {}
      },
      "source": [
        "from PIL import Image\n",
        "from IPython.display import display\n",
        "import numpy as np "
      ],
      "execution_count": 0,
      "outputs": []
    },
    {
      "cell_type": "markdown",
      "metadata": {
        "id": "jAg96cxG-dMk",
        "colab_type": "text"
      },
      "source": [
        "### 이미지 파일 업로드\n",
        "\n",
        "이미지를 여는 방법은 크게 디스크에 저장된 파일을 여는 방법과 인터넷을 통해 이미지 파일을 여는 두가지 방법으로 나뉩니다. 일반적으로는 하드디스크에서 찾지만 Colab 은 가상머신 서버에서 이를 제공하기 때문에 좌측 파일 보기를 선택한 후에 직접 이미지 파일을 업로드 하셔야 합니다. \n",
        "\n",
        "![대체 텍스트](https://github.com/decoz/pyclass/blob/master/images/8_0.png?raw=true)\n",
        "\n",
        "<br>\n",
        "\n",
        "![대체 텍스트](https://github.com/decoz/pyclass/blob/master/images/8_1.png?raw=true)\n",
        "\n",
        "\n"
      ]
    },
    {
      "cell_type": "markdown",
      "metadata": {
        "id": "nUNLyzbCnVO2",
        "colab_type": "text"
      },
      "source": [
        "\n",
        "\n",
        "\n",
        "#### 이미지 파일 열기 \n",
        "\n",
        "파일을 여는 방법은 다음과 같습니다. 사실 이 과정을 여러분들이 정확히 이해하시려면 또 하나의 자료형인 클래스를 이해하셔야 하기때문에 지금은 이미지 관련 정보를 모아둔 변수정도로 생각하시면 좋을 듯 합니다. "
      ]
    },
    {
      "cell_type": "code",
      "metadata": {
        "id": "QU5Za9L5nLOk",
        "colab_type": "code",
        "colab": {}
      },
      "source": [
        "img = Image.open(\"py.png\")\n",
        "display(img)"
      ],
      "execution_count": 0,
      "outputs": []
    },
    {
      "cell_type": "markdown",
      "metadata": {
        "id": "SOnV9lkznZ4w",
        "colab_type": "text"
      },
      "source": [
        "#### url 에서 파일열기 \n",
        "\n",
        "위의 방법과는 별도로 아래의 방식을 쓰면 이미지를 직접 인터넷에서 다운로드 받으실 수 있습니다. 다운 받은 이미지를 바로 display(img)  로 화면에 출력이 가능합니다. "
      ]
    },
    {
      "cell_type": "code",
      "metadata": {
        "id": "Pg9hBDCxb3_L",
        "colab_type": "code",
        "colab": {}
      },
      "source": [
        "from urllib import request\n",
        "img = Image.open(request.urlopen(\"https://m.animegoods.co.kr/web/product/big/201808/fea26dbbcff796b66d01f8d58efdeb2e.jpg\") )\n",
        "display(img)"
      ],
      "execution_count": 0,
      "outputs": []
    },
    {
      "cell_type": "markdown",
      "metadata": {
        "colab_type": "text",
        "id": "NI4qGGhhvhOL"
      },
      "source": [
        "## 8.2 이미지 <-> 배열 \n",
        "\n",
        "이렇게 읽어들인 이미지는 이를 배열로 변환이 가능합니다. 다만 100 x 100 으로 처리했던 지금까지와 달리 파일로 읽어들인 이미지는 그 크기가 각각 다릅니다. 그러므로 먼저 \n",
        "\n",
        "```\n",
        "w,h = img.size\n",
        "```\n",
        "라는 구문으로 이미지의 가로 세로길이를 각각 w, h 에 저장해 두겠습니다. \n",
        "그 후에는 다음과 같은 구문으로 이미지를 3차원 배열형태로 바꿔줍니다. \n",
        "```\n",
        "arr = np.array(img).reshape(w, h, 3)\n",
        "```\n",
        "\n",
        "이런 일련의 과정들은 지난번에도 언급한 미리 구축된 기능이므로 이렇게 사용하는구나 정도로만 기억해두시면 됩니다. 좀더 공부를 하면 이것이 어떤 일을 하는지 더 자세히 짐작이 가능하지만 지금은 '내가 원하는 작업을 위해 빌려쓰는 기능' 정도로 기억하시면 됩니다. \n",
        "\n",
        "이 배열을 다시 화면에 출력할 때는 다음의 문장을 사용하시면 됩니다. \n",
        "\n",
        "```\n",
        "display(Image.fromarray(arr))\n",
        "```\n",
        "\n",
        "지난번 보다는 훨신 심플해지신것을 볼 수 있습니다. \n",
        "자 그러면 이제 실제로 이미지에 중앙라인에 붉은 선을 긋는 예제를 한번 보도록 하겠습니다. "
      ]
    },
    {
      "cell_type": "markdown",
      "metadata": {
        "colab_type": "text",
        "id": "wkzGCxBgulQw"
      },
      "source": [
        "#### 코드: 이미지 파일에 선을 긋기 \n"
      ]
    },
    {
      "cell_type": "code",
      "metadata": {
        "id": "96HzzCESDBm9",
        "colab_type": "code",
        "colab": {}
      },
      "source": [
        "w,h = img.size\n",
        "arr = np.array(img).reshape(w, h, 3)\n",
        "for x in range(w):\n",
        "  arr[200][x] = [255,0,0]\n",
        "display(Image.fromarray(arr))\n"
      ],
      "execution_count": 0,
      "outputs": []
    },
    {
      "cell_type": "markdown",
      "metadata": {
        "id": "C6j2o56yHW5z",
        "colab_type": "text"
      },
      "source": [
        "위의 코드는 위에서 200번째 줄에 모든 x를 [255,255,0] 으로 바꾸는 작업을 합니다. 결과적으로 그 줄은 붉은 선이 그어지게 되는 것이죠. \n",
        "\n",
        "####<font color = 'red'> 연습 8.1.1 : 이미지에 세로줄을 일정 간격으로 긋기 <br>    \n",
        "이제 이 예제를 기반으로 선긋기에서 처음해 해봤던 세로줄 일정 간격으로 긋기를 해보도록 하죠. 색은 아무거나 원하시는 색을 [red, green, blue]  의 비율로 선택하셔서 그리시면 됩니다. \n",
        "</font>  \n",
        "\n"
      ]
    },
    {
      "cell_type": "markdown",
      "metadata": {
        "colab_type": "text",
        "id": "dOKUAKQnupUe"
      },
      "source": [
        "#### 코드: 이미지를 더 밝게 만들기 \n",
        "\n",
        "이번에는 이미지의 전반적인 색상을 조금 더 밝게 만들어 보도록 하겠습니다. 만일 어떤 색상이 [150,100,50] 의 색상값을 가진다면 이 색을 완전히 변질시키지 안고 살짝 밝은 값을 주는 방법은 일정 수치를 곱하거나 더하면 됩니다. 예를 들어 20씩을 더해준다고 하면 [170, 120, 70 ] 으로 색상을 변경하는 것이죠. \n",
        "\n",
        "예를 들어 100, 100 의 위치에 있는 색상값을 바꿀때의 코드는 다음과 같습니다. \n",
        "```\n",
        "c = arr[100][100]\n",
        "arr[100][100] = [c[0] + 20, c[1] + 20, c[2] + 20]\n",
        "```\n",
        "\n",
        "이제 이것을 이용해 색상에 모두 20을 더해주eh록 해보겠습니다. \n",
        "\n"
      ]
    },
    {
      "cell_type": "code",
      "metadata": {
        "id": "3alTkDVrLX5g",
        "colab_type": "code",
        "colab": {}
      },
      "source": [
        "w,h = img.size\n",
        "arr = np.array(img).reshape(w, h, 3)\n",
        "for y in range(h):\n",
        "  for x in range(w):\n",
        "    c = arr[y][x]\n",
        "    arr[y][x] = [c[0] + 20, c[1] + 20, c[2] + 20]      \n",
        "\n",
        "display(Image.fromarray(arr))"
      ],
      "execution_count": 0,
      "outputs": []
    },
    {
      "cell_type": "markdown",
      "metadata": {
        "id": "0mo1nbEmLk0L",
        "colab_type": "text"
      },
      "source": [
        "그런데 이 코드를 돌리면 군데 군데 색이 깨지는 것을 보실 수 있습니다. 이는 특정 색상값이 235 이상인 경우 최대 값인 255를 넘어가서 생기는 문제입니다. 이 문제를 해결하기 위해 조금 더 복잡한 공식을 사용해 보도록 하겠습니다. \n",
        "\n",
        "```\n",
        "c[0] =  c[0] + int( (255 - c[0]) / 5 ) \n",
        "```\n",
        "\n",
        "이 식은 color 의 색상 값에서 최대값과의 차이의 1/5 만큼 더해주는 것으로 높은 값은 그 만큼 작은 값이 더해져서 255를 넘지 안게 됩니다. 이것을 더하면 약간 뿌옇지만 색상값을 유지하면서 더 밝아진 이미지를 얻을 수 있습니다. "
      ]
    },
    {
      "cell_type": "code",
      "metadata": {
        "id": "9J8gJeztZunO",
        "colab_type": "code",
        "colab": {}
      },
      "source": [
        "w,h = img.size\n",
        "arr = np.array(img).reshape(w, h, 3)\n",
        "for y in range(h):\n",
        "  for x in range(w):\n",
        "    c = arr[y][x]\n",
        "    arr[y][x] = [ \n",
        "      c[0] + int( (255 - c[0]) / 5),\n",
        "      c[1] + int( (255 - c[1]) / 5),\n",
        "      c[2] + int( (255 - c[2]) / 5)]\n",
        "\n",
        "display(Image.fromarray(arr))\n"
      ],
      "execution_count": 0,
      "outputs": []
    },
    {
      "cell_type": "markdown",
      "metadata": {
        "colab_type": "text",
        "id": "hPaWgQ_Vupmo"
      },
      "source": [
        "#### 이미지를 파일로 저장 "
      ]
    },
    {
      "cell_type": "code",
      "metadata": {
        "id": "oGc1D0-0p7eg",
        "colab_type": "code",
        "colab": {}
      },
      "source": [
        "myimg.save(\"sv.png\")"
      ],
      "execution_count": 0,
      "outputs": []
    },
    {
      "cell_type": "markdown",
      "metadata": {
        "colab_type": "text",
        "id": "RQ0l8ig2vrP1"
      },
      "source": [
        "## 8.3 이미지 변환"
      ]
    },
    {
      "cell_type": "markdown",
      "metadata": {
        "colab_type": "text",
        "id": "FgAvtlSOupxd"
      },
      "source": [
        "#### 좌우 반전"
      ]
    },
    {
      "cell_type": "code",
      "metadata": {
        "id": "YkVZMEUtv3i_",
        "colab_type": "code",
        "colab": {}
      },
      "source": [
        "for y in range(h) :\n",
        "  for x in range( int(w/2) ) :    \n",
        "    arr[y * w + x], arr[y * w + w - x - 1] =  arr[y * w + w - x - 1], arr[y * w + x] \n",
        "    \n",
        "\n",
        "  "
      ],
      "execution_count": 0,
      "outputs": []
    },
    {
      "cell_type": "markdown",
      "metadata": {
        "colab_type": "text",
        "id": "7abKN_G3v6Am"
      },
      "source": [
        "#### 상하 반전\n"
      ]
    },
    {
      "cell_type": "code",
      "metadata": {
        "id": "gad-o34ye0wy",
        "colab_type": "code",
        "colab": {}
      },
      "source": [
        "for y in range(int(h/2)) :\n",
        "  for x in range( w ) :    \n",
        "    n1 = y * w + x\n",
        "    n2 = (h - y - 1) * w + x\n",
        "    arr[n1], arr[n2] =  arr[n2], arr[n1] \n",
        "    "
      ],
      "execution_count": 0,
      "outputs": []
    },
    {
      "cell_type": "markdown",
      "metadata": {
        "colab_type": "text",
        "id": "4EtxCVfHv6a0"
      },
      "source": [
        "#### 색 반전"
      ]
    },
    {
      "cell_type": "code",
      "metadata": {
        "id": "pto4p2rJflZr",
        "colab_type": "code",
        "colab": {}
      },
      "source": [
        "for y in range(h) :\n",
        "  for x in range( w ) : \n",
        "    color1 = arr[y * w + x]\n",
        "    arr[y * w + x] = (255-color1[0], 255-color1[1], 255-color1[2])\n",
        "\n"
      ],
      "execution_count": 0,
      "outputs": []
    },
    {
      "cell_type": "markdown",
      "metadata": {
        "colab_type": "text",
        "id": "dcU8fBRCv6lz"
      },
      "source": [
        "#### 밝기 조절"
      ]
    },
    {
      "cell_type": "code",
      "metadata": {
        "id": "AeN30hUZh-7f",
        "colab_type": "code",
        "colab": {}
      },
      "source": [
        "for y in range(h) :\n",
        "  for x in range( w ) : \n",
        "    color = arr[y * w + x]\n",
        "    c0 = min( int(color[0] * 1.1) , 255) \n",
        "    c1 = min( int(color[1] * 1.1) , 255) \n",
        "    c2 = min( int(color[2] * 1.1) , 255) \n",
        "    arr[y * w + x] = (c0, c1, c2)\n",
        "\n",
        "myimg = Image.fromarray( np.array(arr).astype('uint8').reshape(w,h,3) )\n",
        "display( myimg )\n"
      ],
      "execution_count": 0,
      "outputs": []
    },
    {
      "cell_type": "markdown",
      "metadata": {
        "colab_type": "text",
        "id": "uXWur1nyv669"
      },
      "source": [
        "#### 이미지 크기 축소"
      ]
    },
    {
      "cell_type": "code",
      "metadata": {
        "id": "DzQF1Zx4wCtp",
        "colab_type": "code",
        "colab": {}
      },
      "source": [
        "sw, sh = int(w/2), int(h/2)\n",
        "narr = []\n",
        "for sy in range(sh):\n",
        "  for sx in range(sw):\n",
        "    x,y = sx*2, sy*2\n",
        "    narr.append( arr[y*w + x])\n",
        "    \n",
        "display( Image.fromarray( np.array(narr).astype('uint8').reshape(sw,sh,3) ) ) \n",
        "\n",
        "\n"
      ],
      "execution_count": 0,
      "outputs": []
    }
  ]
}