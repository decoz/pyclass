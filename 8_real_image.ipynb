{
  "nbformat": 4,
  "nbformat_minor": 0,
  "metadata": {
    "colab": {
      "name": "8_real_image.ipynb",
      "provenance": [],
      "collapsed_sections": [],
      "toc_visible": true,
      "authorship_tag": "ABX9TyOVacKeo+ZEXc0BgPG5i2ia",
      "include_colab_link": true
    },
    "kernelspec": {
      "name": "python3",
      "display_name": "Python 3"
    }
  },
  "cells": [
    {
      "cell_type": "markdown",
      "metadata": {
        "id": "view-in-github",
        "colab_type": "text"
      },
      "source": [
        "<a href=\"https://colab.research.google.com/github/decoz/pyclass/blob/master/8_real_image.ipynb\" target=\"_parent\"><img src=\"https://colab.research.google.com/assets/colab-badge.svg\" alt=\"Open In Colab\"/></a>"
      ]
    },
    {
      "cell_type": "markdown",
      "metadata": {
        "id": "LwNJhmpAvJHN",
        "colab_type": "text"
      },
      "source": [
        "# 8 이미지 파일 다루기\n",
        "\n",
        "전 챕터까지는 빈 이미지에 우리가 원하는 선이나 색을 입히는 방법에 대해 다뤘습니다. 이번에는 실제 사진 이미지를 읽어와서 이를 처리하는 프로그램들을 해보도록 하겠습니다.  이는 이미지 파일로부터 배열로 변경하는 방식을 제외하면 이전 챕터에서 하던 프로그램의 응용으로 보시면 됩니다.  "
      ]
    },
    {
      "cell_type": "markdown",
      "metadata": {
        "id": "5PuiSs_CvTJi",
        "colab_type": "text"
      },
      "source": [
        "## 8.1 이미지 파일 불러오기 \n",
        "\n",
        "이미지를 불러올때 사용하는 라이브러리는 사실 따로 없습니다. 지난시간에 사용하던 라이브러리와 같은 라이브러리를 씁니다.  이런 라이브러리는 따로 외우거나 하시지 안아도 괜찮습니다.  "
      ]
    },
    {
      "cell_type": "markdown",
      "metadata": {
        "id": "2-YJL-7vnPMV",
        "colab_type": "text"
      },
      "source": [
        "#### 라이브러리 호출"
      ]
    },
    {
      "cell_type": "code",
      "metadata": {
        "id": "xooDSsRFQHjq",
        "colab_type": "code",
        "colab": {}
      },
      "source": [
        "from PIL import Image\n",
        "from IPython.display import display\n",
        "import numpy as np "
      ],
      "execution_count": 0,
      "outputs": []
    },
    {
      "cell_type": "markdown",
      "metadata": {
        "id": "jAg96cxG-dMk",
        "colab_type": "text"
      },
      "source": [
        "### 이미지 파일 업로드\n",
        "\n",
        "이미지를 여는 방법은 크게 디스크에 저장된 파일을 여는 방법과 인터넷을 통해 이미지 파일을 여는 두가지 방법으로 나뉩니다. 일반적으로는 하드디스크에서 찾지만 Colab 은 가상머신 서버에서 이를 제공하기 때문에 좌측 파일 보기를 선택한 후에 직접 이미지 파일을 업로드 하셔야 합니다. \n",
        "\n",
        "![대체 텍스트](https://github.com/decoz/pyclass/blob/master/images/8_0.png?raw=true)\n",
        "\n",
        "<br>\n",
        "\n",
        "![대체 텍스트](https://github.com/decoz/pyclass/blob/master/images/8_1.png?raw=true)\n",
        "\n",
        "\n"
      ]
    },
    {
      "cell_type": "markdown",
      "metadata": {
        "id": "nUNLyzbCnVO2",
        "colab_type": "text"
      },
      "source": [
        "\n",
        "\n",
        "\n",
        "#### 이미지 파일 열기 \n",
        "\n",
        "파일을 여는 방법은 다음과 같습니다. 사실 이 과정을 여러분들이 정확히 이해하시려면 또 하나의 자료형인 클래스를 이해하셔야 하기때문에 지금은 이미지 관련 정보를 모아둔 변수정도로 생각하시면 좋을 듯 합니다. "
      ]
    },
    {
      "cell_type": "code",
      "metadata": {
        "id": "QU5Za9L5nLOk",
        "colab_type": "code",
        "colab": {}
      },
      "source": [
        "img = Image.open(\"py.png\")\n",
        "display(img)"
      ],
      "execution_count": 0,
      "outputs": []
    },
    {
      "cell_type": "markdown",
      "metadata": {
        "id": "SOnV9lkznZ4w",
        "colab_type": "text"
      },
      "source": [
        "#### url 에서 파일열기 \n",
        "\n",
        "위의 방법과는 별도로 아래의 방식을 쓰면 이미지를 직접 인터넷에서 다운로드 받으실 수 있습니다. 다운 받은 이미지를 바로 display(img)  로 화면에 출력이 가능합니다. "
      ]
    },
    {
      "cell_type": "code",
      "metadata": {
        "id": "Pg9hBDCxb3_L",
        "colab_type": "code",
        "colab": {}
      },
      "source": [
        "from urllib import request\n",
        "img = Image.open(request.urlopen(\"https://m.animegoods.co.kr/web/product/big/201808/fea26dbbcff796b66d01f8d58efdeb2e.jpg\") )\n",
        "display(img)"
      ],
      "execution_count": 0,
      "outputs": []
    },
    {
      "cell_type": "markdown",
      "metadata": {
        "colab_type": "text",
        "id": "NI4qGGhhvhOL"
      },
      "source": [
        "## 8.2 이미지 <-> 배열 \n",
        "\n",
        "이렇게 읽어들인 이미지는 이를 배열로 변환이 가능합니다. 다만 100 x 100 으로 처리했던 지금까지와 달리 파일로 읽어들인 이미지는 그 크기가 각각 다릅니다. 그러므로 먼저 \n",
        "\n",
        "```\n",
        "w,h = img.size\n",
        "```\n",
        "라는 구문으로 이미지의 가로 세로길이를 각각 w, h 에 저장해 두겠습니다. \n",
        "그 후에는 다음과 같은 구문으로 이미지를 3차원 배열형태로 바꿔줍니다. \n",
        "```\n",
        "arr = np.array(img).reshape(h, w, 3)\n",
        "```\n",
        "\n",
        "이런 일련의 과정들은 지난번에도 언급한 미리 구축된 기능이므로 이렇게 사용하는구나 정도로만 기억해두시면 됩니다. 좀더 공부를 하면 이것이 어떤 일을 하는지 더 자세히 짐작이 가능하지만 지금은 '내가 원하는 작업을 위해 빌려쓰는 기능' 정도로 기억하시면 됩니다. \n",
        "\n",
        "이 배열을 다시 화면에 출력할 때는 다음의 문장을 사용하시면 됩니다. \n",
        "\n",
        "```\n",
        "display(Image.fromarray(arr))\n",
        "```\n",
        "\n",
        "지난번 보다는 훨신 심플해지신것을 볼 수 있습니다. \n",
        "자 그러면 이제 실제로 이미지에 중앙라인에 붉은 선을 긋는 예제를 한번 보도록 하겠습니다. "
      ]
    },
    {
      "cell_type": "markdown",
      "metadata": {
        "colab_type": "text",
        "id": "wkzGCxBgulQw"
      },
      "source": [
        "#### 코드: 이미지 파일에 선을 긋기 \n"
      ]
    },
    {
      "cell_type": "code",
      "metadata": {
        "id": "96HzzCESDBm9",
        "colab_type": "code",
        "colab": {}
      },
      "source": [
        "w,h = img.size\n",
        "arr = np.array(img).reshape(h, w, 3)\n",
        "for x in range(w):\n",
        "  arr[200][x] = [255,0,0]\n",
        "display(Image.fromarray(arr))\n"
      ],
      "execution_count": 0,
      "outputs": []
    },
    {
      "cell_type": "markdown",
      "metadata": {
        "id": "C6j2o56yHW5z",
        "colab_type": "text"
      },
      "source": [
        "위의 코드는 위에서 200번째 줄에 모든 x를 [255,255,0] 으로 바꾸는 작업을 합니다. 결과적으로 그 줄은 붉은 선이 그어지게 되는 것이죠. \n",
        "\n",
        "####<font color = 'red'> 연습 8.2.1 : 이미지에 세로줄을 일정 간격으로 긋기 <br>    \n",
        "이제 이 예제를 기반으로 선긋기에서 처음해 해봤던 세로줄 일정 간격으로 긋기를 해보도록 하죠. 색은 아무거나 원하시는 색을 [red, green, blue]  의 비율로 선택하셔서 그리시면 됩니다. \n",
        "</font>  \n",
        "\n"
      ]
    },
    {
      "cell_type": "code",
      "metadata": {
        "id": "ChhxAkkBMPzn",
        "colab_type": "code",
        "colab": {}
      },
      "source": [
        "# 이미지를 배열로 변환\n",
        "w,h = img.size\n",
        "arr = np.array(img).reshape(h, w, 3)\n",
        "\n",
        "# 연습문제 8.2.1 의 코드를 작성해보세요 \n",
        "\n",
        "\n",
        "\n",
        "# 이미지 출력\n",
        "display(Image.fromarray(arr))\n",
        "\n"
      ],
      "execution_count": 0,
      "outputs": []
    },
    {
      "cell_type": "markdown",
      "metadata": {
        "colab_type": "text",
        "id": "RQ0l8ig2vrP1"
      },
      "source": [
        "## 8.3 이미지 변환\n",
        "\n",
        "위에서는 이미지의 정보와 상관없이 값을 특정색으로 덮어 씌워서 이미지에 직선을 그리는 방법등을 보았습니다만 이번에는 이미지의 정보를 읽고 변환함으로서 다양한 효과를 주는 코드를 한번 알아보도록 하겠습니다.\n",
        "\n",
        "먼저 그 처음으로 이미지의 색상값을 살짝 밝게 만드는 코드를 실행해 보도록 하죠 \n"
      ]
    },
    {
      "cell_type": "markdown",
      "metadata": {
        "colab_type": "text",
        "id": "dOKUAKQnupUe"
      },
      "source": [
        "### 8.3.1 이미지 밝기 조절\n",
        "\n",
        "만일 어떤 색상이 [150,100,50] 의 색상값을 가진다면 이 색을 완전히 변질시키지 안고 살짝 밝은 값을 주는 방법은 일정 수치를 곱하거나 더하면 됩니다. 예를 들어 20씩을 더해준다고 하면 [170, 120, 70 ] 으로 색상을 변경하는 것이죠. \n",
        "\n",
        "예를 들어 100, 100 의 위치에 있는 색상값을 바꿀때의 코드는 다음과 같습니다. \n",
        "```\n",
        "c = arr[100][100]\n",
        "arr[100][100] = [c[0] + 20, c[1] + 20, c[2] + 20]\n",
        "```\n",
        "\n",
        "이제 이것을 이용해 색상에 모두 20을 더해주eh록 해보겠습니다. \n",
        "\n"
      ]
    },
    {
      "cell_type": "code",
      "metadata": {
        "id": "3alTkDVrLX5g",
        "colab_type": "code",
        "colab": {}
      },
      "source": [
        "w,h = img.size\n",
        "arr = np.array(img).reshape(h, w, 3)\n",
        "for y in range(h):\n",
        "  for x in range(w):\n",
        "    c = arr[y][x]\n",
        "    arr[y][x] = [c[0] + 20, c[1] + 20, c[2] + 20]      \n",
        "\n",
        "display(Image.fromarray(arr))"
      ],
      "execution_count": 0,
      "outputs": []
    },
    {
      "cell_type": "markdown",
      "metadata": {
        "id": "0mo1nbEmLk0L",
        "colab_type": "text"
      },
      "source": [
        "그런데 이 코드를 돌리면 군데 군데 색이 깨지는 것을 보실 수 있습니다. 이는 특정 색상값이 235 이상인 경우 최대 값인 255를 넘어가서 생기는 문제입니다. 이 문제를 해결하기 위해 조금 더 복잡한 공식을 사용해 보도록 하겠습니다. \n",
        "\n",
        "```\n",
        "c[0] =  c[0] + int( (255 - c[0]) / 5 ) \n",
        "```\n",
        "\n",
        "이 식은 color 의 색상 값에서 최대값과의 차이의 1/5 만큼 더해주는 것으로 높은 값은 그 만큼 작은 값이 더해져서 255를 넘지 안게 됩니다. 이것을 더하면 약간 뿌옇지만 색상값을 유지하면서 더 밝아진 이미지를 얻을 수 있습니다. \n",
        "\n",
        "#### 코드: 이미지를 더 밝게 만들기 "
      ]
    },
    {
      "cell_type": "code",
      "metadata": {
        "id": "9J8gJeztZunO",
        "colab_type": "code",
        "colab": {}
      },
      "source": [
        "w,h = img.size\n",
        "arr = np.array(img).reshape(h, w, 3)\n",
        "for y in range(h):\n",
        "  for x in range(w):\n",
        "    c = arr[y][x]\n",
        "    arr[y][x] = [ \n",
        "      c[0] + int( (255 - c[0]) / 5),\n",
        "      c[1] + int( (255 - c[1]) / 5),\n",
        "      c[2] + int( (255 - c[2]) / 5)]\n",
        "\n",
        "display(Image.fromarray(arr))\n"
      ],
      "execution_count": 0,
      "outputs": []
    },
    {
      "cell_type": "markdown",
      "metadata": {
        "colab_type": "text",
        "id": "FgAvtlSOupxd"
      },
      "source": [
        "### 8.3.2 이미지 반전 시키기 \n",
        "\n",
        "이번에는 이미지의 좌우를 반전시키는 코드를 생각해봅시다. 원리는 간단합니다. \n",
        "\n",
        "```\n",
        "[[1,2,3]\n",
        " [1,2,3]\n",
        " [2,3,4]]\n",
        "```\n",
        "이런 배열이 있을때 이것을 \n",
        "```\n",
        "[[3,2,1]\n",
        " [3,2,1]\n",
        " [4,3,2]]\n",
        "```\n",
        "이런식으로 변경해주는 것이죠.  결국은 [1,2,3] 을 [3,2,1] 로 바꾸는 것을 모든 y에 대해 반복해주면 됩니다. \n",
        "\n",
        "그러면 먼저 배열의 순서를 뒤집는 코드를 생각해봅시다. 많은 분들이 이런 문제를 접했을때 주로 새로운 배열을 만들어서 현재 배열의 역순으로 읽어서 추가하는 방법을 생각하곤 합니다. 이 코드가 불가능 한 것은 아니지만 매번 배열을 새로 만들어서 교체하는 것보다는 더 간단한 방법이 있습니다. \n",
        "```\n",
        "[1,2,3] \n",
        "1 <-> 3 \n",
        "```\n",
        "이렇게 끝자리 값 두개를 바꿔주는 것이죠 .. 배열의 크기가 4라면 \n",
        "```\n",
        "[1,2,3,4]\n",
        "1 <-> 4\n",
        "2 <-> 3\n",
        "```\n",
        "이렇게 교체하면 됩니다. 즉 배열의 크기의 1/2 만큼 양쪽끝에서 안쪽으로 변경하면서 이를 수행하면 됩니다. 그러면 다음과 같은 코드로 표현할 수가 있습니다. 배열의 크기를 n 이라고 하면 \n",
        "```\n",
        "0 <-> n-1\n",
        "1 <-> n-2\n",
        "2 <-> n-3\n",
        ":\n",
        "n/2 - 1 <-> n/2 \n",
        "```\n",
        "이런 순서를 바꿔주면 됩니다. 이제 패턴이 보이시나요? 그러면 어떤 배열이든 역순으로 바꾸는 코드를 보도록 하죠 \n",
        "\n",
        "\n",
        "\n",
        "\n",
        "\n",
        "\n",
        "\n",
        "\n",
        "\n",
        "\n",
        "\n",
        "\n"
      ]
    },
    {
      "cell_type": "code",
      "metadata": {
        "id": "QB_RzUAtEEDs",
        "colab_type": "code",
        "colab": {}
      },
      "source": [
        "\n",
        "arr = [1,2,3,4,5,6,7,8,9,10]\n",
        "n = len(arr)\n",
        "\n",
        "for i in range( int(n/2) ): \n",
        "  arr[i],arr[n-i-1] = arr[n-i-1],arr[i]\n",
        "\n",
        "print(arr)  \n"
      ],
      "execution_count": 0,
      "outputs": []
    },
    {
      "cell_type": "markdown",
      "metadata": {
        "id": "fMuwFZWXC_if",
        "colab_type": "text"
      },
      "source": [
        "자 이제 위의 코드를 \n",
        "\n",
        "\n",
        "#### 코드: 이미지의 좌우 반전"
      ]
    },
    {
      "cell_type": "code",
      "metadata": {
        "id": "YkVZMEUtv3i_",
        "colab_type": "code",
        "colab": {}
      },
      "source": [
        "#이미지 읽어오기 \n",
        "w,h = img.size\n",
        "arr = np.array(img).reshape(h, w, 3)\n",
        "\n",
        "for y in range(h) :\n",
        "  for x in range( int(w/2) ) :        \n",
        "    arr[y][x],arr[y][w-x-1]  = arr[y][w-x-1].copy(), arr[y][x].copy()\n",
        "\n",
        "#이미지 출력     \n",
        "display(Image.fromarray(arr))\n",
        "\n",
        "  "
      ],
      "execution_count": 0,
      "outputs": []
    },
    {
      "cell_type": "markdown",
      "metadata": {
        "colab_type": "text",
        "id": "7abKN_G3v6Am"
      },
      "source": [
        "\n",
        "####<font color = 'red'> 연습 8.3.1 : 상하반전 \n",
        "이번에는 위의 코드를 응용해서 상하반전을 시켜보세요. 원리를 이해하셨다면 어렵지 않게 작성하실 수 있을겁니다. \n",
        "</font>  \n"
      ]
    },
    {
      "cell_type": "code",
      "metadata": {
        "id": "gad-o34ye0wy",
        "colab_type": "code",
        "colab": {}
      },
      "source": [
        "#이미지 읽어오기 \n",
        "w,h = img.size\n",
        "arr = np.array(img).reshape(h, w, 3)\n",
        "\n",
        "# 연습문제 8.3.1 의 코드를 작성하세요 \n",
        "\n",
        "#이미지 출력     \n",
        "display(Image.fromarray(arr))\n"
      ],
      "execution_count": 0,
      "outputs": []
    },
    {
      "cell_type": "markdown",
      "metadata": {
        "colab_type": "text",
        "id": "4EtxCVfHv6a0"
      },
      "source": [
        "이번에는 좀 쉬운 예제로 이미지의 색상을 반전시키는 코드를 한번 보도록 하죠 색상 반전이란 것은 rgb 값이 죄다 255 에서 뺀 값을 지니는 코드를 의미합니다. 예를 들어 [255, 55, 0 ] 이 있으면 [0, 200, 255] 로 바꿔주는 것이죠. 이것은 아주 간단하게 할 수 있는 코드이며 다음과 같이 작성하시면 됩니다. \n",
        "\n",
        "#### 코드: 이미지의 색상 반전\n"
      ]
    },
    {
      "cell_type": "code",
      "metadata": {
        "id": "pto4p2rJflZr",
        "colab_type": "code",
        "colab": {}
      },
      "source": [
        "#이미지 읽어오기 \n",
        "w,h = img.size\n",
        "arr = np.array(img).reshape(h, w, 3)\n",
        "\n",
        "for y in range(h) :\n",
        "  for x in range( w ) : \n",
        "    color1 = arr[y][x]\n",
        "    arr[y][x] = [255-color1[0], 255-color1[1], 255-color1[2]]\n",
        "\n",
        "#이미지 출력     \n",
        "display(Image.fromarray(arr))"
      ],
      "execution_count": 0,
      "outputs": []
    },
    {
      "cell_type": "markdown",
      "metadata": {
        "colab_type": "text",
        "id": "DN45HyarNxxD"
      },
      "source": [
        "### 8.3.3 이미지 90도 회전\n",
        "\n",
        "요번에는 이미지를 시계방향으로 90도 회전시키는 방법을 알아보도록 하겠습니다. 간단한 배열로 이 과정을 그리면 \n",
        "\n",
        "```\n",
        "[[1,2,3]\n",
        " [4,5,6]] \n",
        "```\n",
        "이런 배열이 있을때 이것을 \n",
        "```\n",
        "[[4,1]\n",
        " [5,2]\n",
        " [6,3]]\n",
        "```\n",
        "이런식으로 변경해주는 것이죠. 이것은 위의 반전에 비해 조금 복잡하며 단순히 두 값의 치환으로는 해결하기 어렵습니다. 거기에 이미지의 가로, 세로가 서로 다른 크기를 지녔다면 아예 이미지의 배열 크기도 바뀌게 되죠. \n",
        "\n",
        "예를 들어 400,200 의 이미지를 시계방향이나 반시계방향으로 90도 회전하면 200,400 의 크기를 지니게 됩니다. 그러므로 이 경우는 새로운 배열을 만든 후에 원 배열의 값을 새로운 배열에 복사해주어야 합니다. \n",
        "\n",
        "위의 경우 [0][0] 위치의 1은 새로운 배열의 [0][1] 로 옮겨졌고 [0][1] 의 2는 [1][0] 으로 옮겨지신 것을 볼 수 있습니다. 즉 인덱스 값의 변화를 그려보면 다음과 같습니다. \n",
        "```\n",
        "1 : [0][0] -> [0][1]\n",
        "2 : [0][1] -> [1][1]\n",
        "3 : [0][2] -> [2][1]\n",
        "4 : [1][0] -> [0][0]\n",
        "5 : [1][1] -> [1][0]\n",
        "6 : [1][2] -> [2][0]\n",
        "```\n",
        "\n",
        "이것은 결과적으로 다음과 같습니다. \n",
        "```\n",
        "[y][x] -> [x][h-y-1] \n",
        "```\n",
        "\n",
        "이제 규칙을 찾았으니 이를 담을 수 있는 새로운 배열을 만들어주겠습니다. 사실 지금 여러분들이 위에서 사용하고 계신 배열은 일반적은 파이썬과 조금 다른 종류의 특수 배열입니다. 수학적 행렬 연산에 사용하는 배열로 numpy 라는 라이브러리에서 제공하는 배열입니다. 그러기에 다음과 같은 코드를 사용해 빈 배열을 만들어줍니다. \n",
        "\n"
      ]
    },
    {
      "cell_type": "code",
      "metadata": {
        "id": "eSfro67jSHLq",
        "colab_type": "code",
        "colab": {}
      },
      "source": [
        "import numpy as np\n",
        "narr = np.zeros((3,4))\n",
        "print(narr)"
      ],
      "execution_count": 0,
      "outputs": []
    },
    {
      "cell_type": "markdown",
      "metadata": {
        "id": "XrIp3QaJS-Ui",
        "colab_type": "text"
      },
      "source": [
        "이제 이를 이용해 2차원 배열을 회전시키는 간단한 코드를 보도록 하겠습니다. \n",
        "\n"
      ]
    },
    {
      "cell_type": "code",
      "metadata": {
        "id": "KItW0B0GS9Zc",
        "colab_type": "code",
        "colab": {}
      },
      "source": [
        "import numpy as np\n",
        "\n",
        "arr = [[1,2,3],[4,5,6],[7,8,9]]\n",
        "w,h = 3,3 \n",
        "\n",
        "print(\"source:\\n\",np.array(arr) ) \n",
        "narr = np.zeros((w,h))\n",
        "\n",
        "for x in range(w) :\n",
        "  for y in range(h) :\n",
        "    narr[x][h-y-1] = arr[y][x]\n",
        "    \n",
        "print(\"target:\\n\",narr)\n"
      ],
      "execution_count": 0,
      "outputs": []
    },
    {
      "cell_type": "markdown",
      "metadata": {
        "id": "_ZkC0R99U4nr",
        "colab_type": "text"
      },
      "source": [
        "자 이제 여기까지 이해하셨다면 거의 다 되었습니다. 다만 한가지 .. 컬러 이미지는 h x w 의 크기에 각각 3개의 값을 가지는 3차원 배열입니다. 또한 이미지에 사용되는 배열은 특별히 뒤에 astype('uint8') 이라는 것을 추가해줘야 합니다. \n",
        "\n",
        "그러므로 단일 값이 아닌 3개의 색상값을 가질수 있는 이미지용 배열은 다음과 같이 선언합니다. \n",
        "\n",
        "```\n",
        "np.zeros((w,h,3)).astype('uint8')\n",
        "```\n",
        "이는 총 h x w x 3 의 값을 지니며 이는 각 숫자가 0~255 까지의 범위만 가지는 8비트라는 의미입니다.  이 부분에 대한 자세한 설명을 하자면 상당히 복잡해지니 그냥 이미지에 사용되는 숫자는 좀 작은 범위라서 필요하다로 생각하시면 됩니다. \n",
        "\n",
        "이제 이것을 실제 이미지에 적용해보도록 하죠 \n",
        "\n",
        "#### 코드: 이미지 시계방향으로 회전시키기 "
      ]
    },
    {
      "cell_type": "code",
      "metadata": {
        "colab_type": "code",
        "id": "jxZ-YeD2NxxI",
        "colab": {}
      },
      "source": [
        "#이미지 읽어오기 \n",
        "w,h = img.size\n",
        "arr = np.array(img).reshape(h, w, 3)\n",
        "\n",
        "# 회전에 사용할 빈 이미지 생성\n",
        "narr = np.zeros((w, h, 3)).astype('uint8')\n",
        "\n",
        "# 회전 이미지값 넣기\n",
        "for x in range(w) :\n",
        "  for y in range(h) :\n",
        "    narr[x][h-y-1] = arr[y][x]\n",
        "\n",
        "# 이미지 출력\n",
        "display(Image.fromarray(narr))\n",
        "\n"
      ],
      "execution_count": 0,
      "outputs": []
    },
    {
      "cell_type": "markdown",
      "metadata": {
        "id": "G2zzaMkyy6w3",
        "colab_type": "text"
      },
      "source": [
        "\n",
        "####<font color = 'red'> 연습 8.3.2 : 반시계 회전\n",
        "이번엔 반시계 방향으로 회전을 시키는 방법을 생각해보세요..  인덱스 값의 패턴이 어떻게 변하는지 생각해보시면 크게 어렵지 안게 푸실 수 있으실 겁니다. \n",
        "</font>  "
      ]
    },
    {
      "cell_type": "code",
      "metadata": {
        "id": "qBuSsoPvzMhB",
        "colab_type": "code",
        "colab": {}
      },
      "source": [
        "\n",
        "#이미지 읽어오기 \n",
        "w,h = img.size\n",
        "arr = np.array(img).reshape(h, w, 3)\n",
        "\n",
        "\n",
        "# 연습문제 8.3.2 코드를 넣어보세요\n",
        "\n",
        "\n",
        "# 이미지 출력\n",
        "display(Image.fromarray(narr))\n"
      ],
      "execution_count": 0,
      "outputs": []
    },
    {
      "cell_type": "markdown",
      "metadata": {
        "colab_type": "text",
        "id": "UeMrbpc3xnae"
      },
      "source": [
        "## 8.4 이미지 축소, 확대, 모자이크\n",
        "\n",
        "이번에는 이미지의 크기를 줄이고 늘리는 간단한 방법에 대해 알아보도록 하겠습니다.  임의의 이미지의 크기 조절은 사실 수학적으로 조금 복잡한 부분이 있지만 여기서는 쉽게 할 수 있는 1/2 줄이기와 2배 늘리기를 보도록 하죠"
      ]
    },
    {
      "cell_type": "markdown",
      "metadata": {
        "colab_type": "text",
        "id": "YLqkrYvexnbJ"
      },
      "source": [
        "### 8.4.1 이미지 축소 \n",
        "\n",
        "어떤 이미지의 크기를 반으로 줄인다고 가정할 때 가장 간단한 방법은 이미지의 색상중 하나만 사용하는 것입니다. 즉 2x2 의 색상값이 있을때 \n",
        "```\n",
        "[c1],[c2] \n",
        "[c3],[c4]\n",
        "-> [c1] \n",
        "```\n",
        "이렇게 만드는 거죠. 이 원리를 먼저 1차원 배열로 생각해보면 \n",
        "```\n",
        "값:\n",
        "[1,2,3,4,]\n",
        "-> [1,3] \n",
        "\n",
        "인덱스:\n",
        "0 -> 0\n",
        "1 -> 2\n",
        "```\n",
        "이렇게 매핑이 되는겁니다.  이는 다음과 같은 코드로 가능하죠 \n",
        "```\n",
        "narr[i] = arr[i*2] \n",
        "```\n",
        "\n",
        "이것을 2차원으로 확장해주면 \n",
        "```\n",
        "narr[y][x] = arr[y*2][x*2] \n",
        "```\n",
        "이렇게 표현할 수 있습니다.  이제 이걸 적용해서 이미지 크기를 줄여보도록 하겠습니다. "
      ]
    },
    {
      "cell_type": "code",
      "metadata": {
        "id": "DzQF1Zx4wCtp",
        "colab_type": "code",
        "colab": {}
      },
      "source": [
        "#이미지 읽어오기 \n",
        "w,h = img.size\n",
        "arr = np.array(img).reshape(h, w, 3)\n",
        "\n",
        "# 1/2 크기 이미지 배열 생성\n",
        "sw, sh = int(w/3), int(h/3)\n",
        "narr = np.zeros((sh,sw,3)).astype('uint8')\n",
        "\n",
        "# 배열 값 입력\n",
        "for y in range(sh):\n",
        "  for x in range(sw):\n",
        "    \n",
        "    narr[y][x] = arr[y*3][x*3]\n",
        "    \n",
        "display( Image.fromarray( narr ) ) \n",
        "\n",
        "\n"
      ],
      "execution_count": 0,
      "outputs": []
    },
    {
      "cell_type": "markdown",
      "metadata": {
        "colab_type": "text",
        "id": "2oe26s2yzHFq"
      },
      "source": [
        "### 8.4.2 이미지 확대\n",
        "\n",
        "이미지를 확대할 경우는 w,h 가 두배인 이미지를 임의로 만들고 이 점들의 색상값을 인덱스를 원 이미지의 x/2 , y/2 에서 가져오면 된다. \n",
        "\n",
        "\n"
      ]
    },
    {
      "cell_type": "code",
      "metadata": {
        "colab_type": "code",
        "id": "H9B3Zc73zHFw",
        "colab": {}
      },
      "source": [
        "#이미지 읽어오기 \n",
        "w,h = img.size\n",
        "arr = np.array(img).reshape(h, w, 3)\n",
        "\n",
        "# 2/2 크기 이미지 배열 생성\n",
        "nw, nh = int(w*2), int(h*2)\n",
        "narr = np.zeros((nh,nw,3)).astype('uint8')\n",
        "\n",
        "# 배열 값 입력\n",
        "for y in range(nh):\n",
        "  for x in range(nw):\n",
        "    sx,sy = int(x/2), int(y/2)\n",
        "    narr[y][x] = arr[sy][sx]\n",
        "    \n",
        "display( Image.fromarray( narr ) ) \n",
        "\n",
        "\n"
      ],
      "execution_count": 0,
      "outputs": []
    },
    {
      "cell_type": "markdown",
      "metadata": {
        "colab_type": "text",
        "id": "iZHrvU4C5Hhz"
      },
      "source": [
        "### 8.4.3 모자이크 이미지 만들기\n",
        "\n",
        "이번에는 모자이크 이미지를 만드는 방법에 대해 알아보도록 하겠습니다.  모자이크 이미지란 크기의 영역값이 동일한 값을 갖게 하면 됩니다.  이를 위해 더 간단한 예제부터 생각해보죠. \n",
        "\n",
        "먼저  [1,2,3,4,5,6] 이것을 3개 단위로 대표값을 설정해서 \n",
        "```\n",
        "1,2,3 -> 1,1,1\n",
        "4,5,6 -> 4,4,4\n",
        "``` \n",
        "이렇게 설정하는 방법을 생각해보죠. 이를 인덱스로 변환하면 다음과 같습니다. \n",
        "```\n",
        "0,1,2 -> 0\n",
        "3,4,5 -> 3\n",
        "```\n",
        "이걸 해주는 규칙은 다음과 같습니다. \n",
        "```\n",
        "i -> i - i % 3\n",
        "```\n",
        "\n",
        "이걸 코드화 하면 다음과 같죠\n",
        "\n",
        "\n"
      ]
    },
    {
      "cell_type": "code",
      "metadata": {
        "id": "aCOrHJ777Qzs",
        "colab_type": "code",
        "colab": {}
      },
      "source": [
        "a = [1,2,3,4,5,6]\n",
        "na = [0,0,0,0,0,0]\n",
        "for i in range(len(a)):\n",
        "  na[i] = a[i - i % 3]\n",
        "print(na)"
      ],
      "execution_count": 0,
      "outputs": []
    },
    {
      "cell_type": "markdown",
      "metadata": {
        "id": "4wpyj0PY72-z",
        "colab_type": "text"
      },
      "source": [
        "이제 이것을 이용해서 이미지를 모자이크 하는 코드를 보겠습니다. "
      ]
    },
    {
      "cell_type": "code",
      "metadata": {
        "colab_type": "code",
        "id": "ftsJcv7B5HiH",
        "colab": {}
      },
      "source": [
        "#이미지 읽어오기 \n",
        "w,h = img.size\n",
        "arr = np.array(img).reshape(h, w, 3)\n",
        "\n",
        "# 2/2 크기 이미지 배열 생성\n",
        "narr = np.zeros((h,w,3)).astype('uint8')\n",
        "\n",
        "# 모자이크 크기 설정 \n",
        "b = 20\n",
        "\n",
        "# 배열 값 입력\n",
        "for y in range(h):\n",
        "  for x in range(w):    \n",
        "    narr[y][x] = arr[y - y % b][x - x % b]\n",
        "    \n",
        "display( Image.fromarray( narr ) ) \n",
        "\n",
        "\n"
      ],
      "execution_count": 0,
      "outputs": []
    },
    {
      "cell_type": "markdown",
      "metadata": {
        "colab_type": "text",
        "id": "BMwdPnif93fG"
      },
      "source": [
        "## 8.5 이미지를 저장\n",
        "\n",
        "이미지에 어떤 작업을 하더라도 그것을 저장 할 수 없다면 흥미가 떨어지겠죠. 이제 우리가 작업한 이미지를 실제 이미지 파일로 저장하는 걸 해보도록 하겠습니다. \n",
        "방법은 매우 간단합니다. 아래 코드를 실행하면 이미지가 파일로 저장 됩니다.  \n",
        "\n",
        "단 어디까지나 이 프로그램이 작동하는 것은 구글의 가상 서버이므로 좌측의 파일탭을 통해 다운받으셔야 온전히 그림파일을 받아 사용하실 수 있습니다. "
      ]
    },
    {
      "cell_type": "markdown",
      "metadata": {
        "colab_type": "text",
        "id": "hPaWgQ_Vupmo"
      },
      "source": [
        "#### 코드 : 배열을 이미지 파일로 저장 "
      ]
    },
    {
      "cell_type": "code",
      "metadata": {
        "id": "oGc1D0-0p7eg",
        "colab_type": "code",
        "colab": {}
      },
      "source": [
        "Image.fromarray( narr ).save(\"sv.png\")"
      ],
      "execution_count": 0,
      "outputs": []
    },
    {
      "cell_type": "code",
      "metadata": {
        "id": "ROITa_rh_AUi",
        "colab_type": "code",
        "colab": {}
      },
      "source": [
        ""
      ],
      "execution_count": 0,
      "outputs": []
    }
  ]
}