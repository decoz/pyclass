{
  "nbformat": 4,
  "nbformat_minor": 0,
  "metadata": {
    "colab": {
      "name": "컴퓨터실습2 기말고사 [코스 2].ipynb",
      "provenance": [],
      "collapsed_sections": [],
      "authorship_tag": "ABX9TyPZYA/vfntnexuJDG0cR7sg",
      "include_colab_link": true
    },
    "kernelspec": {
      "name": "python3",
      "display_name": "Python 3"
    }
  },
  "cells": [
    {
      "cell_type": "markdown",
      "metadata": {
        "id": "view-in-github",
        "colab_type": "text"
      },
      "source": [
        "<a href=\"https://colab.research.google.com/github/decoz/pyclass/blob/master/%EC%BB%B4%ED%93%A8%ED%84%B0%EC%8B%A4%EC%8A%B52_%EA%B8%B0%EB%A7%90%EA%B3%A0%EC%82%AC_%5B%EC%BD%94%EC%8A%A4_2%5D.ipynb\" target=\"_parent\"><img src=\"https://colab.research.google.com/assets/colab-badge.svg\" alt=\"Open In Colab\"/></a>"
      ]
    },
    {
      "cell_type": "markdown",
      "metadata": {
        "id": "Bkj26YclUuKK",
        "colab_type": "text"
      },
      "source": [
        "\n",
        "\n",
        "# 2020 학년도 컴퓨터실습2 기말고사 [실습2 과정] \n",
        "\n",
        "```\n",
        "#### 기말고사 규칙:\n",
        "- 라이브러리나 함수의 도움 없이 기본적인 문법으로 문제를 해결하셔야합니다. 타입변환(str, int등), 배열의 카피(arr.copy()) 등 수업시간에 사용된 함수는 가능합니다. \n",
        "- 푸신 문제중에 가장 난이도가 높은 문제를 기준으로 점수 평가가 됩니다. \n",
        "- 소스를 실행했을때 실행이 되어야 합니다. \n",
        "- 제출시에는 ipynb 파일로 다운 받아 과제제출에 6시 반까지 제출하셔야합니다.\n",
        "- 수업시간에 알려드린 방식과 다르거나 지나치게 유사한 답안이 존재할 경우  본인이 푸신걸 확인하기 위한 절차를 요청할 수 있습니다. 이때 설명을 못하시면 부정시험으로 간주합니다. \n",
        "```\n",
        " <hr> \n",
        "\n"
      ]
    },
    {
      "cell_type": "markdown",
      "metadata": {
        "id": "wtNOvbszaTWx",
        "colab_type": "text"
      },
      "source": [
        "## 문자열, 함수관련\n",
        "\n",
        "\n",
        "#### 문제 1 : 문자열에서 공백 문자의 갯수를 출력하는 함수를 blank_cnt() 를 만들어보세요 [60점]\n",
        "\n",
        "예\n",
        "```\n",
        "print( blank_cnt( \"a b c\" ) ) \n",
        "-> 2 \n",
        "\n",
        "print( blank_cnt( \"blank cnt is 4 \") ) \n",
        "-> 4\n",
        "```\n",
        "\n"
      ]
    },
    {
      "cell_type": "code",
      "metadata": {
        "id": "BZgxwxuobc0F",
        "colab_type": "code",
        "colab": {}
      },
      "source": [
        "# blank_cnt 함수를 여기에 만드세요\n",
        "\n",
        "\n",
        "\n",
        "# 테스트 코드\n",
        "print( blank_cnt( \"a b c\" ) ) \n",
        "print( blank_cnt( \"blank cnt is 4 \") ) \n"
      ],
      "execution_count": null,
      "outputs": []
    },
    {
      "cell_type": "markdown",
      "metadata": {
        "colab_type": "text",
        "id": "D9wUo4xIb_mO"
      },
      "source": [
        "\n",
        "<Br><Br><Br>\n",
        "#### 문제 2 : 문자열에 등장하는 숫자를 죄다 두배로 바꿔주는 함수 double_str을 작성하세요 [80점]\n",
        "\n",
        "예\n",
        "```\n",
        "print( double_str( \"1 2 3\" ) ) \n",
        "-> 4 5 6 \n",
        "\n",
        "print( double_str( \"5 10 15\") ) \n",
        "-> 10 20 30\n",
        "```\n",
        "\n"
      ]
    },
    {
      "cell_type": "code",
      "metadata": {
        "colab_type": "code",
        "id": "kOIj8fH8b_mP",
        "colab": {}
      },
      "source": [
        "# double_str 함수를 여기에 만드세요\n",
        "\n",
        "\n",
        "\n",
        "# 테스트 코드\n",
        "print( double_str( \"1 2 3\" ) ) \n",
        "print( double_str( \"5 10 15\") ) "
      ],
      "execution_count": null,
      "outputs": []
    },
    {
      "cell_type": "markdown",
      "metadata": {
        "colab_type": "text",
        "id": "3NHTGnspsu8N"
      },
      "source": [
        "\n",
        "<Br><Br><Br>\n",
        "#### 문제 3 : 다음 배열에 들어있는 문자열을 찾아 다른 문자열로 교체해주는 함수 replace를 작성하세요 [100점]\n",
        "\n",
        "예\n",
        "```\n",
        "print( replace( \"abcde\", \"ab\", \"**\" ) ) \n",
        "-> **cde\n",
        "\n",
        "print( replace( \"say good day\", \"ay\", \"o\" ) ) \n",
        "-> so good do \n",
        "```\n",
        "\n"
      ]
    },
    {
      "cell_type": "code",
      "metadata": {
        "colab_type": "code",
        "id": "ZQZw5ruVsu8V",
        "colab": {}
      },
      "source": [
        "# replace 함수를 여기에 만드세요\n",
        "\n",
        "\n",
        "# 테스트 코드\n",
        "print( replace( \"abcde\", \"ab\", \"**\" ) ) \n",
        "print( replace( \"say good day\", \"ay\", \"o\" ) ) "
      ],
      "execution_count": null,
      "outputs": []
    },
    {
      "cell_type": "markdown",
      "metadata": {
        "id": "2yOGw2WEbw5J",
        "colab_type": "text"
      },
      "source": [
        " \n",
        "<Br><Br><Br>\n",
        "<hr>\n",
        "\n",
        "## 이미지 관련 \n",
        "\n",
        " 다음은 이미지 파일을 열어서 배열로 변환한 후에 이를 출력하는 코드이다. "
      ]
    },
    {
      "cell_type": "code",
      "metadata": {
        "id": "mor58DrvVAj6",
        "colab_type": "code",
        "colab": {}
      },
      "source": [
        "from PIL import Image\n",
        "from IPython.display import display\n",
        "import numpy as np \n",
        "\n",
        "from urllib import request\n",
        "img = Image.open(request.urlopen(\"https://drive.google.com/uc?export=view&id=161xSeuPhLETQncffgTqAndyAoNobEUyK\") )\n",
        "w,h = img.size\n",
        "arr = np.array(img).reshape(h, w, 3)\n",
        "\n",
        "display(Image.fromarray(arr))"
      ],
      "execution_count": null,
      "outputs": []
    },
    {
      "cell_type": "markdown",
      "metadata": {
        "id": "oRWXXm-NYABB",
        "colab_type": "text"
      },
      "source": [
        "<Br><Br><Br>\n",
        "\n",
        "#### 문제 4: 위에서 읽어들인 이미지를 아래의 형태로 변환하는 코드를 작성하세요 [70점]\n",
        "![대체 텍스트](https://drive.google.com/uc?export=view&id=1oQC9-Ag3_DvlBxWOrAx3lrCMEd71flft)\n",
        "\n"
      ]
    },
    {
      "cell_type": "code",
      "metadata": {
        "colab_type": "code",
        "id": "yblpkSqVyCD2",
        "colab": {}
      },
      "source": [
        "# 문제 4번 답안 작성\n",
        "\n",
        "\n",
        "# 출력코드\n",
        "display(Image.fromarray(arr))\n"
      ],
      "execution_count": null,
      "outputs": []
    },
    {
      "cell_type": "markdown",
      "metadata": {
        "colab_type": "text",
        "id": "UQavT2auyCDv"
      },
      "source": [
        "<Br><Br><Br>\n",
        "\n",
        "#### 문제 5: 위에서 읽어들인 이미지를 아래의 형태로 변환하는 코드를 작성하세요 [90점]\n",
        "![대체 텍스트](https://drive.google.com/uc?export=view&id=13gO02cfUQI4oK0pTDbmGa6SbsGinLZeE\n",
        ")\n"
      ]
    },
    {
      "cell_type": "code",
      "metadata": {
        "id": "qVeCmVV8Wq-c",
        "colab_type": "code",
        "colab": {}
      },
      "source": [
        "# 문제 5번 답안 작성\n",
        "\n",
        "\n",
        "\n",
        "# 출력코드\n",
        "display(Image.fromarray(arr))"
      ],
      "execution_count": null,
      "outputs": []
    }
  ]
}