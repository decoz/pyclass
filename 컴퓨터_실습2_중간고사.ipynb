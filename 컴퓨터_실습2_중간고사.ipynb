{
  "nbformat": 4,
  "nbformat_minor": 0,
  "metadata": {
    "colab": {
      "name": "컴퓨터 실습2 중간고사.ipynb",
      "provenance": [],
      "collapsed_sections": [],
      "authorship_tag": "ABX9TyPhcI32U+cMVonY47PMdKPM",
      "include_colab_link": true
    },
    "kernelspec": {
      "name": "python3",
      "display_name": "Python 3"
    }
  },
  "cells": [
    {
      "cell_type": "markdown",
      "metadata": {
        "id": "view-in-github",
        "colab_type": "text"
      },
      "source": [
        "<a href=\"https://colab.research.google.com/github/decoz/pyclass/blob/master/%EC%BB%B4%ED%93%A8%ED%84%B0_%EC%8B%A4%EC%8A%B52_%EC%A4%91%EA%B0%84%EA%B3%A0%EC%82%AC.ipynb\" target=\"_parent\"><img src=\"https://colab.research.google.com/assets/colab-badge.svg\" alt=\"Open In Colab\"/></a>"
      ]
    },
    {
      "cell_type": "markdown",
      "metadata": {
        "id": "H4iSXaD3INl3",
        "colab_type": "text"
      },
      "source": [
        "## 푸시기 전에 .. \n",
        "\n",
        "아래의 중간고사는 과제형식임과 동시에 기말고사의 모의고사입니다.  그러므로 본인의 실력을 테스트 하실 경우 기말고사의 규칙을 미리 숙지하시고 시험처럼 임해보시는 것도 도움이 되실겁니다. 아래는 기말고사 시행의 규칙입니다. \n",
        "\n",
        "```\n",
        "#### 기말고사 규칙:\n",
        "- 기말고사는 오픈북 형태로서 수업시간 자료를 모두 조회, 참고 가능합니다. \n",
        "- 인터넷 검색도 가능하지만 수험자간의 정보교환은 엄격히 금합니다. 적발시 바로 퇴실 조치합니다. \n",
        "- 수험 시간은 1시간에서 1시간 30분 정도를 드립니다. \n",
        "- 점수는 작성하신 프로그램중에 가장 난이도가 높은 프로그램으로 반영되며 그러므로 가장 난이도가 높은 프로그램 하나만 작성하셔도 만점입니다. \n",
        "- 채점은 수험시간에 프로그램 실행시 즉시 감독관에게 말씀하시고 시연하시면 바로 적용됩니다. \n",
        "- 쉬운 프로그램을 채점 받은 후에 다시 난이도 높은 프로그램을 재 채점 받으셔도 됩니다.\n",
        "```\n",
        "\n",
        "중간고사는 기말고사의 모의시험이지만 여러분들이 최소 1-3번까지는 다 풀어보시고 제출하시는 것을 부탁드립니다. 본인이 아직 부족하다고 느끼시는 분들은 주변을 도움을 받아 작성하시는 것도 괜찮습니다. "
      ]
    },
    {
      "cell_type": "markdown",
      "metadata": {
        "id": "swr1Zb8MWSTl",
        "colab_type": "text"
      },
      "source": [
        "<hr> \n",
        "\n",
        "# 2020 학년도 중간고사 과제 \n",
        "\n",
        "푸시기 전에 먼저 아래의 기본 라이브러리 호출 코드와 먼저 실행하고 작성해주세요 \n"
      ]
    },
    {
      "cell_type": "code",
      "metadata": {
        "id": "Xh6uPSm5Wc92",
        "colab_type": "code",
        "colab": {}
      },
      "source": [
        "from PIL import Image\n",
        "from IPython.display import display\n",
        "import numpy as np"
      ],
      "execution_count": 0,
      "outputs": []
    },
    {
      "cell_type": "markdown",
      "metadata": {
        "id": "gbs21zbzDXG2",
        "colab_type": "text"
      },
      "source": [
        "\n",
        "<Br> <Br> <Br>\n",
        "\n",
        "\n",
        "#### 문제 1. 다음 배열의 값을 변경해 다음과 같은 모양이 찍히도록 하세요 [30점]\n",
        "![대체 텍스트](data:image/png;base64,iVBORw0KGgoAAAANSUhEUgAAAGQAAABkCAAAAABVicqIAAAAPElEQVR4nO3NsQkAIADAsOL/P+vkCYpIMnVrVbPtTI0uMDExMTExMTExMTExMTExMTEx+WkCAAAAALxoAZ48ClkgxGMpAAAAAElFTkSuQmCC)"
      ]
    },
    {
      "cell_type": "code",
      "metadata": {
        "id": "hPTeESBhDKi8",
        "colab_type": "code",
        "colab": {}
      },
      "source": [
        "# 배열생성\n",
        "arr = []\n",
        "for i in range(10000):\n",
        "    arr += [0]\n",
        "\n",
        "# 문제 1번의 코드를 작성하세요\n",
        "\n",
        "\n",
        "\n",
        "\n",
        "\n",
        "\n",
        "# 출력코드\n",
        "display( Image.fromarray( np.array(arr).astype('uint8').reshape(100,100) , 'L' ) )\n"
      ],
      "execution_count": 0,
      "outputs": []
    },
    {
      "cell_type": "markdown",
      "metadata": {
        "colab_type": "text",
        "id": "t04gqti7X2DZ"
      },
      "source": [
        "\n",
        "<Br><Br><Br>\n",
        "\n",
        "#### 문제 2. 다음 배열의 값을 변경해 다음과 같은 모양이 찍히도록 하세요 [40점]\n",
        "![대체 텍스트](data:image/png;base64,iVBORw0KGgoAAAANSUhEUgAAAGQAAABkCAAAAABVicqIAAAAk0lEQVR4nO3ZOw6AMAwE0QRx/ytDx7pA5GdHFpqtqPyKaCpKeXaFfR1lw0BAQNo71WWNQ+JOa/95ExCQuJniNe9AKR4EJAnyWrzmkyrFg4AkQRrFayvRUjwISBKku3htPF+KBwFJgkwUr/WGTPEgIEmQpeK176QpHgQkCeJUvLYjbjN++oOAjKx6F29Oh11mjE3uBhswE833HXpoAAAAAElFTkSuQmCC)"
      ]
    },
    {
      "cell_type": "code",
      "metadata": {
        "colab_type": "code",
        "id": "KMPJbk2vX2Db",
        "colab": {}
      },
      "source": [
        "# 배열생성\n",
        "arr = []\n",
        "for i in range(10000):\n",
        "    arr += [0]\n",
        "\n",
        "# 문제 2번의 코드를 작성하세요\n",
        "\n",
        "\n",
        "\n",
        "# 출력코드\n",
        "display( Image.fromarray( np.array(arr).astype('uint8').reshape(100,100) , 'L' ) )\n"
      ],
      "execution_count": 0,
      "outputs": []
    },
    {
      "cell_type": "markdown",
      "metadata": {
        "colab_type": "text",
        "id": "_LUkC6VoZfcp"
      },
      "source": [
        "\n",
        "<Br><Br><Br>\n",
        "\n",
        "#### 문제 3. 다음 이중배열으로 생성된 이미지에 다음과 같은 색상패턴을 그려보세요 [50점]\n",
        "\n",
        "![대체 텍스트](data:image/png;base64,iVBORw0KGgoAAAANSUhEUgAAAGQAAABkCAAAAABVicqIAAABQElEQVR4nO2Yuw7DMAwDawNdnP//2U4d+koTOxYl0RO7CsQhqSMfWG5t9NvgwWhSFzDGkETGEJLJ2AaQVMbgSXIZfUgyowvJZvQg6YwOJJ9xhhAYJwiDcYRQGAcIh/EPITH+ICzGHkJj7CA8xg9CZHwhTMYHQmW8IVzGC0JmtLqA0eoCRisPPqOVO5/hkDvH64XlzvMXonLnOiag3PmOIiZ3zuMOyZ33k0Lkzv3ZAnLnXw12uQusH7PcRVacVe5Ca9Qod7FVbZO74HVgkrvolWORu/C1ZpC7+NU5l7uE63kqdxkKMJO7FM2YyF2OylzLXZIuXcpdlpJdyV2a9tUFjFZUDyIT1YNQRPUgFFE9CEVUD0IR1YNQRPUgFFE9CA1UD0ID1YNQRPUgFFE9CEVUD0IR1YNQRPUgFFE9CEWW1INP7xuKuLhcUhkAAAAASUVORK5CYII=)\n",
        "\n",
        "(아주 완전히 똑같지는 않아도 됩니다. ) "
      ]
    },
    {
      "cell_type": "code",
      "metadata": {
        "colab_type": "code",
        "id": "doWlxWnyZfcr",
        "colab": {}
      },
      "source": [
        "# 배열생성\n",
        "arr = [] \n",
        "for i in range(100):\n",
        "  tarr = []\n",
        "  for j in range(100):\n",
        "    tarr = tarr + [0] \n",
        "  arr = arr + [tarr]\n",
        "\n",
        "# 문제 2번의 코드를 작성하세요\n",
        "\n",
        "\n",
        "\n",
        "\n",
        "# 이미지 출력\n",
        "display( Image.fromarray( np.array(arr).astype('uint8') , 'L' ) )  \n"
      ],
      "execution_count": 0,
      "outputs": []
    },
    {
      "cell_type": "markdown",
      "metadata": {
        "colab_type": "text",
        "id": "MUHuRKXeEF4Q"
      },
      "source": [
        "<Br><Br><Br>\n",
        "\n",
        "#### 문제 4. 다음 불러들인 이미지를 아랫쪽 그림처럼 점점 아래쪽으로 음영이 발생하도록 고쳐보세요 [60점]\n",
        "\n",
        "![대체 텍스트](https://drive.google.com/uc?export=view&id=1PofmO0hIBIpJDT9UVl5I-FBggH0-uJjd)\n",
        "\n",
        "![대체 텍스트](https://drive.google.com/uc?export=view&id=1jAEFsCf6f3AyVIpI5jki6LlLTCFzqm5C)"
      ]
    },
    {
      "cell_type": "code",
      "metadata": {
        "colab_type": "code",
        "id": "DPPNykWIEFlI",
        "colab": {}
      },
      "source": [
        "# 이미지 읽어오기\n",
        "from urllib import request\n",
        "img = Image.open(request.urlopen(\"https://drive.google.com/uc?export=view&id=1PofmO0hIBIpJDT9UVl5I-FBggH0-uJjd\") )\n",
        "\n",
        "# 배열로 변환하고 크기 w,h 를 구하기 \n",
        "w,h = img.size\n",
        "arr = np.array(img).reshape(h, w, 3)\n",
        "\n",
        "# 문제 4 의 코드를 작성하세요\n",
        "\n",
        "\n",
        "#배열을 다시 이미지로 출력\n",
        "display(Image.fromarray(arr))\n"
      ],
      "execution_count": 0,
      "outputs": []
    },
    {
      "cell_type": "markdown",
      "metadata": {
        "id": "7DZqGQXERPMA",
        "colab_type": "text"
      },
      "source": [
        "\n",
        "### 참고 : \n",
        "- 과제 제출은 1주일 뒤(5월 11일 밤) 까지입니다. \n",
        "- 과제는 기말고사와는 달리 코드만 작성하셔도 충분한 점수를 드립니다. 정답과 정답이 아닌 답안의 점수차이는 총합해도 기말고사 배점 대비 10% 미만의 미미한 차이입니다.\n",
        "- 기말고사는 변별력을 위해 문제숫자가 더 늘어날 수도 있습니다. 문제가 늘어나는 것은 여러분에게 더 많은 선택권이 주어지는 것이므로 부담을 안느끼셔도 됩니다. \n",
        "- 과제는 작동여부보다는 여러분들이 작성한 코드가 실제 문제를 풀기 위해 충분한 노력이 있었는가를 위주로 평가합니다. \n",
        "- 문제 4번의 경우 난이도가 상당히 높기 때문에 4번답이 기재 안되더라도 중간과제 평가에는 영향을 미치지 안습니다.  다만 최고 난이도의 문제는 이런 느낌이다라는 정도로 체험하시면 될 듯 합니다. \n",
        "- 중간 시험 풀이는 따로 영상으로 올리도록 하겠습니다. "
      ]
    },
    {
      "cell_type": "code",
      "metadata": {
        "id": "w9V4mMLoRx1v",
        "colab_type": "code",
        "colab": {}
      },
      "source": [
        ""
      ],
      "execution_count": 0,
      "outputs": []
    }
  ]
}