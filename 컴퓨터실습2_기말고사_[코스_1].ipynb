{
  "nbformat": 4,
  "nbformat_minor": 0,
  "metadata": {
    "colab": {
      "name": "컴퓨터실습2 기말고사 [코스 1].ipynb",
      "provenance": [],
      "collapsed_sections": [],
      "authorship_tag": "ABX9TyMDyKEOqT2YD2wO6D8eclsX",
      "include_colab_link": true
    },
    "kernelspec": {
      "name": "python3",
      "display_name": "Python 3"
    }
  },
  "cells": [
    {
      "cell_type": "markdown",
      "metadata": {
        "id": "view-in-github",
        "colab_type": "text"
      },
      "source": [
        "<a href=\"https://colab.research.google.com/github/decoz/pyclass/blob/master/%EC%BB%B4%ED%93%A8%ED%84%B0%EC%8B%A4%EC%8A%B52_%EA%B8%B0%EB%A7%90%EA%B3%A0%EC%82%AC_%5B%EC%BD%94%EC%8A%A4_1%5D.ipynb\" target=\"_parent\"><img src=\"https://colab.research.google.com/assets/colab-badge.svg\" alt=\"Open In Colab\"/></a>"
      ]
    },
    {
      "cell_type": "markdown",
      "metadata": {
        "id": "Bkj26YclUuKK",
        "colab_type": "text"
      },
      "source": [
        "\n",
        "\n",
        "# 2020 학년도 컴퓨터실습2 기말고사 [실습1 과정] \n",
        "\n",
        "```\n",
        "#### 기말고사 규칙:\n",
        "- 라이브러리나 함수의 도움 없이 기본적인 문법으로 문제를 해결하셔야합니다. 타입변환(str, int등), 배열의 카피(arr.copy()) 등 수업시간에 사용된 함수는 가능합니다. \n",
        "- 푸신 문제중에 가장 난이도가 높은 문제를 기준으로 점수 평가가 됩니다. \n",
        "- 소스를 실행했을때 실행이 되어야 합니다. \n",
        "- 제출시에는 ipynb 파일로 다운 받아 과제제출에 6시 반까지 제출하셔야합니다.\n",
        "- 수업시간에 알려드린 방식과 다르거나 지나치게 유사한 답안이 존재할 경우  본인이 푸신걸 확인하기 위한 절차를 요청할 수 있습니다. 이때 설명을 못하시면 부정시험으로 간주합니다. \n",
        "```\n",
        " <hr> \n"
      ]
    },
    {
      "cell_type": "markdown",
      "metadata": {
        "id": "wtNOvbszaTWx",
        "colab_type": "text"
      },
      "source": [
        "## 배열 관련\n",
        "\n",
        "\n",
        "#### 문제 1 : 배열에서 가장 큰 숫자를 제외한 합산값을 구하는 프로그램을 작성하세요 [60점]\n",
        "\n",
        "예\n",
        "```\n",
        "arr = [1,3,5,7]\n",
        "-> 9\n",
        "\n",
        "arr = [5,2,4,1]\n",
        "-> 7\n",
        "```\n",
        "\n"
      ]
    },
    {
      "cell_type": "code",
      "metadata": {
        "id": "BZgxwxuobc0F",
        "colab_type": "code",
        "colab": {}
      },
      "source": [
        "arr = [5,2,4,1]\n",
        "# 문제 1의 코드를 작성하세요\n"
      ],
      "execution_count": null,
      "outputs": []
    },
    {
      "cell_type": "markdown",
      "metadata": {
        "colab_type": "text",
        "id": "D9wUo4xIb_mO"
      },
      "source": [
        "\n",
        "<Br><Br><Br>\n",
        "#### 문제 2 : 2차원 배열에서 행별로 가장 큰 값들의 합산값을 구하는 문제를 출력하세요 [70점]\n",
        "\n",
        "예\n",
        "```\n",
        "arr = [[5,2,3,4], [8,9,6]]\n",
        "\n",
        "-> \n",
        "[5,2,3,4] -> 5 \n",
        "[8,6,9] -> 9 \n",
        "\n",
        "출력 : 14\n",
        "```\n",
        "\n"
      ]
    },
    {
      "cell_type": "code",
      "metadata": {
        "id": "l4Ztc5zFtwbr",
        "colab_type": "code",
        "colab": {}
      },
      "source": [
        "arr = [[5,2,3,4], [8,9,6]]\n",
        "\n",
        "# 문제 2의 코드를 여기에 작성하세요\n"
      ],
      "execution_count": null,
      "outputs": []
    },
    {
      "cell_type": "markdown",
      "metadata": {
        "colab_type": "text",
        "id": "RkAZyz1itxV3"
      },
      "source": [
        "\n",
        "<Br><Br><Br>\n",
        "#### 문제 3 : 10 x 10 인 이차원 배열이 있다고 할때 이 배열을 다음과 같은 값으로 채우세요 [80점]\n",
        "\n",
        "예\n",
        "```\n",
        "[0, 0, 0, 0, 0, 0, 0, 0, 0, 0]\n",
        "[0, 1, 0, 0, 0, 0, 0, 0, 0, 0]\n",
        "[0, 1, 2, 0, 0, 0, 0, 0, 0, 0]\n",
        "[0, 1, 2, 3, 0, 0, 0, 0, 0, 0]\n",
        "[0, 1, 2, 3, 4, 0, 0, 0, 0, 0]\n",
        "[0, 1, 2, 3, 4, 5, 0, 0, 0, 0]\n",
        "[0, 1, 2, 3, 4, 5, 6, 0, 0, 0]\n",
        "[0, 1, 2, 3, 4, 5, 6, 7, 0, 0]\n",
        "[0, 1, 2, 3, 4, 5, 6, 7, 8, 0]\n",
        "[0, 1, 2, 3, 4, 5, 6, 7, 8, 9]\n",
        "```\n",
        "\n"
      ]
    },
    {
      "cell_type": "code",
      "metadata": {
        "colab_type": "code",
        "id": "hueXFbeKtxV5",
        "colab": {}
      },
      "source": [
        "# 10x10 2차원 배열 만들기 \n",
        "arr = []\n",
        "for i in range(10):\n",
        "  a = []\n",
        "  for j in range(10):\n",
        "    a = a + [0]\n",
        "  arr = arr + [a]  \n",
        "\n",
        "# 문제3의 코드를 작성하세요\n",
        "\n",
        "\n",
        "# 출력\n",
        "for a in arr:\n",
        "  print(a)\n",
        "\n"
      ],
      "execution_count": null,
      "outputs": []
    },
    {
      "cell_type": "markdown",
      "metadata": {
        "colab_type": "text",
        "id": "DfNOJTqGFKD9"
      },
      "source": [
        "<Br><Br><Br>\n",
        "<hr>\n",
        "\n",
        "##  이미지 관련\n",
        "\n",
        "아래는 크기가 100x100 인 0으로 가득찬 2차원 배열을 생성해 이미지로 표현하는 코드이다.\n",
        "\n"
      ]
    },
    {
      "cell_type": "code",
      "metadata": {
        "colab_type": "code",
        "id": "l8Od24d-FKD_",
        "colab": {}
      },
      "source": [
        "from PIL import Image\n",
        "from IPython.display import display\n",
        "import numpy as np\n",
        "\n",
        "arr = [] \n",
        "for i in range(100):\n",
        "  tarr = []\n",
        "  for j in range(100):\n",
        "    tarr = tarr + [0] \n",
        "  arr = arr + [tarr]\n",
        "\n",
        "display( Image.fromarray( np.array(arr).astype('uint8').reshape(100,100) , 'L' ) )"
      ],
      "execution_count": null,
      "outputs": []
    },
    {
      "cell_type": "markdown",
      "metadata": {
        "colab_type": "text",
        "id": "sRj-aQe_J_nc"
      },
      "source": [
        "<Br>\n",
        "\n",
        "#### 문제 4 : 아래와 같은 이미지가 출력되도록 배열값을 바꾸세요 [90점]\n",
        "![image.png](data:image/png;base64,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)"
      ]
    },
    {
      "cell_type": "code",
      "metadata": {
        "id": "TKn-oVvRvNCN",
        "colab_type": "code",
        "colab": {}
      },
      "source": [
        "# 배열 값 초기화\n",
        "for x in range(100):\n",
        "  for y in range(100):\n",
        "    arr[y][x] = 0 \n",
        "\n",
        "# 문제 5의 코드를 작성하세요\n",
        "\n",
        "\n",
        "# 출력\n",
        "display( Image.fromarray( np.array(arr).astype('uint8').reshape(100,100) , 'L' ) )      "
      ],
      "execution_count": null,
      "outputs": []
    },
    {
      "cell_type": "markdown",
      "metadata": {
        "colab_type": "text",
        "id": "C1eBDFKFUKBf"
      },
      "source": [
        "<Br><Br><Br>\n",
        "\n",
        "#### 문제 5 : 아래와 같은 이미지가 출력되도록 배열값을 바꾸세요 [100점]\n",
        "\n",
        "![대체 텍스트](https://drive.google.com/uc?export=view&id=1sceRW5P3q9SNDtWbxBrwBQZ7SBvRETqW\n",
        ")"
      ]
    },
    {
      "cell_type": "code",
      "metadata": {
        "id": "YwNKeFzqP5qj",
        "colab_type": "code",
        "colab": {}
      },
      "source": [
        "# 배열 값 초기화\n",
        "for x in range(100):\n",
        "  for y in range(100):\n",
        "    arr[y][x] = 0 \n",
        "\n",
        "# 문제 5의 코드를 작성하세요\n",
        "\n",
        "    \n",
        "# 출력    \n",
        "display( Image.fromarray( np.array(arr).astype('uint8').reshape(100,100) , 'L' ) )    "
      ],
      "execution_count": null,
      "outputs": []
    }
  ]
}