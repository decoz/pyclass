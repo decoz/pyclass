{
  "nbformat": 4,
  "nbformat_minor": 0,
  "metadata": {
    "kernelspec": {
      "display_name": "Python 3",
      "language": "python",
      "name": "python3"
    },
    "language_info": {
      "codemirror_mode": {
        "name": "ipython",
        "version": 3
      },
      "file_extension": ".py",
      "mimetype": "text/x-python",
      "name": "python",
      "nbconvert_exporter": "python",
      "pygments_lexer": "ipython3",
      "version": "3.5.2"
    },
    "colab": {
      "name": "3 if.ipynb",
      "provenance": [],
      "collapsed_sections": [],
      "toc_visible": true,
      "include_colab_link": true
    }
  },
  "cells": [
    {
      "cell_type": "markdown",
      "metadata": {
        "id": "view-in-github",
        "colab_type": "text"
      },
      "source": [
        "<a href=\"https://colab.research.google.com/github/decoz/pyclass/blob/master/3_if.ipynb\" target=\"_parent\"><img src=\"https://colab.research.google.com/assets/colab-badge.svg\" alt=\"Open In Colab\"/></a>"
      ]
    },
    {
      "cell_type": "markdown",
      "metadata": {
        "id": "mLK4cyDUYJh8"
      },
      "source": [
        "# 3. 상황에 따른 선택적 실행 - IF 문\n",
        "\n",
        "프로그램은 기본적으로는 순차적으로 실행됩니다만, 특정 조건하에서만 실행을 하거나 또는 둘중 하나를 선택해서 실행하는 식의 작동이 가능합니다. \n"
      ]
    },
    {
      "cell_type": "markdown",
      "metadata": {
        "id": "tudaD6EIZ1UA"
      },
      "source": [
        "\n",
        "## 3.1 IF 문"
      ]
    },
    {
      "cell_type": "code",
      "metadata": {
        "id": "8Jepg2WpYJiB"
      },
      "source": [
        "# 실행시킨 후에 x 를 2로 바꿔서 또 실행해보세요\n",
        "x = 2\n",
        "if x > 1 :\n",
        "    print(\"x is big\")\n",
        "else : \n",
        "    print(\"x is small\")\n",
        "    "
      ],
      "execution_count": null,
      "outputs": []
    },
    {
      "cell_type": "markdown",
      "metadata": {
        "id": "683e6yqIYJiH"
      },
      "source": [
        "위 문장은 x > 1 이 성립하면 첫번째 프린트문 \"x is big\" 을 출력하고 \n",
        "성립하지 안을 경우 \"x is small\" 을 출력하도록 합니다. \n",
        "\n",
        "if 는 조건을 만족할때만 실행하라는 뜻입니다. \n",
        "<pre>\n",
        "    if 조건 :  \n",
        "        실행\n",
        "</pre>\n",
        "이러면 조건이 만족될 경우 실행하고 아닐경우는 실행하지 안습니다. \n",
        "\n",
        "else 는 조건이 틀렸을때 실행하도록 합니다. \n",
        "<pre>\n",
        "    if 조건 :\n",
        "        실행 1\n",
        "    else :\n",
        "        실행 2\n",
        "</pre>        \n",
        "당연히 else 혼자 사용할 수는 없으며 if 와 함께 사용해야 합니다. \n",
        "하지만 if 를 사용한다고 else 를 반드시 사용해야 하는건 아닙니다. \n",
        "\n",
        "![대체 텍스트](https://github.com/decoz/pyclass/blob/master/images/3_1%20if%20flow.png?raw=true)\n",
        "\n",
        "단 if나 else에 소속되는 실행은 들여쓰기를 해야하며 들여쓴 모든 실행문들은 if 에 소속된 것으로 간주됩니다. 즉, 하나의 조건에 여러 실행문을 걸어둘 수 있는 것이죠"
      ]
    },
    {
      "cell_type": "code",
      "metadata": {
        "id": "ESUest3UYJiK"
      },
      "source": [
        "# 실행해보세요 (두개의 실행에 조건을 걸어둔 경우)\n",
        "x = 1\n",
        "if x > 1 :\n",
        "    print(\"1\")\n",
        "    print(\"2\")\n",
        "print(\"3\")\n"
      ],
      "execution_count": null,
      "outputs": []
    },
    {
      "cell_type": "markdown",
      "metadata": {
        "id": "2Y1Gl-vpYJiX"
      },
      "source": [
        "위에서 x>1 의 조건에 걸린 문장은 들여쓰기가 되어있는 print(\"1\"), print(\"2\")  조건이 틀렸기 때문에 조건에 걸리지 안은 마지막 print(\"3\") 만 실행되게 된것입니다. \n"
      ]
    },
    {
      "cell_type": "markdown",
      "metadata": {
        "id": "-Lox-EtwYJic"
      },
      "source": [
        "<hr>\n",
        "\n",
        "## 3.2 조건문\n",
        "\n",
        "조건에 사용되는 기호는 다음과 같습니다. \n",
        "<b>\n",
        "* a > b : a 가 b 보다 크다 \n",
        "* a < b : b 가 a 보다 크다\n",
        "* a >= b : a 가 b 보다 크거나 같다 \n",
        "* a <= b : b 가 a 보다 크거나 같다\n",
        "* a == b : a 와 b 가 같다. \n",
        "* a != b : a 와 b 가 다르다 \n",
        "       \n"
      ]
    },
    {
      "cell_type": "markdown",
      "metadata": {
        "id": "unlbbosQYJie"
      },
      "source": [
        "#### 예: 두 수가 동일한지 비교"
      ]
    },
    {
      "cell_type": "code",
      "metadata": {
        "id": "6mtBpbf5YJif"
      },
      "source": [
        "# x 와 y 는 다르면 diff 를 같으면 same 을 출력\n",
        "x,y = 1,1\n",
        "if x != y :\n",
        "    print(\"diff\")\n",
        "else :\n",
        "    print(\"same\")"
      ],
      "execution_count": null,
      "outputs": []
    },
    {
      "cell_type": "markdown",
      "metadata": {
        "id": "XoYXTb03mSex"
      },
      "source": [
        "#### 예: 연산식을 적용한 크기비교"
      ]
    },
    {
      "cell_type": "code",
      "metadata": {
        "id": "SVVOvTiiYJij"
      },
      "source": [
        "# x 가 y 보다 5이상 크면 \"x is much bigger\" 을 출력\n",
        "x,y = 10, 1\n",
        "if x > y + 5 :\n",
        "    print(\"x is much bigger\")\n"
      ],
      "execution_count": null,
      "outputs": []
    },
    {
      "cell_type": "markdown",
      "metadata": {
        "id": "JUOKmtZqYJim"
      },
      "source": [
        "<hr>\n",
        "\n",
        "## 3.3 조건의 조합 \n",
        "\n",
        "둘 이상의 조건을 묶어서 조건을 만들 수도 있습니다. 예를 들어 \n",
        "\n",
        "     x > y and x > z  : x 는 y 보다 크고 z 보다도 크다      \n",
        "\n",
        "여기서 and 는 두 조건이 다 만족할 경우 라는 뜻입니다.\n",
        "and 말고도 or 를 사용\n",
        "할 수도 있습니다. or 는 '두 조건중에 하나라도 만족한다면' 이란 뜻입니다. \n",
        "\n",
        "    x > y or x > z : x 가 가장 작은 숫자가 아니다\n",
        "\n"
      ]
    },
    {
      "cell_type": "markdown",
      "metadata": {
        "id": "rryOnWkfmCUr"
      },
      "source": [
        "#### 코드: x가 가장 큰 값인가 체크하기"
      ]
    },
    {
      "cell_type": "code",
      "metadata": {
        "id": "whpE78R5YJin"
      },
      "source": [
        "# x, y, z 값을 바꾸면서 실행해보세요\n",
        "x,y,z = 5,2,3\n",
        "if x > y and x > z :\n",
        "    print(\"x is biggest\")"
      ],
      "execution_count": null,
      "outputs": []
    },
    {
      "cell_type": "markdown",
      "metadata": {
        "id": "PyQwpSyyYJis"
      },
      "source": [
        "#### 코드: y 중간 값인지 확인하기\n",
        "\n",
        "y가 중간값인지 찾는 것은 생각보다 복잡합니다. x 가 제일 큰 경우와 z 가 제일 큰 경우로 갈리기 때문이죠. "
      ]
    },
    {
      "cell_type": "code",
      "metadata": {
        "id": "GqFdf0TNYJit"
      },
      "source": [
        "# x, y, z 값을 바꾸면서 실행해보세요\n",
        "x,y,z = 3,2,5\n",
        "if ( x > y and y > z ) or ( x < y and y < z) :\n",
        "print(\" y is middle \")"
      ],
      "execution_count": null,
      "outputs": []
    },
    {
      "cell_type": "markdown",
      "metadata": {
        "id": "WmP8G3WPYJi0"
      },
      "source": [
        "위의 예제처럼 and 와 or 의 조건은 여러개를 조합할 수도 있습니다. \n",
        "\n",
        "* x > y and y > z : x > y > z 인경우\n",
        "* x < y and y < z : x < y < z 인경우 \n",
        "\n",
        "위의 예2 는 이런 두가지 조건을 or 로 연결해서 두 경우중에 하나만 맞으면 실행되도록 구성한 조건문입니다.  이렇게 and 나 or 처럼 두 조건을 연결하는 기호를 논리연산자라고 합니다. \n"
      ]
    },
    {
      "cell_type": "markdown",
      "metadata": {
        "id": "p_A0glcRYJi1"
      },
      "source": [
        "\n",
        "#### 논리 연산자의 종류\n",
        "\n",
        "* <b> or (||) : 두 조건중 하나이상이 참인경우\n",
        "* and (&&) : 두 조건이 다 참인경우 \n",
        "* not : 다음 조건이 틀린경우 \n"
      ]
    },
    {
      "cell_type": "markdown",
      "metadata": {
        "id": "k1hMuauVYJi6"
      },
      "source": [
        "#### 코드: 3개의 값이 똑같은지 검사"
      ]
    },
    {
      "cell_type": "code",
      "metadata": {
        "id": "dYWnO4s7YJjA"
      },
      "source": [
        "# 세 값이 같은지 확인\n",
        "x,y,z = 1,1,1 \n",
        "if x == y and y == z :\n",
        "    print(\"x,y,z is all same\")"
      ],
      "execution_count": null,
      "outputs": []
    },
    {
      "cell_type": "markdown",
      "metadata": {
        "id": "aBp-gDq1YJjE"
      },
      "source": [
        "\n",
        "#### <font color = 'red'> 연습 3.3.1 : 같은 값이 하나이상 있는가?\n",
        "<font color = 'red'> 이제 위에서 익힌것을 응용해서 x,y,z 중에 같은 값을 가진 페어가 있는지 검사하는 프로그램을 작성해보세요\n",
        "만일 x,y,z 중에 같은 값을 가진 두 값이 있을경우  \"at least one pair\" 를 출력하도록 해보세요"
      ]
    },
    {
      "cell_type": "code",
      "metadata": {
        "id": "dc51UZFYYJjF"
      },
      "source": [
        "x,y,z = 1,2,1  # 값을 바꾸면서 테스트해보세요    \n",
        "\n",
        "# 연습 3.3.1 의 내용을 여기에 작성하세요\n",
        "\n"
      ],
      "execution_count": null,
      "outputs": []
    },
    {
      "cell_type": "markdown",
      "metadata": {
        "id": "__nECMoKYJjI"
      },
      "source": [
        "#### 코드: x,y 를 입력받고 큰 쪽의 값을 출력\n",
        "\n",
        "이번에는 x,y 중에 큰쪽의 값을 출력하는 코드를 작성해 보도록 하죠 다만 이번에는 입력창에서 값을 입력받아서 그중 큰 값을 찍도록 하겠습니다. \n",
        "\n",
        "  \n"
      ]
    },
    {
      "cell_type": "code",
      "metadata": {
        "id": "sgy_CXp5YJjJ"
      },
      "source": [
        "\n",
        "x,y = 1,2\n",
        "\n",
        "if x > y : \n",
        "    print(x)\n",
        "else :\n",
        "    print(y)\n"
      ],
      "execution_count": null,
      "outputs": []
    },
    {
      "cell_type": "markdown",
      "metadata": {
        "id": "qATw7SAAYJjM"
      },
      "source": [
        "#### <font color = 'red'> 연습 3.3.2 : x,y,z 3개의 변수중 가장 큰 값을 출력\n",
        "<font color = 'red'> 이번 문제는 위의 예와 비슷해 간단하게 보이지만 의외로 어렵습니다. 조건문을 길게 써서 하는 방법도 있지만 지금까지 배운 내용들을 잘 활용하면 더 간단한 방법도 있지요. 나중에 두 방법을 한번 비교해보는 것도 좋습니다. \n",
        "\n",
        "> 예: x,y,z = 2,3,1 <br>\n",
        "출력: 3\n",
        "\n",
        "\n",
        "\n"
      ]
    },
    {
      "cell_type": "code",
      "metadata": {
        "id": "Vz5qTsKEYJjN"
      },
      "source": [
        "x,y,z = 2,3,1  # 값을 바꾸면서 테스트 하세요\n",
        "\n",
        "# 연습 3.3.2 의 코드를 작성하세요\n"
      ],
      "execution_count": null,
      "outputs": []
    },
    {
      "cell_type": "markdown",
      "metadata": {
        "id": "X8tI7y4uYJjR"
      },
      "source": [
        "\n",
        "<hr>\n",
        "\n",
        "## 3.4 IF 문 중첩\n",
        "\n",
        "이번에는 x,y,z 중에서 가장 큰 변수의 이름을 쓰는 경우를 생각해봅시다. 언뜻생각하면 위의 연습 3.2랑 비슷해 보이지만 가장 큰 값만 남기는 방법이 있었던 경우에 비해 프로그램은 좀더 복잡해집니다.\n",
        "\n",
        "결과적으로 3가지중에 한가지가 찍혀야 하는데 단순하게 생각하면 다음과 같은 방법이 있습니다. \n",
        "<pre>\n",
        "if x > y and x > z : \n",
        "    print( \"x\")\n",
        "if y > x and y > z : \n",
        "    print( \"y\")\n",
        "if z > y and z > x : \n",
        "    print( \"z\")\n",
        "</pre>\n",
        "\n",
        "하지만 이 방법은 결코 효율적인 방법은 아닙니다. 왜냐하면 무조건 6번의 비교가 일어나기 때문이죠. x,y,z 중에 가장 큰것을 알아내는 방법은 사실 2번의 비교로 가능합니다. x,y 랑 비교를 하고 큰쪽을 다시 z와 비교하면 되기 때문이죠. 이것을 프로그램으로 작성해보면 다음과 같습니다. \n",
        "\n"
      ]
    },
    {
      "cell_type": "markdown",
      "metadata": {
        "id": "uH0T9RLNo-3K"
      },
      "source": [
        "#### 코드: 가장 큰 변수의 이름을 찍기"
      ]
    },
    {
      "cell_type": "code",
      "metadata": {
        "id": "37_76FyAYJjS",
        "colab": {
          "base_uri": "https://localhost:8080/"
        },
        "outputId": "f3069bbe-f9c7-47b2-824d-1c828a8ff096"
      },
      "source": [
        "# 실행해보고 숫자를 바꾸며 이 코드의 구조를 잘 생각해보세요\n",
        "x,y,z = 21,4,11\n",
        "\n",
        "\n",
        "if x > y :\n",
        "    if x > z : \n",
        "        print(\"x\")\n",
        "    else : \n",
        "        print(\"z\")\n",
        "else :\n",
        "    if y > z : \n",
        "        print(\"y\")\n",
        "    else :\n",
        "        print(\"z\")\n"
      ],
      "execution_count": 2,
      "outputs": [
        {
          "output_type": "stream",
          "text": [
            "x\n"
          ],
          "name": "stdout"
        }
      ]
    },
    {
      "cell_type": "markdown",
      "metadata": {
        "id": "iyKcOIpcYJjc"
      },
      "source": [
        "이 프로그램은 먼저 x > y 에 따라 두가지로 갈립니다. x 가 더 큰 경우는 x 와 z를 비교한 후에 최대 변수를 결정하고 y가 더 큰 경우는 y 와 z 를 비교후에 최대변수를 결정하죠. 어찌 보면 프로그램이 더 길고 복잡해 보일지도 모르겠습니다. 하지만 프로그램의 문장은 길지만 결국 비교는 단 두번만 일어나게 됩니다. \n",
        "\n",
        "이렇게 if 문 안에 들여쓰기로 다시 if 문을 적어서 조건이 만족한 경우 다음 조건을 비교할 수가 있습니다. 이런 중첩구조는 무한히 가능합니다. \n",
        "<pre>\n",
        "if :\n",
        "    if :\n",
        "        if :\n",
        "            if :\n",
        "        else : \n",
        "            if :\n",
        "        if :\n",
        "</pre>            \n",
        "이런식으로 복잡하게 if 문을 중첩시켜 사용할 수도 있습니다.\n",
        "           \n",
        "            "
      ]
    },
    {
      "cell_type": "markdown",
      "metadata": {
        "id": "WpOa9F-GYJjg"
      },
      "source": [
        "#### <font color = 'red'> 연습 3.4.1 : x,y,z 중에 가장 가장 가까운 두 숫자의 거리를 찾기\n",
        "<font color = 'red'>  만일 3,7,2 가 있다면 가장 가까운 두 숫자는 3,2 가 되고 거리는 1이 되게 되죠. 이렇게 가장 가까운 두 숫자의 거리를 출력하는 프로그램을 작성해보세요. 난이도가 높고 다양한 해결법이 있을 수 있으니 차근히 도전해보세요\n"
      ]
    },
    {
      "cell_type": "code",
      "metadata": {
        "id": "nLSEquTNYJjh"
      },
      "source": [
        "x,y,z = 3,7,2  # 값을 바꾸면서 테스트 하세요\n",
        "\n",
        "# 연습 3.4.1 의 코드를 작성하세요"
      ],
      "execution_count": null,
      "outputs": []
    },
    {
      "cell_type": "code",
      "metadata": {
        "id": "-LGR98w4YJjk"
      },
      "source": [
        ""
      ],
      "execution_count": null,
      "outputs": []
    }
  ]
}