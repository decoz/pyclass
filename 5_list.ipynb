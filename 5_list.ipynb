{
  "nbformat": 4,
  "nbformat_minor": 0,
  "metadata": {
    "kernelspec": {
      "display_name": "Python 3",
      "language": "python",
      "name": "python3"
    },
    "language_info": {
      "codemirror_mode": {
        "name": "ipython",
        "version": 3
      },
      "file_extension": ".py",
      "mimetype": "text/x-python",
      "name": "python",
      "nbconvert_exporter": "python",
      "pygments_lexer": "ipython3",
      "version": "3.5.2"
    },
    "colab": {
      "name": "5_list.ipynb",
      "provenance": [],
      "toc_visible": true,
      "include_colab_link": true
    }
  },
  "cells": [
    {
      "cell_type": "markdown",
      "metadata": {
        "id": "view-in-github",
        "colab_type": "text"
      },
      "source": [
        "<a href=\"https://colab.research.google.com/github/decoz/pyclass/blob/master/5_list.ipynb\" target=\"_parent\"><img src=\"https://colab.research.google.com/assets/colab-badge.svg\" alt=\"Open In Colab\"/></a>"
      ]
    },
    {
      "cell_type": "markdown",
      "metadata": {
        "id": "YJOLlaIbqXs9",
        "colab_type": "text"
      },
      "source": [
        "# 5 배열 (list) \n",
        "\n",
        "프로그램이 다루는 자료는 실제로 매우 방대한 것이 많습니다. 그런 자료들을 죄다 하나하나 변수에 저장하는 것은 거의 불가능에 가깝죠. 20x20 의 작은 이미지를 저장하는 것만으로도 1200 개의 정수가 필요합니다. 이런 방대한 자료를 다루기 위해서는 여러개의 숫자를 통합해서 관리하는 변수를 사용하는데 이것을 '배열' 이라고 부릅니다. \n",
        "\n",
        "간단한 배열의 예를 보도록 하죠 "
      ]
    },
    {
      "cell_type": "code",
      "metadata": {
        "scrolled": true,
        "id": "1Ybt4Ro-qXs_",
        "colab_type": "code",
        "colab": {}
      },
      "source": [
        "# 실행해보세요\n",
        "a = [1,2,3]\n",
        "print(a)"
      ],
      "execution_count": 0,
      "outputs": []
    },
    {
      "cell_type": "markdown",
      "metadata": {
        "id": "0B3gGaWAqXtE",
        "colab_type": "text"
      },
      "source": [
        "위에서 a 는 숫자대신 [1,2,3] 이라는 3개의 숫자를 입력받았습니다. 이때 a 는 3개의 값을 담은 배열이 됩니다. 그래서 이제 a는 일반적인 연산에는 사용할 수는 없습니다. 예를 들어 다음과 같은 문장은 에러가 나게 되죠 "
      ]
    },
    {
      "cell_type": "code",
      "metadata": {
        "id": "3bgatLIM90xl",
        "colab_type": "code",
        "colab": {}
      },
      "source": [
        ""
      ],
      "execution_count": 0,
      "outputs": []
    },
    {
      "cell_type": "code",
      "metadata": {
        "id": "1Dwp3U2AqXtF",
        "colab_type": "code",
        "colab": {}
      },
      "source": [
        "a = a + 1"
      ],
      "execution_count": 0,
      "outputs": []
    },
    {
      "cell_type": "markdown",
      "metadata": {
        "id": "EVwuxgGgqXtI",
        "colab_type": "text"
      },
      "source": [
        "왜냐하면 a 는 더이상 하나의 숫자가 아니기 때문입니다. 하지만 다음 문장은 성립합니다. "
      ]
    },
    {
      "cell_type": "code",
      "metadata": {
        "id": "dGNeCT6pqXtJ",
        "colab_type": "code",
        "colab": {}
      },
      "source": [
        "a = a + [1]\n",
        "print(a)"
      ],
      "execution_count": 0,
      "outputs": []
    },
    {
      "cell_type": "markdown",
      "metadata": {
        "id": "GPCWV5FBqXtM",
        "colab_type": "text"
      },
      "source": [
        "[1] 은 하나의 숫자가 들은 배열로 취급되서  배열 + 배열 로 취급되며 배열과 배열의 덧셈은 <b> 두 배열을 더한다 </b> 로 처리되게 됩니다. 그래서 [1,2,3] 에 [1] 을 붙여서 [1,2,3,1] 이 다시 a 에 저장되게 됩니다. 단 뺄셈이나 곱셈은 성립하지 안습니다. "
      ]
    },
    {
      "cell_type": "markdown",
      "metadata": {
        "id": "3hXDpCzFqXtN",
        "colab_type": "text"
      },
      "source": [
        "<hr>\n",
        "\n",
        "## 5.1 배열의 기초\n",
        " \n"
      ]
    },
    {
      "cell_type": "markdown",
      "metadata": {
        "id": "zPm6C83RgCPP",
        "colab_type": "text"
      },
      "source": [
        "\n",
        "#### 배열값 억세스\n",
        "\n",
        "배열은 시스템의 메모리가 허용하는 범위내에서 대규모의 자료를 담을 수 있습니다. 이러한 배열의 각각의 값에 접근하기 위해서는 배열에 몇번째 자료인지를 지정하는 <b> 인덱스 </b> 가 필요합니다.  인덱스는 배열이름에 [번호] 형태로 지정할 수 있습니다. 다음은 배열 a 의 첫 3개의 값을 찍는 예입니다."
      ]
    },
    {
      "cell_type": "code",
      "metadata": {
        "id": "5KcqxQEbqXtQ",
        "colab_type": "code",
        "colab": {}
      },
      "source": [
        "a = [1,2,3,4,5]\n",
        "print( a[0], a[1], a[2] ) "
      ],
      "execution_count": 0,
      "outputs": []
    },
    {
      "cell_type": "markdown",
      "metadata": {
        "id": "1GadBMEvqXtV",
        "colab_type": "text"
      },
      "source": [
        "이번엔 다음 문장을 보죠 "
      ]
    },
    {
      "cell_type": "code",
      "metadata": {
        "id": "M5N7eJn3qXtW",
        "colab_type": "code",
        "colab": {}
      },
      "source": [
        "a[0] = a[1] + a[2]\n",
        "print(a)"
      ],
      "execution_count": 0,
      "outputs": []
    },
    {
      "cell_type": "markdown",
      "metadata": {
        "id": "IDEsbbvLqXtZ",
        "colab_type": "text"
      },
      "source": [
        "배열의 처음값(a[0]) 가 a[1]과 a[2]의 값인 2와 3을 더한 5로 바뀐 것을 볼 수 있습니다. \n",
        "\n",
        "#### while 문을 이용한 배열 제어 \n",
        "이번엔 모든  배열값에 값을 하나씩 더해보겠습니다. "
      ]
    },
    {
      "cell_type": "code",
      "metadata": {
        "id": "RgGT0Ux3qXta",
        "colab_type": "code",
        "colab": {}
      },
      "source": [
        "i = 0\n",
        "while i < 5 :\n",
        "    a[i] = a[i] + 1\n",
        "    i = i + 1\n",
        "print(a)"
      ],
      "execution_count": 0,
      "outputs": []
    },
    {
      "cell_type": "markdown",
      "metadata": {
        "id": "fVSgVulGqXtd",
        "colab_type": "text"
      },
      "source": [
        "while 문을 이용해서 i 가 0 ~ 4 까지 변하는 동안 다음과 같은 순서로 실행이 됩니다. \n",
        "\n",
        "<pre>\n",
        "a[0] = a[0] + 1\n",
        "a[1] = a[1] + 1\n",
        "a[2] = a[2] + 1\n",
        "a[3] = a[3] + 1\n",
        "a[4] = a[4] + 1\n",
        "</pre>\n",
        "\n",
        "즉 모든 배열에 대해 각각의 값을 1씩 증가하는 구문이 된겁니다. 그 결과 배열의 값들이 1씩 증가한 걸 볼 수 있습니다. 배열의 가장  매력적인 부분은 그 인덱스값을 변수로 입력이 가능하다는 겁니다. 그러므로 while 문등을 이용해 대량의 값들을 일괄적으로 처리하도록 프로그래밍 할 수 있습니다. \n",
        "\n",
        "배열의 값을 출력할때도 while 문을 써서 선별적인 값의 출력이 가능합니다. 다음 프로그램은 배열의 인덱스 0,2,4 .. 즉 첫번째, 세번째, 다섯번째 값만 출력합니다.  "
      ]
    },
    {
      "cell_type": "code",
      "metadata": {
        "id": "7y6DWv8fqXte",
        "colab_type": "code",
        "colab": {}
      },
      "source": [
        "a = [1,2,3,4,5]\n",
        "i = 0\n",
        "while i < 5 :\n",
        "    print(a[i])\n",
        "    i = i + 2    "
      ],
      "execution_count": 0,
      "outputs": []
    },
    {
      "cell_type": "markdown",
      "metadata": {
        "id": "doMTyiE6qXth",
        "colab_type": "text"
      },
      "source": [
        "이번에는 조금 큰 배열을 만들어보겠습니다. "
      ]
    },
    {
      "cell_type": "code",
      "metadata": {
        "scrolled": true,
        "id": "8jx_pdjsqXti",
        "colab_type": "code",
        "colab": {}
      },
      "source": [
        "arr = []\n",
        "i = 0\n",
        "while i < 100:\n",
        "    arr = arr + [i]    \n",
        "    i = i + 1    \n",
        "print(arr)\n",
        "\n"
      ],
      "execution_count": 0,
      "outputs": []
    },
    {
      "cell_type": "markdown",
      "metadata": {
        "id": "BfysZgZkqXto",
        "colab_type": "text"
      },
      "source": [
        "위의 예제에서는  a = [] 는 빈 배열을 생성합니다. 그리고 \n",
        "\n",
        "- a = a + [0] -> [0]\n",
        "- a = a + [1] -> [0,1]\n",
        "- a = a + [2] -> [0,1,2]\n",
        "- .... \n",
        "\n",
        "이런 순서로 배열이 계속 늘어나게 됩니다. 위의 배열을 좀 더 보기 좋게 찍는 방법을 만들어보겠습니다. \n",
        "0,10,20 등의 인덱스마다 줄을 바꿔주도록 if 문을 추가하면 다음과 같습니다. "
      ]
    },
    {
      "cell_type": "code",
      "metadata": {
        "id": "W1M9vkFhqXtp",
        "colab_type": "code",
        "colab": {}
      },
      "source": [
        "i=0\n",
        "while i<100\n",
        "    "
      ],
      "execution_count": 0,
      "outputs": []
    },
    {
      "cell_type": "markdown",
      "metadata": {
        "id": "qxx6jl-mqXtr",
        "colab_type": "text"
      },
      "source": [
        "     \n",
        "####<font color = 'red'>연습 5.1.1 : 3의 배수가 20 개가 저장되는 배열 생성 \n",
        "다음과 같이 3의 배수가 3부터 60까지 20개의 값이 저장된 배열 arr3 을 만들어보세요\n",
        "</font>\n",
        "- [3,6,9,....60] \n",
        "\n"
      ]
    },
    {
      "cell_type": "code",
      "metadata": {
        "id": "qDCkad7KqXts",
        "colab_type": "code",
        "colab": {}
      },
      "source": [
        "# 연습 5.1.1 문제를 풀어보세요 \n",
        "\n",
        "\n"
      ],
      "execution_count": 0,
      "outputs": []
    },
    {
      "cell_type": "markdown",
      "metadata": {
        "id": "GglysXoyqXtw",
        "colab_type": "text"
      },
      "source": [
        "이번에는 배열의 값을 변경하는 예를 보겠습니다. 아래의 예제는 위의 0-99 값의 배열 arr 을 모두 0으로 바꿉니다. \n",
        "#### 에: 배열 값 전체 변경"
      ]
    },
    {
      "cell_type": "code",
      "metadata": {
        "id": "N_6DuWnlqXty",
        "colab_type": "code",
        "colab": {}
      },
      "source": [
        "i = 0 \n",
        "while i < 100:\n",
        "    arr[i] = 0\n",
        "    i = i + 1 \n",
        "print(arr)"
      ],
      "execution_count": 0,
      "outputs": []
    },
    {
      "cell_type": "markdown",
      "metadata": {
        "id": "qdazyka3qXt7",
        "colab_type": "text"
      },
      "source": [
        "      \n",
        "####<font color = 'red'>연습 5.1.2 : 0,1,2,3,4 가 반복되도록 변경 <br>\n",
        "배열의 값이 다음과 같이 변경 되도록 하는 프로그램을 작성해보세요 \n",
        "</font>\n",
        "- [0,1,2,3,4,0,1,2,3,4,0,1,2,3... ] \n",
        "\n"
      ]
    },
    {
      "cell_type": "code",
      "metadata": {
        "id": "0oTQct67qXt9",
        "colab_type": "code",
        "colab": {}
      },
      "source": [
        "# 연습 5.2 프로그램을 작성해보세요 "
      ],
      "execution_count": 0,
      "outputs": []
    },
    {
      "cell_type": "markdown",
      "metadata": {
        "id": "s2LYW-EeqXuA",
        "colab_type": "text"
      },
      "source": [
        "<font color = 'red'>       \n",
        "#### 연습 5.3 : 이번에는 배열이 다음과 같이 되도록 작성하는 방법을 생각해보세요 <br>\n",
        "\n",
        "- 1 0 0 0 0 0 0 0 0 0 \n",
        "- 0 1 0 0 0 0 0 0 0 0 \n",
        "- 0 0 1 0 0 0 0 0 0 0 \n",
        "- 0 0 0 1 0 0 0 0 0 0 \n",
        "- 0 0 0 0 1 0 0 0 0 0 \n",
        "- 0 0 0 0 0 1 0 0 0 0 \n",
        "- 0 0 0 0 0 0 1 0 0 0 \n",
        "- 0 0 0 0 0 0 0 1 0 0 \n",
        "- 0 0 0 0 0 0 0 0 1 0 \n",
        "- 0 0 0 0 0 0 0 0 0 1 \n",
        "\n",
        "\n",
        "\n",
        "\n",
        "</font>"
      ]
    },
    {
      "cell_type": "code",
      "metadata": {
        "id": "11Bs5L_GqXuB",
        "colab_type": "code",
        "colab": {}
      },
      "source": [
        "\n",
        "i=0\n",
        "while i<100:\n",
        "    if i%10==0\n",
        "    print(arr[i], end=\"\")\n",
        "    i=i+1"
      ],
      "execution_count": 0,
      "outputs": []
    },
    {
      "cell_type": "markdown",
      "metadata": {
        "id": "0XCd5aysqXuG",
        "colab_type": "text"
      },
      "source": [
        "<hr>\n",
        "\n",
        "## 5.2 배열의 다양한 처리 예제"
      ]
    },
    {
      "cell_type": "markdown",
      "metadata": {
        "id": "0A96i6hBqXuH",
        "colab_type": "text"
      },
      "source": [
        "이번에는 배열을 처리하는 다양한 예를 다뤄보도록 하겠습니다. \n",
        "\n",
        "#### 배열의 크기 얻기\n",
        "\n",
        "배열을 처리에 따라서 크기가 계속 변하는 경우가 존재합니다. 이 경우 배열의 크기를 프로그램 상에서 얻어서 처리해야 하는 경우가 생깁니다. \n",
        "이 경우 배열의 크기는 다음 문장을 통해 얻을 수 있습니다. \n",
        "\n",
        "- len(배열이름) \n",
        "\n",
        "아래의 예를 보죠. "
      ]
    },
    {
      "cell_type": "code",
      "metadata": {
        "id": "Ru2pQrElqXuH",
        "colab_type": "code",
        "colab": {}
      },
      "source": [
        "a,b = [1,2,3,4], [5,6,7]\n",
        "print(len(a), len(b))"
      ],
      "execution_count": 0,
      "outputs": []
    },
    {
      "cell_type": "markdown",
      "metadata": {
        "id": "paQIWpkKqXuK",
        "colab_type": "text"
      },
      "source": [
        "len(a)는 [1,2,3,4] 4개의 값을 가지고 있으므로 4, len(b) 는 [5,6,7] 3개의 값을 가지고 있으므로 3 이 출력됩니다. \n",
        "\n",
        "이를 이용하면 다양한 배열을 일괄처리 하도록 만들 수가 있습니다. 다음은 arr 이 어떤 배열이든지 모든 값을 출력합니다. "
      ]
    },
    {
      "cell_type": "code",
      "metadata": {
        "id": "TA88bpVQqXuK",
        "colab_type": "code",
        "colab": {}
      },
      "source": [
        "# arr 배열의 크기를 바꾸고 (예: [1,2,3], [1], [4,5,6,7,8] ... )  아래 코드를 실행해보세요 \n",
        "\n",
        "arr = [1,2,5]\n",
        "i = 0\n",
        "while i < len(arr) :\n",
        "    print( arr[i] )\n",
        "    i = i + 1\n",
        "\n"
      ],
      "execution_count": 0,
      "outputs": []
    },
    {
      "cell_type": "markdown",
      "metadata": {
        "id": "6_HVa_LfqXuN",
        "colab_type": "text"
      },
      "source": [
        "#### 코드: 배열의 값 합산\n",
        "\n",
        "다음은 모든 배열의 값을 합산, 평균을 구하는 예입니다. "
      ]
    },
    {
      "cell_type": "code",
      "metadata": {
        "id": "srRWytbgqXuO",
        "colab_type": "code",
        "colab": {}
      },
      "source": [
        "arr = [1,2,5]\n",
        "i,s = 0,0\n",
        "while i < len(arr) :\n",
        "    s = s + arr[i]\n",
        "    i = i + 1\n",
        "print(\"sum:\", s)\n",
        "print(\"average:\", s / len(arr))"
      ],
      "execution_count": 0,
      "outputs": []
    },
    {
      "cell_type": "markdown",
      "metadata": {
        "id": "uJ4pavOCqXuT",
        "colab_type": "text"
      },
      "source": [
        "#### 코드: 배열 값중에 홀수 값 출력 \n",
        "\n",
        "다음은 배열에서 홀수의 값들만 출력해줍니다. "
      ]
    },
    {
      "cell_type": "code",
      "metadata": {
        "id": "7zWfDktjqXuU",
        "colab_type": "code",
        "colab": {}
      },
      "source": [
        "arr = [1,2,5,9,10]\n",
        "i,s = 0,0\n",
        "while i < len(arr) :\n",
        "    if arr[i] % 2 == 1:\n",
        "        print( arr[i] )\n",
        "    i = i + 1"
      ],
      "execution_count": 0,
      "outputs": []
    },
    {
      "cell_type": "markdown",
      "metadata": {
        "id": "4G5Hrr7PqXuY",
        "colab_type": "text"
      },
      "source": [
        "#### <font color = 'red'>  연습 5.2.1 :  배열중에 짝수값 합산\n",
        "위의 코드들을 참고해서 배열의 짝수들만 합산값을 출력하는 프로그램을 작성해보세요 <br>\n",
        "</font>"
      ]
    },
    {
      "cell_type": "code",
      "metadata": {
        "id": "kSCyso9aqXuZ",
        "colab_type": "code",
        "colab": {}
      },
      "source": [
        "# 연습 5.2.1 프로그램을 작성해보세요 "
      ],
      "execution_count": 0,
      "outputs": []
    },
    {
      "cell_type": "markdown",
      "metadata": {
        "id": "rWO11lccqXub",
        "colab_type": "text"
      },
      "source": [
        "#### 코드: 배열 값중에 최대 값 출력 \n",
        "\n",
        "다음은 배열에서 최대 값을 구해 출력합니다. "
      ]
    },
    {
      "cell_type": "code",
      "metadata": {
        "id": "pp54060vqXuc",
        "colab_type": "code",
        "colab": {}
      },
      "source": [
        "arr = [1,2,5,9,10]\n",
        "i,mx = 0,0\n",
        "while i < len(arr) :\n",
        "    if mx < arr[i] :\n",
        "        mx = arr[i]\n",
        "    i = i + 1\n",
        "print(\"max:\", mx)"
      ],
      "execution_count": 0,
      "outputs": []
    },
    {
      "cell_type": "markdown",
      "metadata": {
        "id": "zBLoH2vjqXuf",
        "colab_type": "text"
      },
      "source": [
        "이제 위의 예제들의 응용으로 좀 난이도 높은 문제들을 해결해보도록 하죠 \n",
        "\n",
        "\n",
        "####<font color = 'red'> 연습 5.2.2 : 배열 값 한칸 밀어내기 <br>\n",
        "다음 아무 배열이나를 우측으로 한칸 밀어낼 수 있도록 작성해봅시다. </font>\n",
        "\n",
        "예 :\n",
        "- [0,1,0,0] -> [0,0,1,0]\n",
        "- [1,2,3,4,5] -> [5,1,2,3,4]\n",
        "\n",
        "\n",
        "\n"
      ]
    },
    {
      "cell_type": "code",
      "metadata": {
        "id": "UwJVFQ7TqXug",
        "colab_type": "code",
        "colab": {}
      },
      "source": [
        "# 연습 5.2.2 의 프로그램을 작성해보세요 "
      ],
      "execution_count": 0,
      "outputs": []
    },
    {
      "cell_type": "markdown",
      "metadata": {
        "id": "akrkiFBuqXuj",
        "colab_type": "text"
      },
      "source": [
        "이제 위의 예제들의 응용으로 좀 난이도 높은 문제들을 해결해보도록 하죠 \n",
        "    \n",
        "####<font color = 'red'> 연습 5.2.3 배열중 0~9 숫자들의 수 출력  \n",
        "배열의 숫자중에 0~9 사이의 숫자가 몇개나 있는지 세어보는 프로그램을 작성해봅시다.</font>\n",
        "\n",
        "예 : \n",
        "- [1, 11, 2, 43 ] -> 2 \n",
        "- [3, 6, 9, 12, 15 ] -> 3\n",
        "\n"
      ]
    },
    {
      "cell_type": "code",
      "metadata": {
        "id": "G6r5RgivqXuk",
        "colab_type": "code",
        "colab": {}
      },
      "source": [
        "# 연습 5.2.3 프로그램을 작성해보세요 "
      ],
      "execution_count": 0,
      "outputs": []
    },
    {
      "cell_type": "markdown",
      "metadata": {
        "id": "GpOIP9wbqXun",
        "colab_type": "text"
      },
      "source": [
        "####<font color = 'red'> 연습 5.2.4 : 배열의 숫자들 출현 횟수 \n",
        "위와 비슷하지만 이번엔 0~9 사이의 숫자들이 각각 몇번 출현하는를 계산해 출력해봅시다. </font>\n",
        "\n",
        "예 : \n",
        "\n",
        "- [1, 1, 2, 4 ] -> 1:1 ,2:1, 4:1    \n",
        "- [2,4,4,5,5,5 ] -> 2:1, 4:2, 5:3\n",
        "\n",
        "\n"
      ]
    },
    {
      "cell_type": "code",
      "metadata": {
        "id": "0m6EZLOuqXuo",
        "colab_type": "code",
        "colab": {}
      },
      "source": [
        "# 연습 5.2.4 프로그램을 작성해보세요 "
      ],
      "execution_count": 0,
      "outputs": []
    },
    {
      "cell_type": "markdown",
      "metadata": {
        "id": "5MAXoIOcqXuq",
        "colab_type": "text"
      },
      "source": [
        "#### <font color = 'red'> 연습 5.2.5 : 배열의 모든 숫자들을 중복없이 출력해보자. \n",
        "이번 문제는 중복된 숫자는 두번이상 출력하지 안는 문제입니다. 어떤 방법이 필요한지 잘 생각해보세요 </font>\n",
        "\n",
        "예 : \n",
        "\n",
        "- [1, 2, 2, 5, 14 ] -> 1, 2, 5, 14    \n",
        "- [3,3,6,50,3,71,50 ] -> 3,6,50,71\n",
        "\n"
      ]
    },
    {
      "cell_type": "code",
      "metadata": {
        "id": "PeivmYctjtRH",
        "colab_type": "code",
        "colab": {}
      },
      "source": [
        "# 연습 5.2.5 프로그램을 작성해보세요 "
      ],
      "execution_count": 0,
      "outputs": []
    },
    {
      "cell_type": "markdown",
      "metadata": {
        "colab_type": "text",
        "id": "CO4cOBXxk9hi"
      },
      "source": [
        "<hr>\n",
        "\n",
        "## 5.3 다중 배열 \n",
        "\n",
        "다중배열은 배열의 값들이 다시 배열인 경우를 말합니다.  다음 코드를 한번 보시죠"
      ]
    },
    {
      "cell_type": "markdown",
      "metadata": {
        "id": "YcXGFI6UlMiI",
        "colab_type": "text"
      },
      "source": [
        "#### 예: 다중배열"
      ]
    },
    {
      "cell_type": "code",
      "metadata": {
        "id": "kZUuY-6NmOyG",
        "colab_type": "code",
        "colab": {}
      },
      "source": [
        "arr = [[1,2], [2,3], [3,4]]\n",
        "for a in arr:\n",
        "  print(a)\n"
      ],
      "execution_count": 0,
      "outputs": []
    },
    {
      "cell_type": "markdown",
      "metadata": {
        "id": "RN3c9EpcmlGQ",
        "colab_type": "text"
      },
      "source": [
        "위의 코드에서 arr 은 3개의 인자를 갖고 있으며 각각의 인자들 역시 2개의 값으로 이루어진 배열입니다. 그러므로 arr의 인자를 찍는 for문은 a 에 다시 2개로 이뤄진 배열값 [1,2] [2,3] [3,4]  3개를 출력한 것이죠. 이런식으로 배열은 다시 다른 배열의 일부가 되는 식으로 중첩이 가능한데 이를 다중 배열이라고 합니다. 위의 예제는 두번 중첩이 되었으므로 이중배열이라고도 합니다. 물론 다시 그 안에 배열값 을 갖게될 수도 있으므로 삼중, 사중배열도 얼마든지 가능합니다. \n",
        "\n",
        "그렇다면 각각의 개별값들을 찍거나 억세스하고 싶다면 어떻게 해야할까요? 배열의 마지막 값인 4 를 5로 바꾸는 코드를 한번 보도록 하죠 \n",
        "\n",
        "#### 예: 다중배열 인덱싱\n"
      ]
    },
    {
      "cell_type": "code",
      "metadata": {
        "id": "rRx13cYjmZBS",
        "colab_type": "code",
        "colab": {}
      },
      "source": [
        "arr = [[1,2], [2,3], [3,4]]\n",
        "arr[2][1] = 5\n",
        "print(arr)\n",
        "\n"
      ],
      "execution_count": 0,
      "outputs": []
    },
    {
      "cell_type": "markdown",
      "metadata": {
        "id": "3IFqyzKZndNV",
        "colab_type": "text"
      },
      "source": [
        "arr[2] 는 arr의 3번째인자로 [3,4] 를 의미합니다. 그러므로  arr[2][1] 은 [3,4] 의 두번째 값인 4 를 의미하게 된 것입니다. \n",
        "\n",
        "#### 코드: 이중배열 출력 \n",
        "다음 코드는 이중 배열의 모든 값을 찍는 예를 보여줍니다. "
      ]
    },
    {
      "cell_type": "code",
      "metadata": {
        "id": "SkpR4DXbnYab",
        "colab_type": "code",
        "colab": {}
      },
      "source": [
        "arr = [[1,2], [2,3], [3,4]]\n",
        "\n",
        "i = 0\n",
        "while i < len(arr): # 출력방법 2\n",
        "  j = 0\n",
        "  while j < len(arr[i]):\n",
        "    print( i,j, \":\", arr[i][j] )\n",
        "    j += 1\n",
        "  i += 1\n",
        "\n",
        "\n"
      ],
      "execution_count": 0,
      "outputs": []
    },
    {
      "cell_type": "markdown",
      "metadata": {
        "id": "7gQQ5FF4sULo",
        "colab_type": "text"
      },
      "source": [
        "위의 출력에서 처음 두 값은 배열을 억세스하는 i,j 인덱스를 의미하고 마지막값은 그 인덱스에 담긴 배열값을 의미합니다. \n",
        "\n",
        "이번에는 10 x 10 의 0 이 담긴 이중배열을 한번 생성해보도록 하겠습니다. \n",
        "\n",
        "#### 예: 이중배열 생성하기 \n"
      ]
    },
    {
      "cell_type": "code",
      "metadata": {
        "id": "iwqvgGsIqEYQ",
        "colab_type": "code",
        "colab": {}
      },
      "source": [
        "arr = []\n",
        "i = 0\n",
        "while i < 10 : # 배열 만들기 \n",
        "  a,j = [],0\n",
        "  while j < 10 : \n",
        "    a.append(0)\n",
        "    j += 1\n",
        "  arr.append(a)\n",
        "  i+=1\n",
        "\n",
        "i = 0 \n",
        "while i < 10 : # 배열 출력 \n",
        "  print(arr[i])\n",
        "  i += 1\n"
      ],
      "execution_count": 0,
      "outputs": []
    },
    {
      "cell_type": "markdown",
      "metadata": {
        "id": "RdnffEYNr2ne",
        "colab_type": "text"
      },
      "source": [
        "위의 코드에서 안쪽 while j < 10 은 a라는 배열에 0을 10개를 넣습니다. 그리고 while i < 10 으로 arr 에 이 배열을 10번 반복해 삽입하는 것이죠. \n",
        "\n",
        "#### <font color = 'red'> 연습 5.3.1 : 0부터 99의 숫자를 10x10배열에 넣기 \n",
        "이번엔 위의 예제를 잘 보시고 배열에 0~99의 숫자를 넣도록 해보세요 </font>"
      ]
    },
    {
      "cell_type": "code",
      "metadata": {
        "id": "9m5lCifxupRS",
        "colab_type": "code",
        "colab": {}
      },
      "source": [
        ""
      ],
      "execution_count": 0,
      "outputs": []
    }
  ]
}