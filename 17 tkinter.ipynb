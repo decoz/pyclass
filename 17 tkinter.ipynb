{
 "cells": [
  {
   "cell_type": "markdown",
   "id": "14bc7038-0425-47b5-981c-d0b845093d34",
   "metadata": {},
   "source": [
    "# 17. tkInter\n",
    "\n",
    "tkinter 는 리눅스에서 사용되던 Tcl/tk 라는 윈도우, 버튼등 여러 화면 표시를 관리해주는 라이브러리를 파이썬에서 사용하도록 해주는 GUI 라이브러리입니다. 원래 리눅스를 기반으로 했지만 이제는 윈도우나 맥등 여러 환경에서도 사용이 가능해졌습니다. ipywidget 과 달리 독립적인 윈도우창을 생성하는 점에서 차이가 있지만 프로그래밍의 방식은 유사하기 때문에 크게 어려움없이 사용이 가능하실겁니다. \n",
    "\n",
    "먼저 라이브러리를 불러오는 구문을 실행하고 이 라이브러리를 차근히 알아보도록 하겠습니다. \n"
   ]
  },
  {
   "cell_type": "code",
   "execution_count": 152,
   "id": "e14cc6b1-e95e-4059-9484-fc8442a6a7b0",
   "metadata": {},
   "outputs": [],
   "source": [
    "import tkinter as tk \n"
   ]
  },
  {
   "cell_type": "markdown",
   "id": "2dae8992-bbab-4212-8f71-be436e2a650f",
   "metadata": {},
   "source": [
    "---\n",
    "\n",
    "## 17.1 기본 창 생성\n",
    "\n",
    "창을 만드는 방법은 Tk 라는 함수로 창객체를 생성하고 메소드인 mainloop 를 실행하면 됩니다. "
   ]
  },
  {
   "cell_type": "code",
   "execution_count": 153,
   "id": "a1177d0f-6938-47f0-9f85-189a42526533",
   "metadata": {},
   "outputs": [],
   "source": [
    "root = tk.Tk()\n",
    "root.mainloop()"
   ]
  },
  {
   "cell_type": "markdown",
   "id": "0d2a468e-65f8-47b5-a627-f8a8ea9d185d",
   "metadata": {},
   "source": [
    "### 창 제목 , 창 크기 \n",
    "\n",
    "기본 창이 너무 조그매서 좀 실망하셨다면 다음 코드를 보도록 하죠. \n",
    "minsize 는 창의 최소크기, maxsize 는 최대크기, geometry 는 시작크기를 설정할 수 있습니다. \n",
    "또한 title 메소드를 이용해 창의 제목도 설정가능합니다. \n"
   ]
  },
  {
   "cell_type": "code",
   "execution_count": 53,
   "id": "bc1277cf-309e-4c44-be01-139c95e5cae4",
   "metadata": {},
   "outputs": [],
   "source": [
    "root = tk.Tk()\n",
    "root.title(\"my window\")\n",
    "root.minsize(width=500, height=500)\n",
    "root.maxsize(width=800, height=800)\n",
    "root.geometry(\"700x700\")\n",
    "\n",
    "root.mainloop()\n"
   ]
  },
  {
   "cell_type": "markdown",
   "id": "4a054434-7834-4bda-b377-669c0e065ad9",
   "metadata": {},
   "source": [
    "---\n",
    "\n",
    "## 17.2 위젯\n",
    "\n",
    "ipywidget 에서 이미 익숙해지셨듯이 위젯은 버튼, 텍스트창, 스크롤바등 화면상에서 사용자와 상호작용하기 위한 다양한 개체들을 의미합니다. \n"
   ]
  },
  {
   "cell_type": "markdown",
   "id": "41a10f54-09c1-466b-9071-ede657950c05",
   "metadata": {},
   "source": [
    "### 위젯 생성\n",
    "\n",
    "위젯은 크게 두가지 단계로 화면에 표시됩니다. \n",
    "\n",
    "- 위젯 객체 생성\n",
    "- 위젯 객체 화면배치 \n",
    "\n"
   ]
  },
  {
   "cell_type": "code",
   "execution_count": 156,
   "id": "0340c8c9-0925-4ad6-849f-77cb854b1997",
   "metadata": {},
   "outputs": [],
   "source": [
    "root = tk.Tk()\n",
    "btn = tk.Button(root, text = 'btn1') # 버튼 생성\n",
    "btn.place(width=30, height=30) # 버튼 화면 배치 \n",
    "root.mainloop()"
   ]
  },
  {
   "cell_type": "markdown",
   "id": "ece95c5a-783e-4e8a-a9dd-75263f857782",
   "metadata": {},
   "source": [
    "위젯을 화면에 배치하는 방법은 크게 place, pack, grid 세가지 방법이 자주 사용됩니다. 위에서는 가장 이해하기 쉬운 형태는 place 를 사용했습니다. 아래에서는 pack 도 사용됩니다만 자세한 내용은 17.6 에서 따로 다루도록 하겠습니다. "
   ]
  },
  {
   "cell_type": "markdown",
   "id": "8f974c35-5f90-45bc-9170-bc80fe854800",
   "metadata": {
    "tags": []
   },
   "source": [
    "### 위젯 배열화 \n",
    "\n",
    "ipywidgets 처럼 여러 위젯을 다루기 위해서는 위젯을 일일이 다루기보단 배열화 시키는게 편합니다.  아래에는 반복문을 이용해 버튼을 5개를 생성하는 예입니다. "
   ]
  },
  {
   "cell_type": "code",
   "execution_count": 158,
   "id": "3ac27ceb-4aa0-4d21-acbf-6cb9b0beb9e0",
   "metadata": {},
   "outputs": [],
   "source": [
    "root = tk.Tk() \n",
    "for i in range(5):\n",
    "    btn = tk.Button(root, text = str(i))\n",
    "    btn.place(x = i*30, width = 30, height = 30)\n",
    "root.mainloop()"
   ]
  },
  {
   "cell_type": "markdown",
   "id": "e39a408b-59d6-44b1-8667-f7a5610b0814",
   "metadata": {
    "tags": []
   },
   "source": [
    "### 위젯 중첩 \n",
    "\n",
    "위젯은 다른 위젯 안에 배치될 수도 있습니다. 위젯 생성시 첫 인자에 root 대신 부모객체를 입력하면 그 객체 안에 배치됩니다.  "
   ]
  },
  {
   "cell_type": "code",
   "execution_count": 160,
   "id": "c0c97bfb-6455-426b-bda8-34ea0c7be5ca",
   "metadata": {},
   "outputs": [],
   "source": [
    "import tkinter as tk\n",
    "root = tk.Tk()\n",
    "root.minsize(width=300, height=300)\n",
    "\n",
    "btn = tk.Button(root, text =  '', bg = 'white') \n",
    "btn1= tk.Button(btn, text =  'btn1', bg = 'white')\n",
    "btn1.place(x = 20, y = 20, width = 50, height = 50)\n",
    "btn.place(x = 100, y = 100 , width = 100, height = 100)\n",
    "\n",
    "root.mainloop()\n"
   ]
  },
  {
   "cell_type": "markdown",
   "id": "6ed29f7f-34cb-42c7-a7e6-68431aa6f3f1",
   "metadata": {},
   "source": [
    "---\n",
    "\n",
    "## 17.3 이벤트 처리 \n"
   ]
  },
  {
   "cell_type": "markdown",
   "id": "0e47f3d9-c3eb-4e7a-a15c-4a3e999386f2",
   "metadata": {
    "tags": []
   },
   "source": [
    "### 간단한 이벤트 \n",
    "\n",
    "이벤트는 일부 객체에서 지원하는 command 를 사용한 간단 이벤트와 bind 를 통한 핸들러등록 두가지 사용법이 가능합니다.  먼저 command 인자를 이용해 간단하게 처리하는 예제를 보도록 하겠습니다. "
   ]
  },
  {
   "cell_type": "code",
   "execution_count": 164,
   "id": "30e1e5ca-260c-4c85-8884-e573158e6ad1",
   "metadata": {},
   "outputs": [
    {
     "name": "stdout",
     "output_type": "stream",
     "text": [
      "click\n",
      "click\n"
     ]
    }
   ],
   "source": [
    "root = tk.Tk()\n",
    "def click():\n",
    "    print('click')\n",
    "    \n",
    "btn = tk.Button(text = 'click', command = click)\n",
    "btn.place(width = 40, height = 30)\n",
    "root.mainloop()\n"
   ]
  },
  {
   "cell_type": "markdown",
   "id": "8939faab-031b-46cd-b848-5f513cb27ee6",
   "metadata": {
    "tags": []
   },
   "source": [
    "### bind 사용 이벤트 \n",
    "\n",
    "bind 는 이벤트의 종류를 보다 세분화하여 쓸때 사용합니다. 예를 들어 버튼을 클릭시 마우스 우측버튼, 좌측버튼을 따로 처리하는 등이 가능하죠."
   ]
  },
  {
   "cell_type": "code",
   "execution_count": 169,
   "id": "eaaf7532-b8dc-4962-8158-8b474d6c7b62",
   "metadata": {},
   "outputs": [
    {
     "name": "stdout",
     "output_type": "stream",
     "text": [
      "left\n",
      "right\n",
      "left\n",
      "right\n"
     ]
    }
   ],
   "source": [
    "root = tk.Tk()\n",
    "def click(e):    \n",
    "    if e.num == 1 : \n",
    "        print('left')\n",
    "    else :\n",
    "        print('right')\n",
    "    \n",
    "btn = tk.Button(text = 'click')\n",
    "btn.place(width = 40, height = 30)\n",
    "btn.bind('<1>', click)\n",
    "btn.bind('<3>', click)\n",
    "root.mainloop()\n"
   ]
  },
  {
   "cell_type": "markdown",
   "id": "a3d3cf03-93f1-4005-97f9-67a9962e8ffc",
   "metadata": {
    "tags": []
   },
   "source": [
    "### 이벤트 생성 위젯 접근\n",
    "\n",
    "지뢰찾기처럼 다수의 위젯이 배열형태로 생성될 경우 이들을 위해 각각의 이벤트 함수를 사용하는 것은 매우 어려운 일입니다. 그래서 하나의 이벤트함수를 사용하게 되는데 이때 어떤 위젯이 호출했는지 구분을 해야할 필요가 있습니다.  이는 bind 에 의해서 연결된 함수의 입력값 e 중에서 e.widget 을 통해 그것을 접근할 수 있습니다. "
   ]
  },
  {
   "cell_type": "code",
   "execution_count": 173,
   "id": "b99b68a0-c06e-4659-b952-9b288365bd74",
   "metadata": {},
   "outputs": [],
   "source": [
    "root = tk.Tk()\n",
    "\n",
    "def click(e):\n",
    "    print(e.widget['text'])\n",
    "    \n",
    "for i in range(5):\n",
    "    btn = tk.Button(root, text = str(i) )\n",
    "    btn.place(x = 40*i, width = 40, height = 30)\n",
    "    btn.bind('<1>', click)\n",
    "\n",
    "root.mainloop()\n"
   ]
  },
  {
   "cell_type": "markdown",
   "id": "41260d9c-20a3-47a2-a976-42927daf60ed",
   "metadata": {
    "tags": []
   },
   "source": [
    "\n",
    "### 위젯에 커스텀 데이터 추가\n",
    "\n",
    "그러나 위의 방식은 버튼에 텍스트가 각각 다르기 때문에 e.widget['text'] 를 통해 분간이 가능했습니다만 지뢰찾기처럼 텍스트가 없다면 어떻게 구분을 해야할까요?  이 경우 저희가 tk.Button 에 따로 값을 설정해두는 방법이 있습니다.  아래의 \n",
    "```\n",
    "tk.Button.pos = [0,0]\n",
    "```\n",
    "tk.Button 은 실제 객체 인스턴스가 아니라 이 객체를 찍어내는 틀입니다. 여기에 제가 .pos 라는 멤버를 추가해주고 기본값으로 [0,0] 을 부여한 후에 각각 개체마다 다른 pos값을 설정하여 이벤트 발생시 각 개체를 구분할 수 있도록 작성한 코드입니다. \n",
    "\n"
   ]
  },
  {
   "cell_type": "code",
   "execution_count": 174,
   "id": "2ba50106-c0a1-4859-b455-cb7e048c4352",
   "metadata": {},
   "outputs": [
    {
     "name": "stdout",
     "output_type": "stream",
     "text": [
      "[0, 1]\n",
      "[4, 4]\n",
      "[6, 5]\n",
      "[3, 6]\n",
      "[3, 7]\n",
      "[4, 3]\n",
      "[8, 2]\n",
      "[8, 4]\n",
      "[9, 5]\n",
      "[8, 6]\n",
      "[6, 6]\n"
     ]
    }
   ],
   "source": [
    "root = tk.Tk()\n",
    "root.minsize(width=400, height=400)\n",
    "root.maxsize(width=400, height=400)\n",
    "tk.Button.pos = [0,0]\n",
    "\n",
    "def btn_click(e):\n",
    "    print(e.widget.pos)\n",
    "\n",
    "for y in range(10):\n",
    "    for x in range(10):\n",
    "        btn = tk.Button()\n",
    "        btn.place(x=40*x, y=40*y,width=40,height=40)\n",
    "        btn.pos = [y,x]\n",
    "        btn.bind('<1>', btn_click)\n",
    "root.mainloop()\n",
    "        "
   ]
  },
  {
   "cell_type": "markdown",
   "id": "4b47ee69-c071-4c45-b820-2fe36d377431",
   "metadata": {
    "tags": []
   },
   "source": [
    "### 주요 이벤트 리스트\n",
    "\n",
    "특정 행동에 대해서만 이벤트를 발생시키는 ipywidget 에 비해 tkinter 의 위젯들은 윈도우상에서 발생하는 다양한 이벤트를 지원합니다.\n",
    "\n",
    "```\n",
    "'<1>' : 마우스 좌측버튼 클릭 \n",
    "'<2>' : 마우스 가운데버튼 클릭 \n",
    "'<3>' : 마우스 우측버튼 클릭 \n",
    "'<Key>' : 키보드 입력\n",
    "'<Mothion>' : 위젯 위에서 마우스 이동시 이벤트\n",
    "'<B1-Motion>' : 마우스 드래그 \n",
    "```\n",
    "\n",
    "\n",
    "#### 예 : 키보드 입력 이벤트 \n",
    "\n",
    "아래에는 창을 생성하고 키 입력시 입력된 코드를 찍어주는 코드입니다. 이때 e.keycode 는 클릭한 키보드 자판의 code를 e.state 는 ctrl, shift 등의 보조키를 의미합니다. \n"
   ]
  },
  {
   "cell_type": "code",
   "execution_count": 179,
   "id": "922fb78f-0a39-4221-9d73-682815cfd677",
   "metadata": {
    "tags": []
   },
   "outputs": [
    {
     "name": "stdout",
     "output_type": "stream",
     "text": [
      "17 8\n",
      "81 12\n"
     ]
    }
   ],
   "source": [
    "root = tk.Tk()\n",
    "def keydown(e):\n",
    "    print(e.keycode, e.state)\n",
    "    \n",
    "root.bind('<Key>', keydown)\n",
    "root.mainloop()"
   ]
  },
  {
   "cell_type": "markdown",
   "id": "bcd0500f-43f3-41ee-bdf5-4ea895c9033c",
   "metadata": {},
   "source": [
    "#### 예: 마우스 이동 이벤트 \n",
    "\n",
    "아래의 코드는 윈도우 위로 마우스가 이동하는 경우 발생하는 이벤트입니다. 이때 e.x, e.y 를 통해서 좌표를 받을 수도 있습니다. "
   ]
  },
  {
   "cell_type": "code",
   "execution_count": 180,
   "id": "dac659ac-5d1f-4620-836e-9c8681fa1ff9",
   "metadata": {},
   "outputs": [],
   "source": [
    "root = tk.Tk()\n",
    "label = tk.Label(width = 200, height = 50)\n",
    "label.pack()\n",
    "def mousemove(e):\n",
    "    label['text'] = str(e)    \n",
    "root.bind('<Motion>', mousemove)\n",
    "root.mainloop()"
   ]
  },
  {
   "cell_type": "markdown",
   "id": "153c2081-8819-4417-bdb0-e0e095e742a6",
   "metadata": {
    "tags": []
   },
   "source": [
    "---\n",
    "\n",
    "## 17.4 다양한 위젯들\n",
    "\n",
    "tkinter 는 다양한 위도우 프로그램을 지원하도록 만들어졌기 때문에 역시 다양한 위젯을 지원하며 또한 계속해서 지원되는 위젯의 종류가 늘어나고 있습니다. 아래는 기초가 되는 몇몇 위젯을 열거해보았습니다. \n",
    "\n",
    "\n",
    "```\n",
    "Button : 버튼 \n",
    "Label : 텍스트 출력\n",
    "Entry : 텍스트 입력 \n",
    "Checkbutton : 체크박스 \n",
    "Radiobutton : 라디오버튼 \n",
    "Menu : 메뉴\n",
    "Combobox : 콤보박스\n",
    "Listbox : 리스트박스\n",
    "MenuButton : 메뉴 버튼 \n",
    "Canvas : 캔버스 \n",
    "Scroollbar : 스크롤바\n",
    "Toplevel : 새 윈도우\n",
    "```\n",
    "\n",
    "버튼의 경우는 위에서 여러 예제에 사용되었기때문에 생략하고 그 외 몇몇 중요한 위젯과 간단한 사용법을 알아보도록 하겠습니다. "
   ]
  },
  {
   "cell_type": "markdown",
   "id": "16ad4083-88a0-4523-b17d-4825accf3dce",
   "metadata": {
    "tags": []
   },
   "source": [
    "### Entry \n",
    "\n",
    "엔트리는 위젯의 Text 와 유사하게 텍스트입력이 가능하도록 한 위젯입니다.  \n",
    "\n",
    "\n",
    "- .get() : 텍스트값을 가져옴\n",
    "- .insert() : 텍스트값을 추가함 \n",
    "- .delete() : 텍스트값을 지움 \n",
    "\n",
    "다만 텍스트 자체를 교체하려면 .value = '..' 형식으로 간단하게 교체가 가능했던 ipywidget 에 비해 delete 와 insert 를 해줘야 한다는 점이 좀 귀찮은 편입니다. 또한 키 이벤트가 텍스트 입력처리를 하기 전에 발생하기 때문에 사용법이 조금 답답한게 단점입니다. \n",
    "\n"
   ]
  },
  {
   "cell_type": "code",
   "execution_count": 189,
   "id": "e259b0b6-f959-4cf4-a317-e5a0d328d9fa",
   "metadata": {},
   "outputs": [
    {
     "name": "stdout",
     "output_type": "stream",
     "text": [
      "enter any word\n",
      "2\n",
      "1\n",
      "1\n",
      "2\n",
      "3\n",
      "1\n",
      "3\n",
      "1\n"
     ]
    }
   ],
   "source": [
    "root = tk.Tk() \n",
    "\n",
    "def entry_key(e):    \n",
    "    s = entry.get()\n",
    "    print(s)\n",
    "    entry.delete(0,len(s))\n",
    "    \n",
    "entry = tk.Entry(root)\n",
    "entry.insert(tk.END, 'enter any word')\n",
    "\n",
    "entry.place(x=10, y=10, width=100, height=40) \n",
    "entry.bind('<Key>', entry_key)\n",
    "\n",
    "root.mainloop()\n",
    "\n"
   ]
  },
  {
   "cell_type": "markdown",
   "id": "84848867-b9db-42d2-8efc-a306122246ff",
   "metadata": {
    "tags": []
   },
   "source": [
    "### Menu\n",
    "\n",
    "ipywidget 에는 없었지만 tkinter 는 독릭창으로 실행되므로 일반적인 윈도우창처럼 메뉴를 지원하고 이 또한 위젯으로 간주합니다. 메뉴의 설정과정은 \n",
    "\n",
    "- 메뉴생성 \n",
    "- 메뉴 항목 등록 \n",
    "- 창에 메뉴를 연결 \n",
    "\n",
    "의 과정을 거칩니다. 아래에는 2가지 항목으로 구성된 간단한 상단메뉴의 예입니다. menu 의 경우는 bind 가 불가능한 건 아니지만 직관적이지 못한 부분이 많아 command 사용법만 소개시켜드리도록 하겠습니다. "
   ]
  },
  {
   "cell_type": "code",
   "execution_count": 190,
   "id": "7a217930-380c-46fe-a3fa-e297b811c308",
   "metadata": {},
   "outputs": [
    {
     "name": "stdout",
     "output_type": "stream",
     "text": [
      "menu2\n",
      "menu1\n"
     ]
    }
   ],
   "source": [
    "root = tk.Tk()\n",
    "def on_menu1():\n",
    "    print('menu1')\n",
    "def on_menu2():\n",
    "    print('menu2')\n",
    "\n",
    "    \n",
    "mainmenu = tk.Menu(root)\n",
    "mainmenu.add_command( label = 'menu1' , command = on_menu1)\n",
    "mainmenu.add_command( label = 'menu2' , command = on_menu2)\n",
    "\n",
    "root.config(menu = mainmenu) \n",
    "root.mainloop() \n",
    "    "
   ]
  },
  {
   "cell_type": "markdown",
   "id": "46b2d565-45b7-419f-9ed0-dcea06fc78c9",
   "metadata": {},
   "source": [
    "이번에는 계층형 메뉴를 사용해보도록 하겠습니다. 이 과정은 \n",
    "\n",
    "- 상단 메뉴 생성\n",
    "- 서브 메뉴 생성 \n",
    "- 서브 메뉴 항목 생성\n",
    "- 상단 메뉴에 서브메뉴 연결\n",
    "\n",
    "마지막 과정은  add_cascade 라는 구문을 통해 이뤄집니다. "
   ]
  },
  {
   "cell_type": "code",
   "execution_count": 200,
   "id": "84eb060c-a7d3-4789-bf27-3917e43b89d4",
   "metadata": {},
   "outputs": [],
   "source": [
    "root = tk.Tk()\n",
    "\n",
    "def select_menu(e):\n",
    "    print(e)\n",
    "\n",
    "mainmenu = tk.Menu(root)\n",
    "submenu1 = tk.Menu(root, tearoff = 0)\n",
    "submenu1.add_command( label = 'menu1-1' )\n",
    "submenu1.add_command( label = 'menu1-2' )\n",
    "mainmenu.add_cascade(label = 'menu1', menu = submenu1)\n",
    "mainmenu.add_cascade(label = 'menu2', menu = submenu1)\n",
    "\n",
    "root.config(menu = mainmenu) \n",
    "root.mainloop() \n",
    "    "
   ]
  },
  {
   "cell_type": "markdown",
   "id": "e92cc380-d52a-4700-a3ce-9ff64bae022e",
   "metadata": {
    "tags": []
   },
   "source": [
    "### Listbox\n",
    "\n",
    "리스트 박스는 ipywidget 의 Select 와 거의 유사한 위젯입니다.  아래 간단한 이벤트 박스 생성 예제를 보도록 하겠습니다. "
   ]
  },
  {
   "cell_type": "code",
   "execution_count": 201,
   "id": "02e8d6a9-966a-45c1-88b9-5cb0e7f3b10f",
   "metadata": {},
   "outputs": [],
   "source": [
    "root = tk.Tk()\n",
    "lbox = tk.Listbox(root)\n",
    "lbox.pack()\n",
    "for i in range(10):\n",
    "    lbox.insert(i, str(i))\n",
    "root.mainloop()\n"
   ]
  },
  {
   "cell_type": "markdown",
   "id": "d7b4ccd0-0c43-4279-82d6-953f559658dd",
   "metadata": {},
   "source": [
    "보시듯이 리스트 박스는 insert 를 통해서 옵션을 추가하며 대신 index 와 value 를 같이 입력해야 합니다.  \n",
    "\n",
    "또한 선택한 값을 얻어올 때는 \n",
    "```\n",
    ".curselection() \n",
    "```\n",
    "\n",
    "을 통해서 해당 아이템의 인덱스를 뽑은 후에 \n",
    "\n",
    "```\n",
    ".get(index) \n",
    "```\n",
    "을 통해 값을 가져와야 합니다. \n",
    "\n",
    "또한 리스트박스는 선택시 '<\\<ListboxSelect\\>>' 라는 특별한 전용 이벤트를 제공합니다. "
   ]
  },
  {
   "cell_type": "code",
   "execution_count": 203,
   "id": "29f0fcc0-23ca-4dd7-8f9a-eab0f8778bb7",
   "metadata": {},
   "outputs": [],
   "source": [
    "root = tk.Tk()\n",
    "lbox = tk.Listbox(root)\n",
    "lbox.pack()\n",
    "def on_lbox(e):    \n",
    "    sel = lbox.curselection()\n",
    "    print(sel, lbox.get(sel))\n",
    "\n",
    "for i in range(10):\n",
    "    lbox.insert(i,  \"item \" + str(i))\n",
    "\n",
    "lbox.bind('<<ListboxSelect>>', on_lbox)\n",
    "root.mainloop()"
   ]
  },
  {
   "cell_type": "markdown",
   "id": "31822e24-b75c-4081-936c-e5018aa0a427",
   "metadata": {},
   "source": [
    "리스트박스가 이런 귀찮은 절차를 거치는 것은 다중 선택을 지원하기 때문입니다. "
   ]
  },
  {
   "cell_type": "code",
   "execution_count": 205,
   "id": "bf1bbbb1-1a9e-4601-a7e3-4649d5d58527",
   "metadata": {},
   "outputs": [
    {
     "name": "stdout",
     "output_type": "stream",
     "text": [
      "item 2 \n",
      "item 2 item 6 \n",
      "item 2 item 4 item 6 \n",
      "item 1 item 2 item 4 item 6 \n",
      "item 1 item 2 item 4 item 6 item 8 \n",
      "item 1 item 2 item 4 item 5 item 6 item 8 \n"
     ]
    }
   ],
   "source": [
    "root = tk.Tk()\n",
    "lbox = tk.Listbox(root, selectmode = \"multiple\")\n",
    "lbox.pack()\n",
    "def on_lbox(e):    \n",
    "    sel = lbox.curselection()\n",
    "    for i in sel:         \n",
    "        print(lbox.get(i), end = ' ')\n",
    "    print()\n",
    "\n",
    "for i in range(10):\n",
    "    lbox.insert(i,  \"item \" + str(i))\n",
    "\n",
    "lbox.bind('<<ListboxSelect>>', on_lbox)\n",
    "root.mainloop()"
   ]
  },
  {
   "cell_type": "markdown",
   "id": "17de9b9d-4ebe-4976-a849-e74e92af9099",
   "metadata": {
    "tags": []
   },
   "source": [
    "### Combobox\n",
    "\n",
    "콤보박스 역시 ipywidget 의 select 와 유사하지만 높이가 1 인 단일 선택만 가능한 선택창입니다. 단 listbox 에 비해 따로 index 값이 없고 .values 에 배열형태로 옵션리스트를 추가 할 수 있다는 점에서 더 간편하게 사용이 가능합니다.  "
   ]
  },
  {
   "cell_type": "code",
   "execution_count": 206,
   "id": "34ff9df1-11ca-4322-9721-ffcd937b0984",
   "metadata": {},
   "outputs": [],
   "source": [
    "root = tk.Tk()\n",
    "cbox = ttk.Combobox(root, values = ['a', 'b', 'c'])\n",
    "cbox.pack()\n",
    "root.mainloop()\n"
   ]
  },
  {
   "cell_type": "markdown",
   "id": "7545d9bd-d60a-493e-8a21-cfb02e177660",
   "metadata": {},
   "source": [
    "콤보박스 역시 리스트박스처럼 전용 이벤트인 '<\\<ComboSelected>\\>' 를 지원합니다. "
   ]
  },
  {
   "cell_type": "code",
   "execution_count": 216,
   "id": "942570c7-e9f5-4fb5-95d4-7bf05f625c63",
   "metadata": {},
   "outputs": [
    {
     "name": "stdout",
     "output_type": "stream",
     "text": [
      "b\n",
      "c\n"
     ]
    }
   ],
   "source": [
    "root = tk.Tk()\n",
    "cbox = ttk.Combobox(root, values = ['a', 'b', 'c'])\n",
    "cbox.pack()\n",
    "cbox.set('select one')\n",
    "def on_cbox(e):\n",
    "    print(cbox.get())\n",
    "        \n",
    "cbox.bind('<<ComboboxSelected>>', on_cbox)\n",
    "root.mainloop()\n"
   ]
  },
  {
   "cell_type": "markdown",
   "id": "1f61b533-9f1f-4d5a-b9ed-9ccc65034449",
   "metadata": {
    "tags": []
   },
   "source": [
    "### Canvas\n",
    "\n",
    "캔버스는 이미지를 표시하기 위한 위젯이지만 단순이 이미지 파일의 출력만이 아니라 선, 원등 도형을 그릴 수 있는 기능을 지원합니다.  "
   ]
  },
  {
   "cell_type": "code",
   "execution_count": 7,
   "id": "590b1546-f20a-4620-974f-370cadd750d7",
   "metadata": {},
   "outputs": [],
   "source": [
    "root = tk.Tk()\n",
    "canvas = tk.Canvas(root, bg = '#FFF', width = 300, height = 300)\n",
    "canvas.pack() \n",
    "root.mainloop()\n"
   ]
  },
  {
   "cell_type": "markdown",
   "id": "62a18d59-1b44-43a2-b550-b958929d78e7",
   "metadata": {},
   "source": [
    "다음은 간단한 canvas 의 그림 기능인 선그리기  예입니다. \n"
   ]
  },
  {
   "cell_type": "code",
   "execution_count": 207,
   "id": "c8fb33fd-388c-4fe6-9b9a-da31d7eedd15",
   "metadata": {},
   "outputs": [],
   "source": [
    "root = tk.Tk()\n",
    "canvas = tk.Canvas(root, bg = '#FFF', width = 300, height = 300)\n",
    "canvas.create_line(0,0,100,100)\n",
    "\n",
    "canvas.pack() \n",
    "\n",
    "root.mainloop()\n"
   ]
  },
  {
   "cell_type": "markdown",
   "id": "93d8cb5e-630b-4e1d-9771-439a7100aa55",
   "metadata": {},
   "source": [
    "선 이외에도 사각형, 원, 이미지 삽입등도 가능합니다. "
   ]
  },
  {
   "cell_type": "code",
   "execution_count": 208,
   "id": "e8722fb4-4cf8-428e-b71f-5cf98c8d0650",
   "metadata": {},
   "outputs": [],
   "source": [
    "root = tk.Tk()\n",
    "canvas = tk.Canvas(root, bg = '#FFF', width = 500, height = 500)\n",
    "img = tk.PhotoImage(file = 'tkinter.png')\n",
    "canvas.create_image(250,250,image=img)\n",
    "canvas.create_line(0,0,100,100, fill = 'blue' )\n",
    "canvas.create_rectangle(100,100,200,200, fill = 'gray' , outline = \"white\")\n",
    "canvas.create_oval(100,250,200,350, fill = '#F07' , outline = \"\")\n",
    "\n",
    "canvas.pack() \n",
    "root.mainloop()"
   ]
  },
  {
   "cell_type": "markdown",
   "id": "54a137fc-250c-47f8-9154-af5a86c156f1",
   "metadata": {},
   "source": [
    "\n",
    "이번에는 마우스 촤측 클릭을 통해 캔버스에 그림그리기를 구현해보도록 하겠습니다. "
   ]
  },
  {
   "cell_type": "code",
   "execution_count": 209,
   "id": "7df97f29-6f54-4bf1-861b-9a0b402f6db9",
   "metadata": {},
   "outputs": [],
   "source": [
    "root = tk.Tk()\n",
    "canvas = tk.Canvas(root, bg = '#FFF', width = 500, height = 500)\n",
    "\n",
    "lastx, lasty = -1,-1\n",
    "\n",
    "def line_draw(e):\n",
    "    global lastx, lasty\n",
    "    if lastx > 0 : \n",
    "        canvas.create_line(lastx, lasty, e.x, e.y)\n",
    "    lastx, lasty = e.x, e.y\n",
    "    \n",
    "\n",
    "canvas.bind('<B1-Motion>', line_draw)\n",
    "canvas.pack()\n",
    "root.mainloop()\n",
    "\n"
   ]
  },
  {
   "cell_type": "markdown",
   "id": "34617328-3339-49da-8c60-76482580ea3c",
   "metadata": {},
   "source": [
    "---\n",
    "\n",
    "## 17.5 TTK 위젯과 스타일\n",
    "\n",
    "\n",
    "지금까지 위에서 다룬 위젯은 대부분 tkinter 의 기본위젯입니다. 이 위젯들은 사용하기 쉽지만 투박하고 다양한 모양을 지원하기 쉽지 안습니다. 이런 단점을 극복하기 위해 나온 확장 라이브러리가 ttk (themed tktiner) 입니다.  이를 위해 먼저 다음을 import 하겠습니다. "
   ]
  },
  {
   "cell_type": "code",
   "execution_count": 211,
   "id": "7f816c43-357b-4806-97ba-f5d1fe96faca",
   "metadata": {},
   "outputs": [],
   "source": [
    "from tkinter import ttk "
   ]
  },
  {
   "cell_type": "markdown",
   "id": "7a0ef303-e59e-4c65-a164-e32d3c978459",
   "metadata": {},
   "source": [
    "아래에는 기본 버튼과 ttk 버튼의 모양차이를 볼 수 있습니다. \n"
   ]
  },
  {
   "cell_type": "code",
   "execution_count": 216,
   "id": "5b654126-8cba-4beb-9128-af0410943be6",
   "metadata": {},
   "outputs": [],
   "source": [
    "root = tk.Tk()\n",
    "tk.Button(root, text='tk btn').place(x=10,y=10,width=80,height=30)\n",
    "ttk.Button(root, text='ttk btn').place(x=100,y=10,width=80,height=30)\n",
    "root.mainloop()"
   ]
  },
  {
   "cell_type": "markdown",
   "id": "d35a66da-4d10-46c6-8365-45c2c8359684",
   "metadata": {},
   "source": [
    "\n",
    "이번에는 두 버튼의 색상을 붉은 배경에 흰색 글씨으로 바꿔보겠습니다. \n"
   ]
  },
  {
   "cell_type": "code",
   "execution_count": 267,
   "id": "1b39a242-140e-460b-93c4-d637f76d0455",
   "metadata": {},
   "outputs": [],
   "source": [
    "root = tk.Tk()\n",
    "btn1 = tk.Button(root, text='tk btn', fg='white', bg='red' )\n",
    "btn1.place(x=10,y=10,width=80,height=30)\n",
    "\n",
    "\n",
    "style = ttk.Style()\n",
    "style.theme_use('alt')\n",
    "style.configure('red.TButton', background = 'red', foreground = 'white')\n",
    "btn2 = ttk.Button(root, text='ttk btn', style = 'red.TButton' )\n",
    "btn2.place(x=100,y=10,width=80,height=30)\n",
    "\n",
    "root.mainloop()"
   ]
  },
  {
   "cell_type": "markdown",
   "id": "fb3b6cae-da44-42f1-8a54-e50c225a9582",
   "metadata": {},
   "source": [
    "간단히 색상이 바뀌던 tk.Button 에 비해 ttk.Button 은 상당히 복잡하다는 것을 느끼실 겁니다. \n",
    "\n",
    "tk 는 fg, bg, width, height 등 가장 기본적인 속성만 지원하는 것에 비해 ttk 는 대단히 다양한 커스터 마이징을 지원하기 때문입니다. 그런데 이런 커스터마이징을 매번 위젯마다 하면 코드가 너무 길고 복잡해지기 때문에 '스타일 이름' 을 기준으로 다양한 유형을 지정하고 위젯 생성시 style = '스타일이름'  으로 이를 간단히 적용하게 하기 위해서입니다.  정리하면 다음과 같은 과정으로 스타일을 변경할 수 있습니다. \n",
    "\n",
    "- 스타일 생성 \n",
    "- 스타일 테마 설정 \n",
    "- 스타일 이름별 속성 지정 \n",
    "- 객체 생성시 스타일 이름 입력 \n",
    "\n",
    "단 스타일의 이름은 대상 객체별로 구별되도록 반드시 이름.객체명 이 오도록 해야합니다. 위의 경우 'red.TButton' 에서 red는 제가 지정한 속성이고 Tbutton 은 모든 버튼이 공유하는 기본속성입니다. 이러한 스타일의 사용방식은 계층적이며 red.Tbutton 은 기본적으로 Tbutton 의 기본 속성을 가져온 후에 변경되는 부분만 수정하는 구조입니다.  다음 예를 보시면 좀더 이해가 쉬우실 겁니다. \n"
   ]
  },
  {
   "cell_type": "code",
   "execution_count": 272,
   "id": "8fc4011e-e9b6-4045-9438-f947e706fe1e",
   "metadata": {},
   "outputs": [],
   "source": [
    "root = tk.Tk()\n",
    "\n",
    "style = ttk.Style()\n",
    "style.theme_use('alt')\n",
    "style.configure('TButton', foreground = 'white')\n",
    "style.configure('red.TButton', background = 'red')\n",
    "style.configure('blue.TButton', background = 'blue')\n",
    "\n",
    "btn1 = ttk.Button(root, text='default' )\n",
    "btn2 = ttk.Button(root, text='red', style = 'red.TButton' )\n",
    "btn3 = ttk.Button(root, text='blue', style = 'blue.TButton' )\n",
    "btn1.place(x=10,y=10,width=50,height=30)\n",
    "btn2.place(x=70,y=10,width=50,height=30)\n",
    "btn3.place(x=130,y=10,width=50,height=30)\n",
    "\n",
    "root.mainloop()"
   ]
  },
  {
   "cell_type": "markdown",
   "id": "b8ccedf1-4967-4fd1-b4b4-4f043fbb0b02",
   "metadata": {},
   "source": [
    "위의 예제에서 TButton 에 적용한 '흰색 글씨' 속성은 그 아래 red.Tbutton, blue.Tbutton 에 다 적용되는 걸 볼 수 있습니다. 이런식으로 실무적인 인터페이스를 만들때 체계적인 스타일 관리를 목적으로 합니다.  다만 안타깝게도 ttk 자체가 지원하는 속성의 유형이 html 에 비해 적기 때문에 완전한 자유도를 갖지 못한다는 점은 아쉬운 점입니다. "
   ]
  },
  {
   "cell_type": "markdown",
   "id": "f190c8e1-c832-4348-841b-457e7ad82952",
   "metadata": {},
   "source": [
    "---\n",
    "\n",
    "## 17.6 위젯 배치 \n",
    "\n",
    "tkinter 는 크게 3가지 방식의 배치를 지원합니다. \n",
    "\n",
    "- place : 절대 배치 \n",
    "- pack : 상대적 배치\n",
    "- grid : 테이블 구조로 배치\n",
    "\n",
    "개인적으로 창의 크기가 고정일 경우 ( minsize , maxsize 가 같은 경우 ) place 로 배치하는 것이 단순하고 편한 경우가 많습니다. \n",
    "하지만 창의 크기 조절이 가능한 경우를 위해 pack 과 grid 의 사용법도 간단히 여기서 소개해보도록 하겠습니다. \n",
    "\n"
   ]
  },
  {
   "cell_type": "markdown",
   "id": "98f46b53-f6ca-402a-ae3a-f727469d63c7",
   "metadata": {},
   "source": [
    "### pack \n",
    "\n",
    "pack 은 상대적인 배치를 지원합니다. 이는 창의 크기를 조절할때 배치에 유용합니다. 일단 pack의 기본적 사용법은 다음과 같습니다. \n"
   ]
  },
  {
   "cell_type": "code",
   "execution_count": null,
   "id": "5bdef1e5-cfab-4f47-a1bc-4cfac407284b",
   "metadata": {},
   "outputs": [],
   "source": [
    "root = tk.Tk() \n",
    "btn = tk.Button(text = 'my btn') \n",
    "btn.pack() \n",
    "root.mainloop()"
   ]
  },
  {
   "cell_type": "markdown",
   "id": "27869463-2f8c-4597-a5e0-083628141761",
   "metadata": {},
   "source": [
    "창의 크기가 작아진 걸 보실수가 있습니다. 아무 옵션도 없는 pack 은 부모의 크기가 지정되어있지 안으면 위젯의 사이즈를 고려해 최소화시킵니다. 하지만 크기가 있을 경우 상단 중앙에 위치시킵니다. "
   ]
  },
  {
   "cell_type": "code",
   "execution_count": 284,
   "id": "1ba26c35-c449-4d97-8ff2-c335874438d5",
   "metadata": {},
   "outputs": [],
   "source": [
    "root = tk.Tk() \n",
    "root.minsize(width=400, height=400)\n",
    "tk.Button(text = 'btn1').pack() \n",
    "tk.Button(text = 'btn2').pack() \n",
    "root.mainloop()"
   ]
  },
  {
   "cell_type": "markdown",
   "id": "2010f5a0-de8d-4af5-9c36-ddd615accb6e",
   "metadata": {},
   "source": [
    "위의 경우 btn1 과 btn2 가 차례로 중앙 상단에 누적되는걸 보실 수 있습니다.  \n",
    "\n",
    "\n",
    "#### pack option: side \n",
    "\n",
    "이제 side 옵션에 'bottom' 이란 값을 줘보겠습니다. "
   ]
  },
  {
   "cell_type": "code",
   "execution_count": 286,
   "id": "8cef669c-f6fb-47fb-a04b-86a4e1c4acc1",
   "metadata": {},
   "outputs": [],
   "source": [
    "root = tk.Tk() \n",
    "root.minsize(width=400, height=400)\n",
    "tk.Button(text = 'btn1').pack(side = 'bottom') \n",
    "tk.Button(text = 'btn2').pack(side = 'bottom') \n",
    "root.mainloop()\n"
   ]
  },
  {
   "cell_type": "markdown",
   "id": "546b093a-cb21-4c13-b06b-570377195646",
   "metadata": {},
   "source": [
    "이번에는 버튼이 하단에 누적되는걸 볼 수 있습니다.  이번에는 4개의 버튼을 각각 다른 side 값을 줘보도록 하겠습니다. "
   ]
  },
  {
   "cell_type": "code",
   "execution_count": null,
   "id": "5110493c-df2a-425a-acc9-7f753dd46f33",
   "metadata": {},
   "outputs": [],
   "source": [
    "root = tk.Tk() \n",
    "root.minsize(width=400, height=400)\n",
    "tk.Button(text = 'btn1').pack(side = 'top') \n",
    "tk.Button(text = 'btn2').pack(side = 'bottom') \n",
    "tk.Button(text = 'btn3').pack(side = 'left') \n",
    "tk.Button(text = 'btn4').pack(side = 'right') \n",
    "root.mainloop()\n"
   ]
  },
  {
   "cell_type": "markdown",
   "id": "617a0da5-f52c-4ba8-a852-300b07bdb0cc",
   "metadata": {},
   "source": [
    "위의 버튼들은 창의 크기가 바뀌어도 창의 가장자리를 유지하는 것을 볼 수 있습니다. 이런식으로 상대적 배치를 가능하게 해줍니다. "
   ]
  },
  {
   "cell_type": "markdown",
   "id": "2ee6fd5d-62a2-405a-b469-3427c5aad079",
   "metadata": {},
   "source": [
    "#### pack option: fill \n",
    "\n",
    "이번에는 화면의 높이를 꽉 채우는 버튼을 만들어보겠습니다. \n"
   ]
  },
  {
   "cell_type": "code",
   "execution_count": 325,
   "id": "653ec35b-db57-4e95-8c0a-351e7a56606e",
   "metadata": {},
   "outputs": [],
   "source": [
    "root = tk.Tk() \n",
    "root.minsize(width=400, height=400)\n",
    "tk.Button(width = 10, bg = '#FBB').pack(side = 'left', fill = 'y') \n",
    "root.mainloop()\n"
   ]
  },
  {
   "cell_type": "markdown",
   "id": "cb5e3df6-6a50-4a40-ac35-21a69617560d",
   "metadata": {},
   "source": [
    "버튼의 넓이인 10은 font 크기를 기준으로 설정됩니다. 그리고 높이는 따로 설정하지 안았지만 fill 이 y 이고 확장이 True 이므로 자동적으로 높이는 창의 높이에 맞춰졌습니다. \n"
   ]
  },
  {
   "cell_type": "markdown",
   "id": "94aae83a-7a19-43ed-9ae8-df26dd9c18ac",
   "metadata": {},
   "source": [
    "#### pack option: expand \n",
    "\n",
    "expand 는  할당되지 안은 인접 공간을 채울 수 있게 해줍니다.  먼저 다음의 영역할당을 보도록 하죠 "
   ]
  },
  {
   "cell_type": "code",
   "execution_count": 335,
   "id": "359d40a6-fc5c-4ec8-b5df-f028e636c25b",
   "metadata": {},
   "outputs": [],
   "source": [
    "root = tk.Tk() \n",
    "root.minsize(width=400, height=400)\n",
    "tk.Button(text = 'top', height = 4, bg = '#FBB').pack(side = 'top', fill = 'x') \n",
    "tk.Button(text = 'left', width = 10, bg = '#FFB').pack(side = 'left', fill = 'y') \n",
    "tk.Button(text = 'main', bg = '#FAF').pack(side = 'right', fill = 'both') \n",
    "\n",
    "root.mainloop()"
   ]
  },
  {
   "cell_type": "markdown",
   "id": "68eb915a-3e18-4140-976f-92e4307689b8",
   "metadata": {},
   "source": [
    "위의 예제는 먼저 top의 공간을 할당하고 , 그 후 남은 공간중에 좌측 공간을 할당 그리고 최종적으로 우측 공간을 할당하는 방식으로 만들어졌습니다. 이때 중앙의 공간이 많이 남는걸 볼 수 있습니다. main의 넓이를 변경시켜도 창의 크기가 변하면 잘 맞지 안게 됩니다. 이 때 expand 를 사용하면 이 공간을 채울 수 있습니다. "
   ]
  },
  {
   "cell_type": "code",
   "execution_count": 336,
   "id": "4ed7905f-14b3-40eb-accf-c20e49447278",
   "metadata": {},
   "outputs": [],
   "source": [
    "root = tk.Tk() \n",
    "root.minsize(width=400, height=400)\n",
    "tk.Button(text = 'top', height = 4, bg = '#FBB').pack(side = 'top', fill = 'x') \n",
    "tk.Button(text = 'left', width = 10, bg = '#FFB').pack(side = 'left', fill = 'y') \n",
    "tk.Button(text = 'main', bg = '#FAF').pack(side = 'right', expand = True, fill = 'both') \n",
    "\n",
    "root.mainloop()\n"
   ]
  },
  {
   "cell_type": "markdown",
   "id": "a2d77133-6974-452a-94ac-50f10d2af2bc",
   "metadata": {},
   "source": [
    "main 버튼은 좌측과 , 상단에 공간이 고정 된 후에 main 의 크기가 정해지지 안으면 빈공간이 많이 남습니다. 이때 이 공간을 expand 를 이용해 채워줌으로서 빈 공간없이 모든 영역이 할당된 걸 보실 수 있습니다. 이제 분할된 공간을 버튼이 아니라 원하는 컨트롤들을 각각의 배치키기 위한 섹션으로 생성해보도록 하겠습니다. \n"
   ]
  },
  {
   "cell_type": "markdown",
   "id": "629dca26-bb5e-401d-bf2d-e656c2c21a88",
   "metadata": {},
   "source": [
    "#### Frame 위젯\n",
    "\n",
    "tkinter 에서는 특정 구역을 할당하고 그 구역에 실제위젯을 배치하기 위해서 frame 위젯을 사용합니다. frame 위젯은 다른 컨트롤들을 포함하며 배치하는 것을 목적으로 하기 때문에 자체 기능은 가지고 있지 안습니다.  이제 frame 을 이용에 구역을 나누고 컨트롤들을 배치하는 것을 보도록 하겠습니다. \n",
    "\n",
    "단 Button 이나 Entry 같은 텍스트 관련 위젯은 width , height 가 폰트크기를 기준으로 하는데 비해 frame 은 픽셀을 기준으로 하기 때문에 크기를 조정했습니다.  또한 pack을 사용할 경우 frame 은 자동으로 child 의 할당된 크기에 맞춰 사이즈가 축소됩니다. 그러므로 하부 위젯도 이를 감안해서 부모의 넓이나 높이를 고려해서 설정해줘야 합니다. "
   ]
  },
  {
   "cell_type": "code",
   "execution_count": 392,
   "id": "a7638958-3440-49c2-bb7f-e85263ab4da3",
   "metadata": {},
   "outputs": [],
   "source": [
    "root = tk.Tk() \n",
    "root.minsize(width=400, height=400)\n",
    "top = tk.Frame(height = 100, bg = '#FBB')\n",
    "top.pack(side = 'top', fill = 'x') \n",
    "for i in range(5):\n",
    "    tk.Button(top, width = 4, height = 2, text = str(i)).pack(side = 'right')\n",
    "\n",
    "left = tk.Frame(width = 100, bg = '#FFB')\n",
    "left.pack(side = 'left', fill = 'y') \n",
    "for i in range(5):\n",
    "    tk.Entry(left, width = 7).pack( padx = 10, pady = 10 )\n",
    "\n",
    "\n",
    "main = tk.Frame(bg = '#FAF')\n",
    "main.pack(side = 'right', expand = True, fill = 'both') \n",
    "tk.Canvas(bg = 'white').pack( expand = True, fill = 'both')\n",
    "\n",
    "\n",
    "root.mainloop()"
   ]
  },
  {
   "cell_type": "markdown",
   "id": "26da6a6b-c769-4ca0-beb4-788070754b7d",
   "metadata": {},
   "source": [
    "### grid \n",
    "\n",
    "grid 는 화면을 표처럼 열과 행을 맞춰는 구조로 생성됩니다.   열과 행을 맞추기 위해 사용하지만 place 나 frame 을 사용하면 어느정도 조정이 가능하며 pack과 같은 창의 크기에 적응하는 형태도 아니기 때문에 사용이 어느정도 제한되어있지만 위젯들이 열과 행을 맞추는 구조로 여럿이 배치되어 있다면 이를 간단하게 배치할때 유용합니다.  \n",
    "\n",
    "먼저 간단한 사용예를 보겠습니다. "
   ]
  },
  {
   "cell_type": "code",
   "execution_count": 404,
   "id": "6e1219d9-0c86-4b7d-ae58-c9e3329d9c34",
   "metadata": {},
   "outputs": [],
   "source": [
    "root = tk.Tk() \n",
    "root.minsize(width=400, height=400)\n",
    "\n",
    "tk.Button(text = '0,0').grid(row=0, column=0) \n",
    "tk.Button(text = '0,1').grid(row=0, column=1) \n",
    "\n",
    "root.mainloop()\n"
   ]
  },
  {
   "cell_type": "markdown",
   "id": "b8e761e7-87a9-4939-a51e-86d4fcdbfff7",
   "metadata": {},
   "source": [
    "여기까지는 pack 을 사용해서 좌측상단부터 배치하는 것과 크게 다르지 않다. 하지만 크기가 다른 위젯들을 배치하는 경우를 상정해보면 grid의 용도를 쉽게 이해할 수 있습니다. \n"
   ]
  },
  {
   "cell_type": "code",
   "execution_count": 422,
   "id": "e27078d3-8881-4f9f-8241-38ee9e84d00b",
   "metadata": {},
   "outputs": [],
   "source": [
    "import random \n",
    "root = tk.Tk()\n",
    "root.minsize(width=400, height=400)\n",
    "\n",
    "for row in range(10):    \n",
    "    tk.Label(text = 'label'+str(row), width = 7).grid(row = row, column = 0) \n",
    "    size = int( random.random()*10 ) + 3 \n",
    "    tk.Entry(root, width = size ).grid(row = row, column = 1, sticky = 'w') \n",
    "    tk.Button(text = 'enter').grid(row = row, column = 2) \n",
    "root.mainloop()         \n"
   ]
  },
  {
   "cell_type": "markdown",
   "id": "313337f5-5028-40e3-bb93-aaa2ee0da3a6",
   "metadata": {},
   "source": [
    "---\n",
    "\n",
    "## 17.7 대화상자\n",
    "\n",
    "윈도우에서 프로그램 실행중에 조그만 창이 떠서 여러가지 역할을 하는 것을 자주 볼 것입니다. 간단한 메시지창부터 각종 정보를 입력받거나 또는 파일을 탐색하는 등 이런 대화창은 다양한 용도로 사용됩니다. tkinter 에서도 당연히 이런 대화창을 지원합니다. \n",
    "\n",
    "### messagebox \n",
    "\n",
    "messagebox 는 간단한 메시지를 보여주거나 또는 선택을 제공하는 창입니다.  다음을 실행하고 버튼을 클릭 하면 간단한 메시지를 보여줍니다. \n"
   ]
  },
  {
   "cell_type": "code",
   "execution_count": 451,
   "id": "8af16257-aa6c-44da-b731-b9add27ab50b",
   "metadata": {},
   "outputs": [],
   "source": [
    "from tkinter import messagebox as mb \n",
    "\n",
    "root = tk.Tk() \n",
    "root.minsize(width = 400, height = 400) \n",
    "def on_btn():\n",
    "    mb.showinfo('mb', 'this is message box')\n",
    "    \n",
    "tk.Button(root, width = 5, text = 'click', command = on_btn).pack( fill = 'y')\n",
    "root.mainloop()"
   ]
  },
  {
   "cell_type": "markdown",
   "id": "a4d9f610-8dec-4a96-a419-b8222c3b51de",
   "metadata": {},
   "source": [
    "\n",
    "메시지 박스는 그 용도에 따라 다양한 메소드를 지원합니다.  \n",
    "\n",
    "```\n",
    "askokcancel(title=None, message=None, **options)\n",
    "\n",
    "askquestion(title=None, message=None, **options)\n",
    "\n",
    "askretrycancel(title=None, message=None, **options)\n",
    "\n",
    "askyesno(title=None, message=None, **options)\n",
    "\n",
    "askyesnocancel(title=None, message=None, **options)\n",
    "\n",
    "showerror(title=None, message=None, **options)\n",
    "\n",
    "showinfo(title=None, message=None, **options)\n",
    "\n",
    "showwarning(title=None, message=None, **options)\n",
    "```\n",
    "\n",
    "아래에는 몇몇 예를 구현해보았습니다. "
   ]
  },
  {
   "cell_type": "code",
   "execution_count": 458,
   "id": "fa27d846-dbfa-46e1-90d9-795a24760e12",
   "metadata": {},
   "outputs": [
    {
     "name": "stdout",
     "output_type": "stream",
     "text": [
      "type[0] False\n",
      "type[1] True\n"
     ]
    }
   ],
   "source": [
    "root = tk.Tk()\n",
    "root.minsize(width = 400, height = 400) \n",
    "lbox = tk.Listbox(width = 20)\n",
    "lbox.pack(side='left', fill='y')\n",
    "types = ['okcnacel', 'yesno', 'error']\n",
    "\n",
    "for i in range(len(types)):\n",
    "    lbox.insert(i, types[i])\n",
    "\n",
    "def on_lbox(e):\n",
    "    sel = lbox.curselection()[0]\n",
    "    \n",
    "    if sel == 0 : \n",
    "        print( type[sel], mb.askokcancel('msg', 'proceed?')  )\n",
    "    if sel == 1 : \n",
    "        print( type[sel], mb.askyesno('msg', 'proceed?') )\n",
    "    if sel == 2 : \n",
    "        print( type[sel], mb.showerror('msg', 'error')  )\n",
    "    \n",
    "lbox.bind('<<ListboxSelect>>', on_lbox)\n",
    "    \n",
    "root.mainloop()\n",
    "\n"
   ]
  },
  {
   "cell_type": "markdown",
   "id": "1db4ff38-d87e-4f94-9f85-ca71cc2e74e7",
   "metadata": {},
   "source": [
    "### Filedialog\n",
    "\n",
    "파일을 열때 사용하는 대화상자로 선택한 파일의 정보를 리턴합니다. 사용법은 다음과 같이 간단합니다. \n",
    "```python\n",
    "from tkinter import filedialog as fd \n",
    "filename = fd.askopenfilename() \n",
    "```\n",
    "그러면 예제를 한번 실행해보세요"
   ]
  },
  {
   "cell_type": "code",
   "execution_count": 460,
   "id": "93e17b96-6439-4382-a693-c3e186b8ec65",
   "metadata": {},
   "outputs": [
    {
     "name": "stdout",
     "output_type": "stream",
     "text": [
      "C:/Users/decoz/mypy/1.html\n"
     ]
    }
   ],
   "source": [
    "from tkinter import filedialog as fd \n",
    "\n",
    "root = tk.Tk() \n",
    "root.minsize(width = 400, height = 400) \n",
    "def on_btn():\n",
    "    print( fd.askopenfilename() )\n",
    "    \n",
    "    \n",
    "tk.Button(root, width = 10, text = '파일열기', command = on_btn).pack( fill = 'y')\n",
    "root.mainloop()"
   ]
  }
 ],
 "metadata": {
  "kernelspec": {
   "display_name": "Python 3 (ipykernel)",
   "language": "python",
   "name": "python3"
  },
  "language_info": {
   "codemirror_mode": {
    "name": "ipython",
    "version": 3
   },
   "file_extension": ".py",
   "mimetype": "text/x-python",
   "name": "python",
   "nbconvert_exporter": "python",
   "pygments_lexer": "ipython3",
   "version": "3.9.12"
  }
 },
 "nbformat": 4,
 "nbformat_minor": 5
}
