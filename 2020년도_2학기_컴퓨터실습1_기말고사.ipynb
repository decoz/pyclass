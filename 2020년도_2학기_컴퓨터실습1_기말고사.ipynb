{
  "nbformat": 4,
  "nbformat_minor": 0,
  "metadata": {
    "colab": {
      "name": "2020년도 2학기 컴퓨터실습1_기말고사.ipynb",
      "provenance": [],
      "collapsed_sections": [],
      "include_colab_link": true
    },
    "kernelspec": {
      "name": "python3",
      "display_name": "Python 3"
    }
  },
  "cells": [
    {
      "cell_type": "markdown",
      "metadata": {
        "id": "view-in-github",
        "colab_type": "text"
      },
      "source": [
        "<a href=\"https://colab.research.google.com/github/decoz/pyclass/blob/master/2020%EB%85%84%EB%8F%84_2%ED%95%99%EA%B8%B0_%EC%BB%B4%ED%93%A8%ED%84%B0%EC%8B%A4%EC%8A%B51_%EA%B8%B0%EB%A7%90%EA%B3%A0%EC%82%AC.ipynb\" target=\"_parent\"><img src=\"https://colab.research.google.com/assets/colab-badge.svg\" alt=\"Open In Colab\"/></a>"
      ]
    },
    {
      "cell_type": "markdown",
      "metadata": {
        "id": "Bkj26YclUuKK"
      },
      "source": [
        "\n",
        "\n",
        "# 2020 학년도 1학기 컴퓨터실습 기말고사\n",
        "\n",
        "```\n",
        "#### 기말고사 규칙:\n",
        "- 라이브러리나 함수의 도움 없이 기본적인 문법으로 문제를 해결하셔야합니다. 타입변환(str, int등), 배열의 카피(arr.copy()) 등 수업시간에 사용된 함수는 가능합니다. \n",
        "- 푸신 문제중에 가장 난이도가 높은 문제를 기준으로 점수 평가가 됩니다. \n",
        "- 소스를 실행했을때 실행이 되어야 합니다. \n",
        "- 제출시에는 ipynb 파일로 다운 받아 과제제출에 4시 반까지 제출하셔야합니다.\n",
        "- 수업시간에 알려드린 방식과 다르거나 지나치게 유사한 답안이 존재할 경우  본인이 푸신걸 확인하기 위한 절차를 요청할 수 있습니다. 이때 설명을 못하시면 부정시험으로 간주합니다. \n",
        "```\n",
        " <hr> \n"
      ]
    },
    {
      "cell_type": "markdown",
      "metadata": {
        "id": "wtNOvbszaTWx"
      },
      "source": [
        "## 배열 관련\n",
        "\n",
        "\n",
        "#### 문제 1 : 임의의  배열에서 짝수값의 합산에서 홀수값의 합산값을 빼서 줄력하세요. [60점]\n",
        "\n",
        "예\n",
        "```\n",
        "arr = [1,4,2,5,7,10]\n",
        "-> ( 4 + 2 + 10 ) - ( 1, 5, 7 ) \n",
        "\n",
        "출력: 3\n",
        "```\n",
        "\n"
      ]
    },
    {
      "cell_type": "code",
      "metadata": {
        "id": "BZgxwxuobc0F"
      },
      "source": [
        "s,arr = 0, [1,4,2,5,7,10]\n",
        "\n",
        "# 문제 1의 코드를 작성하세요\n"
      ],
      "execution_count": null,
      "outputs": []
    },
    {
      "cell_type": "markdown",
      "metadata": {
        "id": "D9wUo4xIb_mO"
      },
      "source": [
        "\n",
        "<Br><Br><Br>\n",
        "#### 문제 2 : 임의의 3x3 2차원 배열이 있을때 각 행의 합산값 과 각 열의 합산값이 각 행과 열의 끝에 다음과 같이 출력되도록 하세요 [70점]\n",
        "\n",
        "예\n",
        "```\n",
        "arr = [ [0,0,0],\n",
        "        [1,2,3],\n",
        "        [2,3,4]\n",
        "      ]\n",
        "-> \n",
        "\n",
        "출력 :\n",
        "0  0  0  0\n",
        "1  2  3  6\n",
        "2  3  4  9\n",
        "3  5  7 \n",
        "```\n",
        "\n"
      ]
    },
    {
      "cell_type": "code",
      "metadata": {
        "id": "l4Ztc5zFtwbr"
      },
      "source": [
        "arr = [ [0,0,0],\n",
        "        [1,2,3],\n",
        "        [2,3,4]\n",
        "      ]\n",
        "# 문제 2의 코드를 여기에 작성하세요\n"
      ],
      "execution_count": null,
      "outputs": []
    },
    {
      "cell_type": "markdown",
      "metadata": {
        "id": "RkAZyz1itxV3"
      },
      "source": [
        "\n",
        "<Br><Br><Br>\n",
        "#### 문제 3 : 10 x 10 인 이차원 배열이 있다고 할때 반복문을 이용해 이 배열을 다음과 같은 값으로 채우세요 [80점]\n",
        "\n",
        "출력:\n",
        "```\n",
        "[0, 0, 0, 0, 0, 0, 0, 0, 0, 0]\n",
        "[0, 1, 1, 1, 1, 1, 1, 1, 1, 0]\n",
        "[0, 1, 2, 2, 2, 2, 2, 2, 1, 0]\n",
        "[0, 1, 2, 3, 3, 3, 3, 2, 1, 0]\n",
        "[0, 1, 2, 3, 4, 4, 3, 2, 1, 0]\n",
        "[0, 1, 2, 3, 4, 4, 3, 2, 1, 0]\n",
        "[0, 1, 2, 3, 3, 3, 3, 2, 1, 0]\n",
        "[0, 1, 2, 2, 2, 2, 2, 2, 1, 0]\n",
        "[0, 1, 1, 1, 1, 1, 1, 1, 1, 0]\n",
        "[0, 0, 0, 0, 0, 0, 0, 0, 0, 0]\n",
        "```\n",
        "\n"
      ]
    },
    {
      "cell_type": "code",
      "metadata": {
        "id": "hueXFbeKtxV5"
      },
      "source": [
        "# 10x10 2차원 배열 만들기 \n",
        "arr = []\n",
        "for i in range(10):\n",
        "  a = []\n",
        "  for j in range(10):\n",
        "    a = a + [0]\n",
        "  arr = arr + [a]  \n",
        "\n",
        "# 문제3의 코드를 작성하세요\n",
        "\n",
        "\n",
        "  \n",
        "# 출력\n",
        "for a in arr:\n",
        "  print(a)\n",
        "\n"
      ],
      "execution_count": null,
      "outputs": []
    },
    {
      "cell_type": "markdown",
      "metadata": {
        "id": "DfNOJTqGFKD9"
      },
      "source": [
        "<Br><Br><Br>\n",
        "<hr>\n",
        "\n",
        "##  이미지 관련 \n",
        "\n",
        "아래는 크기가 100x100 인 0으로 가득찬 2차원 배열을 생성해 이미지로 표현하는 코드입니다. 먼저 이를 실행한 후에 아래의 문제를 풀어보세요. \n",
        "\n",
        "\n",
        "\n"
      ]
    },
    {
      "cell_type": "code",
      "metadata": {
        "id": "l8Od24d-FKD_"
      },
      "source": [
        "from PIL import Image\n",
        "from IPython.display import display\n",
        "import numpy as np\n",
        "\n",
        "arr = [] \n",
        "for i in range(100):\n",
        "  tarr = []\n",
        "  for j in range(100):\n",
        "    tarr = tarr + [0] \n",
        "  arr = arr + [tarr]\n",
        "\n",
        "display( Image.fromarray( np.array(arr).astype('uint8').reshape(100,100) , 'L' ) )"
      ],
      "execution_count": null,
      "outputs": []
    },
    {
      "cell_type": "markdown",
      "metadata": {
        "id": "6s3JqWyqLJZd"
      },
      "source": [
        "\r\n",
        "\r\n",
        "\r\n",
        "```\r\n",
        "참고함수 : \r\n",
        "\r\n",
        "int() 함수는 소수를 자연수로 바꿔줍니다.\r\n",
        "예:\r\n",
        "  print( int(3.5) ) \r\n",
        "  -> 3\r\n",
        "\r\n",
        "  print( int(5/2) )\r\n",
        "  -> 2\r\n",
        "\r\n",
        "abs() 함수는 숫자를 절대값으로 바꿔줍니다. \r\n",
        "\r\n",
        "  print( abs(5-7) ) \r\n",
        "  -> 2 \r\n",
        "```"
      ]
    },
    {
      "cell_type": "markdown",
      "metadata": {
        "id": "sRj-aQe_J_nc"
      },
      "source": [
        "<Br>\n",
        "\n",
        "#### 문제 4 : 아래와 같은 이미지가 출력되도록 반복문을 사용하여 배열값을 바꾸세요 [90점]\n",
        "\n",
        "\n",
        "![image.png](data:image/png;base64,iVBORw0KGgoAAAANSUhEUgAAAGQAAABkCAYAAABw4pVUAAADxUlEQVR4Ae2b224DIQxE8/8/nYpdmZsxUdrFpuI8VPBAd2DO2KyS9vV+v9+v1+vjD+vGHj3tyyvBePqhPO9P8O5fxsQ/mfhkqMtGgFK8qNu4sy/tJpzF892FbuaQJ5jz4eXGKTQaCBf92BMnX0LFc1UG9uy8B6cKyHpy5k7XBuKUCLXBw3XnQA43ZxgWI9nm2q4CPq0DiBgs45cGmgb/8nlzIMGbe/qw/+F5NhBgjL1Z7EuIqJnUxYf9D7oaCKZoT9J94ORLK+4kqpKKbuaQJ14JAMb8O6gbCAktwZTXVcc2VYfUrTfWotecEAxCgCkDU/wucBXSqzzqErXmgPMBx3fqk+9AgkJ4kw8ST7K6bAcmHbSulOJBh975paIACXrN29mcXL2OYW2BAEX7IS86TlDGG3ASzwl0PvTOumMgVEqYL7YwUGxvFnYQW5Q2MvdmEZS5KFVi+xMCZJGoulSlGmU8WNc9AcDoPonowjcG0i0yTWTd4/7pB2Ky9sTxLm3FgdH6EXCnlQ0Ao3ghIBwrQ66FexPA2AJGgsJ36nU11POQkIaIEgJpT3oEyDatSuDQsuo2Vc+DwsqlXkPo5wFQSskGiF9lim5hcL1l1anAnMYc6evJljyv/ernD6zTG3jgoc3meZ72OIE0fPlqcWP05KGs+31FjYFgdpgvtjBQbG+MdvNEZ7BFExCg2P4sgmILAmTuTQiQRaKqtAW+jAfr2ik42JRpYBb7MgayWNQ8MLrdX0BwiY8D6uhLuwES2voRcKeVDQCjeCEgHCtD2vi9CWBsASNBMT/kEmJ5BJoDNEx2MPmL0F/lUfdLaw44H3C0rMFrv4QyKIQ3+SDxJJvvKDFiNB60rpTiQYe+QrDpeQuQlMxNN5mr6ID9tUCAov2QFuoUhvEGnMRz8p0PvbPuGAiVEuaLLQwU25uFHcQWpY3MvVkEZS5Kldj+hABZJKouValGGQ/WdU8AMLqPa7rwjYF0i0wTWfe4f/qBmKw9cbxLW3FgtH4E3GllA8AoXggIx8qQa+HeBDC2gJGg8AlvXQ31PCSkIaKEQNqTHgGyTasSOLSsuk3V86CwcqnXEPp5AJRSsgHiV5miWxjwf+r7/dVLQ4fEdh/81S3MqZI1kLQJJ3F5s8gjuvGJyDAkjYdDGVcI5oT5Mhemfdn+LKpkW5AqmXsTAmSRqLo3BL6MB+vaKTjYlGlgFvsyBrJY1DwwuoPXXkwJDWkrDozWj4A7rWwAGMULAZFGZ1/uTTiL5jsEXRUC9wQAY3Bv54okoSqhV2CifPkBHOGYJ2xrx6sAAAAASUVORK5CYII=)\n",
        "\n"
      ]
    },
    {
      "cell_type": "code",
      "metadata": {
        "id": "TKn-oVvRvNCN"
      },
      "source": [
        "# 배열 값 초기화\n",
        "for x in range(100):\n",
        "  for y in range(100):\n",
        "    arr[y][x] = 0 \n",
        "\n",
        "# 문제 4의 코드를 작성하세요\n",
        "\n",
        "\n",
        "# 출력\n",
        "display( Image.fromarray( np.array(arr).astype('uint8').reshape(100,100) , 'L' ) )      "
      ],
      "execution_count": null,
      "outputs": []
    },
    {
      "cell_type": "markdown",
      "metadata": {
        "id": "C1eBDFKFUKBf"
      },
      "source": [
        "<Br><Br><Br>\n",
        "\n",
        "#### 문제 5 : 아래와 같은 이미지가 출력되도록 반복문을 사용해서 배열값을 바꾸세요 [100점]\n",
        "\n",
        "<img src='http://drive.google.com/uc?export=view&id=1EQBYbCgvNqvuFQDG6d_Wy6IxdLHXgJFM' /><br>"
      ]
    },
    {
      "cell_type": "code",
      "metadata": {
        "id": "YwNKeFzqP5qj"
      },
      "source": [
        "# 배열 값 초기화\n",
        "for x in range(100):\n",
        "  for y in range(100):\n",
        "    arr[y][x] = 0 \n",
        "\n",
        "# 문제 5의 코드를 작성하세요\n",
        "\n",
        "\n",
        "    \n",
        "# 출력    \n",
        "display( Image.fromarray( np.array(arr).astype('uint8').reshape(100,100) , 'L' ) )    "
      ],
      "execution_count": null,
      "outputs": []
    }
  ]
}