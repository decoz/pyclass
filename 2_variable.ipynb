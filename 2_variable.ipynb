{
  "nbformat": 4,
  "nbformat_minor": 0,
  "metadata": {
    "colab": {
      "name": "2 variable.ipynb",
      "provenance": [],
      "toc_visible": true,
      "authorship_tag": "ABX9TyMv0RFeJSoN5f2W1bsx2aVH",
      "include_colab_link": true
    },
    "kernelspec": {
      "name": "python3",
      "display_name": "Python 3"
    }
  },
  "cells": [
    {
      "cell_type": "markdown",
      "metadata": {
        "id": "view-in-github",
        "colab_type": "text"
      },
      "source": [
        "<a href=\"https://colab.research.google.com/github/decoz/pyclass/blob/master/2_variable.ipynb\" target=\"_parent\"><img src=\"https://colab.research.google.com/assets/colab-badge.svg\" alt=\"Open In Colab\"/></a>"
      ]
    },
    {
      "cell_type": "markdown",
      "metadata": {
        "id": "DO12om30hU55",
        "colab_type": "text"
      },
      "source": [
        "# 2 변수와 연산\n",
        "\n",
        "프로그램의 근본 작동원리는 메모리에 정보를 읽고 처리한 후에 다시 이것을 저장 및 전송하는 것입니다. 방대한 메모리 공간에서 정보를 저장하고 읽어들이려면 그 위치를 특정해야 하는데 컴퓨터는 메모리 주소값을 이용합니다. \n",
        "\n",
        "하지만 프로그램 작성시에 이런 메모리 주소를 우리가 직접 지정하고 기억하는 것은 매우 불편하므로 우리는 주소대신 이름을 붙여서 그 자료의 저장장소를 지정하는데 이것을 변수(variable) 이라고 부릅니다.  또한 메모리의 자료를 읽어들인 후에 처리하는 과정을 연산(operation)이라고 칭합니다. \n"
      ]
    },
    {
      "cell_type": "markdown",
      "metadata": {
        "id": "GIpjMobOKNo-",
        "colab_type": "text"
      },
      "source": [
        "\n",
        "\n",
        "---\n",
        "\n",
        "\n",
        "## 2.1 변수 \n",
        "\n",
        "파이썬에서 메모리에 어떤 값을 넣는 구문을 보겠습니다. 아래의 코드를 클릭후에 좌측의 실행버튼을 누르시거나 shift+enter 키를 누르셔서 실행해보세요"
      ]
    },
    {
      "cell_type": "code",
      "metadata": {
        "id": "qFjJpQjTjGBg",
        "colab_type": "code",
        "colab": {}
      },
      "source": [
        "a = 1"
      ],
      "execution_count": 0,
      "outputs": []
    },
    {
      "cell_type": "markdown",
      "metadata": {
        "id": "8J6iFOSwjIDw",
        "colab_type": "text"
      },
      "source": [
        "수학에서는 a 와 1이 같다는 의미지만 프로그램에선 a라는 변수에 1을 저장하라는 의미가 됩니다. 정확하게 표현하면 \n",
        "\n",
        "> \"메모리의 사용하지 안는 공간을 찾아 1을 저장하고 그 위치를 a라고 기억해라\" \n",
        "\n",
        "라는 의미입니다. a 의 메모리 주소는 매번 실행시 달라지며 100000 번이 될수도 523429842 번이 될수도 있습니다. 변수의 위치는 컴퓨터가 자동으로 아직 사용하지 안는 주소를 선택해 임의로 결정하게 되지만 여러분은 실제 그 주소를 몰라도 됩니다. a라는 이름만 기억하면 알아서 그 주소를 지정해주기 때문입니다. 이런 편리성때문에 거의 모든 프로그래밍 언어는 이런 변수라는 개념을 사용합니다. \n",
        "\n",
        "이번에는 다음 프로그램을 실행해보세요\n"
      ]
    },
    {
      "cell_type": "code",
      "metadata": {
        "id": "daCWkg1Qmjo6",
        "colab_type": "code",
        "colab": {}
      },
      "source": [
        "print(a)"
      ],
      "execution_count": 0,
      "outputs": []
    },
    {
      "cell_type": "markdown",
      "metadata": {
        "id": "Zu7MdfhrmuT6",
        "colab_type": "text"
      },
      "source": [
        "이번에는 실행한 코드 아래에 1이라는 값이 찍혔을 겁니다.  print() 는 괄호안의 값을 출력하라는 의미인데 그 안에 a 라는 변수를 적어뒀기 때문에 a 에 저장된 값인 1을 출력한 것이죠. "
      ]
    },
    {
      "cell_type": "markdown",
      "metadata": {
        "id": "0HtwLfCYl0X-",
        "colab_type": "text"
      },
      "source": [
        "###**변수에 값을 저장하는 방법들**\n",
        "\n",
        "a라는 이름은 제가 임의로 붙인 이름이며 알파벳으로 시작하는 여러 이름들이 사용가능합니다. 아래의 간단한 몇몇 변수명의 예를 적어두었습니다. \n"
      ]
    },
    {
      "cell_type": "code",
      "metadata": {
        "id": "lOUsfLAVmD0-",
        "colab_type": "code",
        "colab": {}
      },
      "source": [
        "b = 1\n",
        "b1 = 2\n",
        "run2you = 3\n",
        "print(b, b1, run2you)"
      ],
      "execution_count": 0,
      "outputs": []
    },
    {
      "cell_type": "markdown",
      "metadata": {
        "id": "5JtZvnPTn53E",
        "colab_type": "text"
      },
      "source": [
        "*( 참고로 print() 는 여러개의 변수를',' 를 이용해 동시에 출력할 수 있습니다.)*\n",
        "\n",
        "위의 예제에서 보듯이 변수 이름에는 알파벳 숫자의 조합이 사용가능합니다. 단 반드시 알파벳이 먼저 와야합니다.  b1 은 변수이름이 될 수 있지만 1b 는 될수 없는것이죠. 또한 이름은 공칸 없이 붙여써야 한다는 점도 유념하세요\n",
        "\n",
        "> my a = 1 \n",
        "\n",
        "이런 코드는 my와 a를 따로 인식하므로 컴퓨터가 처리를 하지 못해 에러가 납니다. 이런경우는 '_' 를 사용하여 붙이면 됩니다. \n",
        "\n",
        "> my_a = 1\n",
        "\n",
        "이렇게 사용하면 정상적인 변수로 인식합니다. \n"
      ]
    },
    {
      "cell_type": "markdown",
      "metadata": {
        "id": "ZsrX4ugKSktY",
        "colab_type": "text"
      },
      "source": [
        "위에서도 말씀드렸지만  a =  1 같은 표현은 a 에 1을 저장하라는 하나의 동작을 의미합니다. 그리고 이런 동작은 일반적으로는 순서대로 수행됩니다. 다음 코드를 한번 실행해보죠 "
      ]
    },
    {
      "cell_type": "code",
      "metadata": {
        "id": "aIe_i4faTMKk",
        "colab_type": "code",
        "colab": {}
      },
      "source": [
        "a = 1\n",
        "print(a)\n",
        "a = 2\n",
        "print(a)"
      ],
      "execution_count": 0,
      "outputs": []
    },
    {
      "cell_type": "markdown",
      "metadata": {
        "id": "LkkWmoxhR1VW",
        "colab_type": "text"
      },
      "source": [
        "위의 코드에서 첫번째 출력시에는 a에 1의 값이 저장된 상태지만 그 후에 a를 2로 교체하였기 때문에 같은 a를 찍어도 각각 다른 값이 찍힌겁니다. \n",
        "\n",
        "또한 두 변수에 동시에 값을 넣는 것도 가능합니다. 다음 코드를 보시죠 "
      ]
    },
    {
      "cell_type": "code",
      "metadata": {
        "id": "mOyo-0F7SRWG",
        "colab_type": "code",
        "colab": {}
      },
      "source": [
        "a,b = 3,4 \n",
        "print(a,b)"
      ],
      "execution_count": 0,
      "outputs": []
    },
    {
      "cell_type": "markdown",
      "metadata": {
        "id": "AvF0lpgNrxOG",
        "colab_type": "text"
      },
      "source": [
        "### **변수간 값의 이동**\n",
        "\n",
        "이번에는 한 변수의 값을 다른 변수에 이동하는 예를 보도록 하죠. \n",
        "\n",
        "> a = b \n",
        "\n",
        "이 문장은 b 의 값을 꺼내 a 에 저장하라는 뜻입니다. 즉 b의 값이 a에 복사가 되는 것이죠.  위에서 우리가 사용했던 = 이라는 기호는 둘이 같다는 의미가 아니라 \n",
        "\n",
        ">*우측의 값을 좌측에 저장하라\"*\n",
        "\n",
        "라는 의미이기 때문입니다. 그러므로  a = 1 은 올바른 표현이지만 1 = a 는 잘못된 표현 입니다. 좌측에는 항상 저장이 가능한 변수가 와야하기 때문입니다. 그러므로 a=b 라는 문장에서 b는 값을 꺼내는 장소고 a는 값을 저장하는 장소를 의미합니다. \n",
        "\n",
        "이제 이것을 직접 실행해서 확인해보도록 합시다. "
      ]
    },
    {
      "cell_type": "code",
      "metadata": {
        "id": "QMUYlAw6sHcK",
        "colab_type": "code",
        "colab": {}
      },
      "source": [
        "b = 1\n",
        "a = 2\n",
        "b = a\n",
        "print(b)"
      ],
      "execution_count": 0,
      "outputs": []
    },
    {
      "cell_type": "markdown",
      "metadata": {
        "id": "mFySUgR5TyaF",
        "colab_type": "text"
      },
      "source": [
        "이번에는 다음의 코드의 결과를 실행하지 말고 예측해보세요 \n",
        "\n"
      ]
    },
    {
      "cell_type": "code",
      "metadata": {
        "id": "5Xd9oq9cT_Gv",
        "colab_type": "code",
        "colab": {}
      },
      "source": [
        "a,b = 1,2\n",
        "a = b\n",
        "b = a\n",
        "print(a,b)"
      ],
      "execution_count": 0,
      "outputs": []
    },
    {
      "cell_type": "markdown",
      "metadata": {
        "id": "8HbxJGCeUIMT",
        "colab_type": "text"
      },
      "source": [
        "위의 코드는 a와 b의 값이 바뀔것같은 착시를 일으키지만 실제로는 a = b 가 실행된 순간 a : 2 , b : 2 로 두 값이 똑같에 져서 b = a 도 역시 값의 변화가 없게 됩니다.  그래서 2 2 가 찍힌겁니다. \n",
        "\n"
      ]
    },
    {
      "cell_type": "markdown",
      "metadata": {
        "id": "Nx-n_swUUmZ2",
        "colab_type": "text"
      },
      "source": [
        "\n",
        "### <font color = red> 연습 2.1 두 변수의 값을 바꾸기 ###\n",
        "\n",
        "그러면 실제로 두 값을 바꾸려면 어떻게 해야할까요? 첫 프로그램을 접하시는 입장에서 쉽지 안을수도 있지만 한번 고민하고 작성해보세요 \n",
        "</font>"
      ]
    },
    {
      "cell_type": "code",
      "metadata": {
        "id": "kdGGH9IvVMcR",
        "colab_type": "code",
        "colab": {}
      },
      "source": [
        "a,b = 1,2\n",
        "\n",
        "# 두 변수 a,b의 값을 서로 바꿀 수 있도록 이 부분에 작성해보세요\n",
        "\n",
        "print(a,b)\n"
      ],
      "execution_count": 0,
      "outputs": []
    },
    {
      "cell_type": "markdown",
      "metadata": {
        "id": "b3h2HzBrlZr-",
        "colab_type": "text"
      },
      "source": [
        "<br> <br> \n",
        "\n",
        "---\n",
        "\n",
        "## 2.2 연산과 연산자\n",
        "\n",
        "연산이란 자료를 처리하는 과정을 의미합니다. 다음 코드를 한번 보죠 \n"
      ]
    },
    {
      "cell_type": "code",
      "metadata": {
        "id": "WIKyZRCMutd8",
        "colab_type": "code",
        "colab": {}
      },
      "source": [
        "a = 1 + 2 + 3\n",
        "print( a )\n"
      ],
      "execution_count": 0,
      "outputs": []
    },
    {
      "cell_type": "markdown",
      "metadata": {
        "id": "A11Te5dPXI5P",
        "colab_type": "text"
      },
      "source": [
        "a 에 넣을 값을 구하기 위해 1 + 2 + 3 이라는 3가지의 값을 먼저 더하고 그 결과를 저장한 겁니다. 참고로 굳이 a 를 거치지 안고 \n",
        "\n",
        "> print(1 + 2 + 3)\n",
        "\n",
        "라고 작성해도 결과는 마찬가지가 됩니다. \n"
      ]
    },
    {
      "cell_type": "markdown",
      "metadata": {
        "id": "Fmt1oryGcCJh",
        "colab_type": "text"
      },
      "source": [
        "### **다항 연산자(산술)** \n",
        "\n",
        "이때 '+' 는 두 값을 더하라는 의미로서 이런 연산을 담당하는 것을 **연산자** 라고 합니다. 다음에는 연산자를 사용한 간단한 예들을 보겠습니다. \n",
        "\n",
        "\n",
        "\n"
      ]
    },
    {
      "cell_type": "code",
      "metadata": {
        "id": "pTla8v9rXHqi",
        "colab_type": "code",
        "colab": {}
      },
      "source": [
        "print( 8 + 4 ) # 덧셋\n",
        "print( 8 - 4 ) # 뺄셈\n",
        "print( 8 * 4 ) # 곱셈\n",
        "print( 8 / 4 ) # 나눗셈\n"
      ],
      "execution_count": 0,
      "outputs": []
    },
    {
      "cell_type": "markdown",
      "metadata": {
        "id": "F6du4AkWdBsC",
        "colab_type": "text"
      },
      "source": [
        "프로그래밍에 익숙치 안은 분들은 * 나 / 가 낮설게 느껴지실 수도 있지만 컴퓨터에선 키보드상에 곱셈, 나눗셈 기호가 없기때문에 위의 두 기호로 대체해서 씁니다. \n",
        "\n",
        "이렇게 두 값의 계산을 위한 연산자를 다항 연산자라고 합니다. \n",
        "\n",
        "> \\+ : 덧셈 <br>\n",
        "\\- : 뺄셈 <br>\n",
        "\\* : 곱셈 <br>\n",
        "\\/ : 나눗셈 <br>\n",
        "\\% : 나머지\n",
        "\n",
        "나머지가 좀 생소하실수도 있는데 예를 들어 5 % 3 하면 5를 3으로 나눈 나머지라는 뜻으로 2가 됩니다. 12 % 3 은 나머지가 없어서 0 이 되죠. 별로 중요하지 안아보이는 연산자로 보일지 모르지만 프로그램에서는 이 연산자가 대단히 중요한 역할을 합니다. \n"
      ]
    },
    {
      "cell_type": "markdown",
      "metadata": {
        "id": "3wsQzHK2eJif",
        "colab_type": "text"
      },
      "source": [
        "### **관계(논리) 연산자**\n",
        "\n",
        "두 값이 크거나 작거나 같은등의 비교를 위한 연산자도 있습니다. 다음 출력을 한번 보죠 "
      ]
    },
    {
      "cell_type": "code",
      "metadata": {
        "id": "sWiahzlCedwN",
        "colab_type": "code",
        "colab": {}
      },
      "source": [
        "print( 2 < 3 ) # 참\n",
        "print( 2 > 3 ) # 거짓 \n",
        "\n",
        "print( 3 > 1 + 2 ) # 거짓 \n",
        "print( 3 >= 1 + 2 ) # 참 \n",
        "\n",
        "print( 4 == 2 ) # 거짓 \n",
        "print( 4 != 2) # 참 \n",
        "print( 4 == 2 * 2 ) # 참 "
      ],
      "execution_count": 0,
      "outputs": []
    },
    {
      "cell_type": "markdown",
      "metadata": {
        "id": "TEkjsrIsgwlJ",
        "colab_type": "text"
      },
      "source": [
        "이런 관계 연산자는 참(True) 과 거짓(False) 두 종류의 값만을 결과로 갖습니다. 이렇게 두 값을 비교하여 그 관계의 참, 거짓을 판별하는 연산자를 관계연산자라고 합니다.  \n",
        "\n",
        "> \\> : \t~보다 크다. <br>\n",
        "\\>= : ~보다 크거나 같다.<br>\n",
        "\\<\t: ~보다 작다.<br>\n",
        "\\<=\t: ~보다 작거나 같다.<br>\n",
        "\\==\t: 같다. <br>\n",
        "\\!=\t: 같지 않다. <br>\n",
        "\n",
        "두 값을 비교하는 게 중요할까? 라는 생각이 드실 수도 있지만 이러한 관계연산자를 통해 프로그램의 흐름이 제어되게 되며 매우 복잡한 작업을 가능하도록 해줍니다. "
      ]
    },
    {
      "cell_type": "code",
      "metadata": {
        "id": "P8UhOyLVe7Y-",
        "colab_type": "code",
        "colab": {}
      },
      "source": [
        "print( (123 + 456) * 789 )"
      ],
      "execution_count": 0,
      "outputs": []
    },
    {
      "cell_type": "markdown",
      "metadata": {
        "id": "qSomdK9nVU22",
        "colab_type": "text"
      },
      "source": [
        "### **대입 연산자와 변수**\n",
        "\n",
        "사실 처음에 나왔던 \n",
        "\n",
        "> a = 1 \n",
        "\n",
        "같은 변수에 저장하라는 문장에 사용된 = 도 대입 연산자라는 표현을 씁니다. 이 연산자는 우측의 값을 좌측의 변수에 저장하라는 뜻임을 위에서 이미 설명했습니다. 그러므로 좌측에는 반드시 저장가능한 메모리.. 즉 변수가 나와야 합니다. \n",
        "\n",
        "이와 달리 우측에부분에는 단순한 값만이 아니라 값을 만들기 위한 수식이 나올 수도 있습니다. 그리고 그런 연산에는 미리 지정된 값만이 아니라 변수를 사용할 수도 있습니다. \n",
        "\n",
        "> a = b \n",
        "\n",
        "는 b의 값을 꺼내서 a 에 복사한다라는 의미입니다만 \n",
        "\n",
        "> a = b + 1 \n",
        "\n",
        "은 b의 값을 꺼내서 1을 더해서 a 에 저장한다는 의미가 되는 것이죠. \n",
        "\n"
      ]
    },
    {
      "cell_type": "markdown",
      "metadata": {
        "id": "eWtgYSi7XXAQ",
        "colab_type": "text"
      },
      "source": [
        "\n",
        "### <font color = red> 연습 2.2 출력결과 예측 ###\n",
        "다음 프로그램을 실행시켰을때 변수의 값의 변화를 생각해보고 어떤 값이 출력될지 가만히 생각해보고 그 결과를 예측해보세요 \n",
        "</font>"
      ]
    },
    {
      "cell_type": "code",
      "metadata": {
        "id": "TA2-OjHYjFaJ",
        "colab_type": "code",
        "colab": {}
      },
      "source": [
        "a,b = 1,2\n",
        "a = b + 1\n",
        "b = a + 1\n",
        "print(a,b)"
      ],
      "execution_count": 0,
      "outputs": []
    },
    {
      "cell_type": "markdown",
      "metadata": {
        "id": "VKs-nIiqYLdR",
        "colab_type": "text"
      },
      "source": [
        "이번에는 아주 유명한 코드를 하나 소개해드리겠습니다. \n",
        "\n",
        "> a = a + 1 \n",
        "\n",
        "사실 원리를 이해하셨다면 어렵지 안은 문장이지만 처음 변수와 대입문에 익숙치 안은 분들이 자주 헷갈리실수도 있는 문장이죠. 여기서 좌측의 a는 'a의 저장위치'우측의 a 는 'a 의 값' 으로 사용됩니다. \n",
        "\n",
        "> \" a 의 값에 1을 더해서 다시 a에 저장한다 \" \n",
        "\n",
        "라는 의미가 됩니다. 이는 결국 a 에 어떤 값이 있던간에 그 값을 1만큼 증가시키는 구문이 됩니다.  이는 나중에 나올 프로그램의 반복 작동에 있어서 매우 중요한 역할을 하는 문장이기도 합니다.  다음 코드를 실행해서 a = a + 1 이 작동한 결과를 확인해보세요 \n",
        "\n"
      ]
    },
    {
      "cell_type": "code",
      "metadata": {
        "id": "94K3xteNX7fG",
        "colab_type": "code",
        "colab": {}
      },
      "source": [
        "a = 1\n",
        "print(a)\n",
        "a = a + 1\n",
        "print(a)\n",
        "a = a + 1\n",
        "print(a)\n",
        "a = a + 1\n",
        "print(a)"
      ],
      "execution_count": 0,
      "outputs": []
    },
    {
      "cell_type": "markdown",
      "metadata": {
        "id": "ABjJXqh0bLmB",
        "colab_type": "text"
      },
      "source": [
        "### <font color = red> 연습 2.3 반복시 효과 예측 ###\n",
        "<font color = red>\n",
        "다음 코드를 실행시켰을때 찍힐 결과를 예상해보고 \n",
        "\n",
        "> b = b + 1 <Br>\n",
        "> a = a + b <Br>\n",
        "> print(a)\n",
        "\n",
        "이 부분을 8번 더 추가했을때 (총 10회) 마지막에 찍히는 a의 값은 어떨지 예상해보세요.\n",
        "</font>"
      ]
    },
    {
      "cell_type": "code",
      "metadata": {
        "id": "ccPmwJQsZ_jY",
        "colab_type": "code",
        "colab": {}
      },
      "source": [
        "a,b = 0,0\n",
        "\n",
        "b = b + 1\n",
        "a = a + b \n",
        "print(a)\n",
        "\n",
        "b = b + 1\n",
        "a = a + b \n",
        "print(a)\n"
      ],
      "execution_count": 0,
      "outputs": []
    },
    {
      "cell_type": "code",
      "metadata": {
        "id": "-sZPXMNJafG_",
        "colab_type": "code",
        "colab": {}
      },
      "source": [
        ""
      ],
      "execution_count": 0,
      "outputs": []
    }
  ]
}