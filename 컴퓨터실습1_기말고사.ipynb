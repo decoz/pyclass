{
  "nbformat": 4,
  "nbformat_minor": 0,
  "metadata": {
    "colab": {
      "name": "컴퓨터실습1 기말고사.ipynb",
      "provenance": [],
      "collapsed_sections": [],
      "authorship_tag": "ABX9TyP/q+sxe50+VD8ePD3McPkX",
      "include_colab_link": true
    },
    "kernelspec": {
      "name": "python3",
      "display_name": "Python 3"
    }
  },
  "cells": [
    {
      "cell_type": "markdown",
      "metadata": {
        "id": "view-in-github",
        "colab_type": "text"
      },
      "source": [
        "<a href=\"https://colab.research.google.com/github/decoz/pyclass/blob/master/%EC%BB%B4%ED%93%A8%ED%84%B0%EC%8B%A4%EC%8A%B51_%EA%B8%B0%EB%A7%90%EA%B3%A0%EC%82%AC.ipynb\" target=\"_parent\"><img src=\"https://colab.research.google.com/assets/colab-badge.svg\" alt=\"Open In Colab\"/></a>"
      ]
    },
    {
      "cell_type": "markdown",
      "metadata": {
        "id": "Bkj26YclUuKK",
        "colab_type": "text"
      },
      "source": [
        "\n",
        "\n",
        "# 2020 학년도 컴퓨터실습1 기말고사\n",
        " \n",
        " ```\n",
        "#### 기말고사 규칙:\n",
        "- 라이브러리나 함수의 도움 없이 기본적인 문법으로 문제를 해결하셔야합니다.\n",
        "- 푸신 문제중에 가장 난이도가 높은 문제를 기준으로 점수 평가가 됩니다. \n",
        "- 소스를 실행했을때 실행이 되어야 합니다. \n",
        "- 제출시에는 ipynb 파일로 다운 받아 과제제출에 3시 반까지 제출하셔야합니다.\n",
        "- 수업시간에 알려드린 방식과 다르거나 지나치게 유사한 답안이 존재할 경우  본인이 푸신걸 확인하기 위한 절차를 요청할 수 있습니다. 이때 설명을 못하시면 부정시험으로 간주합니다. \n",
        "\n",
        "\n",
        "```\n",
        "\n",
        "\n",
        " <hr> \n"
      ]
    },
    {
      "cell_type": "markdown",
      "metadata": {
        "id": "wtNOvbszaTWx",
        "colab_type": "text"
      },
      "source": [
        "## 배열 , for 문 관련 \n",
        "\n",
        "\n",
        "#### 문제 1 : 2차원 배열에서 각 행의 합산값을 출력하는 코드를 작성하세요 [60점]\n",
        "\n",
        "예\n",
        "```\n",
        "arr = [[1,2,3], [4,5,6]] \n",
        "\n",
        "-> 6 15\n",
        "\n",
        "\n",
        "```\n",
        "\n"
      ]
    },
    {
      "cell_type": "code",
      "metadata": {
        "id": "A5ZyO49j_35r",
        "colab_type": "code",
        "colab": {}
      },
      "source": [
        "arr = [[1,2,3], [4,5,6]] \n",
        "\n",
        "# 임의의 2차원 배열에서 두 숫자의 합이 10 이 되는 조합을 출력하는 코드를 작성하세요\n",
        "\n"
      ],
      "execution_count": null,
      "outputs": []
    },
    {
      "cell_type": "markdown",
      "metadata": {
        "colab_type": "text",
        "id": "zSJdZXzqA3_H"
      },
      "source": [
        "<Br><Br><Br>\n",
        "\n",
        "#### 문제 2 : 배열에서 두 숫자의 합이 10 이 되는 숫자들의 쌍을 출력하는 코드를 작성하세요 [70점]\n",
        "\n",
        "예\n",
        "```\n",
        "arr = [1,2,3,4,5,6,7] \n",
        "\n",
        "-> \n",
        "3 7\n",
        "4 6 \n",
        "( 순서는 달라도 됩니다. ) \n",
        "\n",
        "```\n",
        "\n"
      ]
    },
    {
      "cell_type": "code",
      "metadata": {
        "colab_type": "code",
        "id": "n_doa-UHA3_I",
        "colab": {}
      },
      "source": [
        "arr = [1,2,3,4,5,6,7] \n",
        "# 임의의 배열에서 두 숫자의 합이 10 이 되는 조합을 출력하는 코드를 작성하세요\n",
        "\n"
      ],
      "execution_count": null,
      "outputs": []
    },
    {
      "cell_type": "markdown",
      "metadata": {
        "colab_type": "text",
        "id": "5vO7QBZcCOpX"
      },
      "source": [
        "<Br><Br><Br>\n",
        "\n",
        "#### 문제 3 : 10 x 10 의 이차원 배열이 있을때 이 배열에 다음과 같이 값을 채워보세요 [90점]\n",
        "\n",
        "\n",
        "```\n",
        "[4, 3, 2, 1, 0, 4, 3, 2, 1, 0]\n",
        "[3, 2, 1, 0, 4, 3, 2, 1, 0, 4]\n",
        "[2, 1, 0, 4, 3, 2, 1, 0, 4, 3]\n",
        "[1, 0, 4, 3, 2, 1, 0, 4, 3, 2]\n",
        "[0, 4, 3, 2, 1, 0, 4, 3, 2, 1]\n",
        "[4, 3, 2, 1, 0, 4, 3, 2, 1, 0]\n",
        "[3, 2, 1, 0, 4, 3, 2, 1, 0, 4]\n",
        "[2, 1, 0, 4, 3, 2, 1, 0, 4, 3]\n",
        "[1, 0, 4, 3, 2, 1, 0, 4, 3, 2]\n",
        "[0, 4, 3, 2, 1, 0, 4, 3, 2, 1]\n",
        "\n",
        "```\n",
        "\n"
      ]
    },
    {
      "cell_type": "code",
      "metadata": {
        "colab_type": "code",
        "id": "9YFOfX0hCOpY",
        "colab": {}
      },
      "source": [
        "# 10 x 10 이차원 배열 만들기\n",
        "arr = [] \n",
        "for i in range(10):\n",
        "  a = [] \n",
        "  for j in range(10):\n",
        "    a.append(0)\n",
        "  arr.append(a)\n",
        "\n",
        "# 문제의 코드를 여기에 작성하세요\n",
        "\n",
        "\n",
        "#출력\n",
        "for a in arr:\n",
        "  print(a)\n",
        "\n",
        "\n"
      ],
      "execution_count": null,
      "outputs": []
    },
    {
      "cell_type": "markdown",
      "metadata": {
        "colab_type": "text",
        "id": "DfNOJTqGFKD9"
      },
      "source": [
        "<Br><Br><Br>\n",
        "<hr>\n",
        "\n",
        "##  이미지 관련\n",
        "\n",
        "아래는 크기가 10000 인 0으로 가득찬 1차원 배열을 생성해 이미지로 표현하는 코드입니다.\n",
        "\n"
      ]
    },
    {
      "cell_type": "code",
      "metadata": {
        "colab_type": "code",
        "id": "l8Od24d-FKD_",
        "colab": {}
      },
      "source": [
        "from PIL import Image\n",
        "from IPython.display import display\n",
        "import numpy as np\n",
        "\n",
        "arr = []\n",
        "for i in range(10000):\n",
        "    arr += [0]\n",
        "\n",
        "display( Image.fromarray( np.array(arr).astype('uint8').reshape(100,100) , 'L' ) )"
      ],
      "execution_count": null,
      "outputs": []
    },
    {
      "cell_type": "markdown",
      "metadata": {
        "colab_type": "text",
        "id": "sRj-aQe_J_nc"
      },
      "source": [
        "\n",
        "#### 문제 4 : 아래와 같은 이미지가 출력되도록 배열값을 바꾸세요 [80점]\n",
        "![image.png](data:image/png;base64,iVBORw0KGgoAAAANSUhEUgAAAGQAAABkCAYAAABw4pVUAAACRUlEQVR4Ae3a0W6DMAyFYd7/pZnKVQRJZBGvNei7mESJl4rz+xyn3bZt2/bzz77vl3vnms9rdVftEnS5bkroqyYJQl+afKDz9c0HhdEN1a0lDCDFGhCQ8kB6A7x3r9iDvCUqrw7pid+7B0hfu0Vd+pv2AJzvLb7xWzo6+zkAKdZYgADS+XbgE4fFhMmOouh+HFKsEQABRGQd8TVoBA4ZCBPN/Oy6+0DOn0tGr4s9cLaA2fsBUqxhAAHEUD9ibtAIHDIQJns2RPcDBBCRJbJGR/KC36GJLJElsn4bWbO4aNeKdWr0VJRd9/+R1Yo+uwbkYAFIsUYABBBD3VB/0OwSWSJLZIkskTVwwYOEyf7AF92vzgyZwWrXimV+VOhoHSDFAAMCyI35IrIWRWsFzL4u1tHR2RCtE1nFAAMCyGIcFhMwGkXROg4pBhgQQBYjK3pqKyb0eyMLkC91dFToaB2HFAMHCCDHnFhshOedskRWsc4HBJCMKHLsXczyqIDZdWZIMXDvBfLQWQMIhxQ7JAACyOzUJrI4hEM4ZHbi4hAO4RAOKeYCQB4EZAarXfvSrHHsbUWfXQNSzGWAACK+RFYxFwACyPkvjmJq5op2zVAv5h5AABFfbUTdvV50Egh3hR/9HiDvijYOGXX63fscwiFcNXMPh3AIh3BIMRcAAohYmrkgY20w/AmfIe6dPQApFnuAACIOZ1HGIRzCIRxSzAWAACKWZi6YrRnqz3CPDp918Q/WAPmB6Of/VmxfAwLIM7K87dqvXf8BEY/BqQUWA1cAAAAASUVORK5CYII=)\n"
      ]
    },
    {
      "cell_type": "code",
      "metadata": {
        "colab_type": "code",
        "id": "tmUc7hoCJ_ng",
        "colab": {}
      },
      "source": [
        "# 문제의 4의 코드를 작성하세요\n",
        "\n",
        "# 출력코드\n",
        "display( Image.fromarray( np.array(arr).astype('uint8').reshape(100,100) , 'L' ) )"
      ],
      "execution_count": null,
      "outputs": []
    },
    {
      "cell_type": "markdown",
      "metadata": {
        "colab_type": "text",
        "id": "bFQgmAnRT-If"
      },
      "source": [
        "<Br><Br><Br>\n",
        "\n",
        "\n",
        "아래는 붉은색 이미지의 100*100 인 3차원 배열을 생성하고 이미지로 출력하는 코드입니다. \n",
        "\n"
      ]
    },
    {
      "cell_type": "code",
      "metadata": {
        "colab_type": "code",
        "id": "6HvfNuX2T-Ih",
        "colab": {}
      },
      "source": [
        "arr = [] \n",
        "for i in range(100):\n",
        "  tarr = []\n",
        "  for j in range(100):\n",
        "    tarr = tarr + [[255,0,0]] \n",
        "  arr = arr + [tarr]\n",
        "\n",
        "display( Image.fromarray( np.array(arr).astype('uint8')  ) )  \n"
      ],
      "execution_count": null,
      "outputs": []
    },
    {
      "cell_type": "markdown",
      "metadata": {
        "colab_type": "text",
        "id": "TGIRflgET-Il"
      },
      "source": [
        "\n",
        "#### 문제 5 : 아래와 같은 이미지가 출력되도록 배열값을 바꾸세요 [100점]\n",
        "\n",
        "![대체 텍스트](https://drive.google.com/uc?export=view&id=12zPBx-d-TOON_VmC29TXpq4O4BIc98SI\n",
        ")\n",
        "\n",
        "( 10픽셀 간격의 대각선, 좌측상단은 푸른빛, 좌측 하단은 붉은 빛, 우측 하단은 노란 빛이 있는 그라데이션이 있어야함 )"
      ]
    },
    {
      "cell_type": "code",
      "metadata": {
        "id": "gj2ordIRAxdY",
        "colab_type": "code",
        "colab": {}
      },
      "source": [
        "# 문제5의 코드를 여기에 작성하세요\n",
        "\n",
        "display( Image.fromarray( np.array(arr).astype('uint8')  ) )  \n"
      ],
      "execution_count": null,
      "outputs": []
    }
  ]
}