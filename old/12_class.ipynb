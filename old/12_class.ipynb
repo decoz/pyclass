{
  "nbformat": 4,
  "nbformat_minor": 0,
  "metadata": {
    "colab": {
      "name": "12 class.ipynb",
      "provenance": [],
      "collapsed_sections": [],
      "toc_visible": true,
      "authorship_tag": "ABX9TyPitsDGK15QHtDEe1KaYo5D",
      "include_colab_link": true
    },
    "kernelspec": {
      "name": "python3",
      "display_name": "Python 3"
    },
    "language_info": {
      "name": "python"
    }
  },
  "cells": [
    {
      "cell_type": "markdown",
      "metadata": {
        "id": "view-in-github",
        "colab_type": "text"
      },
      "source": [
        "<a href=\"https://colab.research.google.com/github/decoz/pyclass/blob/master/12_class.ipynb\" target=\"_parent\"><img src=\"https://colab.research.google.com/assets/colab-badge.svg\" alt=\"Open In Colab\"/></a>"
      ]
    },
    {
      "cell_type": "markdown",
      "metadata": {
        "id": "PQJWH-6qKmRR"
      },
      "source": [
        "# 12 객체와 클래스\n"
      ]
    },
    {
      "cell_type": "markdown",
      "metadata": {
        "id": "Oo0hXaXwM7gV"
      },
      "source": [
        "\n",
        "## 12.1 객체지향\n",
        "\n",
        "점점 프로그램의 크기가 커지고 복잡해 지면서 프로그램의 재사용 방법이 함수만으로는 충분하지 안다고 생각하게 됩니다.  그 결과 여러 변수들을 모아 정보를 표현하고 이 정보를 다루기 위한 함수들을 결합한 형태의 재사용 수단이 등장합니다.  이 변수들과 함수들의 결합체를 객체라고 합니다. 객체를 이용하면 보다 더 사람이 생각하는 개념에 가까운 모듈을 만들 수 있게 됩니다. \n",
        "\n",
        "이런 객체를 중심으로 프로그램을 작성하는 것을 객체지향 프로그래밍 이라고 하며 초기에는 몇몇 프로그래밍 언어가 이를 지원하였으나 이제는 거의 대부분의 언어가 이 기능을 지원합니다.  \n"
      ]
    },
    {
      "cell_type": "markdown",
      "metadata": {
        "id": "afv8NFz-M9aY"
      },
      "source": [
        "\n",
        "\n",
        "## 12.2 클래스와 인스턴스\n",
        "\n",
        "객체는 함수가 그러하듯이 처음부터 재사용을 염두에 두고 만들어진 개념입니다. 그래서 객체는 그 객체를 찍어낼 수 있는 틀을 만들고 그 틀을 이용해 찍어내게 됩니다.  이런 틀을 객체의 \"클래스\" 라고 하며 그 틀에 의해 만들어진 실체를 객체의 \"인스턴스\" 라고 부릅니다. \n",
        "\n",
        "그러므로 객체를 사용하려면 먼저 클래스를 만들고(선언)고 시작하게 됩니다."
      ]
    },
    {
      "cell_type": "code",
      "metadata": {
        "id": "iyjY7FEKM_xh"
      },
      "source": [
        "class myNum :    \n",
        "    a,b = 1,2\n",
        "    \n"
      ],
      "execution_count": null,
      "outputs": []
    },
    {
      "cell_type": "markdown",
      "metadata": {
        "id": "UMywpdeZ3lkI"
      },
      "source": [
        "위의 클래스 myNum 은 두개의 변수 n1, n2 를 포함합니다. 하지만 이것은 어디까지나 틀일뿐 아직 n1,n2 는 어디에도 존재하지 안는 상태입니다.  \n",
        "\n",
        "이 클래스가 실제로 존재하려면 이 클래스로 실제 객체.. 즉 인스턴스를 를 만들어야 합니다. 인스턴스는 함수처럼 클래스 이름에 () 를 붙여서 생성되며 변수로 저장이 가능합니다. \n"
      ]
    },
    {
      "cell_type": "code",
      "metadata": {
        "id": "_SP5FGiCNOA0"
      },
      "source": [
        "n = myNum()"
      ],
      "execution_count": null,
      "outputs": []
    },
    {
      "cell_type": "markdown",
      "metadata": {
        "id": "Ly8G6Mgf4EoG"
      },
      "source": [
        "이제 n 은 변수지만 숫자나 배열 또는 문자열이 아니고 객체의 인스턴스를 가리킵니다. \n",
        "\n",
        "객체 n 의 안에 있는 변수값은 \"n.변수명\" 형태로 호출이 가능합니다. "
      ]
    },
    {
      "cell_type": "code",
      "metadata": {
        "id": "VEIC19RE6wA6"
      },
      "source": [
        "print(n.a, n.b)"
      ],
      "execution_count": null,
      "outputs": []
    },
    {
      "cell_type": "markdown",
      "metadata": {
        "id": "lYsh30Cs65tZ"
      },
      "source": [
        "물론 값을 바꿀 수도 있습니다. "
      ]
    },
    {
      "cell_type": "code",
      "metadata": {
        "id": "hihze1Iq68zQ"
      },
      "source": [
        "n.a = 10\n",
        "n.b = 20 \n",
        "print(n.a, n.b)"
      ],
      "execution_count": null,
      "outputs": []
    },
    {
      "cell_type": "markdown",
      "metadata": {
        "id": "wLG0k_8i7mBb"
      },
      "source": [
        "이렇게 클래스에 포함된 변수들을 '멤버 변수' 라고 합니다. 이는 클래스 소속된 변수로서 독립적으로는 호출이 불가능합니다. \n",
        "\n"
      ]
    },
    {
      "cell_type": "code",
      "metadata": {
        "id": "2ENngHPeai4N"
      },
      "source": [
        "print(n.a) # 정상\n",
        "\n",
        "print(a)   # 에러 \n"
      ],
      "execution_count": null,
      "outputs": []
    },
    {
      "cell_type": "markdown",
      "metadata": {
        "id": "I2qsuiTzahzS"
      },
      "source": [
        "\n",
        "\n",
        "\n",
        "또한 인스턴스가 여러개가 생기면 이 변수들 각각의 인스턴스마다 따로 생깁니다. 그러면 이번에는 두개의 인스턴스를 생성해보도록 하겠습니다. \n",
        "\n",
        "아래의 코드는 두개의 인스턴스 변수 n1, n2 를 생성합니다. 그리고 이들은 각각 서로 다른 a와 b를 갖게 됩니다. "
      ]
    },
    {
      "cell_type": "code",
      "metadata": {
        "id": "_vLH_w_m7rJu"
      },
      "source": [
        "n1, n2 = myNum(), myNum()\n",
        "n1.a, n1.b = 3, 4\n",
        "n2.a, n2.b = 7, 8\n",
        "print(\"n1:\", n1.a, n1.b)\n",
        "print(\"n2:\", n2.a, n2.b)"
      ],
      "execution_count": null,
      "outputs": []
    },
    {
      "cell_type": "markdown",
      "metadata": {
        "id": "28jIS2H_-aZ_"
      },
      "source": [
        "한 클래스는 다양한 형태의 멤버변수를 가질 수 있습니다. 심지어는 다른 클래스를 \n",
        "멤버변수로 가질 수도 있습니다. \n"
      ]
    },
    {
      "cell_type": "code",
      "metadata": {
        "id": "7jO9HfO0-kFV"
      },
      "source": [
        "class A :\n",
        "  v = 1\n",
        "\n",
        "class B :\n",
        "  a = A()\n",
        "  v = 2\n",
        "\n",
        "b = B()\n",
        "print( b.a.v, b.v )\n"
      ],
      "execution_count": null,
      "outputs": []
    },
    {
      "cell_type": "markdown",
      "metadata": {
        "id": "eLHcOpbKZc8F"
      },
      "source": [
        "위의 코드에서는 B 는 A 라는 클래스의 인스턴스를 b라는 변수로 포함하게 됩니다."
      ]
    },
    {
      "cell_type": "markdown",
      "metadata": {
        "id": "XSeNysz1wbRy"
      },
      "source": [
        "## 12.3 메소드\n",
        "\n",
        "클래스는 그 안에 다양한 변수를 포함할 뿐만 아니라 그런 변수를 효율적으로 다룰 수 있는 함수를 포함할 수도 있습니다. 아래의 함수 print(self) 는 myNum 클래스에 소속된 함수입니다. 이러한 특정 클래스에 소속된 함수를 '멤버함수' 또는 '메소드' 라고 합니다. \n"
      ]
    },
    {
      "cell_type": "code",
      "metadata": {
        "id": "RxDhW-8aNvkB"
      },
      "source": [
        "class myNum :    \n",
        "    a,b = 1,2\n",
        "\n",
        "    def print(self) : \n",
        "      print(\"i am member function\")\n",
        " \n"
      ],
      "execution_count": null,
      "outputs": []
    },
    {
      "cell_type": "markdown",
      "metadata": {
        "id": "fSJqETdib8s3"
      },
      "source": [
        "\n",
        "이러한 메소드들은 멤버변수와 마찬가지로 [ 객체(인스턴스).멤버함수명 ] 형태로 실행이 가능합니다. 주의 하실 것은 입력값중에 self 는 실제 입력 값이 아니라 이것이 class 에 소속된 메소드임을 나타내는 표현입니다. 그러므로 실제로 print 는 다른 입력값을 가지지 안습니다. \n"
      ]
    },
    {
      "cell_type": "code",
      "metadata": {
        "id": "gMl0iis6b8E7"
      },
      "source": [
        "n = myNum()\n",
        "n.print() \n"
      ],
      "execution_count": null,
      "outputs": []
    },
    {
      "cell_type": "markdown",
      "metadata": {
        "id": "A1oRFG8Ugqro"
      },
      "source": [
        "이러한 메소드는 객체의 멤버변수를 [self.변수명] 형태로 사용할 수 있습니다. "
      ]
    },
    {
      "cell_type": "code",
      "metadata": {
        "id": "fTSI_xnQOYlx"
      },
      "source": [
        "class myNum :    \n",
        "    a,b = 1,2\n",
        "\n",
        "    def print(self) : \n",
        "      print(\"a :\",self.a, \" b :\",self.b)\n",
        "\n",
        "n = myNum()\n",
        "n.print()"
      ],
      "execution_count": null,
      "outputs": []
    },
    {
      "cell_type": "markdown",
      "metadata": {
        "id": "yyp5J9j7hjDv"
      },
      "source": [
        "실제 입력값이 있을때는 self 뒤에 더 붙여서 선언합니다.  아래의 add 는 a,b 에 특정값을 더하는 메소드입니다. \n"
      ]
    },
    {
      "cell_type": "code",
      "metadata": {
        "id": "H6IHF9KKhra3"
      },
      "source": [
        "class myNum :    \n",
        "    a,b = 1,2\n",
        "\n",
        "    def print(self) : \n",
        "      print(\"a :\",self.a, \" b :\",self.b)\n",
        "\n",
        "    def add(self, add_a, add_b) : \n",
        "      self.a += add_a \n",
        "      self.b += add_b\n",
        "\n",
        "n = myNum() \n",
        "n.add(3,4)\n",
        "n.print()"
      ],
      "execution_count": null,
      "outputs": []
    },
    {
      "cell_type": "markdown",
      "metadata": {
        "id": "Hygsyx3Sf49A"
      },
      "source": [
        "\n",
        "이러한 메소드들이 유용한 이유는 어떤 클래스가 가진 데이터(멤버 변수들)를 처리하는 전용 기능을 제작할 수 있기 때문입니다. 예를 들어 위의 myNum 의 print를 외부 함수로 작성하면 두가지 방법이 있습니다. \n",
        "\n",
        "첫번째로는 myNum 의 각각의 값을 입력받아 출력하는 함수입니다. "
      ]
    },
    {
      "cell_type": "code",
      "metadata": {
        "id": "7C8MazyPjUOh"
      },
      "source": [
        "def printAB(a,b):\n",
        "  print(\"a :\",a, \" b :\",b)\n",
        "\n",
        "n = myNum()\n",
        "printAB( n.a, n.b)\n"
      ],
      "execution_count": null,
      "outputs": []
    },
    {
      "cell_type": "markdown",
      "metadata": {
        "id": "8Dcc9T3ujh_D"
      },
      "source": [
        "언뜻 합리적으로 보일 지 모르지만 기능에 필요한 멤버변수가 많다면 우리가 일일이 객체의 멤버변수를 다 입력해줘야 하는 불편이 있습니다. 입력 값이 10개가 넘는 함수를 상상해보세요.\n",
        "\n",
        "<br>\n",
        "\n",
        "두번째 방법으로는 객체 자체를 함수의 입력값으로 받는 방법입니다. "
      ]
    },
    {
      "cell_type": "code",
      "metadata": {
        "id": "RiSPRoORixzs"
      },
      "source": [
        "\n",
        "def print_myNum(n):\n",
        "  print(\"a :\",n.a, \" b :\",n.b)\n",
        "\n",
        "n = myNum()\n",
        "print_myNum(n)\n",
        "\n"
      ],
      "execution_count": null,
      "outputs": []
    },
    {
      "cell_type": "markdown",
      "metadata": {
        "id": "8EVfLKdykciM"
      },
      "source": [
        "아까보다 훨씬더 간편한 호출이 간단해졌습니다만 대신 이 함수를 쓸때는 반드시 첫번째 인자가  myNum 이라는 클래스임을 기억해야합니다.  물론 작명에 myNum이란 사실을 적어두었지만 그럼에도 실수로 첫번째에 다른 형식의 변수나 인스턴스가가 들어간다면 에러를 일으키게 됩니다. \n",
        "\n",
        "프로그램이 복잡해지면 더더욱 어떤 함수에 맞는 자료를 찾고 준비하는 것은 많은 혼란을 느끼게 되죠.  하지만 메소드는 항상 가장 중요한 데이터들 같이 묶여 있기 때문에 이럴 위험이 적게 됩니다. 무엇보다 데이터와 그것을 다루는 기능들이 같이 묶임으로서 훨씬더 직관적인 표현이 가능해지죠.\n",
        "\n",
        "\n",
        "\n"
      ]
    },
    {
      "cell_type": "markdown",
      "metadata": {
        "id": "rZIru2sAwXTh"
      },
      "source": [
        "## 12.4 생성자\n",
        "\n",
        "생성자란 메소드처럼 선언되지만 그 클래스가 생성될때 자동실행 됩니다.  생성자의 문법은 다음과 같습니다. \n",
        "```\n",
        "def __init__(self):\n",
        "  ...\n",
        "```\n",
        "이제 실제 생성자의 예를 한번 보죠 \n",
        "\n",
        "\n"
      ]
    },
    {
      "cell_type": "code",
      "metadata": {
        "id": "t-DfSIT6QF7i"
      },
      "source": [
        "class A: \n",
        "  def __init__(self):\n",
        "    print(\"make A's instance\")\n",
        "\n",
        "a = A() "
      ],
      "execution_count": null,
      "outputs": []
    },
    {
      "cell_type": "markdown",
      "metadata": {
        "id": "KKZ1wvEbQQap"
      },
      "source": [
        "클래스의 인스턴스가 생성될때 자동으로 실행된걸 볼 수 있습니다.  이 생성자는 여러가지로 사용될 수 있습니다. 예를 들어 이 클래스가 어떤 크기의 배열을 위주로 작동할 경우 그 배열을 생성한다던지.. 네트워크 관련된 클래스면 네트워크 상황을 체크한다던지 ..\n",
        "\n",
        "특히 이 생성자에 추가적인 입력값을 받게할 수가 있는데..  예를 들어 어떤 좌표의 점을 하나의 클래스로 다룬다고 생각해보죠. \n",
        "\n",
        "```\n",
        "class Point:\n",
        "  x,y = 0,0 \n",
        "```\n",
        "생성자를 사용하지 안는다면 초기값 0,0 을 넣고 \n",
        "```\n",
        "p = Point() \n",
        "p.x, p.y = 5,5 \n",
        "```\n",
        "\n",
        "이런식으로 지정해서 쓸 겁니다.  하지만 이렇게 두번 일을 거쳐야 하는 것도 불편할 뿐더러 인스턴스가 많을때는 0,0 이 실제 좌표를 가리키는 값인지 아니면 그냥 초기값일 뿐이지도 헷갈릴 우려가 있습니다. \n",
        "\n",
        "이 경우 아예 무조건 Point(3,4) 형태로 입력값을 넣어서 클래스를 만들게 할 수 있습니다. \n",
        "\n",
        "\n",
        "\n"
      ]
    },
    {
      "cell_type": "code",
      "metadata": {
        "id": "P-xHtbKDRrTk"
      },
      "source": [
        "class Point:\n",
        "  def __init__(self, ix, iy):\n",
        "    self.x = ix\n",
        "    self.y = iy \n",
        "\n",
        "p = Point(3,4)\n",
        "print(p.x, p.y)"
      ],
      "execution_count": null,
      "outputs": []
    },
    {
      "cell_type": "markdown",
      "metadata": {
        "id": "Uw6gh73-R_zp"
      },
      "source": [
        "위의 코드에서는 ix, iy 라는 입력값을 받아서 self.x 라는 멤버변수에 할당합니다. 이 전에는 아직 x,y 라는 멤버변수는 존재하지 안기때문에 이 과정중에 멤버변수 x ,y 를 생성하는 역할도 하게 됩니다.  이렇게 생성자가 입력 값을 요구하도록 정의되면 이제 입력값 없이는 생성이 불가능합니다. \n",
        "\n",
        "그래서 다음 코드는 에러를 발생시킵니다. \n"
      ]
    },
    {
      "cell_type": "code",
      "metadata": {
        "id": "UeV-O6aXTDWk"
      },
      "source": [
        "p = Point()"
      ],
      "execution_count": null,
      "outputs": []
    },
    {
      "cell_type": "markdown",
      "metadata": {
        "id": "2pLgFyZDXC2S"
      },
      "source": [
        "## 12.5 상속 \n",
        "\n",
        "예를 들어 학생들의 데이터를 관리하기 위한 'Stu' 클래스를 설게했다고 가정해보죠. 그런데 학교 운영을 하다보니 교육과 학생들은 교생실습을 나가야 하기 때문에 추가적인 몇가지 변수가 더 필요하다고 생각해봅시다.  \n",
        "\n",
        "이 경우 일부의 경우를 위해 전체 학생들에게 그 변수를 생성하는건 낭비를 일으키게 됩니다. 그렇다고 이를 위해 교육과 학생들만  다른 클래스를 만들면 학생들을 처리하는 여러 프로그램도 따로 작업해야 합니다. 이게 교육과만이 아니라 각 과마다 과의 특색에 맞게 다른 정보가 필요할 수도 있겠지요. 또한 대학원생을 처리할땐 또 다른 루틴이 필요할 수도 있습니다. \n",
        "\n",
        "하지만 학교 행정에 필요한 대부분의 기능들은 그런 고유의 특수데이터 없이 학생들이 공통적으로 지닌 학번, 이름, 성적, 학년 등의 정보로도 충분할 겁니다. \n",
        "그런데 이런 기능을 개발할 때 위의 모든  클래스를 다 고려해서 프로그램을 작성하려면 개발도 힘들뿐더러 운영하거나 고칠때에도 엄청난 혼란과 노력이 필요할 겁니다. \n",
        "\n",
        "이 문제를 해결하기 위해 객체지향에서는 '상속' 이라는 개념을 만들었습니다. 이 는 어떤 객체의 멤버함수나 변수의 대부분을 그대로 이어받은 후 추가적인 변수나 메소드를 정의할 수 있는 개념입니다. \n",
        "\n",
        "아래의 예제를 한번 보도록 하죠 \n",
        "\n",
        "\n",
        "\n",
        "\n",
        "\n"
      ]
    },
    {
      "cell_type": "code",
      "metadata": {
        "id": "67tH5ItSatsA"
      },
      "source": [
        "class A:\n",
        "  x = 1\n",
        "\n",
        "class B(A):\n",
        "  y = 2\n",
        "\n",
        "b = B()\n",
        "print(b.x)\n"
      ],
      "execution_count": null,
      "outputs": []
    },
    {
      "cell_type": "markdown",
      "metadata": {
        "id": "rukILrwGa2tc"
      },
      "source": [
        "class B(A): 라는 표현은 B라는 클래스는 A를 상속받는다는 뜻입니다. 보통 이 경우 A를 B의 부모 클래스, B는 A이 자식클래스라고 합니다. 그래서 B의 정의에는 x 값에 대한 내용이 없지만 부모인 A를 상속받았기 때문에 자동적으로 x 값이 포함됩니다.\n",
        "\n",
        "상속은 멤버변수만이 아니라 메소드에도 같이 적용됩니다. \n"
      ]
    },
    {
      "cell_type": "code",
      "metadata": {
        "id": "ubd1UoO2bXRq"
      },
      "source": [
        "class A:\n",
        "  x = 1\n",
        "  def printx(self):\n",
        "    print(self.x)\n",
        "\n",
        "class B(A):\n",
        "  y = 2\n",
        "\n",
        "b = B()\n",
        "b.printx()\n"
      ],
      "execution_count": null,
      "outputs": []
    },
    {
      "cell_type": "markdown",
      "metadata": {
        "id": "Ai5Jn7lYbVuN"
      },
      "source": [
        "하지만 같은 함수인데 부모와 자식이 서로 다르게 동작해야할 필요가 있을 수도 있습니다. 예를 들어 print() 시 A는 x 만을 B는 x와 y를 동시에 출력해야할 필요가 있을 수도 있죠  그래서 부모와 같은 이름의 메소드를 정의할 경우 그 부모의 메소드를 덮어 쓰게 됩니다. 이를 method overriding 이라고 합니다. \n"
      ]
    },
    {
      "cell_type": "code",
      "metadata": {
        "id": "G9JsYmZ6cEEW"
      },
      "source": [
        "class A:\n",
        "  x = 1\n",
        "  def print(self):\n",
        "    print(self.x)\n",
        "\n",
        "class B(A):\n",
        "  y = 2\n",
        "  def print(self):\n",
        "    print(self.x, self.y)\n",
        "\n",
        "a,b = A(), B()\n",
        "a.print()\n",
        "b.print()\n"
      ],
      "execution_count": null,
      "outputs": []
    },
    {
      "cell_type": "markdown",
      "metadata": {
        "id": "HKbGD7EOzcQd"
      },
      "source": [
        "위의 경우 A의 print는 x  만 출력하지만 B 의 print 는 둘 다 출력하는 것으로 오버라이딩 된 모습입니다. "
      ]
    },
    {
      "cell_type": "markdown",
      "metadata": {
        "id": "3LiZ9o0dzq-q"
      },
      "source": [
        "교직원에 대한 정보를 다루는 클래스가 있다고 생각해봅시다.  그런데 학생이면서 조교를 하는 학생이 있다고 생각해보죠. 이 조교를 다루는 클래스는 교직원과 학생의 데이터를 동시에 지녀야 합니다.  이 경우 다음과 같이 정의함으로서 두 클래스에 대한 상속이 가능합니다. \n",
        "```\n",
        "class 자식( 부모1, 부모2 ):\n",
        "  ...\n",
        "```\n",
        "\n",
        "이를 다중 상속이라고 합니다.  아래의 예제를 실행해보도록 하죠 \n",
        "\n",
        "\n",
        "\n"
      ]
    },
    {
      "cell_type": "code",
      "metadata": {
        "id": "tIFtkzq90tWr"
      },
      "source": [
        "class A:\n",
        "  x = 1\n",
        "\n",
        "class B:\n",
        "  y = 2 \n",
        "\n",
        "class C(A,B):\n",
        "  z = 3 \n",
        "\n",
        "c = C() \n",
        "print(c.x, c.y, c.z)\n",
        "\n"
      ],
      "execution_count": null,
      "outputs": []
    },
    {
      "cell_type": "markdown",
      "metadata": {
        "id": "c-UD6thO0_M2"
      },
      "source": [
        "C 의 인스턴스 c 는 두 부모의 데이터 x, y 를 다 가진 것을 볼 수 있습니다. \n",
        "\n",
        "이러한 다중상속은 언뜻 보면 편리해보이지만 프로그램이 복잡해지면 오히려 혼란을 불러일으킬 수도 있기에 현재로서도 논란이 좀 있는 개념입니다.  대단히 조심스럽게 사용해야 한다고 알려져 있습니다. \n"
      ]
    },
    {
      "cell_type": "markdown",
      "metadata": {
        "id": "7wDnwUdj7PE5"
      },
      "source": [
        "\n",
        "파이썬의 대부분의 기능들은 이런 클래스 형태로 제공됩니다. 파이썬의 문자열을 다룰 때 split을 기억하시나요? 변수의 뒤에 .을 붙여서 호출을 했다는 점을 눈치채신 분들은 이것도 메소드였다는 것을 아셨을 겁니다.  그러므로우리가 수업시간에 다룬 문자열도 일종의 클래스입니다. 이를 통해 문자열을 다룰때 편한 메소드들을 정의해두었죠.\n",
        ". "
      ]
    },
    {
      "cell_type": "code",
      "metadata": {
        "id": "eiWok-o_6sob"
      },
      "source": [
        "s = 'abc def'\n",
        "arr = s.split() \n",
        "print(arr)"
      ],
      "execution_count": null,
      "outputs": []
    },
    {
      "cell_type": "markdown",
      "metadata": {
        "id": "U4P9QUz89zhu"
      },
      "source": [
        "## 12.6 연산자 오버로딩 \n",
        "\n",
        "위에서 언급했듯이 문자열도 일종의 클래스였습니다.  그런데 숫자와 문자열에 연산을 할때 하는 행동이 달랐던 것을 기억하실겁니다. \n",
        "\n",
        "```\n",
        "# 두 숫자를 더함\n",
        "a,b = 1,2\n",
        "a = a +  b \n",
        "-> a = 3\n",
        "\n",
        "# 두 배열을 합침\n",
        "s1,s2 = 'abc', 'def'\n",
        "s1 = s1 + s2 \n",
        "-> s1 = 'abcdef'\n",
        "\n",
        "```\n",
        "\n",
        "이는 연산자에 대한 작동이 서로 다르게 정의되어 있기 때문입니다.  클래스는 이렇게 연산자에 대한 작동도 고칠 수가 있습니다.  예를 들어 덧셈 A+B 는 A.\\_\\_add\\_\\_(B) 라는 메소드로 간주를 하죠.  이를 이용하면 우리가 만든 클래스가 마치 새로운 형식의 변수처럼 연산이 가능하도록 만들 수도 있습니다.  \n",
        "\n",
        "\n",
        "\n",
        "\n",
        "\n",
        "\n"
      ]
    },
    {
      "cell_type": "code",
      "metadata": {
        "id": "Lfk5ITiV_U1Q"
      },
      "source": [
        "class Point:\n",
        "  def __init__(self,x,y):\n",
        "    self.x = x\n",
        "    self.y = y\n",
        "\n",
        "  def __add__(self, n):\n",
        "    self.x += n\n",
        "    self.y += n\n",
        "    return self\n",
        "\n",
        "a = Point(1,1)\n",
        "b = a + 3\n",
        "print(b.x, b.y)\n"
      ],
      "execution_count": null,
      "outputs": []
    },
    {
      "cell_type": "markdown",
      "metadata": {
        "id": "3OvOa9hbBMfT"
      },
      "source": [
        "사실 위의 덧셈 연산자는 자기자신의 값에 n 을 더한 후에 자신을 리턴합니다. 요컨데 a 는 그대로 있고 여기에 3을 더한 새로운 Point b 가 생기는 것이 아니라 그냥 a 스스로의 값을 증가시킨 후에 b도 a 와 같은 객체를 가리키게 됩니다. \n",
        "\n",
        "이것을 우리가 알고있는 일반적인 연산과 비슷하게 만드려면 스스로를 복사한 새로운 객체를 생성해 그 객체에 값을 더하고 리턴해주어야 합니다.  또한 n이 숫자가 아니라 다른 타입의 데이터일 경우도 고려를 해줘야 하죠. 그래서 이런 것들까지 고려하면 사실 효율적인 연산자를 정의하는 것은 쉬운 일은 아닙니다. 아주 널리 사용되는 라이브러리가 아니라면 굳이 연산자까지 정의할 필요는 없다고 보기도 합니다. 그래서 사실 이런 기능이 있다정도로 알아두시는게 좋습니다. \n",
        "\n",
        "하지만 연산자는 아니지만 다음의 메소드는 알아두면 유용합니다. \n",
        "\n",
        "\n",
        "\n",
        "\n",
        "\n"
      ]
    },
    {
      "cell_type": "code",
      "metadata": {
        "id": "kpH6lBx-C3tb"
      },
      "source": [
        "class Point:\n",
        "  def __init__(self,x,y):\n",
        "    self.x = x\n",
        "    self.y = y\n",
        "\n",
        "  def __str__(self):\n",
        "    return str(self.x) + \",\" + str(self.y)\n",
        "\n",
        "a = Point(1,1)\n",
        "print(\"point:\",a)"
      ],
      "execution_count": null,
      "outputs": []
    },
    {
      "cell_type": "markdown",
      "metadata": {
        "id": "K57rwdqiDLNd"
      },
      "source": [
        "\\_\\_str\\_\\_ 은 클래스를 문자열로 사용해야 할 경우 호출됩니다. 또한 반드시 결과로 문자열을 리턴해야 합니다. 그러면 클래스가 문자열로 표현되어야 할때 사용될 문자열을 만들 수 있습니다. 요컨데 print() 같은 문장에 객체를 바로 넣을 수 있는 것이죠. 위에선 간단하게 x,y 의 값을 ',' 로 연결해 리턴합니다. \n",
        "\n"
      ]
    },
    {
      "cell_type": "code",
      "metadata": {
        "id": "oyFedd5lBxfl"
      },
      "source": [
        "print(a.x, a.y)"
      ],
      "execution_count": null,
      "outputs": []
    },
    {
      "cell_type": "markdown",
      "metadata": {
        "id": "ltvhEtFsw0GC"
      },
      "source": [
        "## 12.7 예: 이미지 클래스 만들어보기\n",
        "\n",
        "클래스를 이해하는 예제로 저희가 수업시간에 자루 다룬 흑백 이미지 처리를 좀 편히 쓸 수 있도록 만들어 보도록 해보겠습니다.  사실 수업시간에 이미지를 배열로 처리할때 이미지의 출력코드는 이해가 좀 힘들어서 외우기 힘드셨을 겁니다. 또한 빈 배열 생성 코드는 좀 긴편이었습니다. \n",
        "\n",
        "(사실 이것도 간단히 외부라이브러리로 만드는 방법도 알려드렸습니다만 되도록 외부 라이브러리를 최대한 안쓰려고 합니다. )\n",
        "\n",
        "아래의 클래스는 인스턴스를 생성할 때 처음부터 이미지의 크기를 입력받아서 자동으로 배열을 만들어줍니다.  또한 show() 메소드를 통해서 이미지를 출력합니다. \n"
      ]
    },
    {
      "cell_type": "code",
      "metadata": {
        "id": "HQPbNHdjObJR"
      },
      "source": [
        "from PIL import Image\n",
        "from IPython.display import display\n",
        "import numpy as np\n",
        "\n",
        "class myImg :   \n",
        "  \n",
        "  def __init__(self, w, h):\n",
        "    self.w, self.h = w,h  # 배열의 크기를 멤버변수로 저장해둔다. \n",
        "\n",
        "    arr = []    # 배열 초기화\n",
        "    for i in range(h):\n",
        "      tarr = []\n",
        "      for j in range(w):\n",
        "        tarr = tarr + [0]\n",
        "      arr = arr + [tarr]\n",
        "\n",
        "    self.data = arr\n",
        "\n",
        "  def show(self):\n",
        "    display( Image.fromarray( np.array(self.data).astype('uint8') , 'L' ) )  \n",
        "\n",
        "\n",
        "  \n",
        "\n"
      ],
      "execution_count": null,
      "outputs": []
    },
    {
      "cell_type": "markdown",
      "metadata": {
        "id": "6mWchLkb3bfv"
      },
      "source": [
        "이렇게 만들어 두면 그 다음부터는 다음과 같이 간단하게 이미지를 만들어 쓸 수 있습니다. "
      ]
    },
    {
      "cell_type": "code",
      "metadata": {
        "id": "vTbUXkHMuaoK"
      },
      "source": [
        "i = myImg(400, 200)\n",
        "i.show()\n"
      ],
      "execution_count": null,
      "outputs": []
    },
    {
      "cell_type": "markdown",
      "metadata": {
        "id": "aefI2Ymy4sj-"
      },
      "source": [
        "위의 클래스는 생성자에서 w,h,data 3개의 멤버변수를 생성하게 됩니다. 이를 사용해 수업시간에 사용하던 선 긋기를 한번 해보겠습니다. \n",
        "\n"
      ]
    },
    {
      "cell_type": "code",
      "metadata": {
        "id": "Su3rY6w25oFi"
      },
      "source": [
        "x = int( i.w / 2 )   # 이미지 넓이의 중앙\n",
        "for y in range(i.h)\n",
        "  i.data[y][x] = 255 \n",
        "\n",
        "i.show()"
      ],
      "execution_count": null,
      "outputs": []
    },
    {
      "cell_type": "markdown",
      "metadata": {
        "id": "0dapY9Kd6IKm"
      },
      "source": [
        "클래스를 정의함으로서 수업시간에 예제가 상당히 깔끔해진 것을 알 수 있습니다.  이렇게 본인의 목적에 맞게 클래스와 메소드를 잘 정의해 두면 이를 활용하기가 상당히 편해집니다.  \n"
      ]
    },
    {
      "cell_type": "markdown",
      "metadata": {
        "id": "XlVKWFqAVIgS"
      },
      "source": [
        "잘 설계해 만들어둔 클래스는 프로그램을 무척 편하게 합니다. 그리고 이런 설계야 말로 프그래머의 역량이 드러납니다.  특히 제작자가 아닌 외부인이 기능을  사용할때 어떤 데이터와 어떤 함수가 서로 연결되어 있는지를 분석할 필요 없이 간단히 직관적으로 이해가 가능하죠. 하지만 이러한 클래스는 프로그램을 처음 접하는 사람들에겐 함수에 비해 선뜻 그 필요성을 느끼지 못하는 분들도 많을 겁니다. 함수는 재사용의 이점이 명확하게 와 닿는데 비해 클래스는 프로그래머들이 오랜 시행착오를 거치면서 정립한 개념이기 때문이죠.  \n",
        "\n",
        "이번 챕터에는 연습문제가 적습니다. 이전까지의 수업에서 다루던 연습문제식의 작은 프로그램으로 훈련을 통해서는 클래스를 이해하는데 큰 도움이 되지 안습니다. 이 클래스의 개념이 진가를 발휘하는 것은 크기가 큰 프로그램을 작성할 때이며 그런 큰 프로그램을 작성해봐야 이 클래스의 유용성과 설계방법을 스스로 깨닫게 되기 때문입니다. 하지만 전문 프로그래머로의 길을 가지 안는다면 이런 경험을 하기는 어렵겠지요 다만 앞으로의 수업에서 다룰 여러 패키지를 직접 사용해 보시면 많은 패키지들이 주요 기능을 클래스 형태로 제공이 되기 때문에 어렴풋이나마 이것이 유용하다는 것을 느끼실 수 있을 듯 합니다. \n",
        "\n",
        "\n",
        "\n",
        "\n",
        "\n"
      ]
    }
  ]
}