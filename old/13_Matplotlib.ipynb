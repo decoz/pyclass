{
  "nbformat": 4,
  "nbformat_minor": 0,
  "metadata": {
    "colab": {
      "name": "13 Matplotlib.ipynb",
      "provenance": [],
      "collapsed_sections": [],
      "authorship_tag": "ABX9TyPCJFTeAwlCQvO7T+54h94E",
      "include_colab_link": true
    },
    "kernelspec": {
      "name": "python3",
      "display_name": "Python 3"
    },
    "language_info": {
      "name": "python"
    }
  },
  "cells": [
    {
      "cell_type": "markdown",
      "metadata": {
        "id": "view-in-github",
        "colab_type": "text"
      },
      "source": [
        "<a href=\"https://colab.research.google.com/github/decoz/pyclass/blob/master/13_Matplotlib.ipynb\" target=\"_parent\"><img src=\"https://colab.research.google.com/assets/colab-badge.svg\" alt=\"Open In Colab\"/></a>"
      ]
    },
    {
      "cell_type": "markdown",
      "metadata": {
        "id": "12H4-TP23gXd"
      },
      "source": [
        "# 13 Matplotlib 라이브러리\n",
        "\n",
        "Matplotlib 는 각종 수치를 도표로 만들어주는 라이브러리입니다. 각종 통계나 지표등을 시각화하는데 사용되며 특히 수치배열에 특화된 numpy 라이브러리와 사용하면 더더욱 편리합니다. \n",
        "\n"
      ]
    },
    {
      "cell_type": "markdown",
      "metadata": {
        "id": "i3URx1eh3_UA"
      },
      "source": [
        "\n",
        "\n",
        "## 13.1 pyplot \n",
        "\n",
        "Matplotlib 의 서브 라이브러리처럼 표기되지만 사실상 시각화에 가장 널리 사용되는 사실상 Matplotplib 의 본체격에 해당되는 라이브러리입니다. 그래서 다음과 같은 라이브러리 호출법이 매우 널리 사용됩니다. 다른 작업을 하기 전에 아래 코드를 실행해주세요"
      ]
    },
    {
      "cell_type": "code",
      "metadata": {
        "id": "M3AN8TaU44vm"
      },
      "source": [
        "import matplotlib.pyplot as plt "
      ],
      "execution_count": null,
      "outputs": []
    },
    {
      "cell_type": "markdown",
      "metadata": {
        "id": "CASe_e0n49Zv"
      },
      "source": [
        "이제 plt 라는 이름으로 어디서든 pyplot 을 호출 가능합니다. \n"
      ]
    },
    {
      "cell_type": "markdown",
      "metadata": {
        "id": "htrLdkyiirnw"
      },
      "source": [
        "<hr>\n",
        "\n",
        "## 13.2 plot \n",
        "\n",
        "\n",
        "plt 즉 pyplot 은 수많은 시각화 함수를 제공합니다. 그 중에서도 그래프 형식의 출력을 표기하는 함수가 plot 입니다. 이는 다음과 같이 호출합니다. \n",
        "```\n",
        "plt.plot( .. ) \n",
        "```\n",
        "\n"
      ]
    },
    {
      "cell_type": "markdown",
      "metadata": {
        "id": "_3R8dqJhkHlh"
      },
      "source": [
        "\n",
        "### 13.2.1 plot 의 기본 사용법\n",
        "\n",
        "그러면 간단한 예를 보도록 하겠습니다. \n",
        "\n"
      ]
    },
    {
      "cell_type": "code",
      "metadata": {
        "id": "17m3odwR5hiV"
      },
      "source": [
        "plt.plot([1,3,2,5,4])"
      ],
      "execution_count": null,
      "outputs": []
    },
    {
      "cell_type": "markdown",
      "metadata": {
        "id": "I6ZD5HUl6MxH"
      },
      "source": [
        "배열이 하나일때는 그 값을 y축으로 간주하며 x 축은 0,1,2.. 로 자동생성됩니다. 하지만 배열 두개를 입력하면 앞의 배열은 x 축 뒤의 배열은 y축으로 간주합니다. \n"
      ]
    },
    {
      "cell_type": "code",
      "metadata": {
        "id": "LIxsUVXP6dYZ"
      },
      "source": [
        "plt.plot([1,2,5,6,9],[1,2,3,4,5])"
      ],
      "execution_count": null,
      "outputs": []
    },
    {
      "cell_type": "markdown",
      "metadata": {
        "id": "kdbW1R7Z_lHT"
      },
      "source": [
        "두개의 그래프를 동시에 표현할 수도 있습니다. 기본적으로 plot 은 출력을 누적해서 모은 후에 show 함수로 한번에 출력합니다."
      ]
    },
    {
      "cell_type": "code",
      "metadata": {
        "id": "HnFj_4yS_puj"
      },
      "source": [
        "plt.plot([1,2,3,4,5])\n",
        "plt.plot([1,3,5,7,9])\n",
        "plt.show()"
      ],
      "execution_count": null,
      "outputs": []
    },
    {
      "cell_type": "markdown",
      "metadata": {
        "id": "89XSOq4M_yH5"
      },
      "source": [
        "만일 위의 두 그래프를 따로 출력하고 싶으시면 아래와 같이 출력하시면 됩니다. "
      ]
    },
    {
      "cell_type": "code",
      "metadata": {
        "id": "hn2cgh4fAHiN"
      },
      "source": [
        "plt.plot([1,2,3,4,5])\n",
        "plt.show()\n",
        "plt.plot([1,3,5,7,9])\n",
        "plt.show()"
      ],
      "execution_count": null,
      "outputs": []
    },
    {
      "cell_type": "markdown",
      "metadata": {
        "id": "HyZoBBfQATkX"
      },
      "source": [
        "그런데 위의 두 그래프는 다른 값인데도 똑같아 보이는군요.  그것은 plot 이 그래프의 y 범위를 자동조종하기 때문입니다. 만일 고정수치로 표현하고 싶을 경우에는 ylim , xlim 으로 그래프의 범위를 따로 줄 수 있습니다. \n",
        "```\n",
        "ylim(y축 최소, y축 최대) \n",
        "xlim(x축 최소, x축 최대) \n",
        "```\n",
        "\n",
        "이제 위의 그래프의 y를 0부터 10으로 고정해보겠습니다. \n"
      ]
    },
    {
      "cell_type": "code",
      "metadata": {
        "id": "08zdLP7XAh3Y"
      },
      "source": [
        "plt.ylim(0,10)\n",
        "plt.xlim(0,10)\n",
        "plt.plot([1,2,3,4,5])\n",
        "plt.show()\n",
        "\n",
        "plt.ylim(0,10)\n",
        "\n",
        "plt.plot([1,3,5,7,9])\n",
        "plt.show()"
      ],
      "execution_count": null,
      "outputs": []
    },
    {
      "cell_type": "markdown",
      "metadata": {
        "id": "iL-LfJ66550G"
      },
      "source": [
        "이번에는 x 의 2차함수를 그려보도록 하겠습니다. \n",
        "\n",
        "> $ y = x^2 $\n"
      ]
    },
    {
      "cell_type": "code",
      "metadata": {
        "id": "Aa3mUsO-5lRu"
      },
      "source": [
        "x,y = [],[]\n",
        "for n in range(10):\n",
        "  x += [n]       # x에 n 추가\n",
        "  y += [n**2]    # y에 n 의 제곱 추가\n",
        "\n",
        "plt.plot(x,y)\n"
      ],
      "execution_count": null,
      "outputs": []
    },
    {
      "cell_type": "markdown",
      "metadata": {
        "id": "NNZ7GTJTrMWK"
      },
      "source": [
        "### 13.2.2 label 출력\n",
        "\n",
        "이번에는 1차, 2차 3차 함수를 같이 찍어보도록 하겠습니다. 그런데 각각 어떤 색의 선이 어떤 함수인지 표기하고 싶을 수가 있습니다. 이때는 각각 파라미터에 \n",
        "```\n",
        "plt.plot( ..., label = '데이터이름')\n",
        "plt.legend()\n",
        "```\n",
        "이렇게 표기해주면 라인색과 데이터 이름을 표기하는 상자가 출력됩니다. 다음은 x 의 1차, 2차, 3차하마수를 비교하는 코드입니다. \n"
      ]
    },
    {
      "cell_type": "code",
      "metadata": {
        "id": "tWPOi-BysKov"
      },
      "source": [
        "x,y1,y2,y3 = [],[],[],[]\n",
        "for n in range(10):\n",
        "  x += [n]     \n",
        "  y1 += [n]\n",
        "  y2 += [n**2]  \n",
        "  y3 += [n**3]\n",
        "\n",
        "plt.plot(x,y1, label = '1d')\n",
        "plt.plot(x,y2, label = '2d')\n",
        "plt.plot(x,y3, label = '3d')\n",
        "plt.legend()\n",
        "plt.show()\n"
      ],
      "execution_count": null,
      "outputs": []
    },
    {
      "cell_type": "markdown",
      "metadata": {
        "id": "9Gz5AyhR7EiU"
      },
      "source": [
        "\n",
        "### 13.2.3 수학함수를 그려보기\n",
        "\n",
        "간단한 수학함수를 다룰때는 math 라이브러리를 사용하면 됩니다. \n",
        "```\n",
        "import math\n",
        "```\n",
        "로 호출이 가능하며 다음과 같은 함수등이 지원됩니다. \n",
        "```\n",
        "math.log  : 로그\n",
        "math.sin  : 사인\n",
        "math.cos  : 코사인\n",
        "math.tan  : 탄젠트\n",
        "```\n",
        "이 외에도 많은 함수가 있습니다. \n",
        "\n",
        "이제 이걸 이용해 sin 함수를 그려보도록 하겠습니다.  그런데 sin 함수를 그리려면 파이값이 필요하겠네요. 파이값은 \n",
        "```\n",
        "math.pi\n",
        "```\n",
        "로 표기하시면 됩니다. 이 값은 라이브러리가 제공하는 상수입니다. 상수는 변수와 달리 값을 변경할 수 없습니다. \n"
      ]
    },
    {
      "cell_type": "code",
      "metadata": {
        "id": "InRUxHJ687Ek"
      },
      "source": [
        "import math\n",
        "print(math.pi)\n"
      ],
      "execution_count": null,
      "outputs": []
    },
    {
      "cell_type": "markdown",
      "metadata": {
        "id": "3HHGcbTO9Hl7"
      },
      "source": [
        "이제 준비가 되었으니 0 부터 $2\\pi$ 까지의 값을 20개로 나누어 x 로 만들어보겠습니다"
      ]
    },
    {
      "cell_type": "code",
      "metadata": {
        "id": "b50nXzet69f9"
      },
      "source": [
        "x = []\n",
        "for n in range(100):\n",
        "  x += [n * 2 * math.pi / 100 ]"
      ],
      "execution_count": null,
      "outputs": []
    },
    {
      "cell_type": "markdown",
      "metadata": {
        "id": "xlw1lG6i9vFm"
      },
      "source": [
        "이번에는 x 에 sin 함수를 붙여서 y 값을 만들어봅니다. "
      ]
    },
    {
      "cell_type": "code",
      "metadata": {
        "id": "bY6YZ-mR91zv"
      },
      "source": [
        "y = [] \n",
        "for v in x:\n",
        "  y += [ math.sin(v) ]"
      ],
      "execution_count": null,
      "outputs": []
    },
    {
      "cell_type": "markdown",
      "metadata": {
        "id": "oUZt5LNX91Ur"
      },
      "source": [
        "이제 x 와 y를 그래프로 표시하면 다음과 같습니다. \n"
      ]
    },
    {
      "cell_type": "code",
      "metadata": {
        "id": "5zgAIm2k-FHQ"
      },
      "source": [
        "plt.plot(x, y)"
      ],
      "execution_count": null,
      "outputs": []
    },
    {
      "cell_type": "markdown",
      "metadata": {
        "id": "zs2oFK2e_OYQ"
      },
      "source": [
        "\n",
        "####  <font color = 'red'> 연습 13.2.1 : 수학함수 그리기 \n",
        "sin 과 cos 함수를 한 화면에 그려보세요 \n",
        "</font>"
      ]
    },
    {
      "cell_type": "code",
      "metadata": {
        "id": "Bi5Ypjf0-Ghp"
      },
      "source": [
        "x = []\n",
        "for n in range(20):\n",
        "  x += [n * 2 * math.pi / 20 ]\n",
        "  \n",
        "## 연습문제의 코드를 작성하세요\n",
        "ysin, ycos = [],[]\n",
        "for v in x : \n",
        "  ysin += [math.sin(v)]\n",
        "  ycos += [math.cos(v)]\n",
        "\n",
        "plt.plot(x,ycos, label = 'cos')\n",
        "plt.plot(x,ysin, label = 'sin')\n",
        "plt.legend()\n",
        "\n",
        "plt.show()\n",
        "\n"
      ],
      "execution_count": null,
      "outputs": []
    },
    {
      "cell_type": "markdown",
      "metadata": {
        "id": "Ig52blhof10B"
      },
      "source": [
        "\n",
        "####  <font color = 'red'> 연습 13.2.2 : sin 함수 응용\n",
        "sin 함수를 응용해서 다음과 같은 형태를 그려보세요\n",
        "</font>\n",
        "\n",
        "![image.png](data:image/png;base64,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)"
      ]
    },
    {
      "cell_type": "code",
      "metadata": {
        "id": "R6VW5yl3f10W"
      },
      "source": [
        "## 연습문제의 코드를 작성하세요\n",
        "x = [] \n",
        "for i in range(100):\n",
        "  x += [ 10 * math.pi / 100 * i ]\n",
        "\n",
        "y = [] \n",
        "for v in x:\n",
        "  y += [ math.sin(v) +  v  ]\n",
        "\n",
        "plt.plot(x,y)\n"
      ],
      "execution_count": null,
      "outputs": []
    },
    {
      "cell_type": "markdown",
      "metadata": {
        "id": "H4gncxwJtqYj"
      },
      "source": [
        "### 13.2.4 점으로 표기하기 \n",
        "\n",
        "어떤 데이터는 선으로 표기하기보단 점으로 표기하고 싶을 때가 있습니다. 이럴땐 데이터 뒤에 표기할 기호를 추가해주면 됩니다. "
      ]
    },
    {
      "cell_type": "code",
      "metadata": {
        "id": "pa7J1FIRqLYS"
      },
      "source": [
        "plt.plot([1,2,3,4,5],'o')"
      ],
      "execution_count": null,
      "outputs": []
    },
    {
      "cell_type": "markdown",
      "metadata": {
        "id": "kg77CCu0uChM"
      },
      "source": [
        "이런 기호를 marker 라고 하는데 'o' 외에도  + . ^ < > x 등등 많은 기호를 사용할 수 있습니다. \n",
        "\n",
        "만일 marker 의 위치에 '-' 을 붙이면 디폴터처럼 선이 그어지게 됩니다. "
      ]
    },
    {
      "cell_type": "code",
      "metadata": {
        "id": "pb-HxMrKt-oC"
      },
      "source": [
        "plt.plot([1,2,3,4,5], '-' )"
      ],
      "execution_count": null,
      "outputs": []
    },
    {
      "cell_type": "markdown",
      "metadata": {
        "id": "FiHwagzeYFhu"
      },
      "source": [
        "만일 마커와 선을 같이 표현하고 싶다면 다음과 같이 쓰면 됩니다. "
      ]
    },
    {
      "cell_type": "code",
      "metadata": {
        "id": "FztPgxiAYLMb"
      },
      "source": [
        "plt.plot([1,2,3,4,5], '-o' )"
      ],
      "execution_count": null,
      "outputs": []
    },
    {
      "cell_type": "markdown",
      "metadata": {
        "id": "uEMGaaHwW20p"
      },
      "source": [
        "\n",
        "참고 삼아 몇몇 마커의 형태를 한번 보도록 하죠."
      ]
    },
    {
      "cell_type": "code",
      "metadata": {
        "id": "9IN4sABtUlZR"
      },
      "source": [
        "\n",
        "plt.plot([1,2,3,4,5], '.' )  # 작은 점 \n",
        "plt.plot([2,3,4,5,6], '+' )  # + 마크\n",
        "plt.plot([3,4,5,6,7], '^' )  # 삼각형\n",
        "plt.plot([4,5,6,7,8], 's' )  # 사각형\n",
        "plt.plot([5,6,7,8,9], '--' ) # 점선\n",
        "plt.plot([6,7,8,9,10], '-.' ) # -.- 형태의 점선\n",
        "\n",
        "plt.show()\n"
      ],
      "execution_count": null,
      "outputs": []
    },
    {
      "cell_type": "markdown",
      "metadata": {
        "id": "CxhI-XVqY629"
      },
      "source": [
        "도표라고 하지만 반드시 x 가 증가해야지만 되는 것은 아니죠 다음과 같이 도형형태로 표현도 가능합니다. "
      ]
    },
    {
      "cell_type": "code",
      "metadata": {
        "id": "NAZPADsWYMkx"
      },
      "source": [
        "x,y = [],[]\n",
        "for n in range(0,10):\n",
        "  x += [ n % 5 ]\n",
        "  y += [n]\n",
        "\n",
        "plt.plot(x,y, '-o')\n"
      ],
      "execution_count": null,
      "outputs": []
    },
    {
      "cell_type": "markdown",
      "metadata": {
        "id": "79yZW-UQaURx"
      },
      "source": [
        "<br><br>\n",
        "#### <font color = 'red' > 연습 13.2.3\n",
        " : 지그재그 그래프\n",
        "다음과 같은 형태의 도표를 그려보세요 \n",
        "</font>\n",
        "\n",
        "![image.png](data:image/png;base64,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)<img src = "
      ]
    },
    {
      "cell_type": "code",
      "metadata": {
        "id": "N6BZq21TZcTR"
      },
      "source": [
        "x,y = [],[]\n",
        "# 연습 문제의 코드를 작성하세요\n",
        "for n in range(10):\n",
        "  x += [n]\n",
        "  y += [n % 3]\n",
        "\n",
        "\n",
        "plt.plot(x,y, '-o')"
      ],
      "execution_count": null,
      "outputs": []
    },
    {
      "cell_type": "markdown",
      "metadata": {
        "id": "DfKVrzcbcLvn"
      },
      "source": [
        "<br>\n",
        "\n",
        "패턴은 무궁무진 합니다. 계단형태를 만들 수도 있지요. 다음을 한번 보죠 \n",
        "\n",
        "```\n",
        "x = n - n % 2 \n",
        "y = n + n % 2\n",
        "```\n",
        "이 패턴은 x 를 0,0,2,2,4,4,.. 이렇게 변화시키며  y는 0,2,2,4,4, 이렇게 엇갈려서 2씩 변화시킵니다. 이걸 화면에 동시에 그려주면 계단형태가 되는 것이죠. \n"
      ]
    },
    {
      "cell_type": "code",
      "metadata": {
        "id": "X810LWzsagyb"
      },
      "source": [
        "x,y = [],[]\n",
        "for n in range(0,10):\n",
        "  x += [  n - n % 2  ]\n",
        "  y += [  n + n % 2  ]\n",
        "\n",
        "plt.plot(x,y, '-o')"
      ],
      "execution_count": null,
      "outputs": []
    },
    {
      "cell_type": "markdown",
      "metadata": {
        "id": "xijRvw_7hySS"
      },
      "source": [
        "### 13.2.5 원 그리기 \n",
        "이번에는 원그리기에 도전해보도록 하겠습니다. 위에서 우리는 math.pi 상수와 math.sin() 함수를 배웠습니다.  이 경우 \n",
        "\n",
        "0 ~ $2\\pi$ 사이의 $\\theta$ 에 대해 \n",
        "\n",
        "> x = $cos(\\theta)$ \n",
        "\n",
        "> y = $sin(\\theta)$ \n",
        "\n",
        "가 됩니다. 그것을 코드로 표현하면 다음과 같습니다. "
      ]
    },
    {
      "cell_type": "code",
      "metadata": {
        "id": "NWtyFoQnbQcp"
      },
      "source": [
        "import math\n",
        "n, theta = 40, []  # th 는 2pi 를 n 개로 나눠서 저장\n",
        "\n",
        "for i in range(n + 1): # 0 - 360도 까지 한바퀴 돌도록 n+1 을 해줌\n",
        "  theta += [ math.pi * 2 / n * i ]\n",
        "\n",
        "x,y = [],[]\n",
        "for th in theta:\n",
        "  x += [  math.cos(th)  ]\n",
        "  y += [  math.sin(th) ]\n",
        "\n",
        "plt.plot(x,y, '-o')"
      ],
      "execution_count": null,
      "outputs": []
    },
    {
      "cell_type": "markdown",
      "metadata": {
        "id": "EjzYHT0vm_Ih"
      },
      "source": [
        "그런데 화면 출력이 좀 찌그러져 보이실겁니다. 이는 4대3 영역에 x, y 축을 맞추다보니 생기는 문제입니다. x 영역을 조금 더 넓게 고정시켜보겠습니다. "
      ]
    },
    {
      "cell_type": "code",
      "metadata": {
        "id": "gP1iz6wvdLkq"
      },
      "source": [
        "plt.xlim( -1.6, 1.6)\n",
        "plt.plot(x,y, '-')"
      ],
      "execution_count": null,
      "outputs": []
    },
    {
      "cell_type": "markdown",
      "metadata": {
        "id": "HLRMt61Wnp8S"
      },
      "source": [
        "거의 완전한 원이 그려진 것을 볼 수 있습니다.  \n",
        "\n",
        "위의 원은 0을 중심으로 길이가 1인 원입니다.  만일 이것을 0.5,0.5 를 중심으로 0.5크기의 원으로 바꾸면 다음과 같습니다. "
      ]
    },
    {
      "cell_type": "code",
      "metadata": {
        "id": "A11tNH1hnep-"
      },
      "source": [
        "x,y = [],[]\n",
        "for th in theta:\n",
        "  x += [  math.sin(th) * 0.5 + 0.5]\n",
        "  y += [  math.cos(th) * 0.5 + 0.5 ]\n",
        "\n",
        "plt.xlim( -1.6, 1.6)\n",
        "plt.ylim( -1, 1 )\n",
        "plt.plot(x,y, '-o')"
      ],
      "execution_count": null,
      "outputs": []
    },
    {
      "cell_type": "markdown",
      "metadata": {
        "id": "5SART9nzo2mu"
      },
      "source": [
        "비록 저희가 plot 을 빌어서 원을 그리고 있지만 수업시간에 참고코드로 보여드린 이미지에서 임의의 두 점을 잇는 선을 그리는 방법을 사용하면 이미지 배열에도 같은 방식으로 선을 그릴 수도 있습니다. \n",
        "\n",
        "또한 다음과 같이 함수화 시켜서 편하게 쓸 수도있죠\n",
        "\n"
      ]
    },
    {
      "cell_type": "code",
      "metadata": {
        "id": "NjaiYW-9oqBO"
      },
      "source": [
        "import math\n",
        "def plot_circle( cx, cy, l) :  \n",
        "  n, theta = 40, [] \n",
        "  for i in range(n + 1): \n",
        "    theta += [ math.pi * 2 / n * i ]\n",
        "\n",
        "  x,y = [],[]\n",
        "  for th in theta:\n",
        "    x += [  math.cos(th) * l + cx ]\n",
        "    y += [  math.sin(th) * l + cy ]\n",
        "\n",
        "  plt.plot(x,y, '-')\n",
        "\n",
        "\n",
        "plot_circle(0.3, 0.3, 0.5  )\n",
        "plt.xlim( -1.6, 1.6)\n",
        "plt.ylim( -1, 1 )\n",
        "plt.show()"
      ],
      "execution_count": null,
      "outputs": []
    },
    {
      "cell_type": "markdown",
      "metadata": {
        "id": "m27oLWa7hWhT"
      },
      "source": [
        "여러번 반복하면 색이 다른 원이 만들어지기도 합니다. "
      ]
    },
    {
      "cell_type": "code",
      "metadata": {
        "id": "_ohIe24Zgx8q"
      },
      "source": [
        "for i in range(5):\n",
        "  plot_circle(0, 0, i * 0.1 )\n",
        "\n",
        "plt.xlim( -1.6, 1.6)\n",
        "plt.ylim( -1, 1 )\n",
        "plt.show()"
      ],
      "execution_count": null,
      "outputs": []
    },
    {
      "cell_type": "markdown",
      "metadata": {
        "id": "Ae55jx3xXqQj"
      },
      "source": [
        "<br><br>\n",
        "#### <font color = 'red' > 연습 13.2.4 : 원 그리기 응용\n",
        "prot_circle 함수를 사용해 다음과 같은 형태가 그려지게 해보세요\n",
        "</font>\n",
        "\n",
        "![image.png](data:image/png;base64,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)"
      ]
    },
    {
      "cell_type": "code",
      "metadata": {
        "id": "KHDA8ec3TEGv"
      },
      "source": [
        "## 연습문제의 코드를 작성하세요\n",
        "\n",
        "\n",
        "\n"
      ],
      "execution_count": null,
      "outputs": []
    },
    {
      "cell_type": "markdown",
      "metadata": {
        "id": "0oiKnslhYLK6"
      },
      "source": [
        "\n",
        "이렇게 plot 은 활용에 따라 대단히 다양한 데이터를 표현할 수 있으며 이 챔터에서는 주로 사용하는 기능들을 몇몇 소개했습니다. \n",
        "그 외에도 수 많은 기능들이 있지만 모두 다루기엔 너무 방대하기 때문에 이 정도로 마치도록 하겠습니다. \n"
      ]
    },
    {
      "cell_type": "markdown",
      "metadata": {
        "id": "QUKur9-tPrO3"
      },
      "source": [
        "<br><br>\n",
        "<hr>\n",
        "\n",
        "## 13.3 기타 차트들 \n",
        "\n",
        "pyplot 이 제공하는 것은 plot 만이 아닙니다. 이번에는 몇몇 plot 이외의 차트들을 소개해드리도록 하겠습니다. "
      ]
    },
    {
      "cell_type": "markdown",
      "metadata": {
        "id": "SpRzO_qRP3nL"
      },
      "source": [
        "### 13.3.1 막대 차트 : bar\n",
        "\n",
        "막대 그래프를 그리기 위한 차트입니다. 사용법은 plt 와 거의 유사합니다. 다만 반드시 x 축을 설정해줘야 합니다. \n",
        "```\n",
        "plt.bar(x축 데이터, y축 데이터)\n",
        "```"
      ]
    },
    {
      "cell_type": "code",
      "metadata": {
        "id": "G6AxwGz-TQws"
      },
      "source": [
        "plt.bar([1,2,3,4,5], [1,3,2,4,5])"
      ],
      "execution_count": null,
      "outputs": []
    },
    {
      "cell_type": "markdown",
      "metadata": {
        "id": "hEssYETPQZoH"
      },
      "source": [
        "x 축은 문자열로도 가능합니다. "
      ]
    },
    {
      "cell_type": "code",
      "metadata": {
        "id": "WnDROGR-QcJt"
      },
      "source": [
        "plt.bar(['a','b','c'], [3,7,2])"
      ],
      "execution_count": null,
      "outputs": []
    },
    {
      "cell_type": "markdown",
      "metadata": {
        "id": "vVzFQk-3Ri9C"
      },
      "source": [
        "참고로 두 데이터를 차트에 그리면 차트를 겹쳐서 그리게 됩니다.  "
      ]
    },
    {
      "cell_type": "code",
      "metadata": {
        "id": "_iUmvUHhR03p"
      },
      "source": [
        "plt.bar(['a','b','c'], [4,3,2])\n",
        "plt.bar(['a','b','c'], [1,2,3])"
      ],
      "execution_count": null,
      "outputs": []
    },
    {
      "cell_type": "markdown",
      "metadata": {
        "id": "VIsa0o4YSSBm"
      },
      "source": [
        "만일 두 데이터의 비율을 그리고 싶다면 다음과 같이 bottom 옵션을 추가해서 그리시면 됩니다. "
      ]
    },
    {
      "cell_type": "code",
      "metadata": {
        "id": "V3iTvBUxQIY6"
      },
      "source": [
        "d1 = [4,3,2]\n",
        "d2 = [1,2,3]\n",
        "\n",
        "plt.bar(['a','b','c'], d1, bottom = d2, label = 'd1')\n",
        "plt.bar(['a','b','c'], d2, label = 'd2')\n",
        "plt.legend()"
      ],
      "execution_count": null,
      "outputs": []
    },
    {
      "cell_type": "markdown",
      "metadata": {
        "id": "mlVAFtx6SxgY"
      },
      "source": [
        "### 13.3.2 히스토그램 : hist\n",
        "\n",
        "hist 는 보기에는 bar 차트와 유사하지만 데이터의 분포를 그릴 때 사용됩니다. 특정 구간에 얼마나 많은 갯수의 데이터가 있는지를 표기하는 겁니다. \n",
        "\n"
      ]
    },
    {
      "cell_type": "code",
      "metadata": {
        "id": "KXpqF5l2RBnl"
      },
      "source": [
        "plt.hist([1,2,2,1,2,3])\n",
        "plt.show()"
      ],
      "execution_count": null,
      "outputs": []
    },
    {
      "cell_type": "markdown",
      "metadata": {
        "id": "pfLquE1HTUSd"
      },
      "source": [
        "x축은 기본적으로 데이터의 최소 ~ 최대 구간으로 설정됩니다. 또한 기본적으로 10개의 구간으로 설정됩니다. "
      ]
    },
    {
      "cell_type": "code",
      "metadata": {
        "id": "lAWJtre-TobG"
      },
      "source": [
        "plt.hist([1,1,2,2,2,3,4,4,5,6,6,6,7,7,8,8,9,9,9,10])\n",
        "plt.show()"
      ],
      "execution_count": null,
      "outputs": []
    },
    {
      "cell_type": "markdown",
      "metadata": {
        "id": "jplso-YoT5mt"
      },
      "source": [
        "만일 구간의 갯수를 따로 설정하고 싶으시면 두번째 인자에 구간의 숫자를 넣으시면 됩니다."
      ]
    },
    {
      "cell_type": "code",
      "metadata": {
        "id": "dvyvTRspT2C-"
      },
      "source": [
        "plt.hist([1,1,2,2,2,3,4,4,5,5,6,6,7,7,8,8,8,9,9,9,10], 5)\n",
        "plt.show()"
      ],
      "execution_count": null,
      "outputs": []
    },
    {
      "cell_type": "markdown",
      "metadata": {
        "id": "JhVsbw8hUgV4"
      },
      "source": [
        "### 13.3.3 이미지로 표시 : imshow\n",
        "\n",
        "이전 내용에서 저희가 배열을 이미지로 바꿔서 화면에 표시하던 기억이 있으실 겁니다. imshow 는 유사하게 배열을 이미지로 표현합니다.  단 이미지의 크기는 배열의 크기와 상관없이 고정됩니다. \n"
      ]
    },
    {
      "cell_type": "code",
      "metadata": {
        "id": "dyssXCj8WGUj"
      },
      "source": [
        "plt.imshow([[0,255],[255,0]])"
      ],
      "execution_count": null,
      "outputs": []
    },
    {
      "cell_type": "markdown",
      "metadata": {
        "id": "rRpOBfulWDpi"
      },
      "source": [
        "하지만 위의 예제는 1,2 를 노란색과 보라색으로 보여줍니다.  이는 이전에 쓰던 이미지 라이브러리와 달리 데이터의 분포를 보는 목적으로 만들어졌기 때문에 각 점의 숫자는 데이터의 종류로 판단하기 때문입니다. \n",
        "\n",
        "만일 위의 0과 255를 흑백으로 표현하고 싶으시면 \n",
        "\n",
        "> cmap = 'gray'\n",
        "\n",
        "라는 옵션을 사용하시면 됩니다. \n",
        "\n"
      ]
    },
    {
      "cell_type": "code",
      "metadata": {
        "id": "BFOz-603W2hx"
      },
      "source": [
        "plt.imshow([[0,255],[255,0]], cmap = 'gray')"
      ],
      "execution_count": null,
      "outputs": []
    },
    {
      "cell_type": "markdown",
      "metadata": {
        "id": "oj3NwYj4XHYf"
      },
      "source": [
        "이번에는 수업시간에 하던 그라데이션을 10x10 의 이미지로 imshow 에 출력해보겠습니다. "
      ]
    },
    {
      "cell_type": "code",
      "metadata": {
        "id": "1_2oPZPKTTtW"
      },
      "source": [
        "arr = [] \n",
        "for y in range(10):\n",
        "  a = [] \n",
        "  for x in range(10):\n",
        "    a += [x * 25]\n",
        "  arr += [a]\n",
        "\n",
        "plt.imshow(arr, cmap = 'gray')"
      ],
      "execution_count": null,
      "outputs": []
    },
    {
      "cell_type": "markdown",
      "metadata": {
        "id": "5rYp76xVXjjy"
      },
      "source": [
        "단 배열이 3개의 컬러값을 갖는 3컬러 이미지 3차원 배열의 경우 옵션이 없어도 바로 컬러로 인식해 출력합니다. \n",
        "\n",
        "```\n",
        "# 코드로 형식 지정됨\n",
        "```\n",
        "\n"
      ]
    },
    {
      "cell_type": "code",
      "metadata": {
        "id": "S6euGXabTLT3"
      },
      "source": [
        "arr = [] \n",
        "for y in range(10):\n",
        "  a = [] \n",
        "  for x in range(10):\n",
        "    a += [[0,0,x*25]]\n",
        "  arr += [a]\n",
        "\n",
        "plt.imshow(arr)"
      ],
      "execution_count": null,
      "outputs": []
    },
    {
      "cell_type": "code",
      "metadata": {
        "id": "ro6gKtr9X8lX"
      },
      "source": [
        ""
      ],
      "execution_count": null,
      "outputs": []
    }
  ]
}