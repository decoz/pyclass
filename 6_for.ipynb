{
  "nbformat": 4,
  "nbformat_minor": 0,
  "metadata": {
    "kernelspec": {
      "display_name": "Python 3",
      "language": "python",
      "name": "python3"
    },
    "language_info": {
      "codemirror_mode": {
        "name": "ipython",
        "version": 3
      },
      "file_extension": ".py",
      "mimetype": "text/x-python",
      "name": "python",
      "nbconvert_exporter": "python",
      "pygments_lexer": "ipython3",
      "version": "3.5.2"
    },
    "colab": {
      "name": "6_for.ipynb",
      "provenance": [],
      "toc_visible": true,
      "include_colab_link": true
    }
  },
  "cells": [
    {
      "cell_type": "markdown",
      "metadata": {
        "id": "view-in-github",
        "colab_type": "text"
      },
      "source": [
        "<a href=\"https://colab.research.google.com/github/decoz/pyclass/blob/master/6_for.ipynb\" target=\"_parent\"><img src=\"https://colab.research.google.com/assets/colab-badge.svg\" alt=\"Open In Colab\"/></a>"
      ]
    },
    {
      "cell_type": "markdown",
      "metadata": {
        "id": "BcLTXeN_tM8C",
        "colab_type": "text"
      },
      "source": [
        "#6 For 문 반복과 배열"
      ]
    },
    {
      "cell_type": "markdown",
      "metadata": {
        "id": "a57Lt1HSrPe0",
        "colab_type": "text"
      },
      "source": [
        "\n",
        "\n",
        "##6.1 for in\n",
        "\n",
        "앞에서 배열과 while 문을 함께 사용하여 대규모의 여러 데이터를 처리방법들의 사례를 보았습니다. 앞에서의 대부분의 코드는 다음과 같은 형식을 갖고 있었습니다.  \n",
        "\n",
        "<pre style = \"background:#EEEEEE; padding:10px\">\n",
        "i = 0\n",
        "while i < len(arr) :\n",
        "    #arr[i] 관련 작업 ...     \n",
        "    i = i + 1\n",
        "</pre>    \n",
        "\n",
        "대부분은 배열에 있는 값들을 하나씩 억세스 하기 위해서 사용하는 경우가 많았습니다. 하지만 파이썬에서는 이런 배열의 억세스를 더 편하게 하기 위해서 for 문을 제공합니다.  다음의 프로그램을 한번 보죠 \n",
        "\n"
      ]
    },
    {
      "cell_type": "code",
      "metadata": {
        "id": "HFqvqx50rPe5",
        "colab_type": "code",
        "colab": {}
      },
      "source": [
        "a = [1,2,3,4,5]\n",
        "for v in a :\n",
        "    print(v)    "
      ],
      "execution_count": 0,
      "outputs": []
    },
    {
      "cell_type": "markdown",
      "metadata": {
        "id": "JVxTh2RSrPfM",
        "colab_type": "text"
      },
      "source": [
        "for 문은 배열 안에 있는 요소들을 자동적으로 하나씩 변수로 꺼내서 작업을 해줍니다. \n",
        "\n",
        "- <b> for [변수명] in [배열명] :</b>\n",
        "   \n",
        "즉 for v in a 는 a 라는 배열에 있는 값들을 하나씩 v에 꺼내서 다음을 수행하라는 뜻입니다. 위의 예제에서는 그 값을 print 하는 예제인것이고요. 그러므로 위 프로그램은 사실상 다음 프로그램과 같은 일을 하는 것이죠. \n",
        "\n",
        "<pre style = \"background:#EEEEEE; padding:10px\">\n",
        "a = [1,2,3,4,5]\n",
        "i = 1 \n",
        "while i < len(a) :\n",
        "    print( a[i] ) \n",
        "    i = i + 1    \n",
        "</pre>    \n"
      ]
    },
    {
      "cell_type": "markdown",
      "metadata": {
        "id": "n7QkJE1frPfP",
        "colab_type": "text"
      },
      "source": [
        "     \n",
        "#### <font color = 'red'>  연습 6.1.1 : for 문으로 배열값 중 짝수 갯수 출력<br>    \n",
        "이번엔 지난 챕터에서 했던 유사한 문제로 배열 전체에 짝수의 갯수를 출력하는 프로그램을 for 문을 이용해 작성해봅시다. \n",
        "</font>\n",
        "<font color = 'red'>\n",
        "예\n",
        "- [1,4,7,8,10] -> 3\n",
        "- [15,20,25,30] -> 2\n",
        "</font>\n"
      ]
    },
    {
      "cell_type": "code",
      "metadata": {
        "id": "F_2CXTxdrPfZ",
        "colab_type": "code",
        "colab": {}
      },
      "source": [
        "#연습문제 6.1.1 코드를 여기에 작성하세요\n",
        "a = [1,492,22,14,5,8]\n",
        "\n",
        "\n"
      ],
      "execution_count": 0,
      "outputs": []
    },
    {
      "cell_type": "markdown",
      "metadata": {
        "id": "DRbP1h0UrPgN",
        "colab_type": "text"
      },
      "source": [
        "   \n",
        "#### <font color = 'red'>연습 6.1.2 : 배열에 특정 값 존재여부 확인\n",
        "예를들어 4라는 숫자를 찾는다고 할때 배열에 [1,2,3,4] 처럼 4가 들어잇으면 yes 를 찍고  아니면 no를 찍도록 작성해봅시다. \n",
        "</font>"
      ]
    },
    {
      "cell_type": "code",
      "metadata": {
        "scrolled": true,
        "id": "64R89KscrPgQ",
        "colab_type": "code",
        "colab": {}
      },
      "source": [
        "#a = 배열, n = 찾을 숫자\n",
        "a,n = [1,2,4,5,4]\n",
        "\n",
        "#연습문제 6.1.2 코드를 여기에 작성하세요\n",
        "        "
      ],
      "execution_count": 0,
      "outputs": []
    },
    {
      "cell_type": "markdown",
      "metadata": {
        "id": "FCMDIwyVrPhv",
        "colab_type": "text"
      },
      "source": [
        "대부분 배열에 값을 뽑아 작업을 할때는 for문을 사용하는 것이 조금 더 간단합니다. 하지만 주의하셔야 할 것은 for in [배열] 의 형태는 어디까지나 값을 읽는 위주로 사용됩니다. 배열에 값을 저장하거나 바꿀때는 사용하기가 어렵죠.  다음 코드를 보죠"
      ]
    },
    {
      "cell_type": "code",
      "metadata": {
        "id": "WfnVptdsrPhy",
        "colab_type": "code",
        "colab": {}
      },
      "source": [
        "a = [1,2,3,4,5]\n",
        "for v in a :\n",
        "    v = v + 1\n",
        "print(a)"
      ],
      "execution_count": 0,
      "outputs": []
    },
    {
      "cell_type": "markdown",
      "metadata": {
        "id": "8w8OMBEyrPiC",
        "colab_type": "text"
      },
      "source": [
        "분명 v 값을 하나 증가시켰는데 배열에는 변화가 없군요?  왜냐하면 v는 배열의 복사본이기 때문입니다. 그러기 때문에 원본에는 영향을 주지 않습니다. 즉, 배열에 직접 저장을 해야할때는 결국 a[i] 식의 표현을 써야만 하는 것이죠.\n",
        "\n",
        "그러면 배열의 값을 바꾸거나 배열과 관계없는 단순한 순차적 반복에 매번 다음과 같은 while문을 써야할까요? \n",
        "\n",
        "<pre style = \"background:#EEEEEE; padding:10px\">\n",
        "i = 1\n",
        "while i < len(..):    \n",
        "    i = i + 1\n",
        "</pre>\n",
        "\n",
        "사실 파이썬에서는 이런 경우를 간략하게 하기 위해 for in range ~ 라는 형태를 제공합니다. \n"
      ]
    },
    {
      "cell_type": "markdown",
      "metadata": {
        "id": "Cr0TYd-LrPiH",
        "colab_type": "text"
      },
      "source": [
        "##6.2 for  in range \n",
        "\n",
        "range 는 개념적으로는 어떤 정수의 배열을 생성해주는 것으로 생각해보시면 됩니다. \n"
      ]
    },
    {
      "cell_type": "code",
      "metadata": {
        "id": "9ue_f9GArPiK",
        "colab_type": "code",
        "colab": {}
      },
      "source": [
        "for v in [0,1,2,3,4]:\n",
        "    print(v, end = \" \")\n",
        "\n",
        "print(\"\")    \n",
        "for v in range(5):\n",
        "    print(v, end = \" \")\n",
        "\n",
        "  "
      ],
      "execution_count": 0,
      "outputs": []
    },
    {
      "cell_type": "markdown",
      "metadata": {
        "id": "xTODs7DErPiT",
        "colab_type": "text"
      },
      "source": [
        "위의 두 for 문은 같은 작업을 해줍니다. range(5) 는 0 ~ 4 까지의 배열에서 값을 하나씩 꺼내는 것과 같은 작업을 해주는 것이죠. \n",
        "\n",
        "하지만 range는 엄밀히 말해서는 실제 배열은 아닙니다. 예를 들어 다음 문장은 [0,1,2,3,4,5,6,7,8,9] 를 출력하지는 않죠"
      ]
    },
    {
      "cell_type": "code",
      "metadata": {
        "id": "GW73PaAwrPiU",
        "colab_type": "code",
        "colab": {}
      },
      "source": [
        "a = range(10)\n",
        "print(a)"
      ],
      "execution_count": 0,
      "outputs": []
    },
    {
      "cell_type": "markdown",
      "metadata": {
        "id": "GhKLkajLrPiX",
        "colab_type": "text"
      },
      "source": [
        "예를 들어 백만번을 반복한다고 할때 (실제 프로그램에선 그렇게 큰 숫자는 아닙니다. )  range(1000000) 이라고 쓰면 백만개의 기억공간을 확보해서 배열을 만들어야 하는데 단지 숫자의 반복을 위해 이를 만드는 것은 낭비이기 때문입니다. 그냥 개념적인 가상배열정도로 이해해주시면 됩니다. \n",
        "\n",
        "range 는 반드시 0 부터 시작해야 하는 것도 아닙니다. 아래 예제를 보죠 "
      ]
    },
    {
      "cell_type": "code",
      "metadata": {
        "id": "CLUh1H5rrPiY",
        "colab_type": "code",
        "colab": {}
      },
      "source": [
        "for i in range(10,15):\n",
        "    print(i, end = \" \")"
      ],
      "execution_count": 0,
      "outputs": []
    },
    {
      "cell_type": "markdown",
      "metadata": {
        "id": "BE-JcDPgrPia",
        "colab_type": "text"
      },
      "source": [
        "두개의 입력을 넣을 경우 시작숫자 , 끝숫자(보다 하나 큰 숫자) 로 처리됩니다. 이는 결국 다음과 같은 while문과 같은 것이죠\n",
        "<pre style = \"background:#EEEEEE; padding:10px\">\n",
        "i = 10\n",
        "while i < 15:    \n",
        "    print(i, end =  \" \")\n",
        "    i = i + 1\n",
        "</pre>\n",
        "\n",
        "또 반드시 하나씩 증가해야 하는 것도 아닙니다. "
      ]
    },
    {
      "cell_type": "code",
      "metadata": {
        "id": "Fm_-Tc1urPib",
        "colab_type": "code",
        "colab": {}
      },
      "source": [
        "for i in range(1,10,2):\n",
        "    print(i)"
      ],
      "execution_count": 0,
      "outputs": []
    },
    {
      "cell_type": "markdown",
      "metadata": {
        "id": "ByHoz2fNrPid",
        "colab_type": "text"
      },
      "source": [
        "이는 다음 while 문과 같습니다. \n",
        "<pre style = \"background:#EEEEEE; padding:10px\">\n",
        "i = 1\n",
        "while i < 10:    \n",
        "    print(i, end =  \" \")\n",
        "    i = i + 2\n",
        "</pre>\n",
        "\n",
        "물론 감소도 가능하죠. 다음은 10부터 1까지 꺼꾸로 찍는 문장입니다. "
      ]
    },
    {
      "cell_type": "code",
      "metadata": {
        "id": "LseVufigrPie",
        "colab_type": "code",
        "colab": {}
      },
      "source": [
        "for  i in range(10,0,-1):\n",
        "    print(i)"
      ],
      "execution_count": 0,
      "outputs": []
    },
    {
      "cell_type": "markdown",
      "metadata": {
        "id": "EtzeXO9MrPih",
        "colab_type": "text"
      },
      "source": [
        "정리하면 for in range 의 사용법은 3가지 입니다. \n",
        "\n",
        "- for in range( 끝 ) : 0 부터 끝보다 하나 적은 숫자까지 1씩 증가 \n",
        "- for in range( 시작, 끝 ) : 시작부터 끝보다 하나 적은 숫자까지 1씩 증가 \n",
        "- for in range( 시작, 끝, 변화량 ) : 시작부터 끝을 넘지 안도록 변화량만큼 변화 \n",
        "\n",
        "사실 for in 은 배열의 값만 꺼내와서 그 값이 몇번째인 위치를 알기 어렵다는 단점이 있죠 하지만 for in range 로 배열을 처리하면 while문과 비슷하게 사용이 가능합니다.  다음은 배열의 순번과 값을 찍는 for문입니다. "
      ]
    },
    {
      "cell_type": "code",
      "metadata": {
        "id": "LM6Xo8bGrPii",
        "colab_type": "code",
        "colab": {}
      },
      "source": [
        "a = [1,4,2,3]\n",
        "for i in range( len(a) ): \n",
        "    a[i] = a[i] + 1\n",
        "print(a)"
      ],
      "execution_count": 0,
      "outputs": []
    },
    {
      "cell_type": "markdown",
      "metadata": {
        "id": "FtvoilyLrPis",
        "colab_type": "text"
      },
      "source": [
        "이제 간단한 연습을 한번 해보도록 하죠. \n",
        "\n",
        "\n",
        "    \n",
        "#### <font color = 'red'> 연습 6.2.1 : 특정 숫자의 배열 위치(인덱스) 출력\n",
        "위에 연습 6.2와 비슷하지만 값이 있다로 끝나는게 아니라 그 위치까지 찾아주는거죠.  예를 들어 4를 찾는다고 할때 배열의 인덱스를 찾아주되 없으면 -1을 리턴하는 겁니다. \n",
        "</font>\n",
        "<pre>\n",
        "[4,3,2,4] -> 0 3 \n",
        "[5,4,1,3] -> 1\n",
        "[7,6,5] -> -1 \n",
        "</pre>\n"
      ]
    },
    {
      "cell_type": "code",
      "metadata": {
        "id": "_xg9feqVrPiv",
        "colab_type": "code",
        "colab": {}
      },
      "source": [
        "# arr = 배열, n = 찾을 숫자\n",
        "arr,n = [5,0,2,1],4 \n",
        "#연습 6.2.1 의 코드를 여기에 작성하세요 \n",
        "\n"
      ],
      "execution_count": 0,
      "outputs": []
    },
    {
      "cell_type": "markdown",
      "metadata": {
        "colab_type": "text",
        "id": "RccNUMWwPNXb"
      },
      "source": [
        "<hr>\n",
        "\n",
        "## 6.3 정렬\n",
        "\n",
        "정렬이란 배열의 값을 그 크기순서대로 배치하는 것을 의미합니다. 이것은 컴퓨터의 알고리즘에 있어서도 매우 중요한 위치를 차지하고 있으며 여러가지 방법이 존재하고 각각의 장단점을 가지고 있습니다. 효율이 높은 방법의 경우 그 방법을 초보자가 이해하기 힘든 경우가 있으므로 여기서는 가장 기초적인 방법인 버블정렬을 한번 체험해보는 걸로 하겠습니다. \n",
        "\n",
        "이 방법을 좀 더 쉽게 이해하기 위해 먼저 다음의 규칙을 보도록 하죠.\n",
        "\n",
        "- 좌측부터 두 값을 비교하여 왼쪽값이 더 크면 두 값을 바꾼다. \n",
        "```\n",
        "예: \n",
        "3,2 -> 2,3 \n",
        "3,4 -> 3,4 \n",
        "```\n",
        "- 위의 작업을 배열의 모든 인접한 두쌍에 대해 좌측부터 반복한다. \n",
        "```\n",
        "예: 배열의 크기가 4인 경우\n",
        "arr[0], arr[1]\n",
        "arr[1], arr[2]\n",
        "arr[2], arr[3]\n",
        "```\n",
        "\n",
        "이 규칙을 코드로 작성하면 다음과 같습니다. \n",
        "\n",
        "\n"
      ]
    },
    {
      "cell_type": "markdown",
      "metadata": {
        "id": "qNrcfMftSBQQ",
        "colab_type": "text"
      },
      "source": [
        "#### 코드: 가장 큰 값을 우측으로 밀어올리기 "
      ]
    },
    {
      "cell_type": "code",
      "metadata": {
        "id": "yqqaJn5ER4Bp",
        "colab_type": "code",
        "colab": {}
      },
      "source": [
        "arr = [1,4,2,3]\n",
        "for i in range( len(arr) - 1):\n",
        "  if arr[i] > arr[i+1] :\n",
        "    arr[i], arr[i+1] = arr[i+1], arr[i]\n",
        "print(arr)"
      ],
      "execution_count": 0,
      "outputs": []
    },
    {
      "cell_type": "markdown",
      "metadata": {
        "id": "d3ISrmrbTenf",
        "colab_type": "text"
      },
      "source": [
        "보시면 위의 코드에 의해서 가장 큰 값인 4가 제일 우측으로 밀려 올라간 것을 볼 수 있습니다.  그러면 이를 반복하면 어떻게 될까요? 가장 큰 값이 제일 우측으로 밀렸기 때문에 이제 이번에는 두번째로 큰 값이 제일 우측에서 두번째 위치에 위치하게 됩니다. \n",
        "\n",
        "즉 위의 코드를 반복하는 것만으로 가장 큰 값부터 하나하나 우측에 밀려서 순서대로 서게 되는 것이죠. 다음은 역순으로 된 값들이 위의 코드를 반복하면서 어떻게 바뀌는지를 보여줍니다. \n",
        "\n",
        "```\n",
        "arr = [5,4,3,2,1]\n",
        "1회 -> [4,3,2,1,5]\n",
        "2회 -> [3,2,1,4,5]\n",
        "3회 -> [2,1,3,4,5]\n",
        "4회 -> [1,2,3,4,5]\n",
        "```\n",
        "\n",
        "보시면 4회면 5개의 역순 배열이 정순으로 배치되는 것을 볼 수 있습니다. 실제로 n 개의 배열은 n-1 번 위의 코드를 반복함으로서 이를 순서대로 배치되도록 할 수 있습니다. 이것이 가장 직관적으로 이해하기 쉬운 버블정렬방식입니다. \n",
        "\n",
        "#### 코드 : 버블정렬 "
      ]
    },
    {
      "cell_type": "code",
      "metadata": {
        "id": "mKDHdEUdTRIO",
        "colab_type": "code",
        "colab": {}
      },
      "source": [
        "arr = [5,4,3,2,1]\n",
        "for n in range( len(arr) - 1):\n",
        "  for i in range( len(arr) - 1):\n",
        "    if arr[i] > arr[i+1] :\n",
        "      arr[i], arr[i+1] = arr[i+1], arr[i]\n",
        "  print(n,\"회:\", arr)\n",
        "print(\"최종:\", arr)"
      ],
      "execution_count": 0,
      "outputs": []
    },
    {
      "cell_type": "markdown",
      "metadata": {
        "id": "u1xQJQXvVPY9",
        "colab_type": "text"
      },
      "source": [
        "\n",
        "####<font color = 'red'> 연습 6.3.1 : 버블 정렬 완성\n",
        "위의 코드는 배열 크기를 n으로 가정할때 n-1 의 제곱만큼 비교를 거치게 됩니다. 이 횟수를 줄일 수 있는 방법이 있을까요?  생각해보시고 더 효율적인 코드로 바꿔보세요\n",
        "</font>"
      ]
    },
    {
      "cell_type": "code",
      "metadata": {
        "id": "Mef0RqMEU-ZI",
        "colab_type": "code",
        "colab": {}
      },
      "source": [
        "# 아래 코드를 더 효율적으로 고쳐보세요\n",
        "arr = [5,4,3,2,1]\n",
        "for n in range( len(arr) - 1):\n",
        "  for i in range( len(arr) - 1):\n",
        "    if arr[i] > arr[i+1] :\n",
        "      arr[i], arr[i+1] = arr[i+1], arr[i]  \n",
        "print(arr)"
      ],
      "execution_count": 0,
      "outputs": []
    },
    {
      "cell_type": "markdown",
      "metadata": {
        "colab_type": "text",
        "id": "n7H7WQNkeUlI"
      },
      "source": [
        "<Br><Br>\n",
        "<hr>\n",
        "\n",
        "## 6.4 다중 배열과 for 문 \n",
        "\n",
        "이번에는 for 문으로 다중 배열을 다루는 문제를 한번 해보도록 하겠습니다.  전 챕터에서 했던 다중 배열 출력을 간단히 for 문으로 바꿔보도록 해보겠습니다. \n",
        "\n",
        "\n",
        "\n"
      ]
    },
    {
      "cell_type": "code",
      "metadata": {
        "id": "6duaaB03epVw",
        "colab_type": "code",
        "colab": {}
      },
      "source": [
        "arr = [[1,2], [3,4], [5,6]]\n",
        "for a  in arr :\n",
        "  for v in a :\n",
        "    print(v)\n"
      ],
      "execution_count": 0,
      "outputs": []
    },
    {
      "cell_type": "markdown",
      "metadata": {
        "id": "W0_ISMoEfAZF",
        "colab_type": "text"
      },
      "source": [
        "첫번째 for 문에 의해 a 는 반복하며 [1,2], [3,4] , [5,6] 의 배열값을 갖게 됩니다. 그리고 두번째 포문이 다시 a의 각각의 값인 1,2,3,4,5,6 을 갖게 되는겁니다. \n",
        "\n",
        "코드를 보시면 i, j 이런식의 변수를 사용하지 안음으로서 상당히 간결해진 것을 보실 수 있습니다.  물론 경우에 따라서는 인덱스 값이 필요하지만 단순히 그 값만을 원하신다면 이쪽이 더 간결하고 코드도 이해하기 쉬운것이죠. \n"
      ]
    },
    {
      "cell_type": "markdown",
      "metadata": {
        "colab_type": "text",
        "id": "mysvFVyYeUlj"
      },
      "source": [
        "이번에는 전에 해봤던 10x10의  배열을 for 문으로 만들어 출력해 보겠습니다. \n",
        "\n",
        "#### 코드: for 문으로 10 x 10 배열 만들기 \n",
        "\n",
        "\n",
        "\n"
      ]
    },
    {
      "cell_type": "code",
      "metadata": {
        "id": "mZLT0G3vgQCB",
        "colab_type": "code",
        "colab": {}
      },
      "source": [
        "arr = [] \n",
        "for i in range(10):\n",
        "  a = [] \n",
        "  for j in range(10):\n",
        "    a.append(0)\n",
        "  arr.append(a)\n",
        "\n",
        "for a in arr:\n",
        "  print(a)\n"
      ],
      "execution_count": 0,
      "outputs": []
    },
    {
      "cell_type": "markdown",
      "metadata": {
        "id": "JavhMX71gsKV",
        "colab_type": "text"
      },
      "source": [
        "요번에는 위의 arr의 값들을 바꾸는 것을 한번 해보도록 하죠. 가운데 8x8 영역의 값들을 1로 바꾸도록 해보겠습니다. \n",
        "\n",
        "#### 코드: 10x10 배열의 가운데 8x8을 1로 채우기"
      ]
    },
    {
      "cell_type": "code",
      "metadata": {
        "id": "tOsleeyugjGt",
        "colab_type": "code",
        "colab": {}
      },
      "source": [
        "# 가운데 8x8만 값을 1로 채우기\n",
        "for i in range(1,9):\n",
        "  for j in range(1,9):\n",
        "    arr[i][j] = 1\n",
        "\n",
        "# 출력\n",
        "for a in arr:\n",
        "  print(a) "
      ],
      "execution_count": 0,
      "outputs": []
    },
    {
      "cell_type": "markdown",
      "metadata": {
        "id": "NnOrc6EWiI0j",
        "colab_type": "text"
      },
      "source": [
        "이런 식으로 이중 배열의 값을 간단히 억세스 할 수 있습니다. 그리고 배열의 값을 바꿀때는 range를 사용해야 한다는 것을 명심하시고요  이제 모든 값을 다시 0 으로 리셋할때는 다음코드를 사용하시면 됩니다.\n",
        "\n",
        "\n",
        "#### 코드: 전체를 배열값  0 으로 채우기"
      ]
    },
    {
      "cell_type": "code",
      "metadata": {
        "id": "1hFI9d4HiFap",
        "colab_type": "code",
        "colab": {}
      },
      "source": [
        "for i in range(10):\n",
        "  for j in range(10):\n",
        "    arr[i][j] = 0    "
      ],
      "execution_count": 0,
      "outputs": []
    },
    {
      "cell_type": "markdown",
      "metadata": {
        "id": "u_2jxNZXi7ci",
        "colab_type": "text"
      },
      "source": [
        "####<font color = 'red'> 연습 6.4.1 : 배열에 패턴 값 넣기 \n",
        "다음 형태로 값이 들어가는 반복문을 작성해보세요\n",
        "</font>\n",
        "```\n",
        "[1, 0, 0, 0, 0, 0, 0, 0, 0, 0]\n",
        "[1, 1, 0, 0, 0, 0, 0, 0, 0, 0]\n",
        "[1, 1, 1, 0, 0, 0, 0, 0, 0, 0]\n",
        "[1, 1, 1, 1, 0, 0, 0, 0, 0, 0]\n",
        "[1, 1, 1, 1, 1, 0, 0, 0, 0, 0]\n",
        "[1, 1, 1, 1, 1, 1, 0, 0, 0, 0]\n",
        "[1, 1, 1, 1, 1, 1, 1, 0, 0, 0]\n",
        "[1, 1, 1, 1, 1, 1, 1, 1, 0, 0]\n",
        "[1, 1, 1, 1, 1, 1, 1, 1, 1, 0]\n",
        "[1, 1, 1, 1, 1, 1, 1, 1, 1, 1]\n",
        "```"
      ]
    },
    {
      "cell_type": "code",
      "metadata": {
        "id": "j6dUv8BeiyQe",
        "colab_type": "code",
        "colab": {}
      },
      "source": [
        "# 배열 리셋\n",
        "for i in range(10):\n",
        "  for j in range(10):\n",
        "    arr[i][j] = 0    \n",
        "\n",
        "# 연습문제 6.4.1 의 코드를 작성해보세요 \n",
        "\n",
        "# 출력\n",
        "for a in arr:\n",
        "  print(a) "
      ],
      "execution_count": 0,
      "outputs": []
    },
    {
      "cell_type": "markdown",
      "metadata": {
        "colab_type": "text",
        "id": "RaS1ytNykW_7"
      },
      "source": [
        "예전에 반복문때 했던 패턴을 생각하시면 크게 어렵지 안으실 겁니다. 단지 그것을 배열에 응용하는 것이죠. 이번에는 아래와 같은 값을 갖도록 해보죠 \n",
        "\n",
        "####<font color = 'red'> 연습 6.4.2 : 배열에 패턴값 넣기 2\n",
        "다음 형태로 값이 들어가는 반복문을 작성해보세요\n",
        "</font>\n",
        "```\n",
        "[0, 1, 2, 3, 4, 5, 6, 7, 8, 9]\n",
        "[1, 2, 3, 4, 5, 6, 7, 8, 9, 0]\n",
        "[2, 3, 4, 5, 6, 7, 8, 9, 0, 1]\n",
        "[3, 4, 5, 6, 7, 8, 9, 0, 1, 2]\n",
        "[4, 5, 6, 7, 8, 9, 0, 1, 2, 3]\n",
        "[5, 6, 7, 8, 9, 0, 1, 2, 3, 4]\n",
        "[6, 7, 8, 9, 0, 1, 2, 3, 4, 5]\n",
        "[7, 8, 9, 0, 1, 2, 3, 4, 5, 6]\n",
        "[8, 9, 0, 1, 2, 3, 4, 5, 6, 7]\n",
        "[9, 0, 1, 2, 3, 4, 5, 6, 7, 8]\n",
        "```"
      ]
    },
    {
      "cell_type": "code",
      "metadata": {
        "colab_type": "code",
        "id": "FxTgKP4KkW__",
        "colab": {}
      },
      "source": [
        "# 배열 리셋\n",
        "for i in range(10):\n",
        "  for j in range(10):\n",
        "    arr[i][j] = 0    \n",
        "\n",
        "# 연습문제 6.4.2 의 코드를 작성해보세요 \n",
        "\n",
        "# 출력\n",
        "for a in arr:\n",
        "  print(a) "
      ],
      "execution_count": 0,
      "outputs": []
    },
    {
      "cell_type": "markdown",
      "metadata": {
        "colab_type": "text",
        "id": "ZJyZZ_rylU6x"
      },
      "source": [
        "매번 같은 패턴이라 지루하실 수도 있으니 이제 새로운 패턴을 한번 구경해보죠. 다음 모양은 어떻게 만들 수 있을까요? 창의성을 발휘해보세요 \n",
        "\n",
        "####<font color = 'red'> 연습 6.4.3 : 배열에 패턴값 넣기 3\n",
        "다음 형태로 값이 들어가는 반복문을 작성해보세요\n",
        "</font>\n",
        "```\n",
        "[1, 0, 0, 1, 0, 0, 1, 0, 0, 1]\n",
        "[0, 0, 1, 0, 0, 1, 0, 0, 1, 0]\n",
        "[0, 1, 0, 0, 1, 0, 0, 1, 0, 0]\n",
        "[1, 0, 0, 1, 0, 0, 1, 0, 0, 1]\n",
        "[0, 0, 1, 0, 0, 1, 0, 0, 1, 0]\n",
        "[0, 1, 0, 0, 1, 0, 0, 1, 0, 0]\n",
        "[1, 0, 0, 1, 0, 0, 1, 0, 0, 1]\n",
        "[0, 0, 1, 0, 0, 1, 0, 0, 1, 0]\n",
        "[0, 1, 0, 0, 1, 0, 0, 1, 0, 0]\n",
        "[1, 0, 0, 1, 0, 0, 1, 0, 0, 1]\n",
        "```"
      ]
    },
    {
      "cell_type": "code",
      "metadata": {
        "colab_type": "code",
        "id": "52XgUoc0lU7B",
        "colab": {}
      },
      "source": [
        "# 배열 리셋\n",
        "for i in range(10):\n",
        "  for j in range(10):\n",
        "    arr[i][j] = 0    \n",
        "\n",
        "# 연습문제 6.4.3 의 코드를 작성해보세요 \n",
        "\n",
        "# 출력\n",
        "for a in arr:\n",
        "  print(a) "
      ],
      "execution_count": 0,
      "outputs": []
    },
    {
      "cell_type": "code",
      "metadata": {
        "id": "HThCgvrgkH_2",
        "colab_type": "code",
        "colab": {}
      },
      "source": [
        ""
      ],
      "execution_count": 0,
      "outputs": []
    }
  ]
}