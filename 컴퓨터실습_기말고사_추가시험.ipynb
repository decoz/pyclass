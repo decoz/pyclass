{
  "nbformat": 4,
  "nbformat_minor": 0,
  "metadata": {
    "colab": {
      "name": "컴퓨터실습 기말고사 추가시험.ipynb",
      "provenance": [],
      "collapsed_sections": [],
      "authorship_tag": "ABX9TyNlDOJo1sVMhiSvnvasnF0d",
      "include_colab_link": true
    },
    "kernelspec": {
      "name": "python3",
      "display_name": "Python 3"
    }
  },
  "cells": [
    {
      "cell_type": "markdown",
      "metadata": {
        "id": "view-in-github",
        "colab_type": "text"
      },
      "source": [
        "<a href=\"https://colab.research.google.com/github/decoz/pyclass/blob/master/%EC%BB%B4%ED%93%A8%ED%84%B0%EC%8B%A4%EC%8A%B5_%EA%B8%B0%EB%A7%90%EA%B3%A0%EC%82%AC_%EC%B6%94%EA%B0%80%EC%8B%9C%ED%97%98.ipynb\" target=\"_parent\"><img src=\"https://colab.research.google.com/assets/colab-badge.svg\" alt=\"Open In Colab\"/></a>"
      ]
    },
    {
      "cell_type": "markdown",
      "metadata": {
        "id": "Bkj26YclUuKK",
        "colab_type": "text"
      },
      "source": [
        "\n",
        "\n",
        "# 2020 학년도 컴퓨터실습 기말고사 추가시험 [실습1 과정] \n",
        "\n",
        "```\n",
        "#### 기말고사 규칙:\n",
        "- 라이브러리나 함수의 도움 없이 기본적인 문법으로 문제를 해결하셔야합니다. 타입변환(str, int등), 배열의 카피(arr.copy()) 등 수업시간에 사용된 함수는 가능합니다. \n",
        "- 푸신 문제중에 가장 난이도가 높은 문제를 기준으로 점수 평가가 됩니다. \n",
        "- 소스를 실행했을때 실행이 되어야 합니다. \n",
        "- 제출시에는 ipynb 파일로 다운 받아 과제제출에 3시 반까지 제출하셔야합니다.\n",
        "- 수업시간에 알려드린 방식과 다르거나 지나치게 유사한 답안이 존재할 경우  본인이 푸신걸 확인하기 위한 절차를 요청할 수 있습니다. 이때 설명을 못하시면 부정시험으로 간주합니다. \n",
        "```\n",
        " <hr> \n"
      ]
    },
    {
      "cell_type": "markdown",
      "metadata": {
        "id": "wtNOvbszaTWx",
        "colab_type": "text"
      },
      "source": [
        "## 배열 관련\n",
        "\n",
        "\n",
        "#### 문제 1 : 배열의 값들중에 3의 배수만 제외하고 출력하는 코드를 작성하세요  [60점]\n",
        "\n",
        "예\n",
        "```\n",
        "arr = [1,3,5,7]\n",
        "-> 1 5 7 \n",
        "\n",
        "arr = [5,2,4,6]\n",
        "-> 5 2 4 \n",
        "```\n",
        "\n"
      ]
    },
    {
      "cell_type": "code",
      "metadata": {
        "id": "BZgxwxuobc0F",
        "colab_type": "code",
        "colab": {}
      },
      "source": [
        "arr = [1,3,5,2,4,6]\n",
        "# 문제 1의 코드를 작성하세요\n",
        "\n",
        "\n"
      ],
      "execution_count": null,
      "outputs": []
    },
    {
      "cell_type": "markdown",
      "metadata": {
        "colab_type": "text",
        "id": "D9wUo4xIb_mO"
      },
      "source": [
        "\n",
        "<Br><Br><Br>\n",
        "#### 문제 2 : 2차원 배열의 값들의 모든 합산값을  중 최대값을 출력하는 코드를 작성하세요  [70점]\n",
        "\n",
        "예\n",
        "```\n",
        "arr = [[5,2,3,4], [1,8,6]]\n",
        "\n",
        "-> 8\n",
        "\n",
        "arr = [[1,3,5],[4,9,2],[7,6,8]]\n",
        "\n",
        "-> 9 \n",
        "\n",
        "``` \n",
        "\n",
        "\n",
        "\n"
      ]
    },
    {
      "cell_type": "code",
      "metadata": {
        "id": "l4Ztc5zFtwbr",
        "colab_type": "code",
        "colab": {}
      },
      "source": [
        "arr = [[5,2,3,4], [8,9,6]]\n",
        "\n",
        "# 문제 2의 코드를 여기에 작성하세요\n"
      ],
      "execution_count": null,
      "outputs": []
    },
    {
      "cell_type": "markdown",
      "metadata": {
        "colab_type": "text",
        "id": "RkAZyz1itxV3"
      },
      "source": [
        "\n",
        "<Br><Br><Br>\n",
        "#### 문제 3 : 3x3 2차원 배열의 열과 행의 합을 각각 배열의 우측과 하단에 출력하는 코드를 작성하세요 [80점]\n",
        "\n",
        "예\n",
        "```\n",
        "arr = [\n",
        "  [0,1,2],\n",
        "  [1,2,3],\n",
        "  [4,3,2]\n",
        "]\n",
        "\n",
        "출력 ->\n",
        "0 1 2 3\n",
        "1 2 3 6\n",
        "4 3 2 9\n",
        "5 6 7 \n",
        "\n",
        "```\n",
        "\n"
      ]
    },
    {
      "cell_type": "code",
      "metadata": {
        "colab_type": "code",
        "id": "hueXFbeKtxV5",
        "colab": {}
      },
      "source": [
        "# 임의의 3x3 2차원 배열\n",
        "arr = [\n",
        "  [0,1,2],\n",
        "  [1,2,3],\n",
        "  [4,3,2]\n",
        "]\n",
        "\n",
        "\n",
        "# 문제3의 코드를 작성하세요\n"
      ],
      "execution_count": null,
      "outputs": []
    },
    {
      "cell_type": "markdown",
      "metadata": {
        "colab_type": "text",
        "id": "DfNOJTqGFKD9"
      },
      "source": [
        "<Br><Br><Br>\n",
        "<hr>\n",
        "\n",
        "##  이미지 관련\n",
        "\n",
        "아래는 크기가 100x100 인 0으로 가득찬 2차원 배열을 생성해 이미지로 표현하는 코드이다.\n",
        "\n"
      ]
    },
    {
      "cell_type": "code",
      "metadata": {
        "colab_type": "code",
        "id": "l8Od24d-FKD_",
        "colab": {}
      },
      "source": [
        "from PIL import Image\n",
        "from IPython.display import display\n",
        "import numpy as np\n",
        "\n",
        "arr = [] \n",
        "for i in range(100):\n",
        "  tarr = []\n",
        "  for j in range(100):\n",
        "    tarr = tarr + [0] \n",
        "  arr = arr + [tarr]\n",
        "\n",
        "display( Image.fromarray( np.array(arr).astype('uint8').reshape(100,100) , 'L' ) )"
      ],
      "execution_count": null,
      "outputs": []
    },
    {
      "cell_type": "markdown",
      "metadata": {
        "colab_type": "text",
        "id": "sRj-aQe_J_nc"
      },
      "source": [
        "<Br>\n",
        "\n",
        "#### 문제 4 : 아래와 같은 이미지가 출력되도록 배열값을 바꾸세요 [90점]\n",
        "![image.png](data:image/png;base64,iVBORw0KGgoAAAANSUhEUgAAAGQAAABkCAYAAABw4pVUAAAER0lEQVR4Ae2Z27KDIAxF/f+fbgdtEAJBOoZcNA9nEAeTnSy21uP2+Xw+27Zd/sW6fo+4+7JxB4x498BtT3LHQzZDn2gJykuhXnSWve0cj4F4K9Kb3gDy+wFjGBztEMOi91+FlD7qPN6NRtcFEAwKz4XB9YEIi8jvQVx5ueIAHMF4AQSaPhpVgQgmz85IzYi8uzlah0Rj2p4Ibpg6+VNgwO3HYT0BRHD3V7doIu8JxOFuagoEZ5Sjs7oCCMAzAu4AYkQMueNn9UFz8Th7vYF1AaSEZwKIARGkM1KzZvWVje0dz8ZRXjdfsLLQIbQeAHzOuv5dnwuRL/rmH9/UCdhaGzW+qRNA0u1OCcr5HoLvuTBXEvZ3Q7zohL4S4xiItyK96e1ACSCdpuRfdAqAaSAKYvZG3M1793oMSDheAMEA8NwEEGER7LcIx/r7DnFcEMttT9ElLRDvMKCZTusIIMbA1UCMicvPln93/b/rDdUdQBI8k0AMiWqc8U/TwB0wOqvrdIgz4V1oAKEcndV1AHEmehoGgHFUXwABaGk0AM6EiOGOn21S2dje8Wwc5XUBBMNTBaKafPC1Dpr0Nn27PaD40fi2xmjVG9/UBy5VgnK+h1AOURKW0g4f9qAX1sEI56nR+LoxEOPik7wKGp47hBJAKGjpvAJgGoiCmH23381793oMSDheAMEA8NwEEGER+TnAlZcrDsARjNd3iKCADCMVz5WXK44JII6LWQJXGErrkADS9oTTvReA6+RPgXFRdOUkwWbP5A0gZoE8zR1OXXI6JIDU/4YBoHhc3KcDyOIkzb0TiuTOC3HxyJ1nYbwAUsJb2GhyU6b8Rd5qMnuRyXVlY3vHRdEm9f/0BRAMTxWcavLB1zpo0tv07faA4kfj2xqjVW98Ux+4VAnK+R5COURJWEo7fPiCXlgHI5ynRuPrxkCMi0/yKmh47hBKAKGgpfMKgGkgCmL23X43793rMSDheAEEA8BzE0CEReTnAFderjgARzBe3yGCAjKMVDxXXq44JoA4LmYJXGEorUMCSNsTTvdeAK6TPwXGRdGVkwSbPZM3gJgF8jR3OHXJ6ZAAUv8bBoDicXGfDiCLkzT3TiiSOy/ExSN3noXxAkgJb2GjyU2Z8hd5q8nsRSbXlY3tHRdFm9T/0xdAMDxVcKrJB1/roElv07fbA4ofjW9rjFa98U194FIlKOd7COUQJWEp7fDhC3phHYxwnhqNrxsDMS4+yaug4blDKAGEgpbOKwCmgSiI2Xf73bx3r8eAhOMFEAwAz00AERaRnwNcebniABzBeH2HCArIMFLxXHm54pgA4riYJXCFobQOCSBtTzjdewG4Tv4UGBdFV04SbPZM3gBiFsjT3OHUJadDAkj9bxgAisfFfTqALE7S3DuhSO68EBeP3HkWxgsgJbyFjSY3Zcpf5K0msxeZXFc2tndcFG1S/09fAMHwNMF9ARzhmCcnEx7BAAAAAElFTkSuQmCC)"
      ]
    },
    {
      "cell_type": "code",
      "metadata": {
        "id": "TKn-oVvRvNCN",
        "colab_type": "code",
        "colab": {}
      },
      "source": [
        "# 배열 값 초기화\n",
        "for x in range(100):\n",
        "  for y in range(100):\n",
        "    arr[y][x] = 0 \n",
        "\n",
        "# 문제 4의 코드를 작성하세요\n",
        "\n",
        "\n",
        "\n",
        "# 출력\n",
        "display( Image.fromarray( np.array(arr).astype('uint8').reshape(100,100) , 'L' ) )      "
      ],
      "execution_count": null,
      "outputs": []
    },
    {
      "cell_type": "markdown",
      "metadata": {
        "colab_type": "text",
        "id": "C1eBDFKFUKBf"
      },
      "source": [
        "<Br><Br><Br>\n",
        "\n",
        "#### 문제 5 : 아래와 같은 이미지가 출력되도록 배열값을 바꾸세요 [100점]\n",
        "\n",
        "![대체 텍스트](https://drive.google.com/uc?export=view&id=1LPW3eEN1hmdqQk2dk2crkPX0HHu8-lqN\n",
        ")"
      ]
    },
    {
      "cell_type": "code",
      "metadata": {
        "id": "YwNKeFzqP5qj",
        "colab_type": "code",
        "colab": {}
      },
      "source": [
        "# 배열 값 초기화\n",
        "for x in range(100):\n",
        "  for y in range(100):\n",
        "    arr[y][x] = 0 \n",
        "\n",
        "# 문제 5의 코드를 작성하세요\n",
        "\n",
        "\n",
        "    \n",
        "# 출력    \n",
        "display( Image.fromarray( np.array(arr).astype('uint8').reshape(100,100) , 'L' ) )    "
      ],
      "execution_count": null,
      "outputs": []
    },
    {
      "cell_type": "code",
      "metadata": {
        "id": "lLEfYv-RUame",
        "colab_type": "code",
        "colab": {}
      },
      "source": [
        ""
      ],
      "execution_count": null,
      "outputs": []
    }
  ]
}