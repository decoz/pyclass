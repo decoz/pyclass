{
  "nbformat": 4,
  "nbformat_minor": 0,
  "metadata": {
    "colab": {
      "name": "11 dictionary and tuple.ipynb",
      "provenance": [],
      "collapsed_sections": [],
      "toc_visible": true,
      "authorship_tag": "ABX9TyNhfnbttICL5MrL0yfPZeHb",
      "include_colab_link": true
    },
    "kernelspec": {
      "name": "python3",
      "display_name": "Python 3"
    },
    "language_info": {
      "name": "python"
    }
  },
  "cells": [
    {
      "cell_type": "markdown",
      "metadata": {
        "id": "view-in-github",
        "colab_type": "text"
      },
      "source": [
        "<a href=\"https://colab.research.google.com/github/decoz/pyclass/blob/master/11_dictionary_and_tuple.ipynb\" target=\"_parent\"><img src=\"https://colab.research.google.com/assets/colab-badge.svg\" alt=\"Open In Colab\"/></a>"
      ]
    },
    {
      "cell_type": "markdown",
      "metadata": {
        "id": "k9K4QD20wbec"
      },
      "source": [
        "# 11 딕셔너리와 튜플 "
      ]
    },
    {
      "cell_type": "markdown",
      "metadata": {
        "id": "Mvb6qD_JpJMG"
      },
      "source": [
        "## 11.0 파이썬의 표준 데이터 타입 \n",
        "\n",
        "우리는 지금까지 크게 3가지 형태의 변수를 다뤘습니다. 일반적인 숫자를 저장하는 변수, 문자열을 저장하는 변수, 그리고 여러 데이터를 모아서 저장하는 배열 즉, list 타입입니다. (사실 숫자는 수업시간에 정수인(int)만 다뤘지만 소숫점 이하까지 다루는 float, 그리고 복소수를 다루는 complex 가 있습니다. ) \n",
        "\n",
        "사실 컴퓨터에 진정한 데이터 타입은 결국 0,1 디지털 데이터를 8bit 단위로 끊어서 저장하는 byte 밖에 없습니다만 이 데이터를 사용 편의에 따라 숫자로 보느냐 문자로 보느냐, 또는 배열로 보느냐의 차이일 뿐입니다. 예를 들어 0 1 0 0 0 0 0 0  이라는 디지털 데이터는 십진수로 바꾸면 64가 되지만 문자코드로 보면 'a' 로 약속되어 있습니다.  이렇게 데이터 타입은 프로그램의 편의를 위한 규정입니다. \n",
        "\n",
        "하지만 파이썬의 표준 데이터타입은 총 5가지입니다. \n",
        "\n",
        "- Number ( int, float, complex )\n",
        "- String \n",
        "- List \n",
        "- Tuples\n",
        "- Dictionary \n",
        "\n",
        "지금까지 수업에선 여러분들에게 알고리즘을 학습시키기 위해 되도록 Number 와 List 위주로만 코드를 다뤘습니다. 하지만 이제 기본적인 코드의 작동방식에 어느정도 훈련이 되셨기 때문에 나머지 두 타입 , Tuples 와 Dictionary 를 간략하게 설명하고 넘어가도록 하겠습니다. \n",
        "\n",
        "\n",
        "\n"
      ]
    },
    {
      "cell_type": "markdown",
      "metadata": {
        "id": "d7B03alqrnGh"
      },
      "source": [
        "<br><br><br>\n",
        "<hr><br>\n",
        "\n",
        "## 11.1 Tuples 타입 \n",
        "\n",
        "Tuples 의 간단한 예가 아래에 나와있습니다. \n",
        "\n"
      ]
    },
    {
      "cell_type": "code",
      "metadata": {
        "id": "L42KHJoKr0oY"
      },
      "source": [
        "a = (1,2,3,4,5)\n",
        "\n",
        "print(a[0])\n",
        "\n",
        "for v in a :\n",
        "  print(v)"
      ],
      "execution_count": null,
      "outputs": []
    },
    {
      "cell_type": "markdown",
      "metadata": {
        "id": "jMchuoY4r_TE"
      },
      "source": [
        "보시면 List 와 상당히 유사하다는 것을 느끼실 수 있을겁니다. 실제로 튜플은 \n",
        "```\n",
        "(값1, 값2, .. )\n",
        "```\n",
        "형태로 정의되며 '[]' 대신 '()' 를 사용한다는 점을 빼면 리스트와 거의 동일하게 사용이 가능합니다. 값을 억세스할때도 a[0] 처럼 리스트와 동일하게 억세스가능하죠. 하지만 튜플은 값을 추가하거나 변경할 수 없습니다. 그래서 아래의 코드는 에러가 납니다. "
      ]
    },
    {
      "cell_type": "code",
      "metadata": {
        "id": "Lc8eYKgAxLK-"
      },
      "source": [
        "a[0] = 5"
      ],
      "execution_count": null,
      "outputs": []
    },
    {
      "cell_type": "markdown",
      "metadata": {
        "id": "wEYh6g8TxPl8"
      },
      "source": [
        "하지만 값을 추가할 수는 있습니다.  아래의 예를 보죠"
      ]
    },
    {
      "cell_type": "code",
      "metadata": {
        "id": "GPgN_3a3sN0E"
      },
      "source": [
        "a = a + (6, )\n",
        "\n",
        "print(a)\n"
      ],
      "execution_count": null,
      "outputs": []
    },
    {
      "cell_type": "markdown",
      "metadata": {
        "id": "9U_k1__vxiGH"
      },
      "source": [
        "이제 (6) 이 아니라 (6,) 인 이유는 (3+4) 처럼 괄호만 있으면 연산의 우선순위를 얻는 방법에 지나지 안기 때문입니다.  사실 괄호가 없어도 ,로 이어진 값은 튜플로 인식이 됩니다. \n"
      ]
    },
    {
      "cell_type": "code",
      "metadata": {
        "id": "zU1nCZsIx-6h"
      },
      "source": [
        "a = 6,\n",
        "print(a)\n"
      ],
      "execution_count": null,
      "outputs": []
    },
    {
      "cell_type": "markdown",
      "metadata": {
        "id": "h-1rwMmMtWKc"
      },
      "source": [
        "아마 의문이 드실 겁니다. 왜 이런 tuple 이 필요할까? 주로 어떤 값을 변경하지 안고 고정시켜 저장할때 많이 사용됩니다. 하지만 여러분들은 사실 지금까지 튜플을 사용을 많이 봐오셨습니다. \n",
        "\n",
        "```\n",
        "x,y = 1,2\n",
        "```\n",
        "\n",
        "이것은 실제로 \n",
        "```\n",
        "x,y = (1,2) \n",
        "```\n",
        "이래도 같습니다.  이렇게 여러 값들을 넘기고 전달 받을 때에도 튜플이 사용됩니다. 하지만 아직 초심자 분들에게는 튜플보다는 list 배열을 사용하는것을 더 추천드립니다. "
      ]
    },
    {
      "cell_type": "code",
      "metadata": {
        "id": "h9EUCjn8RKJ8"
      },
      "source": [
        "a = (1,2)\n",
        "x,y = a\n",
        "print(x,y)"
      ],
      "execution_count": null,
      "outputs": []
    },
    {
      "cell_type": "markdown",
      "metadata": {
        "id": "rQphkhSGoSom"
      },
      "source": [
        "<br><br><br>\n",
        "<hr><br>\n",
        "\n",
        "## 11.2 dictionary 타입\n",
        "\n",
        "배열은 데이터를 억세스할때 배열명[인덱스값] 형태로 원하는 위치의 자료를 뽑아냅니다. 하지만 실제데이터에선 '학번 : 이름' 이나 '과목명: 점수' 같은 형식의 데이터를 저장하고 다뤄야 할 경우가 많습니다. 이런 데이터를 key, value 형태의 자료라고 합니다. key 는 해당 데이터를 얻기 위한 키값이며 value는 key 값을 통해 얻는 값을 의미합니다. \n",
        "```\n",
        "학번 20112311 학생의 이름은? \n",
        "```\n",
        "이런 식으로 학번을 통해 이름을 조회하는 경우  key = 학번 value = 이름 이 됩니다.  실제 많은 자료들이 이런 성질을 갖고 있으며 이를 기존의 배열로 다루려면 이런식의 다중 배열을 사용해야 합니다. \n",
        "```\n",
        "data = [\n",
        "  ['20112311','김개동'],\n",
        "  ['20112312','홍길동']\n",
        "]\n",
        "```\n",
        "하지만 이 배열에서 원하는 값을 얻어내기 위해선 매번 반복문이 필요하며 데이터가 클 경우 이것은 속도의 저하를 가져옵니다.  dictionary 는 이런 key,value 데이터를 효율적으로 다루기 위해서 만들어진 자료입니다.  \n"
      ]
    },
    {
      "cell_type": "markdown",
      "metadata": {
        "id": "NmFU45911vIU"
      },
      "source": [
        "### 11.2.1 딕셔너리 생성 \n",
        "\n",
        "아래의 간단한 딕셔너리 사용의 예를 보도록 하죠 \n",
        "\n"
      ]
    },
    {
      "cell_type": "code",
      "metadata": {
        "id": "ApTwCcw6rNT8"
      },
      "source": [
        "dic = {\"a\":1, \"b\":2}"
      ],
      "execution_count": null,
      "outputs": []
    },
    {
      "cell_type": "markdown",
      "metadata": {
        "id": "HPW9gNJQ76u7"
      },
      "source": [
        "dictionary 는 다음과 같은 형식으로 생성됩니다. \n",
        "```\n",
        "{ key1 : value1 , key2 : value2 , ... }\n",
        "```\n",
        "위의 코드에서는 좌측의 \"a\" 와 \"b\" 는 키값이 되고 1,2 는 값입니다. 이렇게 dic 은 두개의 페어를 가진 데이터가 됩니다.  이러한 딕셔너리는 print  문으로 그 값들을 바로 확인도 가능합니다. "
      ]
    },
    {
      "cell_type": "code",
      "metadata": {
        "id": "T74oECyYfP74"
      },
      "source": [
        "print(dic)"
      ],
      "execution_count": null,
      "outputs": []
    },
    {
      "cell_type": "markdown",
      "metadata": {
        "id": "o86Nfnty8lXC"
      },
      "source": [
        "딕셔너리가 배열을 이용한 방식보다 좋은 점은 인덱스에 바로 key 값을 넣어서 해당 value 를 바로 뽑아낼 수 있다는 점입니다. 물론 내부적으로는 검색이 필요하지만 배열 전체를 검색하는 것보다 훨씬 간단한 방식을 사용해 속도가 훨씬 빠릅니다. \n"
      ]
    },
    {
      "cell_type": "code",
      "metadata": {
        "id": "YvbTy4rHfRMd"
      },
      "source": [
        "print(dic[\"a\"], dic[\"b\"])"
      ],
      "execution_count": null,
      "outputs": []
    },
    {
      "cell_type": "markdown",
      "metadata": {
        "id": "uk7f7c8f9EOY"
      },
      "source": [
        "위처럼 학번: 이름 같은 동일 형식의 데이터를 다루는 경우도 있지만 한 개체의 여러 정보를 담을때도 아래와 같이 사용될 수 있습니다. "
      ]
    },
    {
      "cell_type": "code",
      "metadata": {
        "id": "AXbX0ybyfS2d"
      },
      "source": [
        "me = {\"name\":\"kwak juhyun\", \"phone\":\"010-1234-5678\" , \"addr\":\"seoul\"}"
      ],
      "execution_count": null,
      "outputs": []
    },
    {
      "cell_type": "markdown",
      "metadata": {
        "id": "HSyFKaf8qWYk"
      },
      "source": [
        "또한 값을 얻어올때는 배열의 인덱스 형태를 사용할 수도 있고 뒤에 .get(키값) 형태로 받아 올 수도 있습니다. "
      ]
    },
    {
      "cell_type": "code",
      "metadata": {
        "id": "8eZKgJ2Zgdbs"
      },
      "source": [
        "print(me.get('name'))"
      ],
      "execution_count": null,
      "outputs": []
    },
    {
      "cell_type": "markdown",
      "metadata": {
        "id": "H9I5avmkp3b6"
      },
      "source": [
        "이런 딕셔너리 변수는 새로운 키 값을 인덱스로 바로 추가가도 가능합니다. "
      ]
    },
    {
      "cell_type": "code",
      "metadata": {
        "id": "5x1X8_6ofbiw"
      },
      "source": [
        "dic[\"c\"] = 3\n",
        "print(dic)"
      ],
      "execution_count": null,
      "outputs": []
    },
    {
      "cell_type": "code",
      "metadata": {
        "id": "6SZn2-nES0gN"
      },
      "source": [
        "a = [1,2,3]\n"
      ],
      "execution_count": null,
      "outputs": []
    },
    {
      "cell_type": "markdown",
      "metadata": {
        "id": "AEV6yQLvuklL"
      },
      "source": [
        "####<font color = 'red'> 연습 11.2.1 : 딕셔너리에 값 채우기 \n",
        "다음과 같은 0~5 숫자의 영문명으로 된 배열이 있을때 이것을 키값으로 각각의 숫자를 갖는 딕셔너리를 만들어봅시다. \n",
        "</font>\n",
        "\n",
        "```\n",
        " num_word = ['zero', 'one', 'two', 'three', 'four', 'five']  \n",
        " ->\n",
        " {'zero': 0, 'one': 1, 'two': 2, 'three': 3, 'four': 4, 'five': 5}\n",
        " ```\n"
      ]
    },
    {
      "cell_type": "code",
      "metadata": {
        "id": "rqs_6XVevIx1"
      },
      "source": [
        "num_words = ['zero', 'one', 'two', 'three', 'four', 'five']  \n",
        "enum = {}\n",
        "# 연습문제 11.2.1 의 코드를 작성하세요 \n",
        "for i in range( len(num_words) ):\n",
        "  k = num_words[i]\n",
        "  enum[k] = i\n",
        "print(enum)"
      ],
      "execution_count": null,
      "outputs": []
    },
    {
      "cell_type": "markdown",
      "metadata": {
        "id": "wPZaUEKfqlyf"
      },
      "source": [
        "### 11.2.2 딕셔너리 값 삭제\n",
        "\n",
        "또한 값을 지울 수도 있는데 del 이라는 키워드를 사용하면 간단히 값을 제거할 수도 있습니다.  \n",
        "```\n",
        "del 딕셔너리변수[키값] \n",
        "```\n",
        "아래의 코드는 위에서 추가한 키값 c 와 그 값 3을 동시에 지웁니다. \n"
      ]
    },
    {
      "cell_type": "code",
      "metadata": {
        "id": "2V6eMobLglcl"
      },
      "source": [
        "del dic[\"a\"]\n",
        "print(dic)"
      ],
      "execution_count": null,
      "outputs": []
    },
    {
      "cell_type": "code",
      "metadata": {
        "id": "U61jCJjtfLm7"
      },
      "source": [
        "dic = {\"a\":1, \"b\":2, \"c\":3}\n",
        "\n"
      ],
      "execution_count": null,
      "outputs": []
    },
    {
      "cell_type": "code",
      "metadata": {
        "id": "2M18XhenufqI"
      },
      "source": [
        "a = [1,2,3,4,5]\n",
        "del a[2]\n",
        "print(a)"
      ],
      "execution_count": null,
      "outputs": []
    },
    {
      "cell_type": "markdown",
      "metadata": {
        "id": "CDN50E8-rz5k"
      },
      "source": [
        "### 11.2.3 딕셔너리와 반복문\n",
        "\n",
        "결국 인덱스에 문자열이 들어가는 것을 제외하면 나머지는 배열과 유사하게 쓰실 수 있다는 것을 눈치채셨을 겁니다.  \n",
        "\n",
        "하지만 for in 문으로 코드를 돌리면 배열은 배열에 존재하는 값이 입력되지만 딕셔너리는 키값이 하나씩 나옵니다. "
      ]
    },
    {
      "cell_type": "code",
      "metadata": {
        "id": "8dUQtc1MsKqn"
      },
      "source": [
        "for k in dic : \n",
        "  print(k)"
      ],
      "execution_count": null,
      "outputs": []
    },
    {
      "cell_type": "markdown",
      "metadata": {
        "id": "2YYH3W4vsyVZ"
      },
      "source": [
        "그러므로 값을 꺼내고 싶다면 키값을 이용해 다음과 같이 값을 억세스하거나 "
      ]
    },
    {
      "cell_type": "code",
      "metadata": {
        "id": "HkRebYQ5tNUI"
      },
      "source": [
        "for k in dic:\n",
        "  print(dic[k])\n"
      ],
      "execution_count": null,
      "outputs": []
    },
    {
      "cell_type": "markdown",
      "metadata": {
        "id": "t2kjhG4kuAwn"
      },
      "source": [
        "변수 뒤에 .values() 라는 함수를 호출하여 values 라는 배열을 얻어올 수도 있습니다. "
      ]
    },
    {
      "cell_type": "code",
      "metadata": {
        "id": "7tR3NOeqtAum"
      },
      "source": [
        "print(dic.values() , \"\\n\")\n",
        "\n",
        "for k in dic.values() :\n",
        "  print(k)"
      ],
      "execution_count": null,
      "outputs": []
    },
    {
      "cell_type": "markdown",
      "metadata": {
        "id": "FY5COzwzs6kW"
      },
      "source": [
        "values() 와 마찬가지로 key 값을 배열형태로 불러올수도 있습니다. "
      ]
    },
    {
      "cell_type": "code",
      "metadata": {
        "id": "iO88bQDWkZNe"
      },
      "source": [
        "print(dic.keys())\n"
      ],
      "execution_count": null,
      "outputs": []
    },
    {
      "cell_type": "markdown",
      "metadata": {
        "id": "-5yMHME40IKw"
      },
      "source": [
        "위의 values와 keys 의 결과는 엄밀히 말하면 우리가 알고있는 list 나 튜플과는 좀 다릅니다만 배열처럼 사용해도 무방합니다.  이는 속도를 위해 좀 더 경량화된 배열이라고 생각하시면 될 듯 합니다. 그래서 아래와 같이 key 와 value를 출력해도 됩니다. "
      ]
    },
    {
      "cell_type": "code",
      "metadata": {
        "id": "JIA7rY0Oky5F"
      },
      "source": [
        "for k in dic.keys():\n",
        "  print(k ,\":\", dic[k])"
      ],
      "execution_count": null,
      "outputs": []
    },
    {
      "cell_type": "markdown",
      "metadata": {
        "id": "US59QyGhrdnU"
      },
      "source": [
        "\n",
        "### 11.2.4 딕셔너리 중첩과 트리구조\n",
        "\n",
        "딕셔너리의 값은 어떤 데이터 형태든 가능합니다.  숫자나 문자열, 배열, 그리고 또 다른 딕셔너리 값이 될 수도 있습니다. 아래에 코드는 dic['score'] 에 성적 데이터를 가진 또 하나의 딕셔너리를 값으로 넣습니다. "
      ]
    },
    {
      "cell_type": "code",
      "metadata": {
        "id": "dir2y0dpg04l"
      },
      "source": [
        "me = {\"name\":\"kwak juhyun\", \"phone\":\"010-1234-5678\" , \"addr\":\"seoul\"}\n",
        "print(me)\n",
        "\n",
        "me[\"score\"]  = {\"math\":80, \"comp\":90, \"phys\":88}\n",
        "\n",
        "\n",
        "print(me)\n",
        "print(\"math score:\",me[\"score\"][\"math\"])\n"
      ],
      "execution_count": null,
      "outputs": []
    },
    {
      "cell_type": "markdown",
      "metadata": {
        "id": "aTbYsdC85vTZ"
      },
      "source": [
        "\n",
        "위의 me 의 정보를 지금까지와 같이 출력하면 다음과 같습니다 \n",
        "\n",
        "\n"
      ]
    },
    {
      "cell_type": "code",
      "metadata": {
        "id": "V_AVf00S79Cl"
      },
      "source": [
        "for k in me:\n",
        "  print(k, \":\", me[k])"
      ],
      "execution_count": null,
      "outputs": []
    },
    {
      "cell_type": "markdown",
      "metadata": {
        "id": "l4mA4QWG8KDF"
      },
      "source": [
        "위의 출력에서 score 는 그 값인 딕셔너리를 통째로 출력했을 뿐 개별의 값을 억세스하지는 못한 상태입니다.  \n",
        "\n",
        "값이 딕셔너리인 경우는 다시 그안에 반복문을 사용하게 할 수는 없을까요? 이 문제를 해결하기 위해서는 먼저 \n",
        "\n",
        "```\n",
        "type( 변수 )  : 변수의 타입을 리턴\n",
        "```\n",
        "\n",
        "라는 구문을 아셔야 합니다. 이는 변수의 타입을 리턴해줍니다. 다음 코드는 위에서 사용한 me 라는 딕셔너리의 값들의 타입을 출력해줍니다. \n",
        "\n"
      ]
    },
    {
      "cell_type": "code",
      "metadata": {
        "id": "P3E2Ag_p9Osq"
      },
      "source": [
        "print(\"type of me :\", type(me))\n",
        "for k in me :\n",
        "  print(k, \":\", type( me[k] ) )\n",
        "  "
      ],
      "execution_count": null,
      "outputs": []
    },
    {
      "cell_type": "markdown",
      "metadata": {
        "id": "lB4QZG2q9yPi"
      },
      "source": [
        "문자열 값을 갖는 name, phone, addr 의 경우 'str' 로 score 는 dict 로 출력된걸 보실 수 있습니다.  물론 앞에 클래스 라는 키워드가 찜찜하실 겁니다. 이 클래스라는 개념은 다음 챕터에서 나오니 지금은 잠시 묻어두고 가도록하죠. \n",
        "\n",
        "다행히도 우리는 이 값의 타입이 문자열인지 딕셔너리인지를 다음과 같이 판별이 가능합니다. \n"
      ]
    },
    {
      "cell_type": "code",
      "metadata": {
        "id": "qV2h2GYk-OOx"
      },
      "source": [
        "print( type(me[\"name\"]) == str)\n",
        "print( type(me[\"score\"]) == str)"
      ],
      "execution_count": null,
      "outputs": []
    },
    {
      "cell_type": "markdown",
      "metadata": {
        "id": "zAYMEo6J-sRl"
      },
      "source": [
        "str 은 파이썬에서 문자열 타입을 나타냅니다. 우리가 사용하던 배열들은 list 라는 타입명을 갖고 있죠. 딕셔너리는 dict 라는 타입명을 가집니다. 이제 이것을 이용해 값이 dict 인지 아닌지 확인이 가능해졌습니다.  "
      ]
    },
    {
      "cell_type": "code",
      "metadata": {
        "id": "qV8KbdQT_Obm"
      },
      "source": [
        "for k in me :\n",
        "  print(k, \":\", type( me[k] ) == dict )\n",
        "  "
      ],
      "execution_count": null,
      "outputs": []
    },
    {
      "cell_type": "markdown",
      "metadata": {
        "id": "n0QXqF3D_kNb"
      },
      "source": [
        "이제 이것을 종합해서 위의 score 값도 반복문으로 억세스 가능하도록 해보겠습니다. "
      ]
    },
    {
      "cell_type": "code",
      "metadata": {
        "id": "Tzj6UgAZ_z5I"
      },
      "source": [
        "for k in me :\n",
        "  if type( me[k] ) == dict : \n",
        "    print(k,\":\")\n",
        "    for k2 in me[k]:\n",
        "      print(\"  \",k2,\":\", me[k][k2])\n",
        "  else :    \n",
        "    print(k, \":\", me[k] )\n"
      ],
      "execution_count": null,
      "outputs": []
    },
    {
      "cell_type": "markdown",
      "metadata": {
        "id": "0LQK7Cn1AZjK"
      },
      "source": [
        "이제 score 도 개별의 값을 억세스하고 있는 것을 알 수 있습니다.  그런데 데이터가 3, 4 중첩이 되면 어떻게 해야할까요?  아래와 같은 데이터를 생각해보죠. \n"
      ]
    },
    {
      "cell_type": "code",
      "metadata": {
        "id": "iQhmhJCiDAKg"
      },
      "source": [
        "nest = { \"a\":1, \n",
        "        \"b\":2,\n",
        "        \"c\":{\n",
        "          \"c1\":3,\n",
        "          \"c2\":{\n",
        "            \"c21\":21,\n",
        "            \"c22\":22\n",
        "          }        \n",
        "        },\n",
        "        \"d\":{\n",
        "            \"d1\":23,\n",
        "            \"d2\":24\n",
        "        }\n",
        "\n",
        "      }\n",
        "print(nest)      "
      ],
      "execution_count": null,
      "outputs": []
    },
    {
      "cell_type": "markdown",
      "metadata": {
        "id": "_l5xka7Q6XWL"
      },
      "source": [
        "보기만 해도 어질어질한 느낌을 받으실 겁니다. \n",
        "\n",
        "이렇게 중첩된 딕셔너리는 마치 나무처럼 이어져 나갈 수 있습니다. 이러한 데이터 구조를 흔히 트리 구조라고 표현합니다. 현대의 컴퓨터에서 다루는 정보는 이런 트리구조인 경우가 많습니다.  여러분이 사용하시는 폴더도 트리구조로 되어있으며 윈도우의 레지스트리 파일도 트리구조입니다. 웹에서 사용하는 html 파일도 , 그리고 대부분의 홈페이지에서 다루는 정보 역시 이런 정보들의 중첩에 의한 트리구조인 경우가 많습니다. \n",
        "\n",
        "이러한 딕셔너리는 그 안에 배열또한 포함가능하기 때문에 모든 정보를 아우를 수 있는 정보형태로 취급하기도 합니다.  하지만 트리구조는 배열과 달리 그 구조가 다양하고 또 중첩도 여러번인경우가 많습니다.  이를 위와 같은 반복문으로 다루는 것은 대단히 복잡해 질 겁니다.\n",
        "\n"
      ]
    },
    {
      "cell_type": "markdown",
      "metadata": {
        "id": "64S7j67U6dI4"
      },
      "source": [
        "<br>\n",
        "\n",
        "### 11.2.5 트리구조와 재귀함수\n",
        "\n",
        "위의 nest 변수의 값을 하나하나 다 찍는다고 가정해보기로 하죠.  \n",
        "\n",
        "위의 nest 는 3중첩입니다만 더 중첩될 수 도 있다는 가정하에서 계속해서 그 하부 구조의 데이터까지  내려가서 처리하려면 쉽지 안아보입니다.  이럴 때 10장에서 다룬 재귀함수는 이런 작업에 아주 유용합니다. \n",
        "\n",
        "그러면 중첩구조의 딕셔너리의 모든 값을 출력하는 재귀함수 printDictV(dic) 을을 만들어서 이 문제를 해결하도록 해보겠습니다. 재귀함수는 그 함수를 만들기 전에 그 함수가 직접 할 일과 또다른 자신에게 미룰 일을 구분하는 것이 중요합니다. \n",
        "\n",
        "> 모든 딕셔너리의 값에 대해\n",
        "> - 스스로 할일 : 일반 값은 직접 찍음\n",
        "> - 복제에게 맡길 일 : 딕셔너리 값은 복제에게 맡김 \n",
        "\n",
        "\n",
        "이런 순서로 작업이 이뤄지게 됩니다.  그러면 이제 위의 규칙에 따라 코드를 작성해보도록 하겠습니다.  먼저 값이 딕셔너리인지 여부를 판별할 때 위의 예에서 사용한 \n",
        "```\n",
        "type(dic[k]) == dict \n",
        "```\n",
        "를 사용하도록 하겠습니다. \n",
        "\n",
        "\n"
      ]
    },
    {
      "cell_type": "code",
      "metadata": {
        "id": "lR-RSzS-BVRa"
      },
      "source": [
        "def printDictV(dic):     # 딕셔너리의 값을 중첩까지 모두 따라가 찍는다.\n",
        "  \n",
        "  for k in dic:          # 모든 키에 대해\n",
        "    if type( dic[k] ) == dict :  # 딕셔너리인 경우 \n",
        "      printDictV( dic[k] )           # 자신을 복제해 해당 값의 출력을 맡김\n",
        "    else :                       # 딕셔너리가 아닐경우\n",
        "      print(dic[k])                  # 직접 그 값을 찍음\n",
        "printDictV(nest)"
      ],
      "execution_count": null,
      "outputs": []
    },
    {
      "cell_type": "markdown",
      "metadata": {
        "id": "RKzNPgAy__0A"
      },
      "source": [
        "작동을 시켜보시면 모든 값들이 다 출력된 것을 보실 수 있을 겁니다. \n",
        "\n",
        "이제 머릿속으로 이 재귀구조가 작동하는 방법을 생각해봅시다.\n",
        "\n",
        "```\n",
        "< printDictV(nest)  작동 예상 > \n",
        "nest 구조 \n",
        "  a : 1\n",
        "  b : 2\n",
        "  c : \n",
        "    c1 : 3\n",
        "    c2 : \n",
        "      c21 : 21\n",
        "      c22 : 22\n",
        "  d :\n",
        "    d1 : 23\n",
        "    d2 : 24\n",
        "\n",
        "\n",
        "함수 시작\n",
        "  1. a 를 출력 \n",
        "  2. b 를 출력\n",
        "  3. c 를 만나 자신을 복제(1호)\n",
        "\n",
        "  복제1호 시작\n",
        "    4. c1 을 출력\n",
        "    5. c2 를 만나 자신을 복제함 ( 1-1 호) \n",
        "\n",
        "    복제1-1호 시작\n",
        "      6. c21 출력\n",
        "      7. c22 출력\n",
        "    복제 1-1호 종료 \n",
        "  복제 1호 종료 \n",
        "\n",
        "  8. d 를 만나 복제(2호)\n",
        "\n",
        "  복제 2호 시작\n",
        "    9. d1 출력\n",
        "    10 d2 출력\n",
        "  복제 2호 종료\n",
        "\n",
        "함수 종료 \n",
        "```"
      ]
    },
    {
      "cell_type": "markdown",
      "metadata": {
        "id": "6-zaUM7MDrZT"
      },
      "source": [
        "결국 값의 유형이 dict 인 경우 스스로를 하나 더 복제해 불러서 복제한 함수에게 그 값을 맡기는 원리입니다. 그리고 그 복제는 또 다른 딕셔너리를 만나면 그것을 또다시 복제를 생산합니다. 이렇게 연쇄반응을 이용하면 아무리 복잡하게 중첩이 이뤄져도 간단한 코드로 그 중첩을 탐색하며 처리가 가능합니다. \n",
        "\n",
        "그런데 위의 숫자의 출력은 각 숫자가 어떻게 연결되어 있는지가 표현이 안되는게 아쉽습니다. 위의 숫자를 들여쓰기를 통해 중첩된 모습도 표현할 방법은 없을까요? \n",
        "\n",
        "자신이 몇번째 복제된 후손인지 알게 하기 위한 d 값을 사용하면 이를 해결할 수가 있습니다.  printDict(dic, d) 로 d 값을 입력받되 우리가 호출할때는 0을 줍니다. 그리고 자신을 복제할때는 printDict(dic, d+1) 로 호출을 하게 만드는 것이죠. 이 경우 d 값이 1이 라면 자신이 원본의 복제, d가 2 라면 복제의 복제라는 것을 알게 됩니다. \n",
        "\n",
        "이제 이것을 사용해 위의 출력을 업그레이드 하여 위에서 사용한 것처럼 들여쓰기까지 지원하는 깔끔한 출력함수를 만들어보도록 하겠습니다. \n",
        "\n"
      ]
    },
    {
      "cell_type": "code",
      "metadata": {
        "id": "9yr7pcVaECB1"
      },
      "source": [
        "def printDict(dic, d):\n",
        "  for k in dic:\n",
        "    if type( dic[k] ) == dict :       \n",
        "      print(\"   \" * d , k, \":\")\n",
        "      printDict( dic[k], d + 1 )\n",
        "    else : \n",
        "      print(\"   \" * d , k, \":\", dic[k])\n",
        "\n",
        "printDict(nest, 0)"
      ],
      "execution_count": null,
      "outputs": []
    },
    {
      "cell_type": "markdown",
      "metadata": {
        "id": "aXn5Yrg4E4sD"
      },
      "source": [
        "```\n",
        "\"  \" * d \n",
        "```\n",
        "는 빈 문자열을 d 번 합치는 문법입니다. ( 이걸 사용하면 여러분이 지금까지 풀어온 연습문제의 상당수가 상당히 간단히 해결됩니다만 반복문의 훈련을 위해 지금에서야 알려드리는 것을 양해 부탁드립니다. ) 그러므로 출력 앞에 \"  \" * d 를 찍어줌으로서 들여쓰기의 효과가 생기게 됩니다. \n"
      ]
    },
    {
      "cell_type": "markdown",
      "metadata": {
        "id": "sCizKqL4Ehrg"
      },
      "source": [
        "#### 예: 트리의 합산 값\n",
        "\n",
        "이번에는 딕셔너리의 값이 딕셔너리거나 숫자인 중첩구조라는 가정하에서 합산값을 구하는 재귀 함수를 한번 보도록 하겠습니다. 이 재귀 함수는 자기 밑에 있는 모든 값 들을 합산해 리턴해 줍니다.  이 경우 자신이 할일과 복제에게 맡길 일은 다음과 같습니다. \n",
        "\n",
        "> - 일반 값이면 : 그 값을 sum 에 누적시킴 \n",
        "> - 딕셔너리면 : 자신을 복제해 딕셔너리값을 계산하도록 시키고 그 결과를 sum에 누적시킴 \n",
        "\n",
        "이를 코드로 만들면 다음과 같습니다. \n",
        "\n"
      ]
    },
    {
      "cell_type": "code",
      "metadata": {
        "id": "AaDJB5oOEtuU"
      },
      "source": [
        "def sumDict(dic):\n",
        "  sum = 0\n",
        "  for k in dic:\n",
        "    if type( dic[k] ) == dict : \n",
        "      sum += sumDict(dic[k])\n",
        "    else :\n",
        "      sum += dic[k]\n",
        "  return sum\n",
        "\n",
        "\n",
        "print( sumDict(nest) )"
      ],
      "execution_count": null,
      "outputs": []
    },
    {
      "cell_type": "markdown",
      "metadata": {
        "id": "Fnr_7ORfFiIN"
      },
      "source": [
        "\n",
        "이런 재귀의 사용은 처음엔 많이 헷갈려도 한번 그 패턴을 이해하면 많은 일이 가능해지게 됩니다. 컴퓨터의 모든 로직의 원리가 반복문과 재귀문의 조합이라고 해도 과언이 아니기 때문입니다. \n",
        "\n",
        "다만 이 부분은 전공자들 중에서도 이해하는데 오랜시간이 걸리는 부분이며 이런 이해를 여러분들에게 강요할 경우 오히려 흥미를 반감시킬 수 있기 때문에 이번 수업에서는 간단한 몇가지 기본원리의 응용 예제만 해보도록 하죠. \n",
        "\n"
      ]
    },
    {
      "cell_type": "markdown",
      "metadata": {
        "id": "7zVA8BwOGfyu"
      },
      "source": [
        "####<font color = 'red'> 연습 11.2.2 : 중첩데이터의 최대값 찾기\n",
        "위에서 nest 같이 복잡하게 중첩된 딕셔너리에서 가장 큰 값을 찾는 maxDict(dic) 를 만드세요\n",
        "</font>\n",
        "\n",
        "```\n",
        "searchDict(nest)\n",
        "->\n",
        "24\n",
        "```\n"
      ]
    },
    {
      "cell_type": "code",
      "metadata": {
        "id": "Ti2nuE-TGfy7"
      },
      "source": [
        "def maxDict(dic):\n",
        "  _  \n",
        "  # 연습문제 11.2.2 의 코드를 작성하세요 \n",
        "\n",
        "\n",
        "print( maxDict(nest) )\n"
      ],
      "execution_count": null,
      "outputs": []
    },
    {
      "cell_type": "markdown",
      "metadata": {
        "id": "T3kp8xH1GeYS"
      },
      "source": [
        "####<font color = 'red'> 연습 11.2.3 : 중첩 딕셔너리에 값 존재여부 찾기 \n",
        "위에서 nest 같이 복잡하게 중첩된 딕셔너리에서 특정 값이 존재하는지 여부를 참 거짓으로 리턴하는 함수 searchDict(dic, v) 를 만드세요\n",
        "</font>\n",
        "\n",
        "```\n",
        "searchDict(nest, 22) \n",
        "->\n",
        "True\n",
        "\n",
        "searchDict(nest, 12) \n",
        "->\n",
        "False \n",
        "```\n"
      ]
    },
    {
      "cell_type": "code",
      "metadata": {
        "id": "1f8Nkn4_GeYY"
      },
      "source": [
        "def searchDict(dic, v):\n",
        "  _  \n",
        "  # 연습문제 11.2.2 의 코드를 작성하세요 \n",
        "\n",
        "\n",
        "print( searchDict(nest, 22) )\n",
        "print( searchDict(nest, 23) )"
      ],
      "execution_count": null,
      "outputs": []
    }
  ]
}