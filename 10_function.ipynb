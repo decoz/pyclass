{
  "nbformat": 4,
  "nbformat_minor": 0,
  "metadata": {
    "colab": {
      "name": "10_function.ipynb",
      "provenance": [],
      "collapsed_sections": [],
      "toc_visible": true,
      "authorship_tag": "ABX9TyMDAHOZpMKz3Su5QtsakfRx",
      "include_colab_link": true
    },
    "kernelspec": {
      "name": "python3",
      "display_name": "Python 3"
    }
  },
  "cells": [
    {
      "cell_type": "markdown",
      "metadata": {
        "id": "view-in-github",
        "colab_type": "text"
      },
      "source": [
        "<a href=\"https://colab.research.google.com/github/decoz/pyclass/blob/master/10_function.ipynb\" target=\"_parent\"><img src=\"https://colab.research.google.com/assets/colab-badge.svg\" alt=\"Open In Colab\"/></a>"
      ]
    },
    {
      "cell_type": "code",
      "metadata": {
        "id": "9JEaPTq3wnE8",
        "colab_type": "code",
        "colab": {}
      },
      "source": [
        ""
      ],
      "execution_count": 0,
      "outputs": []
    },
    {
      "cell_type": "markdown",
      "metadata": {
        "id": "6r5cuHshwpub",
        "colab_type": "text"
      },
      "source": [
        "#10 함수 "
      ]
    },
    {
      "cell_type": "markdown",
      "metadata": {
        "id": "VZnRlG1C1OEN",
        "colab_type": "text"
      },
      "source": [
        "## 10.1 함수의 정의 및 사용법"
      ]
    },
    {
      "cell_type": "markdown",
      "metadata": {
        "id": "jxk7IcWexYKb",
        "colab_type": "text"
      },
      "source": [
        "#### 예: 함수의 정의와 사용"
      ]
    },
    {
      "cell_type": "code",
      "metadata": {
        "id": "uTC2hxDuwsy3",
        "colab_type": "code",
        "colab": {
          "base_uri": "https://localhost:8080/",
          "height": 71
        },
        "outputId": "cef3ea4e-b12d-4cd7-dde3-fb3531b3bfd3"
      },
      "source": [
        "def hello() :\n",
        "  print(\"hello\")\n",
        "\n",
        "hello()\n",
        "hello()\n",
        "hello()\n",
        "\n"
      ],
      "execution_count": 1,
      "outputs": [
        {
          "output_type": "stream",
          "text": [
            "hello\n",
            "hello\n",
            "hello\n"
          ],
          "name": "stdout"
        }
      ]
    },
    {
      "cell_type": "markdown",
      "metadata": {
        "id": "5QQdwmanwtXW",
        "colab_type": "text"
      },
      "source": [
        ""
      ]
    },
    {
      "cell_type": "markdown",
      "metadata": {
        "colab_type": "text",
        "id": "dchsKGEkxf4s"
      },
      "source": [
        "#### 예: 인자가 있는 함수"
      ]
    },
    {
      "cell_type": "code",
      "metadata": {
        "id": "snut3x0Kw-U5",
        "colab_type": "code",
        "colab": {
          "base_uri": "https://localhost:8080/",
          "height": 53
        },
        "outputId": "ef725bba-0d4c-4384-bef7-c59452fb9d2c"
      },
      "source": [
        "def hello(who) :\n",
        "  print(\"hello\", who)\n",
        "\n",
        "hello(\"kim\")\n",
        "hello(\"choi\")"
      ],
      "execution_count": 2,
      "outputs": [
        {
          "output_type": "stream",
          "text": [
            "hello kim\n",
            "hello choi\n"
          ],
          "name": "stdout"
        }
      ]
    },
    {
      "cell_type": "markdown",
      "metadata": {
        "colab_type": "text",
        "id": "e_n6Z_Jgxg4E"
      },
      "source": [
        "#### 예: 리턴값을 가진 함수"
      ]
    },
    {
      "cell_type": "code",
      "metadata": {
        "id": "_hcSqfAAxIkw",
        "colab_type": "code",
        "colab": {
          "base_uri": "https://localhost:8080/",
          "height": 35
        },
        "outputId": "c6b6e9ef-1f06-4143-8d67-a11de781d7d8"
      },
      "source": [
        "def add(a, b):\n",
        "  return a + b \n",
        "\n",
        "print( add(3,4) )\n"
      ],
      "execution_count": 3,
      "outputs": [
        {
          "output_type": "stream",
          "text": [
            "7\n"
          ],
          "name": "stdout"
        }
      ]
    },
    {
      "cell_type": "code",
      "metadata": {
        "id": "2KvcJ7D-09mR",
        "colab_type": "code",
        "colab": {}
      },
      "source": [
        ""
      ],
      "execution_count": 0,
      "outputs": []
    },
    {
      "cell_type": "markdown",
      "metadata": {
        "colab_type": "text",
        "id": "k6L5yIRQ0DvK"
      },
      "source": [
        "#### 예: 인자와 변수"
      ]
    },
    {
      "cell_type": "code",
      "metadata": {
        "id": "6K_IednDxTAQ",
        "colab_type": "code",
        "colab": {
          "base_uri": "https://localhost:8080/",
          "height": 35
        },
        "outputId": "5a2d1955-da6e-4860-cead-0e5716d8da56"
      },
      "source": [
        "def inc(a):\n",
        "  a += 1\n",
        "\n",
        "a = 3\n",
        "inc(a)\n",
        "print(a)"
      ],
      "execution_count": 8,
      "outputs": [
        {
          "output_type": "stream",
          "text": [
            "[4]\n"
          ],
          "name": "stdout"
        }
      ]
    },
    {
      "cell_type": "markdown",
      "metadata": {
        "colab_type": "text",
        "id": "oV8wORjF0Ees"
      },
      "source": [
        "#### 예: 배열을 인자로 받은경우"
      ]
    },
    {
      "cell_type": "code",
      "metadata": {
        "id": "xwZpWlf1zU87",
        "colab_type": "code",
        "colab": {
          "base_uri": "https://localhost:8080/",
          "height": 35
        },
        "outputId": "9eb9a60e-f74e-4eee-ece9-397ed442a25f"
      },
      "source": [
        "def inc(a):\n",
        "  a[0] += 1\n",
        "\n",
        "a = [3]\n",
        "inc(a)\n",
        "print(a[0])"
      ],
      "execution_count": 11,
      "outputs": [
        {
          "output_type": "stream",
          "text": [
            "4\n"
          ],
          "name": "stdout"
        }
      ]
    },
    {
      "cell_type": "code",
      "metadata": {
        "id": "ueJ7Bre-yWf0",
        "colab_type": "code",
        "colab": {}
      },
      "source": [
        ""
      ],
      "execution_count": 0,
      "outputs": []
    },
    {
      "cell_type": "markdown",
      "metadata": {
        "colab_type": "text",
        "id": "IyLFVYrz1ZSx"
      },
      "source": [
        "## 10.2 다양한 함수의 예제들"
      ]
    },
    {
      "cell_type": "markdown",
      "metadata": {
        "colab_type": "text",
        "id": "2xvMKiBV3FNw"
      },
      "source": [
        "#### 코드: 배열 뒤집기"
      ]
    },
    {
      "cell_type": "code",
      "metadata": {
        "id": "gpXwz_4fG_I9",
        "colab_type": "code",
        "colab": {
          "base_uri": "https://localhost:8080/",
          "height": 35
        },
        "outputId": "ca6c8bbb-e4ad-4453-dca7-b0516a734cd4"
      },
      "source": [
        "def reverse(arr):\n",
        "  l = len(arr)\n",
        "  for i in range( int(l/2) ):\n",
        "    arr[i],arr[l - i - 1] = arr[l - i - 1], arr[i]\n",
        "  \n",
        "a = [1,2,3,4,5,6,7]\n",
        "reverse(a)\n",
        "print(a)\n",
        "  "
      ],
      "execution_count": 8,
      "outputs": [
        {
          "output_type": "stream",
          "text": [
            "[7, 6, 5, 4, 3, 2, 1]\n"
          ],
          "name": "stdout"
        }
      ]
    },
    {
      "cell_type": "markdown",
      "metadata": {
        "colab_type": "text",
        "id": "ELfOKnuW3FbF"
      },
      "source": [
        "#### 코드: 이미지에 4각형 그리기 \n"
      ]
    },
    {
      "cell_type": "code",
      "metadata": {
        "id": "NAz6jNkxHsPA",
        "colab_type": "code",
        "colab": {
          "base_uri": "https://localhost:8080/",
          "height": 117
        },
        "outputId": "88bf027a-031e-46e4-9e17-8af5c9fe32d3"
      },
      "source": [
        "from PIL import Image\n",
        "import numpy as np \n",
        "from IPython.display import display\n",
        "\n",
        "def rect(img, point, rsize, color ):\n",
        "  arr =  img.load()\n",
        "  rw,rh = rsize\n",
        "  iw,ih = img.size\n",
        "  px,py = point\n",
        "  for x in range(px,px+rw):\n",
        "    arr[x,py] = color \n",
        "    arr[x,py + rh] = color \n",
        "  for y in range(py,py+rh):\n",
        "    arr[px,y] = color \n",
        "    arr[px+rw,y] = color \n",
        "\n",
        "\n",
        "arr = [] \n",
        "for i in range(10000):\n",
        "  arr.append((100,100,100))\n",
        "\n",
        "myimg = Image.fromarray( np.array(arr).astype('uint8').reshape(100,100,3) )\n",
        "for i in range(0,20,4):\n",
        "  rect(myimg, (10 + i,10 + i ), (40 + i,40 + i), (255,0,0))\n",
        "display(myimg)\n",
        "\n"
      ],
      "execution_count": 22,
      "outputs": [
        {
          "output_type": "display_data",
          "data": {
            "image/png": "[encoded data removed]",
            "text/plain": [
              "<PIL.Image.Image image mode=RGB size=100x100 at 0x7F03E0058E48>"
            ]
          },
          "metadata": {
            "tags": []
          }
        }
      ]
    },
    {
      "cell_type": "markdown",
      "metadata": {
        "colab_type": "text",
        "id": "JwdQI3Zb3Fil"
      },
      "source": [
        "#### 코드: 문자열 중복문자제거"
      ]
    },
    {
      "cell_type": "code",
      "metadata": {
        "id": "YqZOxIBU1c52",
        "colab_type": "code",
        "colab": {
          "base_uri": "https://localhost:8080/",
          "height": 35
        },
        "outputId": "c15da4af-c2ff-46ff-e0a3-76aa6a473721"
      },
      "source": [
        "def uni_str(str):\n",
        "  nstr = \"\"\n",
        "  for c in str:\n",
        "    if not c in nstr:\n",
        "      nstr += c\n",
        "  return nstr\n",
        "\n",
        "print(uni_str(\"this is good day\"))    "
      ],
      "execution_count": 23,
      "outputs": [
        {
          "output_type": "stream",
          "text": [
            "this goday\n"
          ],
          "name": "stdout"
        }
      ]
    },
    {
      "cell_type": "markdown",
      "metadata": {
        "colab_type": "text",
        "id": "CO3qg_t-1ikC"
      },
      "source": [
        "## 10.3 재귀호출"
      ]
    },
    {
      "cell_type": "markdown",
      "metadata": {
        "colab_type": "text",
        "id": "fY9P9Usa2VBJ"
      },
      "source": [
        "#### 코드: 재귀를 이용한 합산 함수"
      ]
    },
    {
      "cell_type": "code",
      "metadata": {
        "id": "DBvnczro2Vk3",
        "colab_type": "code",
        "colab": {
          "base_uri": "https://localhost:8080/",
          "height": 35
        },
        "outputId": "7d74c299-497b-48d1-c8fa-1b692add0532"
      },
      "source": [
        "def mysum(n):\n",
        "  if n == 1 :\n",
        "    return 1\n",
        "  else :\n",
        "    return n + mysum(n-1)\n",
        "\n",
        "print( mysum(10) )"
      ],
      "execution_count": 15,
      "outputs": [
        {
          "output_type": "stream",
          "text": [
            "55\n"
          ],
          "name": "stdout"
        }
      ]
    },
    {
      "cell_type": "markdown",
      "metadata": {
        "colab_type": "text",
        "id": "FzbX3mHb1psS"
      },
      "source": [
        "#### 코드: 피보나치 함수"
      ]
    },
    {
      "cell_type": "code",
      "metadata": {
        "id": "0qlvhhFh1kUg",
        "colab_type": "code",
        "colab": {
          "base_uri": "https://localhost:8080/",
          "height": 197
        },
        "outputId": "1c550b56-ba80-4781-d7ec-5b6ac199f125"
      },
      "source": [
        "def fib(n):\n",
        "  if n < 2 : \n",
        "    return 1 \n",
        "  else :\n",
        "    return fib(n-1) + fib(n-2)\n",
        "\n",
        "for i in range(10):\n",
        "  print(fib(i))"
      ],
      "execution_count": 13,
      "outputs": [
        {
          "output_type": "stream",
          "text": [
            "1\n",
            "1\n",
            "2\n",
            "3\n",
            "5\n",
            "8\n",
            "13\n",
            "21\n",
            "34\n",
            "55\n"
          ],
          "name": "stdout"
        }
      ]
    },
    {
      "cell_type": "code",
      "metadata": {
        "id": "vUl4mj4C2B-R",
        "colab_type": "code",
        "colab": {}
      },
      "source": [
        ""
      ],
      "execution_count": 0,
      "outputs": []
    },
    {
      "cell_type": "markdown",
      "metadata": {
        "colab_type": "text",
        "id": "MSM80s_83so0"
      },
      "source": [
        "## 10.4 하노이 문제"
      ]
    },
    {
      "cell_type": "code",
      "metadata": {
        "id": "8vfMHXKq3vAC",
        "colab_type": "code",
        "colab": {
          "base_uri": "https://localhost:8080/",
          "height": 143
        },
        "outputId": "87af5b1e-9fb6-409a-9dfb-e28f59811512"
      },
      "source": [
        "def hanoi(n, src, tgt, by):\n",
        "  if n == 1 :\n",
        "    print(src,\"->\", tgt)\n",
        "  else:    \n",
        "    hanoi(n-1, src, by, tgt )\n",
        "    hanoi(1, src, tgt , by )\n",
        "    hanoi(n-1, by, tgt, src )\n",
        "    \n",
        "hanoi(3,1,3,2)\n",
        "\n",
        "\n"
      ],
      "execution_count": 5,
      "outputs": [
        {
          "output_type": "stream",
          "text": [
            "1 -> 3\n",
            "1 -> 2\n",
            "3 -> 2\n",
            "1 -> 3\n",
            "2 -> 1\n",
            "2 -> 3\n",
            "1 -> 3\n"
          ],
          "name": "stdout"
        }
      ]
    },
    {
      "cell_type": "code",
      "metadata": {
        "id": "gPf82c4PDPcP",
        "colab_type": "code",
        "colab": {}
      },
      "source": [
        ""
      ],
      "execution_count": 0,
      "outputs": []
    },
    {
      "cell_type": "markdown",
      "metadata": {
        "colab_type": "text",
        "id": "r_EBFBdnNNYS"
      },
      "source": [
        "## 10.5 함수를 파일로 만들어두고 사용하기 "
      ]
    },
    {
      "cell_type": "code",
      "metadata": {
        "id": "wWZ5-zlONP4Q",
        "colab_type": "code",
        "colab": {}
      },
      "source": [
        ""
      ],
      "execution_count": 0,
      "outputs": []
    }
  ]
}