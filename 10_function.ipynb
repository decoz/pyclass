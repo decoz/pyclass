{
  "nbformat": 4,
  "nbformat_minor": 0,
  "metadata": {
    "colab": {
      "name": "10_function.ipynb의 사본",
      "provenance": [],
      "collapsed_sections": [],
      "toc_visible": true,
      "authorship_tag": "ABX9TyP7pRDBIm3nXFobRQyVfFrg",
      "include_colab_link": true
    },
    "kernelspec": {
      "name": "python3",
      "display_name": "Python 3"
    }
  },
  "cells": [
    {
      "cell_type": "markdown",
      "metadata": {
        "id": "view-in-github",
        "colab_type": "text"
      },
      "source": [
        "<a href=\"https://colab.research.google.com/github/decoz/pyclass/blob/master/10_function.ipynb\" target=\"_parent\"><img src=\"https://colab.research.google.com/assets/colab-badge.svg\" alt=\"Open In Colab\"/></a>"
      ]
    },
    {
      "cell_type": "markdown",
      "metadata": {
        "id": "6r5cuHshwpub",
        "colab_type": "text"
      },
      "source": [
        "#10 함수 \n",
        "\n",
        "프로그래밍에서 함수란 어떤 기능을 미리 지정해 두고 이를 재사용 할 수 있는 기능을 의미합니다.  자주 쓰는 기능을 미리 지정해 둠으로서 다음 번 프로그램을 더욱 편하게 함과 동시에 프로그램을 더 간결하게 보이도록 만들 수 있죠.\n",
        "\n",
        "여러분들은 이미 알게 모르게 많은 함수를 사용하고 계셨는데 대표적으로 print()나 int 도  함수입니다. 실제로 화면에 어떤 글자를 표시하는 것은 매우 복잡한 과정이 필요하지만 이를 미리 프로그램에서 만들어서 지원해주는 것이죠.  이렇게 기본적으로 파이썬에 내장된 함수를 쓸 수 도 있지만 자신만의 함수를 정의해서 쓸 수도 있습니다. \n",
        "\n"
      ]
    },
    {
      "cell_type": "markdown",
      "metadata": {
        "id": "KP0xi4kQ-hKN",
        "colab_type": "text"
      },
      "source": [
        "## 10.1 함수의 정의 및 사용법"
      ]
    },
    {
      "cell_type": "markdown",
      "metadata": {
        "id": "VZnRlG1C1OEN",
        "colab_type": "text"
      },
      "source": [
        "### 10.1.1 함수읜 정의\n",
        "\n",
        "\n",
        "이제 간단한 함수를 만드는 방법을 한번 보도록 하죠. 함수의 정의는 다음과 같은 구문으로 구성됩니다. \n",
        "\n",
        "```\n",
        "함수 정의방법:\n",
        "\n",
        "def 함수이름( 인자 ) : \n",
        "  함수의 실행내용 \n",
        "```\n",
        "함수의 이름은 그 함수를 호출할 때 사용하는 print 같은 이름입니다.  그리고 인자는 그 함수가 작동할때 필요한 값을 의미합니다. 이렇게 정의를 해두고 나중에 \n",
        "```\n",
        "함수 실행방법:\n",
        "\n",
        "함수이름( 인자값 ) : \n",
        "```\n",
        "이렇게 프로그램에서 사용하면 미리 정의된 기능이 호출되게 됩니다. \n",
        "그러면 아래에 아주 간단한 함수를 하나 정의해서 호출해보죠. \n"
      ]
    },
    {
      "cell_type": "markdown",
      "metadata": {
        "id": "jxk7IcWexYKb",
        "colab_type": "text"
      },
      "source": [
        "#### 예: 함수의 정의와 사용"
      ]
    },
    {
      "cell_type": "code",
      "metadata": {
        "id": "uTC2hxDuwsy3",
        "colab_type": "code",
        "colab": {}
      },
      "source": [
        "def hello() :\n",
        "  print(\"hello\")\n",
        "\n",
        "hello()\n",
        "hello()\n",
        "hello()\n",
        "\n"
      ],
      "execution_count": 0,
      "outputs": []
    },
    {
      "cell_type": "markdown",
      "metadata": {
        "id": "5QQdwmanwtXW",
        "colab_type": "text"
      },
      "source": [
        "에서 hello 는 함수의 이름이 되고 print(\"hello\") 는 함수의 실행내용입니다. 함수에 소속된 코드는 들여쓰기에 의해 그 범위가 결정됩니다. 그러므로 아래에 hello() 는 그 함수에 소속된 것이 아니게 됩니다. hello() 코드는 이미 지정된 함수를 불러서 실행하는 것으로 '함수의 호출' 이라고 부릅니다. 위에서는 함수를 3번 호출했습니다. "
      ]
    },
    {
      "cell_type": "markdown",
      "metadata": {
        "colab_type": "text",
        "id": "dchsKGEkxf4s"
      },
      "source": [
        "### 10.1.2 함수의 인자\n",
        "\n",
        "함수는 그 인자(parameter)라는 변수값을 설정해 둠으로서 그때 그때 더 다양한 작동을 설정할 수 있습니다. 이러한 인자는 함수를 호출시 특정 값을 입력할 경우  변수 값처럼 함수의 작동에 영향을 주게 됩니다.   아래에는 간단한 인자값 who 를 가진 함수의 예가 나와있습니다. \n",
        "\n",
        "#### 예: 인자가 있는 함수"
      ]
    },
    {
      "cell_type": "code",
      "metadata": {
        "id": "snut3x0Kw-U5",
        "colab_type": "code",
        "colab": {}
      },
      "source": [
        "def hello(who) :\n",
        "  print(\"hello\", who)\n",
        "\n",
        "hello(\"kim\")\n",
        "hello(\"choi\")"
      ],
      "execution_count": 0,
      "outputs": []
    },
    {
      "cell_type": "markdown",
      "metadata": {
        "id": "cKM9tvCCQnvJ",
        "colab_type": "text"
      },
      "source": [
        "위에서는 who 라는 인자값을 둔 후에 hello 를 호출할때마다 다른 값을 입력함으로서 그 출력에 변화를 주었습니다. 인자는 여러개를 설정할 수 도 있습니다.\n",
        "\n",
        "다음은 두개의 값을 인자로 받아 그 중에 더 큰 값을 출력하는 함수입니다. \n",
        "\n",
        "#### 예: 여러개의 인자를 가진 함수 "
      ]
    },
    {
      "cell_type": "code",
      "metadata": {
        "id": "RsUxvIdXQ3MW",
        "colab_type": "code",
        "colab": {}
      },
      "source": [
        "def print_max(a, b):\n",
        "  if a > b : \n",
        "    print(a)\n",
        "  else :\n",
        "    print(b)\n",
        "\n",
        "print_max(3,4)\n",
        "print_max(100,1)\n"
      ],
      "execution_count": 0,
      "outputs": []
    },
    {
      "cell_type": "markdown",
      "metadata": {
        "id": "T35YD5_jRYo3",
        "colab_type": "text"
      },
      "source": [
        "이제 여러분들이 직접 함수를 작성해서 실행해 보도록 하죠 \n",
        "    \n",
        "####<font color = 'red'> 연습 10.1.1 : 특정 범위의 숫자를 찍기 \n",
        "저희가 for 문에서 주로 사용하는 range 랑 비슷한 함수를 작성해보도록 하죠\n",
        "</font>  \n",
        "\n",
        "예:\n",
        "```\n",
        "print_range(0,10,3) \n",
        "\n",
        "-> 0 3 6 9\n",
        "\n",
        "print_range(10,20,2)\n",
        "\n",
        "-> 10 12 14 16 18 \n",
        "\n",
        "```\n",
        "\n"
      ]
    },
    {
      "cell_type": "code",
      "metadata": {
        "id": "D7ByVj3SSjzd",
        "colab_type": "code",
        "colab": {}
      },
      "source": [
        "# 연습 10.1.1 에서 설명하는대로 print_range 의 코드를 작성하세요\n",
        "\n",
        "\n",
        "\n",
        "# 호출\n",
        "print_range(0,10,3)\n",
        "print_range(10,20,2)\n",
        "\n"
      ],
      "execution_count": 0,
      "outputs": []
    },
    {
      "cell_type": "markdown",
      "metadata": {
        "colab_type": "text",
        "id": "k6L5yIRQ0DvK"
      },
      "source": [
        "함수의 인자값은 변수처럼 사용되지만 어디까지나 함수의 안에서만 사용 가능합니다. 그러므로 아래의 프로그램은 에러를 리턴합니다. 왜냐하면 변수 x 는 어디까지나 함수 안에서만 사용가능한 값이기 때문이죠. \n",
        "```\n",
        "def putx( v ) :\n",
        "  x =  v \n",
        "\n",
        "putx( 10 )\n",
        "print(x)  # x는 함수 밖에서는 사용 불가능\n",
        "\n",
        "```\n",
        "\n",
        "또한 함수의 인자는 단일 변수의 경우 값을 카피해 주는 것에 지나지 안습니다. 그러므로 인자의 값을 변경하더라도 호출에 사용된 변수의 값은 증가하지 안습니다. 아래의 예제에서 inc() 에서 사용되는 a와 호출하는 프로그램에서 사용된 a=3 으로 선언된 a는 각각 다른 것으로 간주됩니다. 그러므로 inc(a)는 a=3 인 상태에 영향을 주지 안습니다. \n",
        "\n",
        "#### 예: 인자와 변수값 변화"
      ]
    },
    {
      "cell_type": "code",
      "metadata": {
        "id": "6K_IednDxTAQ",
        "colab_type": "code",
        "colab": {}
      },
      "source": [
        "def inc(a):\n",
        "  a += 1\n",
        "\n",
        "a = 3\n",
        "inc(a)\n",
        "print(a)"
      ],
      "execution_count": 0,
      "outputs": []
    },
    {
      "cell_type": "markdown",
      "metadata": {
        "colab_type": "text",
        "id": "oV8wORjF0Ees"
      },
      "source": [
        "단 배열의 경우 배열 값을 통체로 넘겨주려면 시간적인 낭비가 너무 심하기 때문에 실제로는 배열의 위치를 복사해서 넘겨주게 됩니다. 그러므로 함수안에서 배열을 변경할 경우 원 배열에도 영향을 미치게 됩니다. \n",
        "\n",
        "#### 예: 배열을 인자로 받은경우"
      ]
    },
    {
      "cell_type": "code",
      "metadata": {
        "id": "xwZpWlf1zU87",
        "colab_type": "code",
        "colab": {}
      },
      "source": [
        "def zeros(arr):\n",
        "  for i in range(len(arr)):\n",
        "    arr[i] = 0\n",
        "\n",
        "a = [1,2,3,4,5]\n",
        "zeros(a)\n",
        "print(a)"
      ],
      "execution_count": 0,
      "outputs": []
    },
    {
      "cell_type": "markdown",
      "metadata": {
        "colab_type": "text",
        "id": "e_n6Z_Jgxg4E"
      },
      "source": [
        "### 10.1.3 함수의 리턴 값\n",
        "\n",
        "함수의 인자값이 함수를 호출하는 측이 함수에 입력해주는 값이라면 함수의 리턴값은 그 함수가 작동 후 그 결과를 반환하는 값을 의미합니다. 이를 이용하면 함수는 특정 입력에 의해 자신만의 코드를 수행하고 끝나는 것 만이 아니라 다시 그 결과를 호출한 프로그램에 전달 함으로서 전체 프로그램에 영향을 줄 수 있습니다. \n",
        "\n",
        "리턴 값은 return 이라는 명령어로 수행되며 리턴이 수행되면 함수는 그 즉시 종류하게 됩니다.  그러면 아래에 간단한 리턴값을 사용하는 함수를 한번 보도록 하겠습니다. \n",
        "\n",
        "\n",
        "#### 예: 리턴값을 가진 함수"
      ]
    },
    {
      "cell_type": "code",
      "metadata": {
        "id": "_hcSqfAAxIkw",
        "colab_type": "code",
        "colab": {}
      },
      "source": [
        "def add(a, b):\n",
        "  return a + b \n",
        "\n",
        "print( add(3,4) )\n",
        "x = add(5,10)\n",
        "print(x)"
      ],
      "execution_count": 0,
      "outputs": []
    },
    {
      "cell_type": "markdown",
      "metadata": {
        "id": "Tc5zbqf1pgSJ",
        "colab_type": "text"
      },
      "source": [
        "위에서 add는 a와 b라는 두개의 인자값을 받아서 이를 더한 값을 리턴해줍니다. 이러한 리턴값은 변수나 연산의 결과같이 이 값을 변수에 저장하거나, 출력, 연산에 사용하는 등 다양하게 사용이 가능합니다. \n",
        "\n",
        "이제 직접 리턴값이 있는 함수를 작성하는 연습을 해보도록 하죠 \n",
        "\n",
        "####<font color = 'red'> 연습 10.1.2 : Factorial 함수\n",
        "1부터 n까지 모든 숫자의 곱을 Factorial 이라고 합니다. 이를 구해주는 함수 fact를 한번 작성해보세요 \n",
        "</font>  \n",
        "\n",
        "예:\n",
        "```\n",
        "print( fact(3) )  # 1 * 2 * 3\n",
        "-> 6 \n",
        "\n",
        "print( fact(5) )  # 1 * 2 * 3 * 4 * 5\n",
        "-> 120 \n",
        "\n",
        "```\n",
        "\n",
        "\n",
        "\n",
        "\n"
      ]
    },
    {
      "cell_type": "code",
      "metadata": {
        "colab_type": "code",
        "id": "rUtBl4GYrHNk",
        "colab": {}
      },
      "source": [
        "# 연습 10.1.2 에서 설명하는대로 fact 의 코드를 작성하세요\n",
        "\n",
        "# 호출\n",
        "print( fact(3) )\n",
        "print( fact(5) )\n",
        "\n"
      ],
      "execution_count": 0,
      "outputs": []
    },
    {
      "cell_type": "markdown",
      "metadata": {
        "colab_type": "text",
        "id": "IyLFVYrz1ZSx"
      },
      "source": [
        "## 10.2 다양한 함수의 예제들\n",
        "\n",
        "위에서 함수의 사용법에 대한 간단한 사용법을 익혔습니다. 이번에는 다양한 함수들의 예를 보며 함수들을 어떻게 사용해야 효율적인지를 학습해보도록 하겠습니다. "
      ]
    },
    {
      "cell_type": "markdown",
      "metadata": {
        "colab_type": "text",
        "id": "2xvMKiBV3FNw"
      },
      "source": [
        "### 10.2.1 배열 관련 함수들\n",
        "\n",
        "먼저 배열 관련 함수들을 한번 보도록 하겠습니다. \n",
        "\n",
        "#### 코드: 배열 관련 여러 함수들의 예"
      ]
    },
    {
      "cell_type": "code",
      "metadata": {
        "id": "gpXwz_4fG_I9",
        "colab_type": "code",
        "colab": {}
      },
      "source": [
        "# 배열의 최대값 함수\n",
        "def max(arr):\n",
        "  mx = arr[0]\n",
        "  for v in arr:\n",
        "    if mx < v :\n",
        "      mx = v \n",
        "  return mx\n",
        "\n",
        "\n",
        "# n 이상의 값들을 리턴하는 함수\n",
        "def over_arr(arr, n):\n",
        "  narr = []\n",
        "  for v in arr:\n",
        "    if v >= n : \n",
        "      narr = narr + [v]\n",
        "  return narr\n",
        "\n",
        "# 배열을 뒤집는 함수\n",
        "def reverse(arr):\n",
        "  l = len(arr)\n",
        "  for i in range( int(l/2) ):\n",
        "    arr[i],arr[l - i - 1] = arr[l - i - 1], arr[i]\n",
        "\n",
        "\n",
        "a = [1,2,3,4,5,6,7]\n",
        "print(\"max:\", max(a))  \n",
        "print(\"over_arr:\", over_arr(a,4))\n",
        "reverse(a)\n",
        "print(\"reverse:\",a)"
      ],
      "execution_count": 0,
      "outputs": []
    },
    {
      "cell_type": "markdown",
      "metadata": {
        "colab_type": "text",
        "id": "JwdQI3Zb3Fil"
      },
      "source": [
        "\n",
        "문자열 역시 배열의 일종이므로 유사하게 함수들을 작성할 수 있습니다. 다만 숫자를 넣어두는 일반 배열과 달리 문자를 다루기에 더 유용한 기능들을 몇가지 예를 들어 보도록 하겠습니다.\n",
        "\n",
        "#### 코드: 문자열 찾기 함수\n",
        "\n",
        "아래의 코드는 문자열에 들어있는 단어나 다른 문자열의 위치를 찾아줍니다. "
      ]
    },
    {
      "cell_type": "code",
      "metadata": {
        "id": "YqZOxIBU1c52",
        "colab_type": "code",
        "colab": {}
      },
      "source": [
        "def find(str, target):\n",
        "  ls, lt = len(str), len(target) # 두 문자열의 길이를 저장해둠\n",
        "  for i in range( ls - lt + 1 ):\n",
        "    diff = 0\n",
        "    for j in range(lt):\n",
        "      if str[i+j] != target[j]:\n",
        "        diff = 1\n",
        "    if diff == 0 :\n",
        "      return i\n",
        "  return -1\n",
        "   \n",
        "print(find(\"this is good day\", \"ood\"))    "
      ],
      "execution_count": 0,
      "outputs": []
    },
    {
      "cell_type": "markdown",
      "metadata": {
        "id": "5tP-nC7OllGL",
        "colab_type": "text"
      },
      "source": [
        "### 10.2.2 이미지 처리 함수\n",
        "\n",
        "이러한 함수는 이미지처리같은 반복적으로 사용되는 작업이 많은 경우 더욱 유용합니다. 특히 저희가 수업시간에 반복적으로 사용되던 이미지 생성, 초기화, 이미지 출력등의 코드를 간략화 시켜두면 매우 편리하죠.\n",
        "\n",
        "그러면 먼저 이러한 작업을 위해 이미지 작업 관련 라이브러리를 호출하겠습니다. \n",
        "\n",
        "\n",
        "\n"
      ]
    },
    {
      "cell_type": "code",
      "metadata": {
        "id": "b1_bPOUsnRTw",
        "colab_type": "code",
        "colab": {}
      },
      "source": [
        "from PIL import Image\n",
        "import numpy as np \n",
        "from IPython.display import display\n"
      ],
      "execution_count": 0,
      "outputs": []
    },
    {
      "cell_type": "markdown",
      "metadata": {
        "id": "QYw1-kM9nwFd",
        "colab_type": "text"
      },
      "source": [
        "이제 2차원 이미지 배열를 생성하는 코드와 출력하는 코드를 각각 함수로 만들어보도록 하겠습니다. \n",
        "\n",
        "#### 코드: 이미지용 2차원 배열생성, 출력 함수"
      ]
    },
    {
      "cell_type": "code",
      "metadata": {
        "id": "s1fQuMpPoB-z",
        "colab_type": "code",
        "colab": {}
      },
      "source": [
        "# w x h 에 color 값으로 채워진 이미지용 2차원 배열을 생성 \n",
        "def createImg(w,h,color): \n",
        "  arr = []\n",
        "  for y in range(h) :\n",
        "    xarr = [] \n",
        "    for x in range(w) :\n",
        "      xarr = xarr + [color]\n",
        "    arr = arr + [xarr]\n",
        "  return arr\n",
        "\n",
        "# 2차원 배열을 흑백 이미지를 출력\n",
        "def displayGray(arr):\n",
        "  display( Image.fromarray( np.array(arr).astype('uint8'), 'L' ) )         \n",
        "    "
      ],
      "execution_count": 0,
      "outputs": []
    },
    {
      "cell_type": "markdown",
      "metadata": {
        "id": "3-znE7YRqPoi",
        "colab_type": "text"
      },
      "source": [
        "이제 위의 함수가 설정되었다면 간단하게 이미지를 생성하고 출력 가능합니다. "
      ]
    },
    {
      "cell_type": "code",
      "metadata": {
        "id": "K0hu4taRqWah",
        "colab_type": "code",
        "colab": {}
      },
      "source": [
        "arr = createImg(200,200,155)\n",
        "displayGray(arr)"
      ],
      "execution_count": 0,
      "outputs": []
    },
    {
      "cell_type": "markdown",
      "metadata": {
        "id": "b_4euyPMq0nP",
        "colab_type": "text"
      },
      "source": [
        "이렇게 미리 함수를 만들어 두면 상당히 편리하게 코드를 작성 할 수 있습니다.  물론 이미지 값을 다른 값으로 채우는 함수도 가능합니다. \n",
        "\n",
        "#### 코드: 2차원 이미지를 특정 값으로 채우기 "
      ]
    },
    {
      "cell_type": "code",
      "metadata": {
        "id": "pB2-Bs3zrWka",
        "colab_type": "code",
        "colab": {}
      },
      "source": [
        "# arr 을 color 값으로 채우는 함수\n",
        "def fill2D(arr, color):\n",
        "  for xarr in arr:\n",
        "    for x in range( len(xarr) ):\n",
        "      xarr[x] = color\n",
        "\n",
        "\n",
        "# fill2D를 이용해 이미지를 지우고 출력 \n",
        "fill2D(arr, 0)\n",
        "displayGray(arr)\n"
      ],
      "execution_count": 0,
      "outputs": []
    },
    {
      "cell_type": "markdown",
      "metadata": {
        "colab_type": "text",
        "id": "ELfOKnuW3FbF"
      },
      "source": [
        "그러면 이번에는 이미지 처리에서 가장 기초가 될 수 있는 임의의 두 점을 이어주는 선을 긋는 함수를 만들어보겠습니다.  7장에서 1차원 배열에서 선을 긋는 알고리즘을 참고자료로 소개해드렸으므로 이 내용을 2차원 배열용으로 변환하여 정의를 해보도록 하겠습니다. \n",
        "\n",
        "\n",
        "#### 코드: 2차원 배열에 직선 그리기\n"
      ]
    },
    {
      "cell_type": "code",
      "metadata": {
        "id": "NAz6jNkxHsPA",
        "colab_type": "code",
        "colab": {}
      },
      "source": [
        "\n",
        "# sx,sy 에서 ex,ey  까지 color 값으로 선을 그리는 함수\n",
        "def line2D(arr, sx,sy,ex,ey,color ):    \n",
        "  dx,dy = ex - sx , ey - sy\n",
        "\n",
        "  if abs(dy) > abs(dx) :  # abs() 는 절대값을 반환하는 함수\n",
        "    r = abs(dy)\n",
        "  else: \n",
        "    r = abs(dx)\n",
        "\n",
        "  if r == 0 :\n",
        "    return \n",
        "\n",
        "  rx,ry =  dx/r , dy/r\n",
        "\n",
        "  for ri in range(r):  \n",
        "    arr[int(sy)][int(sx)] = color  # int는 실수를 정수로 바꿔줍니다. \n",
        "    sx += rx\n",
        "    sy += ry \n",
        "\n",
        "\n",
        "# 선그리기 호출 후 이미지 출력 \n",
        "line2D(arr, 10,10, 150,150, 255)\n",
        "displayGray(arr)\n"
      ],
      "execution_count": 0,
      "outputs": []
    },
    {
      "cell_type": "markdown",
      "metadata": {
        "id": "501RQeI_t-TX",
        "colab_type": "text"
      },
      "source": [
        "이렇게 함수를 지정해두면 더 복잡한 코드도 간결하게 작성이 가능합니다. 이제 간단한 패턴을 만들어보도록 하겠습니다. \n",
        "\n",
        "코드: 선그리기를 사용한 간단한 예"
      ]
    },
    {
      "cell_type": "code",
      "metadata": {
        "id": "rRA77nHiuJLC",
        "colab_type": "code",
        "colab": {}
      },
      "source": [
        "fill2D(arr, 0)\n",
        "\n",
        "for n in range(0,200,10):\n",
        "  line2D(arr,n,0, 0,199-n, 10 + n ) \n",
        "\n",
        "displayGray(arr)"
      ],
      "execution_count": 0,
      "outputs": []
    },
    {
      "cell_type": "markdown",
      "metadata": {
        "id": "VMNGBwv5vtbR",
        "colab_type": "text"
      },
      "source": [
        "\n",
        "\n",
        "#### 참고 코드:선그리기를 활용한 원그리기 \n",
        "\n",
        "이렇게 선을 그릴 수 있으면 이를 활용해 원을 그리는 것도 가능합니다. 단 원을 계산하기 위해서는 sin, cos 함수와 파이값이 필요하므로 math 라는 라이브러리가 필요합니다. \n",
        "\n",
        "```\n",
        "math.sin : sin 함수\n",
        "math.cos : cos 함수\n",
        "math.pi : pi 값  ( 2*pi 는 360도 )\n",
        "```\n",
        "그리고 cx,cy를 중심으로 지름이 r 인 원에서 각도가 theta 인 원주의 점은 다음과 같이 구합니다. \n",
        "```\n",
        "rx = int( cx + math.sin( theta ) * r )\n",
        "ry = int( cy + math.cos( theta ) * r)\n",
        "```\n",
        "\n",
        "이 theta 를 0~360 도 사이의 n개의 각도로 증가시키며 이 점들을 다 이으면 원이 되는 것이죠.  그러면 이제 실제 코드를 보도록 하겠습니다.\n"
      ]
    },
    {
      "cell_type": "code",
      "metadata": {
        "id": "Ig3JI6sHyOND",
        "colab_type": "code",
        "colab": {}
      },
      "source": [
        "import math\n",
        "\n",
        "# arr 에 cx, cy 를 중심으로 반지름이 r인 원을 그리는 함수\n",
        "def circle2D(arr, cx, cy, r, color): \n",
        "  if r == 0 : \n",
        "    return \n",
        "  n = r     \n",
        "  sx, sy = int( cx + math.sin(0) * r ), int( cy + math.cos(0) * r )\n",
        "  for i in range(n + 1):\n",
        "    theta = math.pi * 2 * i / n \n",
        "    ex, ey = int( cx + math.sin(theta) * r ), int( cy + math.cos(theta) * r )\n",
        "    line2D(arr, sx,sy, ex,ey, color)\n",
        "    sx, sy = ex, ey\n",
        "\n",
        "\n",
        "# 원 그리기 호출\n",
        "fill2D(arr, 0)  \n",
        "circle2D(arr, 100,100, 80, 255)\n",
        "displayGray(arr)"
      ],
      "execution_count": 0,
      "outputs": []
    },
    {
      "cell_type": "markdown",
      "metadata": {
        "id": "yu-ix-Ve07hW",
        "colab_type": "text"
      },
      "source": [
        "이걸 활용하 간단한 패턴도 보도록 하죠 "
      ]
    },
    {
      "cell_type": "code",
      "metadata": {
        "id": "AE48UjFe0_e4",
        "colab_type": "code",
        "colab": {}
      },
      "source": [
        "fill2D(arr, 0)\n",
        "for i in range(0,100,10):\n",
        "  circle2D(arr, i,i,i, i * 2 ) \n",
        "\n",
        "displayGray(arr)"
      ],
      "execution_count": 0,
      "outputs": []
    },
    {
      "cell_type": "markdown",
      "metadata": {
        "id": "5XPsPvtf10km",
        "colab_type": "text"
      },
      "source": [
        "이렇게 유용한 함수들을 계속해서 만들어 감으로서 더더욱 복잡한 프로그램을 간결하게 짤 수 있게 됩니다. 실제로 선을 그리거나 원을 그리는 함수들은 이미 파이썬의 수많은 라이브러리에서 지원을 하는 기능입니다만 직접 이런 함수를 제작해 보면 프로그램이 어떤식으로 발전해 왔는지를 미약하게나마 느끼셨을 거라고 생각합니다. "
      ]
    },
    {
      "cell_type": "markdown",
      "metadata": {
        "colab_type": "text",
        "id": "DxeLSvjU3Tha"
      },
      "source": [
        "####<font color = 'red'> 연습 10.2.1 : 사각형을 그리는 함수\n",
        "배열 arr 로부터 좌측 상단점을 sx,sy 에서 우측 하단점 ex,ey 까지 직사각형을 color 값으로 그리는 함수 rect2D 를 작성해보세요\n",
        "</font>  \n",
        "\n",
        "```\n",
        "사용 예:\n",
        "rect2D(arr, 20,50, 180, 120, 255) \n",
        "```\n",
        "\n",
        "\n",
        "\n",
        "\n",
        "\n"
      ]
    },
    {
      "cell_type": "code",
      "metadata": {
        "colab_type": "code",
        "id": "Uv6IoL6F3Thh",
        "colab": {}
      },
      "source": [
        "# 연습 10.2.2 의 rect2D 함수를 작성하세요 \n",
        "\n",
        "\n",
        "\n",
        "# 호출\n",
        "fill2D(arr, 0)\n",
        "rect2D(arr, 20,50, 180, 120, 255) \n",
        "displayGray(arr)\n",
        "\n"
      ],
      "execution_count": 0,
      "outputs": []
    },
    {
      "cell_type": "markdown",
      "metadata": {
        "colab_type": "text",
        "id": "CO3qg_t-1ikC"
      },
      "source": [
        "## 10.3 재귀호출\n",
        "\n",
        "위의 예제에서 보셨듯이 함수는 다른 함수를 호출 할 수 있습니다. 그렇다면 함수에서 자기 자신을 호출하면 어떻게 될까요? 서로 변수가 엉켜서 실행이 꼬일꺼라고 상상할 수도 있지만 실제로는 함수는 호출하면 또 하나의 자신을 복제하고 변수들도 새로운 함수공간에 새로 생성되서 충돌이 생기지 안습니다. \n",
        "\n",
        "이렇게 자신을 호출하는 함수를 '재귀함수(recursive)' 라고 합니다. 이러한 재귀함수는 잘못하면 무한 복제가 시작되어서 무한실행뿐만 아니라 메모리 무한점유가 발생하기때문에 섬세한 접근이 필요합니다만 잘만 사용하면 반복문으로도 해결하기 어려운 문제를 손쉽게 해결하기도 합니다. 이제 간단한 재귀 함수의 예를 보도록 하겠습니다. \n",
        "\n"
      ]
    },
    {
      "cell_type": "markdown",
      "metadata": {
        "colab_type": "text",
        "id": "fY9P9Usa2VBJ"
      },
      "source": [
        "### 10.3.1 재귀함수의 간단한 예 \n",
        "\n",
        "#### 코드: 재귀를 이용한 합산 함수\n",
        "\n",
        "아래의 코드는 1부터 n 까지의 값을 합산하는 함수입니다. "
      ]
    },
    {
      "cell_type": "code",
      "metadata": {
        "id": "DBvnczro2Vk3",
        "colab_type": "code",
        "colab": {}
      },
      "source": [
        "def mysum(n):\n",
        "  if n == 1 :\n",
        "    return 1\n",
        "  else :\n",
        "    return n + mysum(n-1)\n",
        "\n",
        "print( mysum(10) )"
      ],
      "execution_count": 0,
      "outputs": []
    },
    {
      "cell_type": "markdown",
      "metadata": {
        "id": "SqOOo8usT-uV",
        "colab_type": "text"
      },
      "source": [
        "이 함수는 n 이 1일 경우를 제외하고는 다시 n-1 값에 대해 자신을 호출합니다. 이는 마치 자기 자신에게 외주를 주는 경우랑 비슷합니다. \n",
        "```\n",
        "\" 누군가 n-1 까지의 합산값을 계산해준다면 거기에 n을 더해서 n 까지의 합산을 구해주겠다 \" \n",
        "```\n",
        "라는 방식인거죠.  만일 mysum(3) 을 호출할경우 mysum(3)은 mysum(2)를 호출하고 다시 mysum(2)는 mysum(1)을 호출합니다. 요컨데 다음과 같은 호출순서가 발생하고\n",
        "```\n",
        "mysum(3)->mysum(2)->mysum(1)\n",
        "```\n",
        "mysum(1) 은 다른 mysum을 호출하지 안고 그냥 1을 리턴합니다. 그러면 다시 mysum(2)가 여기에 2를 더해 리턴하고 이렇게 거슬러 리턴값이 반환되어 최종적으론 6이 반환됩니다. \n",
        "```\n",
        "mysum(1):1 -> mysum(2): 1+2 -> mysum(3): 3+3\n",
        "```"
      ]
    },
    {
      "cell_type": "markdown",
      "metadata": {
        "id": "fQHI-SNIUJUE",
        "colab_type": "text"
      },
      "source": [
        "### 10.3.2 피보나치 재귀 함수\n",
        "\n",
        "피보나치 수열은 선행한 두 값의 합산이 다음 수열 값이 되는 수열입니다. 이 수열은 수학적 난제와도 연관이 있어 유명하죠. 피보나치 수열은 처음 두 값을 1로 두고 진행을 시작합니다. \n",
        "\n",
        "```\n",
        "0,1,1,2,3,5,8,13,21 .. \n",
        "```\n",
        "\n",
        "이를 함수로 만들 경우 위의 순서에 따라 \n",
        "```\n",
        "fib(0):0, fib(1):1, fib(2):1 ... fib(7):13 .. \n",
        "```\n",
        "\n",
        "이렇게 리턴을 해주어야 합니다.  이 피보나치는 재귀 함수로 풀 경우 자기 자신을 두번 호출하는 독특한 구조를 갖습니다. \n",
        "\n"
      ]
    },
    {
      "cell_type": "markdown",
      "metadata": {
        "colab_type": "text",
        "id": "FzbX3mHb1psS"
      },
      "source": [
        "\n",
        "\n",
        "#### 코드: 피보나치 재귀 함수"
      ]
    },
    {
      "cell_type": "code",
      "metadata": {
        "id": "0qlvhhFh1kUg",
        "colab_type": "code",
        "colab": {}
      },
      "source": [
        "#fib 정의\n",
        "def fib(n):\n",
        "  if n < 2 : \n",
        "    return n \n",
        "  else :\n",
        "    return fib(n-1) + fib(n-2)\n",
        "\n",
        "# fib(10) 까지 출력\n",
        "for i in range(10):\n",
        "  print(fib(i))"
      ],
      "execution_count": 0,
      "outputs": []
    },
    {
      "cell_type": "markdown",
      "metadata": {
        "id": "fyMWk84nX3jP",
        "colab_type": "text"
      },
      "source": [
        "위의 예를 보면 n 이 0과 1인 경우에는 호출없이 바로 n을 리턴하며 그 이상의 경우는 모두 n-1 n-2 에 대하여 재귀호출이 발생합니다.  fib(4)가 호출되는 과정을 그려보도록 하겠습니다. \n",
        "```\n",
        "fib(4)\n",
        "  -> fib(3)\n",
        "    -> fib(2) \n",
        "      -> fib(1)\n",
        "      -> fib(0)\n",
        "    -> fib(1)\n",
        "  -> fib(2)\n",
        "    -> fib(1)\n",
        "    -> fib(0)\n",
        "```\n",
        "fib(4)는 fib(3)과 fib(2)를 그리고 fib(3)은 fib(2)를 이런식으로 호출이 확산되어 가는 것을 볼 수 있습니다. 마치 폴더들의 구조같은 이런 아래로 확산되는 형태를 트리형태라고 표현합니다.  대부분의 재귀호출은 이런 트리구조의 처리가 필요한 경우에 적합합니다. \n",
        "\n",
        "사실 재귀호출의 예제로 표준처럼 자리잡은 피보나치 함수도 사실 이것이 재귀호출을 사용하기에 효율적인 방법은 아닙니다. 그냥 for 문으로도 충분히 처리가 가능할 뿐만 아니라 시간, 메모리적인 속도도 이쪽이 훨씬 빠르기 때문입니다. \n",
        "\n",
        "#### 코드 : for문을 사용한 피보나치 함수\n",
        "\n",
        "\n",
        "\n",
        "\n",
        "\n",
        "\n",
        "\n",
        "\n",
        "\n",
        "\n",
        "\n",
        "\n",
        "\n",
        "\n",
        "\n"
      ]
    },
    {
      "cell_type": "code",
      "metadata": {
        "id": "vUl4mj4C2B-R",
        "colab_type": "code",
        "colab": {}
      },
      "source": [
        "#for 를 사용한 fib함수\n",
        "def fib_for(n):\n",
        "  if n < 2 :\n",
        "     return n\n",
        "  n1, n2 = 0,1 \n",
        "  for i in range(n-1):    \n",
        "    n1,n2 = n2,n1+n2\n",
        "  return n2\n",
        "\n",
        "# 두 함수를 비교출력\n",
        "for i in range(10):\n",
        "  print(i,\":\", fib_for(i), fib(i))\n"
      ],
      "execution_count": 0,
      "outputs": []
    },
    {
      "cell_type": "markdown",
      "metadata": {
        "id": "X0x9-BH1azZG",
        "colab_type": "text"
      },
      "source": [
        "for 문을 사용하는 방식이 함수복제나 변수공간을 새로 만들지 안아도 되서 속도를 중시할 경우는 이쪽이 더 유리합니다. 하지만 그럼에도 재귀함수를 쓰면 훨씬더 코드가 깔끔하다는 장점이 있습니다. "
      ]
    },
    {
      "cell_type": "markdown",
      "metadata": {
        "colab_type": "text",
        "id": "MSM80s_83so0"
      },
      "source": [
        "## 10.3.3 하노이 문제\n",
        "\n",
        "실제로 재귀함수가 잘 사용하면 얼마나 유용한가를 대표하는 문제로 유명한 것은 바로 '하노이 함수' 입니다. 이는 여러개의 크기가 다른 원반을 한 장소에서 다른 장소로 옮기는 문제로서 다음과 같은 제약조건을 가집니다. \n",
        "\n",
        "```\n",
        "- 한번에 하나의 원반만 옮길 수 있다. \n",
        "- 하나의 빈 장소를 사용할 수 있다.\n",
        "- 작은 원반위에 큰 원반을 올려놓아선 안된다. \n",
        "```\n",
        "\n",
        "실제로 베트남 하노이 사원에서 승려들의 수련용 도구였다고 알려져있는 문제로 생각보다 상당히 복잡합니다. 단지 3개의 원반을 옮긴다고 해도 다음과 같은 과정이 필요합니다. \n",
        "\n",
        "![대체 텍스트](https://img1.daumcdn.net/thumb/R800x0/?scode=mtistory2&fname=https%3A%2F%2Ft1.daumcdn.net%2Fcfile%2Ftistory%2F2442503655A350A003)\n",
        "\n",
        "단 하노이 문제는 언제나 항상 가장 위의 원반을 옮길 수 있으므로 사실 위의 그림의 과정은 다음과 같이 표기할 수 있습니다. 이를 텍스트로 표기하면 \n",
        "```\n",
        "A->C A->B C->B A->C B->A B->C A->C \n",
        "```\n",
        "이렇게 표기 가능합니다. 그리고 이 과정은 원반의 갯수가 늘어남에 따라 기하급수적으로 증가합니다. 이 문제를 복잡하게 생각하면 각 위치마다 원반의 크기, 갯수같은걸 다 저장하고 처리해야한다고 착각할 수도 있습니다만 실제로 하노이의 문제는 재귀의 개념으로 보면 매우 간단해집니다. \n",
        "\n",
        "위의 케이스를 A->C (3) 은 A->B (2) , A->C (1), A->C (2)  3단계로 구분한다고 쳐봅시다. 이것은 10개를 옮기든 100개를 옮기든 결과적으로 모든 하노이의 문제가 거쳐야 하는 과정입니다. 그러므로 이를 다음과 같이 일반화 할 수 있습니다. \n",
        "\n",
        "```\n",
        "N 개의 원반을 by 를 거쳐서 src -> tgt 로 옮긴다 \n",
        "  -> N-1 개의 원반을 tgt 를 거쳐서 src->by 로 옮긴다\n",
        "  -> 1 개의 원반을 tgt 를 거쳐서 src->tgt 로 옮긴다\n",
        "  -> N-1 개의 원반을 tgt 를 거쳐서 by->tgt 로 옮긴다\n",
        "```\n",
        "\n",
        "이제 이것을 코드로 바꿔보겠습니다. \n",
        "\n",
        "#### 코드: 재귀함수 하노이 "
      ]
    },
    {
      "cell_type": "code",
      "metadata": {
        "id": "8vfMHXKq3vAC",
        "colab_type": "code",
        "colab": {}
      },
      "source": [
        "def hanoi(n, src, tgt, by):\n",
        "  if n == 1 :\n",
        "    print(src,\"->\", tgt)\n",
        "  else:    \n",
        "    hanoi(n-1, src, by, tgt )\n",
        "    hanoi(1, src, tgt , by )\n",
        "    hanoi(n-1, by, tgt, src )\n",
        "    \n",
        "hanoi(3,\"A\",\"C\",\"B\")\n",
        "\n",
        "\n"
      ],
      "execution_count": 0,
      "outputs": []
    },
    {
      "cell_type": "markdown",
      "metadata": {
        "id": "ddnTi3vYgafu",
        "colab_type": "text"
      },
      "source": [
        "믿을 수 없을 정도로 간단한 코드로 위의 과정이 표기된 것을 보실 수 있습니다.  이를 반복문의 개념으로 작성하는 것은 너무나 복잡하고 어렵지만 재귀의 개념으로는 이렇게 간단히 해결됩니다. 물론 하노이탑을 일반적인 문제로 생각하긴 어려우실 겁니다. 하지만 실제로 컴퓨터에서 하노이가 아니더라도 재귀는 매우 광범위하게 사용되며 많은 문제에 적용됩니다.  다만 아직 여러분들이 그런 응용을 접하시기엔 다룰 수 있는 자료가 제한적이기 때문에 상징적인 문제로 하노이를 종종 사용하는 것입니다. \n",
        "\n",
        "\n"
      ]
    }
  ]
}