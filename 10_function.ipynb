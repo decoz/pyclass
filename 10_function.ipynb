{
  "nbformat": 4,
  "nbformat_minor": 0,
  "metadata": {
    "colab": {
      "name": "10_function.ipynb",
      "provenance": [],
      "collapsed_sections": [],
      "toc_visible": true,
      "authorship_tag": "ABX9TyPuqB9FiB5OJ3N2Qw/PWoIA",
      "include_colab_link": true
    },
    "kernelspec": {
      "name": "python3",
      "display_name": "Python 3"
    }
  },
  "cells": [
    {
      "cell_type": "markdown",
      "metadata": {
        "id": "view-in-github",
        "colab_type": "text"
      },
      "source": [
        "<a href=\"https://colab.research.google.com/github/decoz/pyclass/blob/master/10_function.ipynb\" target=\"_parent\"><img src=\"https://colab.research.google.com/assets/colab-badge.svg\" alt=\"Open In Colab\"/></a>"
      ]
    },
    {
      "cell_type": "markdown",
      "metadata": {
        "id": "6r5cuHshwpub",
        "colab_type": "text"
      },
      "source": [
        "#10 함수 \n",
        "\n",
        "프로그래밍에서 함수란 어떤 기능을 미리 지정해 두고 이를 재사용 할 수 있는 기능을 의미합니다.  자주 쓰는 기능을 미리 지정해 둠으로서 다음 번 프로그램을 더욱 편하게 함과 동시에 프로그램을 더 간결하게 보이도록 만들 수 있죠.\n",
        "\n",
        "여러분들은 이미 알게 모르게 많은 함수를 사용하고 계셨는데 대표적으로 print()나 int 도  함수입니다. 실제로 화면에 어떤 글자를 표시하는 것은 매우 복잡한 과정이 필요하지만 이를 미리 프로그램에서 만들어서 지원해주는 것이죠.  이렇게 기본적으로 파이썬에 내장된 함수를 쓸 수 도 있지만 자신만의 함수를 정의해서 쓸 수도 있습니다. \n",
        "\n"
      ]
    },
    {
      "cell_type": "markdown",
      "metadata": {
        "id": "KP0xi4kQ-hKN",
        "colab_type": "text"
      },
      "source": [
        "## 10.1 함수의 정의 및 사용법"
      ]
    },
    {
      "cell_type": "markdown",
      "metadata": {
        "id": "VZnRlG1C1OEN",
        "colab_type": "text"
      },
      "source": [
        "### 10.1.1 함수읜 정의\n",
        "\n",
        "\n",
        "이제 간단한 함수를 만드는 방법을 한번 보도록 하죠. 함수의 정의는 다음과 같은 구문으로 구성됩니다. \n",
        "\n",
        "```\n",
        "함수 정의방법:\n",
        "\n",
        "def 함수이름( 인자 ) : \n",
        "  함수의 실행내용 \n",
        "```\n",
        "함수의 이름은 그 함수를 호출할 때 사용하는 print 같은 이름입니다.  그리고 인자는 그 함수가 작동할때 필요한 값을 의미합니다. 이렇게 정의를 해두고 나중에 \n",
        "```\n",
        "함수 실행방법:\n",
        "\n",
        "함수이름( 인자값 ) : \n",
        "```\n",
        "이렇게 프로그램에서 사용하면 미리 정의된 기능이 호출되게 됩니다. \n",
        "그러면 아래에 아주 간단한 함수를 하나 정의해서 호출해보죠. \n"
      ]
    },
    {
      "cell_type": "markdown",
      "metadata": {
        "id": "jxk7IcWexYKb",
        "colab_type": "text"
      },
      "source": [
        "#### 예: 함수의 정의와 사용"
      ]
    },
    {
      "cell_type": "code",
      "metadata": {
        "id": "uTC2hxDuwsy3",
        "colab_type": "code",
        "colab": {}
      },
      "source": [
        "def hello() :\n",
        "  print(\"hello\")\n",
        "\n",
        "hello()\n",
        "hello()\n",
        "hello()\n",
        "\n"
      ],
      "execution_count": 0,
      "outputs": []
    },
    {
      "cell_type": "markdown",
      "metadata": {
        "id": "5QQdwmanwtXW",
        "colab_type": "text"
      },
      "source": [
        "에서 hello 는 함수의 이름이 되고 print(\"hello\") 는 함수의 실행내용입니다. 함수에 소속된 코드는 들여쓰기에 의해 그 범위가 결정됩니다. 그러므로 아래에 hello() 는 그 함수에 소속된 것이 아니게 됩니다. hello() 코드는 이미 지정된 함수를 불러서 실행하는 것으로 '함수의 호출' 이라고 부릅니다. 위에서는 함수를 3번 호출했습니다. "
      ]
    },
    {
      "cell_type": "markdown",
      "metadata": {
        "colab_type": "text",
        "id": "dchsKGEkxf4s"
      },
      "source": [
        "### 10.1.2 함수의 인자\n",
        "\n",
        "함수는 그 인자(parameter)라는 변수값을 설정해 둠으로서 그때 그때 더 다양한 작동을 설정할 수 있습니다. 이러한 인자는 함수를 호출시 특정 값을 입력할 경우  변수 값처럼 함수의 작동에 영향을 주게 됩니다.   아래에는 간단한 인자값 who 를 가진 함수의 예가 나와있습니다. \n",
        "\n",
        "#### 예: 인자가 있는 함수"
      ]
    },
    {
      "cell_type": "code",
      "metadata": {
        "id": "snut3x0Kw-U5",
        "colab_type": "code",
        "colab": {}
      },
      "source": [
        "def hello(who) :\n",
        "  print(\"hello\", who)\n",
        "\n",
        "hello(\"kim\")\n",
        "hello(\"choi\")"
      ],
      "execution_count": 0,
      "outputs": []
    },
    {
      "cell_type": "markdown",
      "metadata": {
        "id": "cKM9tvCCQnvJ",
        "colab_type": "text"
      },
      "source": [
        "위에서는 who 라는 인자값을 둔 후에 hello 를 호출할때마다 다른 값을 입력함으로서 그 출력에 변화를 주었습니다. 인자는 여러개를 설정할 수 도 있습니다.\n",
        "\n",
        "다음은 두개의 값을 인자로 받아 그 중에 더 큰 값을 출력하는 함수입니다. \n",
        "\n",
        "#### 예: 여러개의 인자를 가진 함수 "
      ]
    },
    {
      "cell_type": "code",
      "metadata": {
        "id": "RsUxvIdXQ3MW",
        "colab_type": "code",
        "colab": {}
      },
      "source": [
        "def print_max(a, b):\n",
        "  if a > b : \n",
        "    print(a)\n",
        "  else :\n",
        "    print(b)\n",
        "\n",
        "print_max(3,4)\n",
        "print_max(100,1)\n"
      ],
      "execution_count": 0,
      "outputs": []
    },
    {
      "cell_type": "markdown",
      "metadata": {
        "id": "T35YD5_jRYo3",
        "colab_type": "text"
      },
      "source": [
        "이제 여러분들이 직접 함수를 작성해서 실행해 보도록 하죠 \n",
        "    \n",
        "####<font color = 'red'> 연습 10.1.1 : 특정 범위의 숫자를 찍기 \n",
        "저희가 for 문에서 주로 사용하는 range 랑 비슷한 함수를 작성해보도록 하죠\n",
        "</font>  \n",
        "\n",
        "예:\n",
        "```\n",
        "print_range(0,10,3) \n",
        "\n",
        "-> 0 3 6 9\n",
        "\n",
        "print_range(10,20,2)\n",
        "\n",
        "-> 10 12 14 16 18 \n",
        "\n",
        "```\n",
        "\n"
      ]
    },
    {
      "cell_type": "code",
      "metadata": {
        "id": "D7ByVj3SSjzd",
        "colab_type": "code",
        "colab": {}
      },
      "source": [
        "# 연습 10.1.1 에서 설명하는대로 print_range 의 코드를 작성하세요\n",
        "\n",
        "\n",
        "\n",
        "# 호출\n",
        "print_range(0,10,3)\n",
        "print_range(10,20,2)\n",
        "\n"
      ],
      "execution_count": 0,
      "outputs": []
    },
    {
      "cell_type": "markdown",
      "metadata": {
        "colab_type": "text",
        "id": "k6L5yIRQ0DvK"
      },
      "source": [
        "함수의 인자값은 변수처럼 사용되지만 어디까지나 함수의 안에서만 사용 가능합니다. 그러므로 아래의 프로그램은 에러를 리턴합니다. 왜냐하면 변수 x 는 어디까지나 함수 안에서만 사용가능한 값이기 때문이죠. \n",
        "```\n",
        "def putx( v ) :\n",
        "  x =  v \n",
        "\n",
        "putx( 10 )\n",
        "print(x)  # x는 함수 밖에서는 사용 불가능\n",
        "\n",
        "```\n",
        "\n",
        "또한 함수의 인자는 단일 변수의 경우 값을 카피해 주는 것에 지나지 안습니다. 그러므로 인자의 값을 변경하더라도 호출에 사용된 변수의 값은 증가하지 안습니다. 아래의 예제에서 inc() 에서 사용되는 a와 호출하는 프로그램에서 사용된 a=3 으로 선언된 a는 각각 다른 것으로 간주됩니다. 그러므로 inc(a)는 a=3 인 상태에 영향을 주지 안습니다. \n",
        "\n",
        "#### 예: 인자와 변수값 변화"
      ]
    },
    {
      "cell_type": "code",
      "metadata": {
        "id": "6K_IednDxTAQ",
        "colab_type": "code",
        "colab": {}
      },
      "source": [
        "def inc(a):\n",
        "  a += 1\n",
        "\n",
        "a = 3\n",
        "inc(a)\n",
        "print(a)"
      ],
      "execution_count": 0,
      "outputs": []
    },
    {
      "cell_type": "markdown",
      "metadata": {
        "colab_type": "text",
        "id": "oV8wORjF0Ees"
      },
      "source": [
        "단 배열의 경우 배열 값을 통체로 넘겨주려면 시간적인 낭비가 너무 심하기 때문에 실제로는 배열의 위치를 복사해서 넘겨주게 됩니다. 그러므로 함수안에서 배열을 변경할 경우 원 배열에도 영향을 미치게 됩니다. \n",
        "\n",
        "#### 예: 배열을 인자로 받은경우"
      ]
    },
    {
      "cell_type": "code",
      "metadata": {
        "id": "xwZpWlf1zU87",
        "colab_type": "code",
        "colab": {}
      },
      "source": [
        "def zeros(arr):\n",
        "  for i in range(len(arr)):\n",
        "    arr[i] = 0\n",
        "\n",
        "a = [1,2,3,4,5]\n",
        "zeros(a)\n",
        "print(a)"
      ],
      "execution_count": 0,
      "outputs": []
    },
    {
      "cell_type": "markdown",
      "metadata": {
        "colab_type": "text",
        "id": "e_n6Z_Jgxg4E"
      },
      "source": [
        "### 10.1.3 함수의 리턴 값\n",
        "\n",
        "함수의 인자값이 함수를 호출하는 측이 함수에 입력해주는 값이라면 함수의 리턴값은 그 함수가 작동 후 그 결과를 반환하는 값을 의미합니다. 이를 이용하면 함수는 특정 입력에 의해 자신만의 코드를 수행하고 끝나는 것 만이 아니라 다시 그 결과를 호출한 프로그램에 전달 함으로서 전체 프로그램에 영향을 줄 수 있습니다. \n",
        "\n",
        "리턴 값은 return 이라는 명령어로 수행되며 리턴이 수행되면 함수는 그 즉시 종류하게 됩니다.  그러면 아래에 간단한 리턴값을 사용하는 함수를 한번 보도록 하겠습니다. \n",
        "\n",
        "\n",
        "#### 예: 리턴값을 가진 함수"
      ]
    },
    {
      "cell_type": "code",
      "metadata": {
        "id": "_hcSqfAAxIkw",
        "colab_type": "code",
        "colab": {}
      },
      "source": [
        "def add(a, b):\n",
        "  return a + b \n",
        "\n",
        "print( add(3,4) )\n",
        "x = add(5,10)\n",
        "print(x)"
      ],
      "execution_count": 0,
      "outputs": []
    },
    {
      "cell_type": "markdown",
      "metadata": {
        "id": "Tc5zbqf1pgSJ",
        "colab_type": "text"
      },
      "source": [
        "위에서 add는 a와 b라는 두개의 인자값을 받아서 이를 더한 값을 리턴해줍니다. 이러한 리턴값은 변수나 연산의 결과같이 이 값을 변수에 저장하거나, 출력, 연산에 사용하는 등 다양하게 사용이 가능합니다. \n",
        "\n",
        "이제 직접 리턴값이 있는 함수를 작성하는 연습을 해보도록 하죠 \n",
        "\n",
        "####<font color = 'red'> 연습 10.1.2 : Factorial 함수\n",
        "1부터 n까지 모든 숫자의 곱을 Factorial 이라고 합니다. 이를 구해주는 함수 fact를 한번 작성해보세요 \n",
        "</font>  \n",
        "\n",
        "예:\n",
        "```\n",
        "print( fact(3) )  # 1 * 2 * 3\n",
        "-> 6 \n",
        "\n",
        "print( fact(5) )  # 1 * 2 * 3 * 4 * 5\n",
        "-> 120 \n",
        "\n",
        "```\n",
        "\n",
        "\n",
        "\n",
        "\n"
      ]
    },
    {
      "cell_type": "code",
      "metadata": {
        "colab_type": "code",
        "id": "rUtBl4GYrHNk",
        "colab": {}
      },
      "source": [
        "# 연습 10.1.2 에서 설명하는대로 fact 의 코드를 작성하세요\n",
        "\n",
        "# 호출\n",
        "print( fact(3) )\n",
        "print( fact(5) )\n",
        "\n"
      ],
      "execution_count": 0,
      "outputs": []
    },
    {
      "cell_type": "markdown",
      "metadata": {
        "colab_type": "text",
        "id": "IyLFVYrz1ZSx"
      },
      "source": [
        "## 10.2 다양한 함수의 예제들"
      ]
    },
    {
      "cell_type": "markdown",
      "metadata": {
        "colab_type": "text",
        "id": "2xvMKiBV3FNw"
      },
      "source": [
        "#### 코드: 배열 뒤집기"
      ]
    },
    {
      "cell_type": "code",
      "metadata": {
        "id": "gpXwz_4fG_I9",
        "colab_type": "code",
        "colab": {}
      },
      "source": [
        "def reverse(arr):\n",
        "  l = len(arr)\n",
        "  for i in range( int(l/2) ):\n",
        "    arr[i],arr[l - i - 1] = arr[l - i - 1], arr[i]\n",
        "  \n",
        "a = [1,2,3,4,5,6,7]\n",
        "reverse(a)\n",
        "print(a)\n",
        "  "
      ],
      "execution_count": 0,
      "outputs": []
    },
    {
      "cell_type": "markdown",
      "metadata": {
        "colab_type": "text",
        "id": "ELfOKnuW3FbF"
      },
      "source": [
        "#### 코드: 이미지에 4각형 그리기 \n"
      ]
    },
    {
      "cell_type": "code",
      "metadata": {
        "id": "NAz6jNkxHsPA",
        "colab_type": "code",
        "colab": {}
      },
      "source": [
        "from PIL import Image\n",
        "import numpy as np \n",
        "from IPython.display import display\n",
        "\n",
        "def rect(img, point, rsize, color ):\n",
        "  arr =  img.load()\n",
        "  rw,rh = rsize\n",
        "  iw,ih = img.size\n",
        "  px,py = point\n",
        "  for x in range(px,px+rw):\n",
        "    arr[x,py] = color \n",
        "    arr[x,py + rh] = color \n",
        "  for y in range(py,py+rh):\n",
        "    arr[px,y] = color \n",
        "    arr[px+rw,y] = color \n",
        "\n",
        "\n",
        "arr = [] \n",
        "for i in range(10000):\n",
        "  arr.append((100,100,100))\n",
        "\n",
        "myimg = Image.fromarray( np.array(arr).astype('uint8').reshape(100,100,3) )\n",
        "for i in range(0,20,4):\n",
        "  rect(myimg, (10 + i,10 + i ), (40 + i,40 + i), (255,0,0))\n",
        "display(myimg)\n",
        "\n"
      ],
      "execution_count": 0,
      "outputs": []
    },
    {
      "cell_type": "markdown",
      "metadata": {
        "colab_type": "text",
        "id": "JwdQI3Zb3Fil"
      },
      "source": [
        "#### 코드: 문자열 중복문자제거"
      ]
    },
    {
      "cell_type": "code",
      "metadata": {
        "id": "YqZOxIBU1c52",
        "colab_type": "code",
        "colab": {}
      },
      "source": [
        "def uni_str(str):\n",
        "  nstr = \"\"\n",
        "  for c in str:\n",
        "    if not c in nstr:\n",
        "      nstr += c\n",
        "  return nstr\n",
        "\n",
        "print(uni_str(\"this is good day\"))    "
      ],
      "execution_count": 0,
      "outputs": []
    },
    {
      "cell_type": "markdown",
      "metadata": {
        "colab_type": "text",
        "id": "CO3qg_t-1ikC"
      },
      "source": [
        "## 10.3 재귀호출"
      ]
    },
    {
      "cell_type": "markdown",
      "metadata": {
        "colab_type": "text",
        "id": "fY9P9Usa2VBJ"
      },
      "source": [
        "#### 코드: 재귀를 이용한 합산 함수"
      ]
    },
    {
      "cell_type": "code",
      "metadata": {
        "id": "DBvnczro2Vk3",
        "colab_type": "code",
        "colab": {}
      },
      "source": [
        "def mysum(n):\n",
        "  if n == 1 :\n",
        "    return 1\n",
        "  else :\n",
        "    return n + mysum(n-1)\n",
        "\n",
        "print( mysum(10) )"
      ],
      "execution_count": 0,
      "outputs": []
    },
    {
      "cell_type": "markdown",
      "metadata": {
        "colab_type": "text",
        "id": "FzbX3mHb1psS"
      },
      "source": [
        "#### 코드: 피보나치 함수"
      ]
    },
    {
      "cell_type": "code",
      "metadata": {
        "id": "0qlvhhFh1kUg",
        "colab_type": "code",
        "colab": {}
      },
      "source": [
        "def fib(n):\n",
        "  if n < 2 : \n",
        "    return 1 \n",
        "  else :\n",
        "    return fib(n-1) + fib(n-2)\n",
        "\n",
        "for i in range(10):\n",
        "  print(fib(i))"
      ],
      "execution_count": 0,
      "outputs": []
    },
    {
      "cell_type": "code",
      "metadata": {
        "id": "vUl4mj4C2B-R",
        "colab_type": "code",
        "colab": {}
      },
      "source": [
        ""
      ],
      "execution_count": 0,
      "outputs": []
    },
    {
      "cell_type": "markdown",
      "metadata": {
        "colab_type": "text",
        "id": "MSM80s_83so0"
      },
      "source": [
        "## 10.4 하노이 문제"
      ]
    },
    {
      "cell_type": "code",
      "metadata": {
        "id": "8vfMHXKq3vAC",
        "colab_type": "code",
        "colab": {}
      },
      "source": [
        "def hanoi(n, src, tgt, by):\n",
        "  if n == 1 :\n",
        "    print(src,\"->\", tgt)\n",
        "  else:    \n",
        "    hanoi(n-1, src, by, tgt )\n",
        "    hanoi(1, src, tgt , by )\n",
        "    hanoi(n-1, by, tgt, src )\n",
        "    \n",
        "hanoi(3,1,3,2)\n",
        "\n",
        "\n"
      ],
      "execution_count": 0,
      "outputs": []
    },
    {
      "cell_type": "code",
      "metadata": {
        "id": "gPf82c4PDPcP",
        "colab_type": "code",
        "colab": {}
      },
      "source": [
        ""
      ],
      "execution_count": 0,
      "outputs": []
    },
    {
      "cell_type": "markdown",
      "metadata": {
        "colab_type": "text",
        "id": "r_EBFBdnNNYS"
      },
      "source": [
        "## 10.5 함수를 파일로 만들어두고 사용하기 "
      ]
    },
    {
      "cell_type": "code",
      "metadata": {
        "id": "wWZ5-zlONP4Q",
        "colab_type": "code",
        "colab": {}
      },
      "source": [
        ""
      ],
      "execution_count": 0,
      "outputs": []
    }
  ]
}