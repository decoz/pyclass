{
  "nbformat": 4,
  "nbformat_minor": 0,
  "metadata": {
    "kernelspec": {
      "display_name": "Python 3",
      "language": "python",
      "name": "python3"
    },
    "language_info": {
      "codemirror_mode": {
        "name": "ipython",
        "version": 3
      },
      "file_extension": ".py",
      "mimetype": "text/x-python",
      "name": "python",
      "nbconvert_exporter": "python",
      "pygments_lexer": "ipython3",
      "version": "3.5.2"
    },
    "colab": {
      "name": "review 1[2-4].ipynb",
      "provenance": [],
      "collapsed_sections": [],
      "toc_visible": true,
      "include_colab_link": true
    }
  },
  "cells": [
    {
      "cell_type": "markdown",
      "metadata": {
        "id": "view-in-github",
        "colab_type": "text"
      },
      "source": [
        "<a href=\"https://colab.research.google.com/github/decoz/pyclass/blob/master/review_1%5B2_4%5D.ipynb\" target=\"_parent\"><img src=\"https://colab.research.google.com/assets/colab-badge.svg\" alt=\"Open In Colab\"/></a>"
      ]
    },
    {
      "cell_type": "markdown",
      "metadata": {
        "id": "X2MLOnjTdMXD",
        "colab_type": "text"
      },
      "source": [
        "# 실습 1 복습 \n",
        "\n",
        "이 문서는 실습 2를 수강하시는 분들을 위해 실습 1을 복습, 또는 실습 1에 이해가 잘 안가셨던 분들을 위해 실습 2를 시작하기 위한 기초 문서로 제작되었습니다. \n",
        "\n",
        "실습 1의 내용을 간단히 요약한 내용이며 혹시라도 중간에 이해가 안가는 분들은 실습1 수업자료가 다 올라와 있으니 해당 챕터의 내용을 참조하시길 부탁드립니다. "
      ]
    },
    {
      "cell_type": "markdown",
      "metadata": {
        "id": "NaVeoSbMdMXF",
        "colab_type": "text"
      },
      "source": [
        "## 2 변수와 연산자\n",
        "\n",
        "변수는 컴퓨터가 자료( 숫자 , 계산값 ) 를 저장하기 위한 메모리를 쓰기 편하게 이름을 붙여준 것을 의미합니다.  예를 들어\n",
        "\n",
        "```\n",
        "# 메모리의 빈공간 하나를 확보해 1을 저장하고 이를 a라고 명명한다.\n",
        "a = 1  \n",
        "\n",
        "# 변수 b 와 c 를 만들고 각각 2,3 을 넣는다. \n",
        "b,c = 2,3\n",
        "\n",
        "```\n",
        "\n",
        "라는 뜻이죠 \n",
        "\n",
        "이는 다음과 같은 다양한 응용이 가능합니다. \n",
        "\n",
        "```\n",
        "# b 에 1 + 2 를 계산해서 저장\n",
        "b = 1 + 2   \n",
        "\n",
        "# c 는 a 와 b 의 합산값을 저장\n",
        "c = a + b \n",
        "\n",
        "# a 의 값을 1 증가시킨다. \n",
        "a = a + 1\n",
        "\n",
        "```\n",
        "\n",
        "변수의 작명은 다음과 같은 다양한 형태로 이뤄질 수 있습니다. \n",
        "\n",
        "```\n",
        "# 다양한 변수명들\n",
        "a1 = 0\n",
        "my_var  = 1\n",
        "EwhaUniv = 4\n",
        "```\n",
        "\n",
        "그리고 연산에 주로 사용되는 계산용 연산자는 다음과 같습니다. \n",
        "\n",
        "```\n",
        "a,b = 3, 2 \n",
        "print( a + b ) # 덧셈\n",
        "print( a - b ) # 뺄셈\n",
        "print( a * b ) # 곱셈\n",
        "print( a / b ) # 나눗셈\n",
        "print( a % b ) # 나눗셈\n",
        "\n",
        "```\n",
        "\n"
      ]
    },
    {
      "cell_type": "markdown",
      "metadata": {
        "id": "ajcVw3tX9APs",
        "colab_type": "text"
      },
      "source": [
        "### <font color = red> 연습 2.1 출력결과 예측 ###\n",
        "다음 프로그램을 실행시켰을때 변수의 값의 변화를 생각해보고 어떤 값이 출력될지 가만히 생각해보고 그 결과를 예측해보세요 \n",
        "</font>"
      ]
    },
    {
      "cell_type": "code",
      "metadata": {
        "id": "ItQ8ItQIdMXG",
        "colab_type": "code",
        "outputId": "7545a4be-b2b0-4313-dae4-5ba030f6db5e",
        "colab": {
          "base_uri": "https://localhost:8080/",
          "height": 35
        }
      },
      "source": [
        "a,b = 0,0\n",
        "a = a + 1\n",
        "b = a + b\n",
        "print(a,b)\n",
        "\n",
        "a = a + 1\n",
        "b = a + b\n",
        "print(a,b)\n",
        "\n",
        "a = a + 1\n",
        "b = a + b\n",
        "print(a,b)\n",
        "\n",
        "a = a + 1\n",
        "b = a + b\n",
        "print(a,b)\n"
      ],
      "execution_count": 0,
      "outputs": [
        {
          "output_type": "stream",
          "text": [
            "0 1\n"
          ],
          "name": "stdout"
        }
      ]
    },
    {
      "cell_type": "markdown",
      "metadata": {
        "id": "IHctGz8ddMXJ",
        "colab_type": "text"
      },
      "source": [
        "## 3 IF 와 분기 \n",
        "\n",
        "if 는 조건에 따라 실행 여부를 결정하는 문장입니다. 에를 들어 다음의 문장은 \n",
        "\n",
        "```\n",
        "if x > 3 :\n",
        "    print(\"x is big\")\n",
        "else : \n",
        "    print(\"x is small\")\n",
        "```\n",
        "\n",
        "x 값이 3보다 크면 \"x is big\" 을 출력하고 같거나 작으면 \"x is small\" 을 출력합니다. 이것은 가장 기초적인 분기문 으로서 프로그램이 상태에 따라 각각 다른 작동을 함으로서 다양한 실행패턴을 만드는데 기초가 됩니다.\n",
        "\n",
        "단일 조건에 사용되는 기호는 다음과 같습니다. \n",
        "<b>\n",
        "* a > b : a 가 b 보다 크다 \n",
        "* a < b : b 가 a 보다 크다\n",
        "* a >= b : a 가 b 보다 크거나 같다 \n",
        "* a <= b : b 가 a 보다 크거나 같다\n",
        "* a == b : a 와 b 가 같다. \n",
        "* a != b : a 와 b 가 다르다 \n",
        "       \n",
        "둘 이상의 조건을 논리연산자 or, and 로 묶을 수도 있습니다. \n",
        "\n",
        "\n",
        "    x > y and x > z  : x 는 y 보다 크고 z 보다도 크다      \n",
        "    x > y or x > z : x 가 가장 작은 숫자가 아니다\n",
        "\n",
        "다음은 여러개의 조건을 논리연산자로 묶어서 사용한 예입니다. \n",
        "\n",
        "```\n",
        "# x,y,z 중 x 가 가장 큰 값인지를 체크하는 프로그램\n",
        "if x > y and x > z :\n",
        "    print(\"x is biggest\")\n",
        "\n",
        "\n",
        "# x,y,z 세 값이 같은지 확인\n",
        "if x == y and y == z :\n",
        "    print(\"x,y,z is all same\")\n",
        "\n",
        "```\n",
        "\n",
        "조건으로 분기된 문장들은 다시 그 안에서 다른 조건으로 분기될 수도 있습니다. 이때 특정 특정 분기문에 종속적이라는 것을 탭키로 들여쓰기를 통해 표현합니다. \n",
        "\n",
        "\n",
        "```\n",
        "# x,y,z 중 가장 큰 값의 이름을 찍는 프로그램\n",
        "if x > y :\n",
        "    if x > z : \n",
        "        print(\"x\")\n",
        "    else : \n",
        "        print(\"z\")\n",
        "else :\n",
        "    if y > z : \n",
        "        print(\"y\")\n",
        "    else :\n",
        "        print(\"z\")\n",
        "```\n"
      ]
    },
    {
      "cell_type": "markdown",
      "metadata": {
        "id": "O7XoEBZjEpGl",
        "colab_type": "text"
      },
      "source": [
        "다음 문제는 x,y,z 의 이름을 찍는 문제보다는 간단합니다. 그러니 한번 도전해 보세요. \n",
        "\n",
        "### <font color = red> 연습 3.1 x,y,z 중 가장 큰 값을 출력 ###\n",
        "x,y,z 의 값들 중 가장 큰 값을 찍으세요\n",
        "</font>"
      ]
    },
    {
      "cell_type": "code",
      "metadata": {
        "id": "YH8A5SQCEWKq",
        "colab_type": "code",
        "colab": {}
      },
      "source": [
        "\n",
        "x,y,z = 2,4,3 \n",
        "# 코드를 작성하고 x,y,z 값을 바꾸며 가장 큰 값이 찍히는지 확인\n",
        "\n",
        "\n"
      ],
      "execution_count": 0,
      "outputs": []
    },
    {
      "cell_type": "markdown",
      "metadata": {
        "id": "9TI2X_lFdMXN",
        "colab_type": "text"
      },
      "source": [
        "## 4 While 과 반복문\n",
        "\n",
        "이 부분은 실습 1에서도 강조했지만 실습 2에서도 가장 중요한 반복문의 기초입니다.  대부분의 알고리즘은 반복패턴의 변화에 의해 만들어지며 이 부분에 대한 이해나 훈련이 부족하여 프로그래밍을 포기하는 전공자들이 많습니다. \n",
        "\n",
        "반복문에는 주로 for 와 while 이 사용되며 사실 실무에서는 for 문을 더 많이 사용함에도 while 문을 먼저 설명하는 건 if 와 매우 유사하며 가장 원초적인 형태의 반복문이기 때문입니다. \n",
        "\n",
        "if가 실행해야 할지 말지를 결정하는 문장이었다면 while 은 반복할지 말지를 결정하는 문장이라고 보시면 됩니다. \n",
        "\n",
        "```\n",
        "# x가 10보다 작으면 x를 출력\n",
        "if x < 10 :\n",
        "  print(x)\n",
        "\n",
        "# x가 10보다 작은 한 x를  계속 출력\n",
        "while x < 10 :\n",
        "  print(x)\n",
        "```\n",
        "\n",
        "예제에서 둘다 조건이 틀리면 아무 행동도 하지 않습니다. 그러나 조건이 맞을 경우 if 가 x를 출력할지 말지를 결정하는 분기라면, while 은 그 조건이 만족되는 한 계속 반복하게 만드는 분기입니다. \n",
        "\n",
        "위의 while문은 x 의 변화가 없으므로 무한이 반복되며 이는 소위 '무한루프' 라고 표현하여 보통 잘못된 프로그램으로 시험삼아라도 작동시키지 안는 것을 추천드립니다. \n",
        "\n",
        "주로 많이 사용하는 방식은 x값의 변화를 줘서 일정반복 후 멈추게 하는 코드죠. \n",
        "\n",
        "```\n",
        "# 0 부터 9 까지 출력을 반복하는 코드 \n",
        "x = 0 \n",
        "while x < 10 :\n",
        "  print(x) \n",
        "  x = x + 1\n",
        "```\n",
        "\n",
        "이 반복문의 응용 범위는 무궁무진하며 현대 컴퓨터가 해내는 엄청난 일들의 가장 기초가 되는 원리입니다. \n",
        "\n",
        "몇몇 변형 예들을 보도록 하죠 \n",
        "\n",
        "```\n",
        "# 1부터 10 이내의 홀수만 출력\n",
        "a = 1\n",
        "while a <= 10 :\n",
        "    print(a)    \n",
        "    a = a + 2\n",
        "\n",
        "\n",
        "# 9부터 1까지 내림차순으로 출력\n",
        "a = 9\n",
        "while a > 0 :\n",
        "    print(a)    \n",
        "    a = a - 1\n",
        "\n",
        "\n",
        "# 1부터 10까지의 합산값 계산\n",
        "a,b = 1,0\n",
        "while a <= 10 :\n",
        "  b = b + a\n",
        "  a = a + 1\n",
        "print(b)\n",
        "```\n",
        "\n",
        "\n",
        "\n"
      ]
    },
    {
      "cell_type": "markdown",
      "metadata": {
        "id": "vVBdmu0tQjT7",
        "colab_type": "text"
      },
      "source": [
        "여기까지는 그래도 크게 이해가 어려우신 부분이 없으실텐데..문제는 이 while문도 if 문처럼 중첩이 된다는 것이죠. 사실 프로그래밍을 공부하는 사람들의 가장 큰 첫번째 장벽이 바로 중첩반복 (다중루프) 입니다. \n",
        "\n",
        "다음 코드를 한번 보고 설명을 드리겠습니다. \n",
        "\n",
        "```\n",
        "# 1부터 5까지 출력 \n",
        "a = 1\n",
        "while a <= 5 :\n",
        "  print(a)\n",
        "  a = a + 1\n",
        "\n",
        "# Hello를 3번 출력\n",
        "b = 0 \n",
        "while b < 3:\n",
        "  print(\"Hello\")\n",
        "  b = b + 1\n",
        "```\n",
        "\n",
        "위의 두 프로그램을 이해하는 것은 어렵지 안을겁니다.  그런데.. 만일\n",
        "아래 프로그램에 print(\"Hello\") 대신 위의 프로그램을 집어넣으면 어떻게 될까요?  그러면 Hello 가 찍히는 대신 1 부터 5까지 찍는 코드가 3번 반복되게 됩니다.  그게 다음의 코드입니다. \n",
        "\n",
        "```\n",
        "# 1부터 5까지를 3번 출력\n",
        "b = 0 \n",
        "while b < 3 : \n",
        "  a = 1\n",
        "  while a <= 5 :\n",
        "    print(a)\n",
        "    a = a + 1\n",
        "  b = b + 1\n",
        "```\n",
        "\n",
        "들여쓰기를 주의하시고 보면 결국 print(\"Hello\")대신 위의 코드가 들어간 걸 알수 있습니다. 즉 1 부터 5까지 찍는 a를 사용한 while 문이 다시 b를 사용한 while 문에 의해 3번 반복되는 것이죠. 이것을 반복의 중첩 .. 다중 루프라고도 표현합니다.  마치 1시간마다 0~60 분이 반복되듯 위에서는 b가 시침 a가 분침 역할을 하게되는 거죠. \n",
        "\n",
        "이 다중루프는 프로그램의 가능성을 더욱 무궁무진하게 해줌과 동시에 프로그래밍을 이해하기 어려운 존재로 만드는 일등공신입니다. \n",
        "\n",
        "이제 이 다중루프의 대표적인 예제를 봅시다. \n",
        "\n",
        "\n",
        "\n",
        "\n"
      ]
    },
    {
      "cell_type": "code",
      "metadata": {
        "id": "Rc3h0m0DU5zW",
        "colab_type": "code",
        "colab": {
          "base_uri": "https://localhost:8080/",
          "height": 194
        },
        "outputId": "ed31608d-a920-4122-c090-9665fae097cd"
      },
      "source": [
        "\n",
        "# 0을 10 * 10 으로 찍기 \n",
        "\n",
        "b = 0\n",
        "while b < 10 :\n",
        "  a = 0 \n",
        "  while a < 10 :\n",
        "    print(0, end = ' ')  # end = ' ' 옵션을 주면 찍은 후에 줄을 바꾸지 않고 옆으로 계속 찍음\n",
        "    a = a + 1\n",
        "  print()   # 줄을 바꾸기 위한 print문 \n",
        "  b = b + 1\n",
        "\n"
      ],
      "execution_count": 2,
      "outputs": [
        {
          "output_type": "stream",
          "text": [
            "0 0 0 0 0 0 0 0 0 0 \n",
            "0 0 0 0 0 0 0 0 0 0 \n",
            "0 0 0 0 0 0 0 0 0 0 \n",
            "0 0 0 0 0 0 0 0 0 0 \n",
            "0 0 0 0 0 0 0 0 0 0 \n",
            "0 0 0 0 0 0 0 0 0 0 \n",
            "0 0 0 0 0 0 0 0 0 0 \n",
            "0 0 0 0 0 0 0 0 0 0 \n",
            "0 0 0 0 0 0 0 0 0 0 \n",
            "0 0 0 0 0 0 0 0 0 0 \n"
          ],
          "name": "stdout"
        }
      ]
    },
    {
      "cell_type": "markdown",
      "metadata": {
        "id": "pK4bWr5cFKN2",
        "colab_type": "text"
      },
      "source": [
        "복잡하다면 복잡하지만 익숙해지면 그래도 가장 단순한 형태의 이중루프입니다.  \n",
        "\n",
        "참고로 print( ..., end = ' ' ) 는 print 가 제공하는 옵션인데 원래 print는 끝나고 디폴트로 줄을 바꾸는 글자가 추가되는데 그것을 다른걸로 교체해 줄을 바꾸지 안도록 한겁니다. \n",
        "\n",
        "이제 그럼 위의 예를 응한 문제를 한번 풀어보죠.\n",
        "\n",
        "### <font color = red> 연습 4.1 : 0과 1의 체크무늬\n",
        "\n",
        "위의 예를 다음과 같은 패턴의 체크무늬로 10 x 10 을 만들어보세요\n",
        "\n",
        "0 1 0 1 0 .. \n",
        "1 0 1 0 1 ..\n",
        "0 1 0 1 0 .. \n",
        "...\n",
        "\n",
        "</font>"
      ]
    },
    {
      "cell_type": "code",
      "metadata": {
        "id": "SlGyEJfddMXP",
        "colab_type": "code",
        "colab": {}
      },
      "source": [
        "# 연습 4.1 코드 작성 \n"
      ],
      "execution_count": 0,
      "outputs": []
    },
    {
      "cell_type": "markdown",
      "metadata": {
        "id": "bLzRFNJedMXT",
        "colab_type": "text"
      },
      "source": [
        "a = a + 1 은 2장에서 배우셨듯이 a라는 변수의 값을 하나 더 늘리는 역할을 합니다. 즉 한번 실행할때마다 a 가 1,2,3.. 이렇게 증가하는 것이죠. a 가 10이 되면 a < 10 이 성립되지 안기때문에 더이상 반복을 하지 안게 됩니다. 즉 조건을 잘 작성해서 원하는 만큼 수행을 반복한 후에 조건이 거짓이 되어 탈출하도록 만드는게 while 문을 잘 다루는 방법이 됩니다. "
      ]
    },
    {
      "cell_type": "markdown",
      "metadata": {
        "id": "sEje4ZpydMXU",
        "colab_type": "text"
      },
      "source": [
        "#### <font color = red> 연습 4.2: 계단 형태 만들기 \n",
        "<font color = red> 다음과 같은 모양이 출력되도록 하는 방법을 생각해보세요 \n",
        "<pre>\n",
        "0\n",
        "0 0\n",
        "0 0 0\n",
        "0 0 0 0\n",
        "0 0 0 0 0 \n",
        "0 0 0 0 0 0\n",
        "0 0 0 0 0 0 0 \n",
        "'''\n",
        "</pre>\n"
      ]
    },
    {
      "cell_type": "code",
      "metadata": {
        "id": "mqVpDZM5dMXV",
        "colab_type": "code",
        "colab": {}
      },
      "source": [
        "# 연습 4.2 코드 작성\n"
      ],
      "execution_count": 0,
      "outputs": []
    }
  ]
}