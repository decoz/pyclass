{
  "nbformat": 4,
  "nbformat_minor": 0,
  "metadata": {
    "kernelspec": {
      "display_name": "Python 3",
      "language": "python",
      "name": "python3"
    },
    "language_info": {
      "codemirror_mode": {
        "name": "ipython",
        "version": 3
      },
      "file_extension": ".py",
      "mimetype": "text/x-python",
      "name": "python",
      "nbconvert_exporter": "python",
      "pygments_lexer": "ipython3",
      "version": "3.5.2"
    },
    "colab": {
      "name": "1 python and colab.ipynb",
      "provenance": [],
      "collapsed_sections": [],
      "toc_visible": true,
      "include_colab_link": true
    }
  },
  "cells": [
    {
      "cell_type": "markdown",
      "metadata": {
        "id": "view-in-github",
        "colab_type": "text"
      },
      "source": [
        "<a href=\"https://colab.research.google.com/github/decoz/pyclass/blob/master/1_python_and_colab.ipynb\" target=\"_parent\"><img src=\"https://colab.research.google.com/assets/colab-badge.svg\" alt=\"Open In Colab\"/></a>"
      ]
    },
    {
      "cell_type": "markdown",
      "metadata": {
        "id": "NZa2ZSmURCzv",
        "colab_type": "text"
      },
      "source": [
        "# 0. 파이썬 프로그래밍\n",
        "\n",
        "파이썬은 1991년에 반로섬이라는  개발자에 의해 개발된 언어로서 배우기 쉬우면서도 강력한 기능을 지닌 언어로 초보자와 숙련자 양측에 사랑을 받는 언어입니다. 특히 수학이나 과학, 인공지능등에 필요한 행렬 연산이등에 있어서 강력한 지원을 받기 때문에 컴퓨터 프로그래머를 지향하지 안더라도 활용할 수 있는 범위가 넓은 언어이기도 합니다. \n",
        "\n",
        "\n",
        "\n"
      ]
    },
    {
      "cell_type": "markdown",
      "metadata": {
        "id": "C6hCIalwcBnE",
        "colab_type": "text"
      },
      "source": [
        "\n",
        "## 0.1 파이썬의 개발환경들\n",
        "\n",
        "파이썬 프로그램을 작성하기 위해선 일반적으로는 http://www.python.org  에서 직접 프로그램을 파이썬 배포판을 다운 받아야 합니다. 그리고 이를 지원하는 다양한 프로그래밍 작성 환경을 선택할 수 있습니다. 심지어는 메모장에서도 프로그램을 작성할 수 있습니다. \n",
        "![대체 텍스트](https://github.com/decoz/pyclass/blob/master/images/0_1%20python%20org.png?raw=true)\n",
        "\n",
        "\n",
        "### 주피터 노트북\n",
        "\n",
        "특히 파이썬의 보급에 큰 역할을 한 개발환경으로는 jpyter notebook 이란 것이 있는데 이는 자기 컴퓨터를 웹서버처럼 홈페이지형태로 프로그램을 작성을 가능하게 합니다. 프로그램 코드와 설명을 같이 작성하고 프로그램을 각각 셀 형태로 나누어 작성하고 부분적으로 실행이 가능하여 교육이나 과학쪽에선 널리 사용되고 있습니다. \n",
        "\n",
        "![대체 텍스트](https://github.com/decoz/pyclass/blob/master/images/0_2%20jupyter.png?raw=true)\n",
        "\n",
        "### 구글 Colab\n",
        "\n",
        "최근에는 google 측에서 colab 이라는 환경을 제공하여 아예 구글의 가상머신에서 이와 유사한 환경을 제공하는데 이 경우는 아예 프로그램의 작동이 구글의 가상머신에서 동작하기 때문에 **파이썬 패키지를 설치하지 안고도** 바로 구글의 웹서비스에 접속해서 프로그램을 작성할 수 있읍니다. \n",
        "\n",
        "![대체 텍스트](https://github.com/decoz/pyclass/blob/master/images/0_3%20colab.png?raw=true)\n",
        "\n",
        "본 수업에서도 이번학기부터는 학생들 각자 설치를 하고 실행하며 발생하는 문제들을 최소하하기 위해서 google colab 을 이용해 프로그램을 작성하도록 하겠습니다.\n",
        "\n",
        "\n"
      ]
    },
    {
      "cell_type": "markdown",
      "metadata": {
        "id": "NVgU03PnAY_S",
        "colab_type": "text"
      },
      "source": [
        "## 0.2 Colab 사용하여 수업자료 찾아보기 \n",
        "\n",
        "아마 이 페이지를 보고계신 분들은 Colab 페이지에 접속하신 상태겠지만 재차 설명드리면 Colab 을 사용하는 방법은 Colab 사이트에 (http://colab.research.google.com) 접속하시면 됩니다. ( 단, Colab 을 제대로 사용하기 위해선 번거로우셔도 Google ID 가 필요합니다. 없으신 분은 생성을 부탁드립니다. ) \n",
        "\n",
        "그러면 다음과 같은 화면이 나타나실거라고 생각합니다. \n",
        "\n",
        "![대체 텍스트](https://github.com/decoz/pyclass/blob/master/images/0_4%20colab%20home.png?raw=true)\n",
        "\n",
        "이때 페이지 상단의 메뉴중에 \n",
        "\n",
        "> 파일 > 노트열기 > github 탭 선택 \n",
        "\n",
        "을 하시면 사용자 아이디를 갖고 찾을 수 있도록 나옵니다. 여기에 \n",
        "\n",
        "> decoz 검색 > 저장소: decoz/pyclass 선택\n",
        "\n",
        "을 하시면 수업에 사용되는 자료들을 보실 수 있습니다. 여기에서 당일 수업에 해당하는 자료를 클릭해 억세스 하면 됩니다. \n",
        "\n",
        "![대체 텍스트](https://github.com/decoz/pyclass/blob/master/images/0_5%20access%20textbook.png?raw=true)"
      ]
    },
    {
      "cell_type": "markdown",
      "metadata": {
        "id": "UzutguQIQLo3",
        "colab_type": "text"
      },
      "source": [
        "# 1. colab 을 사용하여 파이썬 프로그래밍하기\n",
        "\n",
        "colab 은 웹상에서 파이썬 프로그램을 간략히 작성하고 테스트해 볼 수 있는 환경입니다. 자세한 환경은 차차 알아가도록 하고 간단하게 사용법에 대해 설명드리겠습니다. "
      ]
    },
    {
      "cell_type": "markdown",
      "metadata": {
        "id": "zWczR_S5QLo6",
        "colab_type": "text"
      },
      "source": [
        " ## 1.1 화면설명\n",
        "\n",
        "colab 환경은 은 크게 텍스트셀과 코드셀로 구성됩니다.  텍스트는 지금 이 글처럼 보고 설명 및 이미지등을 웹페이지와 유사하게 제공하는 부분으로 수업에서 여러분들이 아셔야 할 지식들을 제공합니다. \n",
        "![text area](https://github.com/decoz/pyclass/blob/master/images/1_1%20txt%20area.png?raw=true)\n",
        "\n",
        "이와 달리 [] 으로 표시되는 회색영역은 작성된 프로그램을 실행하거나 직접 작성해서 실행할 수 있는 영역으로 코드셀로 불립니다. 이 셀을 클릭시에는 코드를 수정할 수 있으며 좌측 실행버튼으로 직접 실행도 가능합니다. \n",
        "\n",
        "![코드영역](https://github.com/decoz/pyclass/blob/master/images/1_2%20code%20area.png?raw=true)\n",
        "\n",
        "수업을 통해 여러분들은 텍스트셀에 제공되는 프로그램에 대한 지식들을 참고한 후에 코드셀에 적힌 프로그램들을 직접 실행해서 그 결과를 확인하고 직접 프로그램을 작성해서 응용문제를 풀어가며 프로그램에 대한 경험을 습득합니다. \n",
        "\n"
      ]
    },
    {
      "cell_type": "markdown",
      "metadata": {
        "id": "xWKFF60zQLo9",
        "colab_type": "text"
      },
      "source": [
        " ## 1.2 프로그램 실행해보기\n",
        "\n",
        "그러면 이번에는 프로그램을 직접 프로그램을 실행하도록 해보겠습니다. 아래에 있는 프로그램 코드를 클릭한 후에 좌측의 실행 버튼을 눌러주세요. \n",
        "\n",
        "\n",
        "\n",
        "\n"
      ]
    },
    {
      "cell_type": "code",
      "metadata": {
        "id": "LMOJbQt4QLo-",
        "colab_type": "code",
        "outputId": "68dcac45-cf12-4b5a-84e8-6ebabe200e7b",
        "colab": {
          "base_uri": "https://localhost:8080/",
          "height": 35
        }
      },
      "source": [
        "print(\"첫 파이썬 프로그램을 실행합니다\")"
      ],
      "execution_count": 0,
      "outputs": [
        {
          "output_type": "stream",
          "text": [
            "첫 파이썬 프로그램을 실행합니다\n"
          ],
          "name": "stdout"
        }
      ]
    },
    {
      "cell_type": "markdown",
      "metadata": {
        "id": "JL4povd6QLpC",
        "colab_type": "text"
      },
      "source": [
        "실행을 시키시면 코드 아래에 텍스트가 생성된걸 보실 수 있습니다. 그것이 print 명령의 결과로 출력된 것입니다. \n",
        "\n",
        "이번에는 다음 코드를 클릭한다음에 shift + enter 키를 눌러주세요\n"
      ]
    },
    {
      "cell_type": "code",
      "metadata": {
        "id": "YkuNgt_xQLpD",
        "colab_type": "code",
        "outputId": "13f42d13-a6dc-4494-9798-3063c5688717",
        "colab": {
          "base_uri": "https://localhost:8080/",
          "height": 35
        }
      },
      "source": [
        "print(\"shift enter 키로도 실행이 가능합니다. \")\n"
      ],
      "execution_count": 0,
      "outputs": [
        {
          "output_type": "stream",
          "text": [
            "shift enter 키로도 실행이 가능합니다. \n"
          ],
          "name": "stdout"
        }
      ]
    },
    {
      "cell_type": "markdown",
      "metadata": {
        "id": "YW8y_Lt2SMu4",
        "colab_type": "text"
      },
      "source": [
        "키보드로 프로그램을 작성한 후에는 바로 shift+enter 로 실행하면 편합니다. \n",
        "\n",
        "이번에는 여러분들이 직접 코드를 넣어보도록 하겠습니다. 아래의 빈 셀에 다음과 같은 문장을 입력해서 실행해보세요. 물론 복사, 붙여넣기를 하셔도 됩니다. \n",
        "\n",
        "> print(\"아무 내용이나 넣어보세요\")`\n",
        "\n",
        "\n"
      ]
    },
    {
      "cell_type": "code",
      "metadata": {
        "id": "UbVtCF4rUJVU",
        "colab_type": "code",
        "colab": {}
      },
      "source": [
        ""
      ],
      "execution_count": 0,
      "outputs": []
    },
    {
      "cell_type": "markdown",
      "metadata": {
        "id": "WFVrQ9CZUdnI",
        "colab_type": "text"
      },
      "source": [
        "\n",
        "이번에는 여러분이 직접 코드셀을 추가해서 해보도록 하죠. 지금 이 셀을 클릭 하신 후에 상단에 \"+ 코드\" 라는 메뉴를 누르세요 \n",
        "\n",
        "![대체 텍스트](https://github.com/decoz/pyclass/blob/master/images/1_3%20add%20code.png?raw=true)"
      ]
    },
    {
      "cell_type": "markdown",
      "metadata": {
        "id": "_roAmzJKWemo",
        "colab_type": "text"
      },
      "source": [
        "여기까지 따라오셨다면 이제 수업에 제공되는 자료를 이용해 프로그램을 작성하시고 실행할 수 있으실겁니다.  다음에는 제공된 자료를 여러분들이 저장해두는 방법에 대해 설명하겠습니다. "
      ]
    },
    {
      "cell_type": "markdown",
      "metadata": {
        "id": "B-iWg08vS7yc",
        "colab_type": "text"
      },
      "source": [
        "## 1.3 문서를 저장하기 \n",
        "\n",
        "수업을 들으시는 분들은 수업에서 제공되는 문서에 프로그램을 추가하거나 텍스트를 편집하고 고칠수 있습니다. 그러나 여러사람이 함께 볼 문서이기 때문에 이 문서를 저장하는 것은 허용되지 안습니다. 하지만 수업시간에 본인이 작성한 프로그램이나 또는 개인적으로 기록할 내용을 타이핑해서 남겨두고 싶을 수 있습니다. \n",
        "\n",
        "이런 경우 여러분들은 사본을 만들어 저장하고 또 나중에 실행할 수 있습니다. \n",
        "\n",
        "\n",
        "\n"
      ]
    },
    {
      "cell_type": "markdown",
      "metadata": {
        "id": "wuDnwKbg8xYB",
        "colab_type": "text"
      },
      "source": [
        "### 1.3.1 inpynb 다운로드 및 다시 열기  \n",
        "\n",
        "첫번째 방법은 현재 보고 계신 문서를 ipynb 파일로 다운 받으실 수 있습니다.  \n",
        "\n",
        "> 파일 >  ipynb 다운로드\n",
        "\n",
        "를 선택하시면 현재 문서를 .ipynb 파일로 받으실수 있는데 이것은 jupyter notebook 에서 사용하는 표준 파일입니다. \n",
        "\n",
        "![대체 텍스트](https://github.com/decoz/pyclass/blob/master/images/1_3_1%20download%20copy.png?raw=true)\n",
        "\n",
        "\n",
        "이 파일을 나중에 다시 여실때는 colab 에 접속하신 후에 \n",
        "\n",
        "> 파일 > 노트업로드 \n",
        "\n",
        "를 선택하시면 됩니다.\n",
        "\n",
        "![대체 텍스트](https://github.com/decoz/pyclass/blob/master/images/1_3_2%20upload%20file.png?raw=true)"
      ]
    }
  ]
}