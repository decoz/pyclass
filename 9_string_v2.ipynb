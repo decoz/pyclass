{
  "nbformat": 4,
  "nbformat_minor": 0,
  "metadata": {
    "colab": {
      "name": "9_string_v2.ipynb",
      "provenance": [],
      "toc_visible": true,
      "collapsed_sections": [
        "sPAkqIxB4l4J",
        "FSMg5Mon6VvC",
        "4B_y3IuW6s92",
        "_7fO_rFu9NxO",
        "uzXeYB_8G0xz",
        "9A3G832aDwYb",
        "RCfUgfMSEf1V",
        "1dBkezZV5dkF",
        "nOCMiOCA5A7n",
        "FpYOKp_5NkwN"
      ]
    },
    "kernelspec": {
      "name": "python3",
      "display_name": "Python 3"
    }
  },
  "cells": [
    {
      "cell_type": "markdown",
      "metadata": {
        "id": "_WCh05wozi-u"
      },
      "source": [
        "# 9 문자열 \n",
        "\n",
        "\n",
        "문자열이란 일반적인 숫자대신 글자들을 담을 수 있는 변수를 의미합니다. 사실 내부적으로는 각 글자들마다 대응된 숫자들이 존재합니다. 이를 코드라고 하며 글자들은 이런 코드값으로 저장되지만 이를 매번 숫자->글자로 변환해서 출력하고 처리하려면 너무 헷갈리기 때문에 컴퓨터에서는 이런 문자들을 저장하는 변수는 따로 분자형 변수, 또는 문자열 이렇게 표현하며 숫자와는 다른 방식으로 다룹니다. "
      ]
    },
    {
      "cell_type": "markdown",
      "metadata": {
        "id": "ALO4IpYEzoqB"
      },
      "source": [
        "## 9.1 문자열 변수\n",
        "\n"
      ]
    },
    {
      "cell_type": "markdown",
      "metadata": {
        "id": "p1KXdIYw2ybq"
      },
      "source": [
        "먼저 문자열 변수의 간단한 코드부터 보도록 하겠습니다. \n",
        "\n",
        "#### 코드: 간단한 문자열 변수와 출력"
      ]
    },
    {
      "cell_type": "code",
      "metadata": {
        "id": "7uZT-pe4thx8"
      },
      "source": [
        "s0 = \"a\"\n",
        "s1 = 'txt'\n",
        "s2 = \"this 'is' string\"\n",
        "s3 = 'this is \"string\"'\n",
        "s4 = \"line change \\n is possible \"\n",
        "s5 = \"string start with \\\" or \\' \"\n",
        "\n",
        "print(s0, s1)\n",
        "print(s2 + s3)\n",
        "print(s4)\n",
        "print(s5)"
      ],
      "execution_count": null,
      "outputs": []
    },
    {
      "cell_type": "markdown",
      "metadata": {
        "id": "W2Z9CRn83EKz"
      },
      "source": [
        "위의 코드에서 문자열 변수의 + 는 두 문자열을 합한다는 뜻입니다. 아래의 코드를 보시면 더 이해가 쉬우실 겁니다. \n",
        "\n",
        "#### 코드: 문자열 합치기 "
      ]
    },
    {
      "cell_type": "code",
      "metadata": {
        "id": "JdUkCp_e3reX"
      },
      "source": [
        "s1, s2 = \"abc\", \"def\"\n",
        "s0 = s1 + s2 \n",
        "print(s0)\n",
        "s0 = s1 + \" \" + s2 \n",
        "print(s0)"
      ],
      "execution_count": null,
      "outputs": []
    },
    {
      "cell_type": "markdown",
      "metadata": {
        "id": "eb7GeL2qzvKB"
      },
      "source": [
        "## 9.2 문자열 개별문자 접근\n",
        "문자열은 실제 배열처럼 다룰 수 있다고 위에서 설명 드렸습니다.  그러기에 다음과 같은 코드도 성립합니다.  \n"
      ]
    },
    {
      "cell_type": "markdown",
      "metadata": {
        "id": "lnu4KHED4FZR"
      },
      "source": [
        "#### 코드: 문자열 길이 구하기 "
      ]
    },
    {
      "cell_type": "code",
      "metadata": {
        "id": "MdGYo45T4L-z"
      },
      "source": [
        "s1 = \"123\"\n",
        "print( len(s1) )"
      ],
      "execution_count": null,
      "outputs": []
    },
    {
      "cell_type": "markdown",
      "metadata": {
        "id": "0oolWLYq4GNp"
      },
      "source": [
        "위에서는 여러 문자로 이뤄진 문자열을 하나의 변수로 다루고 있지만 이것은 개별 글자의 배열이며 그러므로 각각의 글자단위의 처리가 가능합니다.  이제 이를 이용해 각각의 글자를 꺼내서 찍어보도록 하겠습니다. \n",
        "\n",
        "\n",
        "#### 코드: 문자열 한글자씩 찍기"
      ]
    },
    {
      "cell_type": "code",
      "metadata": {
        "id": "2IWKKMWD4g1t"
      },
      "source": [
        "s = \"abcde\"\n",
        "for c in s : \n",
        "  print(c)"
      ],
      "execution_count": null,
      "outputs": []
    },
    {
      "cell_type": "markdown",
      "metadata": {
        "id": "pTaXOECO4GU-"
      },
      "source": [
        "#### 코드: 문자열 앞 3글자만 찍기"
      ]
    },
    {
      "cell_type": "code",
      "metadata": {
        "id": "QxFoUHxX5PJt"
      },
      "source": [
        "for i in range(3):\n",
        "  print(s[i])"
      ],
      "execution_count": null,
      "outputs": []
    },
    {
      "cell_type": "markdown",
      "metadata": {
        "id": "6qg_t2844CQ0"
      },
      "source": [
        "    \n",
        "####<font color = 'red'> 연습 9.2.1 : 문자열 제일 뒤의 3글자만 찍기 \n",
        "다음과 같은 문자열이 있을때 제일 뒤의 세글자만 찍는 코드를 작성해보세요\n",
        "```\n",
        "s = 'abcdefg'\n",
        "```\n",
        "</font>  "
      ]
    },
    {
      "cell_type": "code",
      "metadata": {
        "id": "RLq6eXFv4CQ7"
      },
      "source": [
        "s = 'abcdefg'\n",
        "#연습문제 9.2.1의 코드를 여기에 작성하세요\n",
        "\n"
      ],
      "execution_count": null,
      "outputs": []
    },
    {
      "cell_type": "markdown",
      "metadata": {
        "id": "sPAkqIxB4l4J"
      },
      "source": [
        "    \n",
        "####<font color = 'red'> 연습 9.2.2 : 중복문자열 만들기\n",
        "문자열 s1 글자가 다음과 같을때 s1의 글자를 두개씩 포함한 문자열 s2를 만들어 출력하세요\n",
        "</font>  \n",
        "```\n",
        "s1 = 'abc' -> s2 = 'aabbcc'\n",
        "```\n"
      ]
    },
    {
      "cell_type": "code",
      "metadata": {
        "id": "L-usMkdN4l4T"
      },
      "source": [
        "s1 = 'abc'\n",
        "#연습문제 9.2.2의 코드를 여기에 작성하세요\n",
        "\n"
      ],
      "execution_count": null,
      "outputs": []
    },
    {
      "cell_type": "markdown",
      "metadata": {
        "id": "-qi1YWUm8ziT"
      },
      "source": [
        "## 9.3 다양한 문자열 처리\n",
        "\n",
        "이제 좀더 다양한 문자열 처리 예제들을 보도록 하죠. "
      ]
    },
    {
      "cell_type": "markdown",
      "metadata": {
        "id": "4VSE9lAKzvX1"
      },
      "source": [
        "### 9.3.1 문자 치환\n",
        "\n",
        "우선 널리 사용되는 기법중에는 문자열 치환이라는 개념이 있습니다.  이는 특정 글자, 단어를 다른 문자열로 교체하는 것으로 예를 들어 \n",
        "\n",
        "```\n",
        "'this is string' -> 'this_is_string'\n",
        "```\n",
        "\n",
        "이렇게 빈칸을 '_' 글자로 교체하는 예를 한번 보도록 하죠. 이를 위해서는 글자의 값을 비교하는 구문을 이해하셔야 하는데요 예를 들어 어떤 문자열의 처음 값이 a 인 경우를 체크하려면 \n",
        "\n",
        "```\n",
        "s = 'abc'\n",
        "if s[0] == 'a' :\n",
        "  print(\"s begin with character 'a'\")\n",
        "```\n",
        "\n",
        "이런 식으로 작성해주시면 됩니다. 이해가 가셨다면 실제로 공백문자 ' ' 를 어래 밑줄 문자 '_' 로 바꾸는 코드를 보도록 하죠 "
      ]
    },
    {
      "cell_type": "markdown",
      "metadata": {
        "id": "FSMg5Mon6VvC"
      },
      "source": [
        "#### 코드: 문자열 특정 문자를 바꾸기 "
      ]
    },
    {
      "cell_type": "code",
      "metadata": {
        "id": "o7zWPRE26mZl"
      },
      "source": [
        "s = \"str is immutable array\"\n",
        "\n",
        "\n",
        "ns = \"\" # 새로운 문자열\n",
        "for c in s: # 문자열의 글자들을 카피하는 반복\n",
        "  if c == ' ' :      # 공백일 경우는 '_' 을 카피\n",
        "    ns = ns + '_'  \n",
        "  else :                # 아닌 경우는 원 글자를 카피\n",
        "    ns = ns + c\n",
        "s = ns \n",
        "\n",
        "print(s)"
      ],
      "execution_count": null,
      "outputs": []
    },
    {
      "cell_type": "markdown",
      "metadata": {
        "id": "4B_y3IuW6s92"
      },
      "source": [
        "결국 문자열도 배열의 일환으로 다룰 수 있다는 것을 아실 수 있을 겁니다. 그러면 다음의 연습문제들을 한번 보도록 하겠습니다. \n",
        "\n",
        "    \n",
        "####<font color = 'red'> 연습 9.3.1 : 단어단위로 줄을 바꿔서 출력 <br>\n",
        "특정 문자열이 있을때 그 안의 단어들이 각각 다른 라인에 찍히도록 해봅시다. \n",
        "</font> \n",
        "```\n",
        "'change lines by words'\n",
        "\n",
        "출력: \n",
        "\n",
        "change \n",
        "lines\n",
        "by \n",
        "words\n",
        "```\n",
        "\n",
        " "
      ]
    },
    {
      "cell_type": "code",
      "metadata": {
        "id": "i3Mj-kpg8f6B"
      },
      "source": [
        "s = 'change lines by words'\n",
        "#연습문제 9.3.1의 코드를 여기에 작성하세요\n",
        "\n"
      ],
      "execution_count": null,
      "outputs": []
    },
    {
      "cell_type": "markdown",
      "metadata": {
        "id": "_7fO_rFu9NxO"
      },
      "source": [
        "<br>\n",
        "\n",
        "이번에는 문자열에 빈칸(공백문자 ' ') 가 여러개가 붙어서 들어갈 경우 이 문자를 하나로 합쳐서 출력해주는 코드를 한 번 생각해보세요\n",
        "    \n",
        "####<font color = 'red'> 연습 9.3.2 : 중복 빈칸 없애기 <br>\n",
        "특정 문자열이 있을때 그 안의 단어들이 각각 다른 라인에 찍히도록 해봅시다. \n",
        "</font> \n",
        "```\n",
        "'multiple   blank    is   useless'\n",
        "-> \n",
        "출력: \n",
        "'multiple blank is useless'\n",
        "```\n",
        "\n",
        " "
      ]
    },
    {
      "cell_type": "code",
      "metadata": {
        "id": "VWntP8Ai9NxV"
      },
      "source": [
        "s = 'multiple   blank    is   useless'\n",
        "#연습문제 9.3.2의 코드를 여기에 작성하세요\n",
        "\n",
        "\n"
      ],
      "execution_count": null,
      "outputs": []
    },
    {
      "cell_type": "markdown",
      "metadata": {
        "id": "byJnR98FzveI"
      },
      "source": [
        "### 9.3.2 숫자 <-> 문자\n",
        "\n",
        "이번에는 문자열과 숫자의 차이를 한 번 보도록 하죠. 다음 두 코드는 같은 출력을 지닙니다. \n",
        "\n",
        "```\n",
        "a = 123 \n",
        "print(a)\n",
        "```\n",
        "```\n",
        "a = '123'\n",
        "print(a)\n",
        "```\n",
        "하지만 하나는 숫자이고 하나는 문자열이므로 다음 코드는 서로 다른 결과를 내죠\n",
        "\n",
        "```\n",
        "a,b = 1,2\n",
        "print(a+b) \n",
        "-> 3\n",
        "```\n",
        "```\n",
        "a,b = '1', '2'\n",
        "print( a+b )\n",
        "-> 12\n",
        "```\n",
        "\n",
        "아래쪽 a,b 는 둘다 문자열이므로 a+b 는 두 문자열을 합친다는 의미로서 '12' 가 된 것이죠. 그러므로 문자열 안에 있는 숫자 문자를 숫자로 변환하려면 다음과 같이 int() 를 사용해야 합니다. \n"
      ]
    },
    {
      "cell_type": "code",
      "metadata": {
        "id": "NLg5W3yqD2mj"
      },
      "source": [
        "a,b = '11', '2'\n",
        "print( int(a) + int(b) )\n"
      ],
      "execution_count": null,
      "outputs": []
    },
    {
      "cell_type": "markdown",
      "metadata": {
        "id": "jRGpzIF7DEJ_"
      },
      "source": [
        "문자는 숫자와는 다르지만 그럼에도 문자끼리의 크기는 비교가 가능합니다.  "
      ]
    },
    {
      "cell_type": "code",
      "metadata": {
        "id": "uW089YxaGiKb"
      },
      "source": [
        "a,b = '31','255'\n",
        "if a < b : \n",
        "  print(\"b is bigger\")"
      ],
      "execution_count": null,
      "outputs": []
    },
    {
      "cell_type": "markdown",
      "metadata": {
        "id": "uzXeYB_8G0xz"
      },
      "source": [
        "이는 두 글자의 코드값을 비교하기 때문입니다. 그러므로 '1' < 'a' 같은 비교도 가능하고 위의 예제에서 본 것처럼 두 문자열이 같은 가를 비교도 가능한 겁니다. \n",
        "\n",
        "그러므로 특정 글자가 숫자인지는 다음과 같은 코드로 체크가 가능합니다. \n",
        "\n",
        "```\n",
        "if c >= '0' and c <= '9' :\n",
        "```\n",
        "왜냐하면 0 ~ 9 까지 글자의 코드가 순차적으로 이뤄져있기 때문입니다. 그러므로 문자열 안의 숫자만을 줄력하고 싶은 경우 다음과 같은 코드를 사용합니다. \n",
        "\n",
        "\n",
        "#### 코드: 숫자만 출력\n"
      ]
    },
    {
      "cell_type": "code",
      "metadata": {
        "id": "j03X0dC4DE5b"
      },
      "source": [
        "s = \"a1 b2 c3\"\n",
        "for c in s:\n",
        "  if c >= '0' and c <= '9': \n",
        "    print(c)"
      ],
      "execution_count": null,
      "outputs": []
    },
    {
      "cell_type": "markdown",
      "metadata": {
        "id": "9A3G832aDwYb"
      },
      "source": [
        "\n",
        "이번에는 문자열 안에 있는 모든 개별 숫자 글자를 더해주는 코드를 작성해보도록 하겠습니다.  예를 들어 \n",
        "\n",
        "```\n",
        "s = 'a12 b34'\n",
        "-> 1 + 2 + 3 + 4 = 10\n",
        "```\n",
        "\n",
        "이렇게 합산이 가능하기 위해선  '1', '2', '3, '4' 를 각각 숫자로 변환해 줘야 합니다.  이를 위해선 위에서 언급한 int()를 사용해야 하죠. 이제 개별 글자를 숫자 코드로 변환하는 프로그램을 보도록 하겠습니다. \n",
        "\n",
        "#### 코드: 개별 숫자를 합산 "
      ]
    },
    {
      "cell_type": "code",
      "metadata": {
        "id": "EyyDmNv0D3m7"
      },
      "source": [
        "s = \"a4 b2 c3\"\n",
        "sum = 0\n",
        "for c in s:\n",
        "  if c >= '0' and c <= '9': \n",
        "    sum += int(c)\n",
        "print(sum)"
      ],
      "execution_count": null,
      "outputs": []
    },
    {
      "cell_type": "markdown",
      "metadata": {
        "id": "RCfUgfMSEf1V"
      },
      "source": [
        "\n",
        "만일 우리가 문자열에 있는 숫자를 하나 증가시켜 다시 저장하고 싶다면 어떻게 해야 할까요?  이럴땐 str() 이라는 기능을 사용해서 숫자를 문자로 바꿀 수 있습니다. \n",
        "\n",
        "\n",
        "#### 코드: 숫자에 하나를 더해서 저장 "
      ]
    },
    {
      "cell_type": "code",
      "metadata": {
        "id": "mgOzMG_mEngH"
      },
      "source": [
        "s = \"a4 b2 c3\"\n",
        "ns = \"\"\n",
        "for c in s:\n",
        "  if c >= '0' and c <= '9': \n",
        "    ns += str(int(c) + 1)\n",
        "  else : \n",
        "    ns = ns + c\n",
        "print(ns)    "
      ],
      "execution_count": null,
      "outputs": []
    },
    {
      "cell_type": "markdown",
      "metadata": {
        "id": "dhl5o42KYFMG"
      },
      "source": [
        "<br>\n",
        "\n",
        "####<font color = 'red'> 연습 9.3.3 : 두자리 이상의 숫자 합산 <br>\n",
        "위에서 숫자를 한글자 단위로 합산하던 것을 여러 자리 숫자까지 합산해 주도록 작성해보세요\n",
        "</font>\n",
        "\n",
        "예:\n",
        "```\n",
        "43 27\n",
        "-> 70 \n",
        "\n",
        "32  5 100\n",
        "-> 137\n",
        "```\n",
        "\n",
        " "
      ]
    },
    {
      "cell_type": "code",
      "metadata": {
        "id": "Ih-MABrIYFMK"
      },
      "source": [
        "s = '43 27'\n",
        "#연습문제 9.3.3 의 코드를 여기에 작성하세요\n"
      ],
      "execution_count": null,
      "outputs": []
    },
    {
      "cell_type": "markdown",
      "metadata": {
        "id": "uBCwFGBfnbZu"
      },
      "source": [
        "<br>\n",
        "\n",
        "#### 참고: 간단한 덧셈뺄셈\n",
        "위에 연습문제를 푸셨다면 등장하는 정수들을 추출 하실 수 있게 되셨는데요. 이 경우 간단한 덧셈, 뺄셈의 계산을 다룬 문자열을 처리할 수 도 있습니다. \n",
        "\n",
        "예\n",
        "```\n",
        "3 + 4 + 12\n",
        "-> 19\n",
        "10 + 7 - 6 \n",
        "-> 11 \n",
        "```\n",
        "\n",
        "아래 코드는 복잡해 보일 지도모르지만 사실 위의 코드의 확장으로 덧셈 뺄셈 여부를 저장하는 op 라는 문자열 변수를 사용해 덧셈과 뺄셈을 구분해줍니다. \n",
        "\n",
        "코드 : 문자열의 덧셈 뺄셈 계산을 해주는 프로그램\n",
        "\n",
        "\n",
        " "
      ]
    },
    {
      "cell_type": "code",
      "metadata": {
        "id": "DUImCWQRnbZx"
      },
      "source": [
        "s = '3 + 4 - 12 + 55'\n",
        "num,op = '',''\n",
        "ret = 0\n",
        "for c in s :\n",
        "  if c >= '0' and c <= '9':\n",
        "    num = num + c\n",
        "  else :\n",
        "    if num != '':\n",
        "      if op == '+' :\n",
        "        ret = ret + int(num)        \n",
        "      if op == '-' :\n",
        "        ret = ret - int(num)   \n",
        "      if op == '' :\n",
        "        ret = int(num)\n",
        "      num = ''           \n",
        "    if c == '+' or c == '-' :\n",
        "      op = c \n",
        "  #print(\"n:\",num, \"op:\",op, \"ret:\", ret)\n",
        "\n",
        "if num != '':\n",
        "  if op == '+' :\n",
        "    ret = ret + int(num)        \n",
        "  if op == '-' :\n",
        "    ret = ret - int(num)   \n",
        "  if op == '' :\n",
        "    ret = int(num)\n",
        "\n",
        "print(ret)\n"
      ],
      "execution_count": null,
      "outputs": []
    },
    {
      "cell_type": "markdown",
      "metadata": {
        "id": "xJUBdmuZLk55"
      },
      "source": [
        "### 9.3.3 문자열의 배열들\n",
        "\n",
        "문자열 자체가 일종의 배열이지만 다시 이들을 묶은 배열도 가능합니다. 예를 들어 split 이라는 함수는 특정 문자열을 단어단위로 나눠서 배열로 리턴합니다. 다만 특이하게도 split은 문자열 변수 뒤에 .을 붙여서 이를 수행합니다. \n",
        "\n",
        "```\n",
        "arr = s.split()  \n",
        "```\n",
        "\n",
        "이때 분리된 단어들 역시 문자열이기 때문에 arr은 문자열 배열 형태로 저장됩니다. "
      ]
    },
    {
      "cell_type": "markdown",
      "metadata": {
        "id": "SSqcvbVhGy0w"
      },
      "source": [
        "#### 코드: 단어로 문자열 나누기 "
      ]
    },
    {
      "cell_type": "code",
      "metadata": {
        "id": "3C2gVMMVG3T5",
        "colab": {
          "base_uri": "https://localhost:8080/"
        },
        "outputId": "42b770b9-6ef5-4e5f-97da-ef8a7e0201c5"
      },
      "source": [
        "s = \"word split example\"\n",
        "arr = s.split()\n",
        "print(arr)\n",
        "for w in arr:\n",
        "  print(w)"
      ],
      "execution_count": null,
      "outputs": [
        {
          "output_type": "stream",
          "name": "stdout",
          "text": [
            "word\n",
            "split\n",
            "example\n"
          ]
        }
      ]
    },
    {
      "cell_type": "markdown",
      "source": [
        "\n",
        "\n",
        "\n",
        "#### 코드 : 2번 나온 단어 체크 \n",
        "\n",
        "문자열을 단어로 나눌 경우 어떤 문장에 소속된 단어에 대한 처리에 매우 유용합니다. 에를 들어 어떤 문자열에 중복해서 나오는 단어를 찾는 코드를 보도록 하겠습니다. \n",
        "\n"
      ],
      "metadata": {
        "id": "OVRKxifoW8ZO"
      }
    },
    {
      "cell_type": "code",
      "source": [
        "s = \"to be or not to be\"\n",
        "arr = s.split()\n",
        "l = len(arr)\n",
        "for si in range(l) : \n",
        "  for ti in range(si,l) :     \n",
        "    if si != ti and arr[si] == arr[ti] :\n",
        "      print(\"find dup :\", arr[si])\n",
        "\n"
      ],
      "metadata": {
        "id": "dHPQ9-B8Tqde",
        "outputId": "2327af54-2f68-401c-bd1d-97880943f05f",
        "colab": {
          "base_uri": "https://localhost:8080/"
        }
      },
      "execution_count": 1,
      "outputs": [
        {
          "output_type": "stream",
          "name": "stdout",
          "text": [
            "find dup : to\n",
            "find dup : be\n"
          ]
        }
      ]
    },
    {
      "cell_type": "markdown",
      "source": [
        "위의 코드는 각 단어 하나하나에 대해서 그 후의 단어들을 검색하여 매칭을 수행합니다. 그리고 그 매칭중에 같은 단어가 있다면 중복여부를 출력합니다.\n",
        "\n",
        "먼저 인덱스값 si에 의해 각각의 단어를 선택한 후 ti 인덱스값을 이용해 si 뒤에있는 단어들을 선택해 arr[si], arr[ti] 를 비교해 매칭 여부를 검사함으로서 중복여부가 결정됩니다. \n",
        "\n",
        "하지만 위의 코드는 3번 이상 출현하는 단어에 대해서는 여러번 출력이 이뤄지게 됩니다. n번 중복되는 단어의 출현 회수를 처리하기 위해서는 먼저 단어의 리스트를 중복 없이 만드는 방법을 이해하는게 중요합니다. \n",
        "\n"
      ],
      "metadata": {
        "id": "tp5m2poF8XI6"
      }
    },
    {
      "cell_type": "markdown",
      "source": [
        "#### 코드 : 중복 없는 단어 리스트 \n",
        "\n",
        "아래 코드는 새로운 빈 배열 wlist를 생성한 후에 arr 의 각 단어에 대해서 \n",
        "\n",
        "- warr 에 단어가 있는지 검사 \n",
        "- 단어가 없을 시 단어를 warr 에 추가 \n",
        "\n",
        "를 수행합니다. 이 결과 중복이 없이 처음 출현한 단어에 대해서만 추가가 수행됩니다.  이 과정을 통해 어떤 문자열에 중복없는 단어들의 리스트를 추출 가능합니다. "
      ],
      "metadata": {
        "id": "jBDhh2YwmYPs"
      }
    },
    {
      "cell_type": "code",
      "source": [
        "s = \"to be or not to be is not when to be\"\n",
        "arr = s.split()\n",
        "warr = [] \n",
        "for w in arr : \n",
        "  cnt = 0 \n",
        "  for w2 in warr :\n",
        "    if w == w2 :\n",
        "      cnt += 1\n",
        "  if cnt < 1 : \n",
        "    warr += [w]\n",
        "  \n",
        "print(warr) "
      ],
      "metadata": {
        "id": "U60BWV6-kRgt",
        "outputId": "f64bf9ae-906c-41dd-f9c3-4f0153a5a3bf",
        "colab": {
          "base_uri": "https://localhost:8080/"
        }
      },
      "execution_count": null,
      "outputs": [
        {
          "output_type": "stream",
          "name": "stdout",
          "text": [
            "['to', 'be', 'or', 'not', 'is', 'when']\n"
          ]
        }
      ]
    },
    {
      "cell_type": "markdown",
      "source": [
        "리스트가 만들어지면 각 단어의 출현횟수를 간단히 반복문으로 구현이 가능합니다. \n",
        "\n",
        "``` python\n",
        "\n",
        "for w2 in warr : \n",
        "  cnt = 0\n",
        "  for w in arr : \n",
        "    if w == w2 : \n",
        "      cnt += 1 \n",
        "  print(w2,\":\", cnt ) \n",
        "\n",
        "```\n",
        "\n",
        "단어의 리스트를 추출하고 단어의 횟수를 계산하는 두 단계로 구현하는게 일반적이지만 만일 위의 두 과정을 합칠 경우는 답은과 같이 가능합니다. \n",
        "\n",
        "<br>\n",
        "\n",
        "#### 코드 : 단어의 출현횟수 구하기 \n",
        "\n",
        "아래의 코드는 단어 배열과 횟수 배열을 따로 생성해서 단어가 단어배열에 새 단어를 추가하고 횟수배열에 1을 추가 합니다.  이 경우 각 단어와 횟수가 순서대로 추가되어 두 배열의 크기는 동일하게 유지됩니다.  그리고 만일 기존에 있는 단어가 추가 될 경우 단어배열은 두고 횟수배열에 해당 단어의 인덱스 값만 +1 해줍니다. "
      ],
      "metadata": {
        "id": "EPeL-vgLrYYl"
      }
    },
    {
      "cell_type": "code",
      "source": [
        "s = \"to be or not to be is not when to be\"\n",
        "arr = s.split()\n",
        "arr2, carr = [],[] \n",
        "for w in arr : \n",
        "  wi = -1\n",
        "  for i in range(len(arr2))  :\n",
        "    if w == arr2[i] :\n",
        "      wi = i\n",
        "  if wi < 0 : \n",
        "    arr2 += [w]\n",
        "    carr += [1]\n",
        "  else :\n",
        "    carr[wi] += 1\n",
        "\n",
        "for i in range( len(arr2) ):\n",
        "  print(arr2[i], \":\", carr[i])\n",
        "\n",
        "  "
      ],
      "metadata": {
        "id": "Lo1mb3-mqEWZ",
        "outputId": "6c15a294-4d5a-4439-c7f9-ef63b7f03f40",
        "colab": {
          "base_uri": "https://localhost:8080/"
        }
      },
      "execution_count": 2,
      "outputs": [
        {
          "output_type": "stream",
          "name": "stdout",
          "text": [
            "to : 3\n",
            "be : 3\n",
            "or : 1\n",
            "not : 2\n",
            "is : 1\n",
            "when : 1\n"
          ]
        }
      ]
    },
    {
      "cell_type": "markdown",
      "source": [
        "<br>\n",
        "\n",
        "####<font color = 'red'> 연습 9.3.4 : 두문장에서 일치하는 단어 검색 <br>\n",
        "아래의 문자열 s1 과 s2 양쪽에 존재하는 단어의 리스트를 출력하세요\n",
        "</font>\n",
        "\n",
        "```\n",
        "예: \n",
        "s1 = 'I believe I can fly' \n",
        "s2 = 'If I just believe it'\n",
        "-> \n",
        "I \n",
        "believe\n",
        "\n",
        "```\n",
        "\n"
      ],
      "metadata": {
        "id": "WsmC3kV_IUho"
      }
    },
    {
      "cell_type": "code",
      "source": [
        "s1 = 'I believe I can fly' \n",
        "s2 = 'If I just believe it'\n",
        "\n",
        "#연습문제 9.3.4 의 코드를 여기에 작성하세요\n",
        "\n"
      ],
      "metadata": {
        "id": "-Sfs7RfWISrF"
      },
      "execution_count": null,
      "outputs": []
    },
    {
      "cell_type": "markdown",
      "metadata": {
        "id": "zffLxYl29qmt"
      },
      "source": [
        "<br>\n",
        "\n",
        "### 9.3.4 문자열 검색\n",
        "\n",
        "문자열에서 가장 널리 이용되는 기능중에 하나가 검색입니다.  어떤 문자열에서 단어를 검색시 단어가 존재하는지 여부를 검사하는 경우와 단어의 위치를 검사하는 등 다양한 활용방법을 지닙니다. \n",
        "\n",
        "개별 단어로 문자열 존재여부를 검색할 경우 아래에 나오는 .split 을 사용하여 단어단위로 분리해서 검색하는 방법을 사용할 수도 있습니다만 이 경우는 day를 통해 days 를 검색못하는 단점이 있습니다. \n"
      ]
    },
    {
      "cell_type": "markdown",
      "source": [
        "\n",
        "#### 코드 : 문자열 처음 부분 검색 \n",
        "\n",
        "문자열의 검색의 기초로 가장 간단한 예제로 문자열에서 시작부분이 특정 단어인지 확인하는 코드를 보도록 하겠습니다. \n",
        "\n",
        "\n",
        "\n"
      ],
      "metadata": {
        "id": "IX4NfL0tPeRI"
      }
    },
    {
      "cell_type": "code",
      "source": [
        "str = \"a time for us\"\n",
        "w = \"a time\"\n",
        "match = True\n",
        "for i in range(len(w)): # 찾으려는 단어 길이에 대해 문자열 시작부 단어길이까지\n",
        "  if w[i] != str[i] :\n",
        "    match = False\n",
        "\n",
        "print(\"match:\", match)"
      ],
      "metadata": {
        "colab": {
          "base_uri": "https://localhost:8080/"
        },
        "id": "Js2n5_DuPufp",
        "outputId": "c8bbad2b-c32a-4ff6-f0c5-5494ee24b0ff"
      },
      "execution_count": null,
      "outputs": [
        {
          "output_type": "stream",
          "name": "stdout",
          "text": [
            "match: False\n"
          ]
        }
      ]
    },
    {
      "cell_type": "markdown",
      "source": [
        "이제는 이 과정을 모든 자리에 다 수행해보도록 하겠습니다.  단 단어의 길이가 n 일 경우 문자열 길이 - n 이상의 위치에서는 검색이 무의미 하기 때문에 검색의 범위는 \n",
        "\n",
        "> range( len(str) - n ) \n",
        "\n",
        "이 됩니다. 그리고 str 문자열의 위치는 si , 단어에서의 위치는 wi 로 작성하겠습니다. \n",
        "\n",
        "\n",
        "#### 코드 : 문자열 전체 검색 \n",
        "\n"
      ],
      "metadata": {
        "id": "Wgn8BtVMVv85"
      }
    },
    {
      "cell_type": "code",
      "source": [
        "str = \"a time for us\"\n",
        "w = \"times\"\n",
        "\n",
        "n = len(w)\n",
        "\n",
        "found = False\n",
        "for si in range(len(str) - n ) : # 문자열 길이 - 단어 길이 까지의 위치에 대해\n",
        "  match = True\n",
        "  for wi in range(len(w)):  # 단어의 길이 만큼 매칭을 검사\n",
        "    if w[wi] != str[si + wi] :\n",
        "      match = False\n",
        "  if match :                # 전체가 같으면 found 를 참으로 변경\n",
        "    found = True\n",
        "\n",
        "print(\"found:\", found)\n",
        "\n"
      ],
      "metadata": {
        "colab": {
          "base_uri": "https://localhost:8080/"
        },
        "id": "_xxR1H0DcLwC",
        "outputId": "048ea21a-e45f-4bd6-a146-ce38e529c0f8"
      },
      "execution_count": null,
      "outputs": [
        {
          "output_type": "stream",
          "name": "stdout",
          "text": [
            "found: False\n"
          ]
        }
      ]
    },
    {
      "cell_type": "markdown",
      "source": [
        "\n",
        "이번에는 문자열을 찾아 바꾸는 기능에 대해서 알아보겠습니다.   먼저 검색의 대상이 되는 문자열을 str 로 두고 찾을 문자를 src 와 바꿀 문자를 target 으로 설정하겠습니다. \n",
        "\n",
        "```\n",
        "str = 'past is just past'\n",
        "src = 'past'\n",
        "target = 'future'\n",
        "\n",
        "-> \n",
        "\n",
        "future is just future\n",
        "```\n",
        "\n",
        "이 경우 새로운 문자열을 준비한 후에 매칭시 타겟 문자열을 대신 새로운 문자열 str2 에 추가합니다.\n",
        "\n",
        "- str의 위치 0 ~ len(s) - n 에 대해서\n",
        "- si ~ si + n 까지의 위치에 대해\n",
        "  - 매칭될 경우 : 검색의 위치 si를 si + n 위치까지 이동하고 target 을 str2 에 추가 \n",
        "  - 매칭되지 안을경우 : str[si] 를 str2 에 추가 \n",
        "\n",
        "\n",
        "이제 이를 코드로 작성하겠습니다. 이때 for in range 는 검색위치 si를 마음대로 조정할 수 없습니다. 그러므로 while 을 사용해야 합니다. \n",
        "\n",
        "#### 코드 : 문자열 바꾸기\n",
        "\n"
      ],
      "metadata": {
        "id": "sqkPM-3Fe7p3"
      }
    },
    {
      "cell_type": "code",
      "source": [
        "str = 'past is just past'\n",
        "src = 'past'\n",
        "target = 'future'\n",
        "\n",
        "si,n = 0 ,len(src)\n",
        "str2 = ''\n",
        "while si <= len(str) - n : \n",
        "  match = True\n",
        "  for wi in range( n ) : \n",
        "    if str[si + wi] != src[wi] :\n",
        "      match = False\n",
        "  if match  : \n",
        "    str2 += target\n",
        "    si += n \n",
        "  else : \n",
        "    str2 += str[si]\n",
        "    si += 1\n",
        "\n",
        "print(str2)  "
      ],
      "metadata": {
        "colab": {
          "base_uri": "https://localhost:8080/"
        },
        "id": "vrNnu_cghy63",
        "outputId": "62f36b5e-1912-4f76-a042-4242f0d068a4"
      },
      "execution_count": null,
      "outputs": [
        {
          "output_type": "stream",
          "name": "stdout",
          "text": [
            "future is just future\n"
          ]
        }
      ]
    },
    {
      "cell_type": "markdown",
      "source": [
        "<br>\n",
        "\n",
        "####<font color = 'red'> 연습 9.3.5 : 인용부호 안의 문장 추출 <br>\n",
        "문자열에서 인용부호 ' 안에 들어간 부분을 추출하세요\n",
        "</font>\n",
        "\n",
        "```\n",
        "예: \n",
        "s = \"my name is 'jhon' and she is 'merry'\"\n",
        "-> \n",
        "jhon\n",
        "merry\n",
        "\n",
        "```\n",
        "\n"
      ],
      "metadata": {
        "id": "qlToy7PNnYS3"
      }
    },
    {
      "cell_type": "code",
      "source": [
        "s = \"my 'name' is 'jhon' and she is 'merry'\"\n",
        "\n",
        "#연습문제 9.3.4 의 코드를 여기에 작성하세요\n",
        "\n",
        "\n"
      ],
      "metadata": {
        "id": "4I40T9WtnYS4"
      },
      "execution_count": 17,
      "outputs": []
    },
    {
      "cell_type": "markdown",
      "metadata": {
        "id": "yHlRyBPA-0ad"
      },
      "source": [
        "\n",
        "<br> \n",
        "\n",
        "## 9.4 텍스트 파일과 문자열 \n",
        "\n",
        "컴퓨터에서 사용하는 많은 파일들은 문자열로 이뤄져 있습니다. 그러므로 문자열을 파일로 저장하거나, 파일을 문자열로 읽어들일 수 있습니다. "
      ]
    },
    {
      "cell_type": "markdown",
      "metadata": {
        "id": "oQXiCruPMYyn"
      },
      "source": [
        "### 9.4.1 문자열을 파일에 저장 \n",
        "\n",
        "먼저 우리가 생성한 문자열을 파일로 저장하는 방법을 알아보도록 하겠습니다. 먼저 다음 코드는 기록할 파일인 \"save.txt\"를 열고 그 파일에 대한 정보를 f에 기록합니다.  \n",
        "```\n",
        "f = open(\"save.txt\", \"w\") \n",
        "```\n",
        "open 은 파일을 여는 코드로서 \"save.txt\"는 파일 명이고 \"w\" 는 파일에 내용을 기록하기 위해 이를 억세스한다는 것을 의미합니다. 생성된 파일의 정보는 f에 저장되며 지난번 배우신 image 와 유사하게 생각하시면 됩니다. \n",
        "\n",
        "그 후에 f.write() 라는 코드를 통해 파일에 출력을 할 수 있습니다.  그리고 다 사용한 파일의 정보는 f.close() 라는 코드를 통해 파기해 줄 수 있습니다. 만일 f.close()를 해주지 안으면 이 프로그램이 끝나지 안는 동안은 다른 프로그램이 이 파일에 접근할 수 없습니다. \n",
        "\n",
        "\n",
        "#### 코드: 문자열을 파일로 저장"
      ]
    },
    {
      "cell_type": "code",
      "metadata": {
        "id": "MNzgR_UKznSI"
      },
      "source": [
        "f = open(\"save.txt\", \"w\")\n",
        "s = \"save file test\"\n",
        "f.write(s)\n",
        "f.close()"
      ],
      "execution_count": null,
      "outputs": []
    },
    {
      "cell_type": "markdown",
      "metadata": {
        "id": "hirHMz5DNLQ_"
      },
      "source": [
        "위의 프로그램은 save.txt 라는 파일을 생성하고 그 파일에  \n",
        "\n",
        "```\n",
        "save file test\n",
        "```\n",
        "라는 내용을 기록합니다. \n",
        "\n",
        "\n"
      ]
    },
    {
      "cell_type": "markdown",
      "metadata": {
        "id": "NwWhfay7187q"
      },
      "source": [
        "### 9.4.2 기록된 파일 확인 \n",
        "\n",
        " colab 상에서 생성한 파일은 colab 가상 파일시스템에 생성이 되므로 실제 컴퓨터에서 이를 보시려면 페이지 좌측을 폴더 아이콘을 누르신 다음에 \n",
        "\n",
        "<br>\n",
        "\n",
        "![대체 텍스트](https://github.com/decoz/pyclass/blob/master/images/9_1%20colab%20file%20system.png?raw=true)\n",
        "\n",
        "가상 컴퓨터의 파일리스트에서 save.txt 라는 파일을 확인 하신 후 이를 우클릭으로 '다운로드' 를 선택하시면 인터넷 다운로드 폴더에 저장되서 직접 열어보실 수 있습니다. \n",
        "\n",
        "<Br><Br>\n",
        "\n",
        "![대체 텍스트](https://github.com/decoz/pyclass/blob/master/images/9_2%20file%20download.png?raw=true)\n",
        "\n",
        "<Br><Br>\n"
      ]
    },
    {
      "cell_type": "markdown",
      "metadata": {
        "id": "1dBkezZV5dkF"
      },
      "source": [
        "####<font color = 'red'> 연습 9.4.1 : 1000개 숫자가 기록된 생성\n",
        "이제 1부터 1000까지의 숫자가가 각 줄마다 10개씩 기록된 파일 \"thousand.txt\" 를 만들어보세요\n",
        "</font>  \n",
        "\n",
        "```\n",
        "1 2 3 4 5 6 7 8 9 10\n",
        "11 12 13 14 15 16 17 18 19 20 \n",
        "...\n",
        "991 992 993 994 995 996 997 998 999 1000\n",
        "```\n"
      ]
    },
    {
      "cell_type": "code",
      "metadata": {
        "id": "j5laKh8P9mJs"
      },
      "source": [
        "### 연습문제 9.4.1 의 코드를 작성해보세요 \n",
        "\n",
        "\n"
      ],
      "execution_count": null,
      "outputs": []
    },
    {
      "cell_type": "markdown",
      "metadata": {
        "id": "LBJSRB5m2b4Z"
      },
      "source": [
        "### 9.4.3 파일 내용을 문자열로 읽어들이기\n",
        "\n",
        "이제 파일의 데이터에 저장된 텍스트를 다시 읽어들이는 프로그램을 보도록  하겠습니다.  파일을 '연다' 라는 개념은 기록할때와 마찬가지로 \n",
        "```\n",
        "f = open(\"save.txt\",\"r\")\n",
        "```\n",
        "로 엽니다. 단 두번째 옵션에 \"w\" 대신 \"r\"을 넣어서 이번에는 파일의 정보를 읽기전용으로 연다는 정보를 전달합니다. \n",
        "\n",
        "```\n",
        "s = f.read() \n",
        "```\n",
        "위는 f.read()는 파일의 내용을 읽어서 이를 s에 저장하는 코드입니다. 결과적으로 위 두문장을 통해 좀전에 기록한 데이터를 다시 읽어들일 수 있습니다.  그러면 파일을 읽어들이는 전체 프로그램을 아래에서 보도록 합시다. \n",
        "\n",
        "#### 코드: 파일을 읽어서 출력"
      ]
    },
    {
      "cell_type": "code",
      "metadata": {
        "id": "pUry44tgM5v-"
      },
      "source": [
        "f = open(\"save.txt\", \"r\")\n",
        "s = f.read()\n",
        "print(s)\n",
        "f.close()"
      ],
      "execution_count": null,
      "outputs": []
    },
    {
      "cell_type": "markdown",
      "metadata": {
        "id": "nOCMiOCA5A7n"
      },
      "source": [
        "이제 간단한 연습문제로 읽어들인 파일을 출력하되 각 줄마다 줄번호를 달아서 출력하는 방법을 해봅시다.\n",
        "\n",
        "####<font color = 'red'> 연습 9.4.2 : 파일의 내용에 줄번호를 같이 출력 \n",
        "두 줄 이상의 텍스트 파일을 읽어서 줄번호를 같이 출력하도록 해봅시다. \n",
        "</font>\n",
        "```\n",
        "(예) 파일내용:\n",
        "\n",
        "line 1 \n",
        "line 2 \n",
        "line 3 \n",
        "\n",
        "출력 :\n",
        "1: line 1 \n",
        "2: line 2 \n",
        "3: line 3\n",
        "```\n",
        "\n",
        "\n",
        "\n"
      ]
    },
    {
      "cell_type": "code",
      "metadata": {
        "id": "-_uTvH4c9dAg"
      },
      "source": [
        "### 연습문제 9.4.2 의 코드를 작성해보세요 \n",
        "\n",
        "\n",
        "\n",
        "\n"
      ],
      "execution_count": null,
      "outputs": []
    },
    {
      "cell_type": "markdown",
      "metadata": {
        "id": "FpYOKp_5NkwN"
      },
      "source": [
        "\n",
        "사실 위에서 보여드린 방식은 파일을 한꺼번에 읽고 쓰는 방식으로 가장 손쉽게 사용할 수 있는 방법입니다. 하지만 실제로 파일을 쓰거나 읽는 방법은 대단히 많습니다. 아래에는 파일을 한줄 씩 읽어들이는 방식의 코드입니다. \n",
        "\n",
        "#### 코드: 파일을 라인단위로 읽어서 출력"
      ]
    },
    {
      "cell_type": "code",
      "metadata": {
        "id": "CX38c1hKNbde"
      },
      "source": [
        "f = open(\"save.txt\", \"r\")\n",
        "\n",
        "while True:\n",
        "  s = f.readline()\n",
        "  if not s : \n",
        "    break\n",
        "  print(s)\n",
        "\n",
        "f.close()"
      ],
      "execution_count": null,
      "outputs": []
    },
    {
      "cell_type": "markdown",
      "metadata": {
        "id": "pQ_DTn7u4LHj"
      },
      "source": [
        "파일을 한번에 읽는 코드가 훨씬 간결함에도 이런 라인단위의 로딩을 지원하는 이유는 파일의 크기가 매우 클 수 있기 때문입니다.  문자열 파일은 대부분 1M를 잘 넘지 안습니다만 동영상 파일같은 경우 시스템 메모리량을 훌쩍 넘는 경우가 흔하기 때문에 이를 한번에 열면 컴퓨터가 극단적으로 느려지고 여러 문제가 생기게 됩니다. \n",
        "\n",
        "그러므로 파일을 여실때는 그 목적에 맞는 방법을 익히셔야 하지만 여러분들은 입문자이기 때문에 그런 개념만 설명드리고 일단 파일에 대한 설명은 여기서 마치도록 하겠습니다. "
      ]
    }
  ]
}